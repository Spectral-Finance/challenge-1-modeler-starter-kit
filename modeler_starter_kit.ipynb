{
 "cells": [
  {
   "cell_type": "markdown",
   "source": [
    "## Quick Start"
   ],
   "metadata": {
    "collapsed": false
   },
   "id": "1680b5e722b122ab"
  },
  {
   "cell_type": "markdown",
   "source": [],
   "metadata": {
    "collapsed": false
   },
   "id": "42e7c014b1683fc4"
  },
  {
   "cell_type": "code",
   "execution_count": null,
   "outputs": [],
   "source": [
    "### Download Training Dataset\n"
   ],
   "metadata": {
    "collapsed": false
   },
   "id": "a02dec87ff8cb68c"
  },
  {
   "cell_type": "code",
   "execution_count": null,
   "outputs": [],
   "source": [],
   "metadata": {
    "collapsed": false
   },
   "id": "c6e86d96e61fc7da"
  },
  {
   "cell_type": "markdown",
   "source": [
    "## Training data\n",
    "The following code will allow you download a previously fetched training dataset for this competition. \n",
    "The training dataset is a tabular parquet file, where each row represents a borrow event at the specified timestamp. \n",
    "\n",
    "Each row contains the timestamp and ethereum block number, the wallet address that initiated the borrow transaction, a list of features for this borrower, and a binary target variable indicating if the borrower was liquidated within 30 days of the borrow event.\n",
    "\n",
    "See our data dictionary for a full list of features, their types, and descriptions. **TODO: INSERT LINK HERE**\n",
    "\n",
    "During testing and consumption you will be given all of these values aside from the target variable. Your model will be evaluated on the ability to predict the target variable for each sample in the test set.\n"
   ],
   "metadata": {
    "collapsed": false
   },
   "id": "b2060ecd11f252b8"
  },
  {
   "cell_type": "code",
   "execution_count": null,
   "outputs": [],
   "source": [],
   "metadata": {
    "collapsed": false
   },
   "id": "8ae885f43924e1b5"
  }
 ],
 "metadata": {
  "kernelspec": {
   "display_name": "Python 3",
   "language": "python",
   "name": "python3"
  },
  "language_info": {
   "codemirror_mode": {
    "name": "ipython",
    "version": 2
   },
   "file_extension": ".py",
   "mimetype": "text/x-python",
   "name": "python",
   "nbconvert_exporter": "python",
   "pygments_lexer": "ipython2",
   "version": "2.7.6"
  }
 },
 "nbformat": 4,
 "nbformat_minor": 5
}
