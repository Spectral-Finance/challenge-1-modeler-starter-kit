{
 "cells": [
  {
   "cell_type": "markdown",
   "id": "1680b5e722b122ab",
   "metadata": {
    "collapsed": false
   },
   "source": [
    "# Modeler Starter Kit\n",
    "This notebook will walk you through the entire challenge lifecycle, from fetching the training data, to training a model, to submitting your model for evaluation."
   ]
  },
  {
   "cell_type": "markdown",
   "id": "b0b7393429d94fe3",
   "metadata": {
    "collapsed": false
   },
   "source": [
    "## Fetch Training Data\n",
    "The following code will allow you download the training dataset for this competition using the Spectral cli. \n",
    "\n",
    "The training dataset is a tabular parquet file, where each row represents a borrow event at the specified timestamp. \n",
    "\n",
    "Each row contains a timestamp and ethereum block number, the wallet address that initiated the borrow transaction, a list of features including borrower and market activity, and a binary target variable indicating if the borrower was liquidated within 30 days of the borrow event.\n",
    "\n",
    "[See our data dictionary for a full list of features, their types, and descriptions.](https://docs.google.com/spreadsheets/d/1jbHSbIYbNH_6ans-k703HsihedRqFmyKcoSMHitYD_o/edit?usp=sharing)\n",
    "\n",
    "During testing and consumption you will be given all of these values aside from the target variable. Your model will be evaluated on the ability to predict the target variable for each sample in the test set.\n",
    "\n"
   ]
  },
  {
   "cell_type": "code",
   "execution_count": 1,
   "id": "a02dec87ff8cb68c",
   "metadata": {
    "collapsed": false,
    "ExecuteTime": {
     "end_time": "2023-11-06T19:10:03.504495Z",
     "start_time": "2023-11-06T19:10:01.531258Z"
    }
   },
   "outputs": [
    {
     "name": "stdout",
     "output_type": "stream",
     "text": [
      "Available challenges:\r\n",
      "Credit Scoring: 0xB79CDBC5Cd94a807CC5cc761e3eF4A6B9baC8939\r\n"
     ]
    }
   ],
   "source": [
    "#List available challenges\n",
    "!spectral-cli list-challenges  "
   ]
  },
  {
   "cell_type": "code",
   "execution_count": 2,
   "id": "e032ae5292d5fea",
   "metadata": {
    "collapsed": false,
    "ExecuteTime": {
     "end_time": "2023-11-06T19:10:08.221034Z",
     "start_time": "2023-11-06T19:10:03.505603Z"
    }
   },
   "outputs": [
    {
     "name": "stdout",
     "output_type": "stream",
     "text": [
      "100%|███████████████████████████████████████| 112M/112M [00:02<00:00, 40.9MiB/s]\r\n",
      "Training dataset successfully downloaded!\r\n"
     ]
    }
   ],
   "source": [
    "# Download Training Data\n",
    "!spectral-cli fetch-training-data 0xB79CDBC5Cd94a807CC5cc761e3eF4A6B9baC8939"
   ]
  },
  {
   "cell_type": "markdown",
   "id": "c8201b5a34215e1b",
   "metadata": {
    "collapsed": false
   },
   "source": [
    "This file should be around 112MB, if you have a file only a few kb in size try using a VPN as IPFS is often blocked by some internet service providers.\n",
    "\n",
    "Examine a subset of the dataset"
   ]
  },
  {
   "cell_type": "code",
   "execution_count": 34,
   "id": "61ccd97507a633f9",
   "metadata": {
    "collapsed": false,
    "ExecuteTime": {
     "end_time": "2023-11-06T19:11:29.506483Z",
     "start_time": "2023-11-06T19:11:29.435209Z"
    }
   },
   "outputs": [
    {
     "data": {
      "text/plain": "   borrow_block_number  borrow_timestamp  \\\n0              7711117      1.557197e+09   \n1              7711123      1.557197e+09   \n2              7711126      1.557197e+09   \n3              7711672      1.557205e+09   \n4              7712572      1.557217e+09   \n5              7715069      1.557250e+09   \n6              7715078      1.557251e+09   \n7              7715985      1.557263e+09   \n8              7716888      1.557276e+09   \n9              7717003      1.557277e+09   \n\n                               wallet_address  target  \\\n0  0x502cb8985b2c92a8d4bf309cdaa89de9be442708       1   \n1  0x502cb8985b2c92a8d4bf309cdaa89de9be442708       1   \n2  0x502cb8985b2c92a8d4bf309cdaa89de9be442708       1   \n3  0xa7ff0d561cd15ed525e31bbe0af3fe34ac2059f6       0   \n4  0xbd9ed130a53cfafcf81502e4d35329a6c4d53410       0   \n5  0x502cb8985b2c92a8d4bf309cdaa89de9be442708       1   \n6  0x502cb8985b2c92a8d4bf309cdaa89de9be442708       1   \n7  0x502cb8985b2c92a8d4bf309cdaa89de9be442708       1   \n8  0x502cb8985b2c92a8d4bf309cdaa89de9be442708       1   \n9  0x502cb8985b2c92a8d4bf309cdaa89de9be442708       1   \n\n   unique_borrow_protocol_count  unique_lending_protocol_count  \\\n0                             0                              1   \n1                             1                              1   \n2                             1                              1   \n3                             0                              1   \n4                             0                              1   \n5                             1                              1   \n6                             1                              1   \n7                             1                              1   \n8                             1                              1   \n9                             1                              1   \n\n   total_collateral_eth  misc_available_borrows_eth  risk_factor  \\\n0             44.479139                   31.575270     0.000001   \n1             44.479139                   31.418863     0.004953   \n2             44.479139                   31.035236     0.017103   \n3              0.000767                    0.000460     0.000001   \n4              0.010000                    0.007500     0.000001   \n5             44.488424                   30.059852     0.048606   \n6             44.430545                   29.912079     0.052241   \n7             51.316928                   28.781848     0.088052   \n8             58.791139                   38.667542     0.081422   \n9             60.268602                   33.574491     0.221625   \n\n   risk_factor_above_threshold_daily_count  ...  total_balance_eth  \\\n0                                      0.0  ...          58.317987   \n1                                      0.0  ...          58.317987   \n2                                      0.0  ...          58.317987   \n3                                      0.0  ...           0.000000   \n4                                      0.0  ...           0.000000   \n5                                      0.0  ...          58.317987   \n6                                      0.0  ...          58.317987   \n7                                      0.0  ...          58.317987   \n8                                      0.0  ...           3.127926   \n9                                      0.0  ...           3.127926   \n\n   withdraw_amount_sum_eth  borrow_amount_sum_eth  borrow_amount_avg_eth  \\\n0                      0.0               0.000000               0.000000   \n1                      0.0               0.157110               0.157110   \n2                      0.0               0.543275               0.271637   \n3                      0.0               0.000000               0.000000   \n4                      0.0               0.000000               0.000000   \n5                      0.0               1.543275               0.514425   \n6                      0.0               1.543275               0.514425   \n7                      0.0               2.749083               0.687271   \n8                      0.0               3.320086               0.664017   \n9                      0.0               9.247470               1.541245   \n\n   borrow_count  repay_amount_sum_eth  repay_amount_avg_eth  repay_count  \\\n0             0                   0.0                   0.0            0   \n1             1                   0.0                   0.0            0   \n2             2                   0.0                   0.0            0   \n3             0                   0.0                   0.0            0   \n4             0                   0.0                   0.0            0   \n5             3                   0.0                   0.0            0   \n6             4                   0.0                   0.0            0   \n7             5                   0.0                   0.0            0   \n8             6                   0.0                   0.0            0   \n9             7                   0.0                   0.0            0   \n\n   borrow_repay_diff_eth  withdraw_deposit_diff_If_positive_eth  \n0               0.000000                                    0.0  \n1               0.157110                                    0.0  \n2               0.543275                                    0.0  \n3               0.000000                                    0.0  \n4               0.000000                                    0.0  \n5               1.543275                                    0.0  \n6               1.543275                                    0.0  \n7               2.749083                                    0.0  \n8               3.320086                                    0.0  \n9               9.247470                                    0.0  \n\n[10 rows x 78 columns]",
      "text/html": "<div>\n<style scoped>\n    .dataframe tbody tr th:only-of-type {\n        vertical-align: middle;\n    }\n\n    .dataframe tbody tr th {\n        vertical-align: top;\n    }\n\n    .dataframe thead th {\n        text-align: right;\n    }\n</style>\n<table border=\"1\" class=\"dataframe\">\n  <thead>\n    <tr style=\"text-align: right;\">\n      <th></th>\n      <th>borrow_block_number</th>\n      <th>borrow_timestamp</th>\n      <th>wallet_address</th>\n      <th>target</th>\n      <th>unique_borrow_protocol_count</th>\n      <th>unique_lending_protocol_count</th>\n      <th>total_collateral_eth</th>\n      <th>misc_available_borrows_eth</th>\n      <th>risk_factor</th>\n      <th>risk_factor_above_threshold_daily_count</th>\n      <th>...</th>\n      <th>total_balance_eth</th>\n      <th>withdraw_amount_sum_eth</th>\n      <th>borrow_amount_sum_eth</th>\n      <th>borrow_amount_avg_eth</th>\n      <th>borrow_count</th>\n      <th>repay_amount_sum_eth</th>\n      <th>repay_amount_avg_eth</th>\n      <th>repay_count</th>\n      <th>borrow_repay_diff_eth</th>\n      <th>withdraw_deposit_diff_If_positive_eth</th>\n    </tr>\n  </thead>\n  <tbody>\n    <tr>\n      <th>0</th>\n      <td>7711117</td>\n      <td>1.557197e+09</td>\n      <td>0x502cb8985b2c92a8d4bf309cdaa89de9be442708</td>\n      <td>1</td>\n      <td>0</td>\n      <td>1</td>\n      <td>44.479139</td>\n      <td>31.575270</td>\n      <td>0.000001</td>\n      <td>0.0</td>\n      <td>...</td>\n      <td>58.317987</td>\n      <td>0.0</td>\n      <td>0.000000</td>\n      <td>0.000000</td>\n      <td>0</td>\n      <td>0.0</td>\n      <td>0.0</td>\n      <td>0</td>\n      <td>0.000000</td>\n      <td>0.0</td>\n    </tr>\n    <tr>\n      <th>1</th>\n      <td>7711123</td>\n      <td>1.557197e+09</td>\n      <td>0x502cb8985b2c92a8d4bf309cdaa89de9be442708</td>\n      <td>1</td>\n      <td>1</td>\n      <td>1</td>\n      <td>44.479139</td>\n      <td>31.418863</td>\n      <td>0.004953</td>\n      <td>0.0</td>\n      <td>...</td>\n      <td>58.317987</td>\n      <td>0.0</td>\n      <td>0.157110</td>\n      <td>0.157110</td>\n      <td>1</td>\n      <td>0.0</td>\n      <td>0.0</td>\n      <td>0</td>\n      <td>0.157110</td>\n      <td>0.0</td>\n    </tr>\n    <tr>\n      <th>2</th>\n      <td>7711126</td>\n      <td>1.557197e+09</td>\n      <td>0x502cb8985b2c92a8d4bf309cdaa89de9be442708</td>\n      <td>1</td>\n      <td>1</td>\n      <td>1</td>\n      <td>44.479139</td>\n      <td>31.035236</td>\n      <td>0.017103</td>\n      <td>0.0</td>\n      <td>...</td>\n      <td>58.317987</td>\n      <td>0.0</td>\n      <td>0.543275</td>\n      <td>0.271637</td>\n      <td>2</td>\n      <td>0.0</td>\n      <td>0.0</td>\n      <td>0</td>\n      <td>0.543275</td>\n      <td>0.0</td>\n    </tr>\n    <tr>\n      <th>3</th>\n      <td>7711672</td>\n      <td>1.557205e+09</td>\n      <td>0xa7ff0d561cd15ed525e31bbe0af3fe34ac2059f6</td>\n      <td>0</td>\n      <td>0</td>\n      <td>1</td>\n      <td>0.000767</td>\n      <td>0.000460</td>\n      <td>0.000001</td>\n      <td>0.0</td>\n      <td>...</td>\n      <td>0.000000</td>\n      <td>0.0</td>\n      <td>0.000000</td>\n      <td>0.000000</td>\n      <td>0</td>\n      <td>0.0</td>\n      <td>0.0</td>\n      <td>0</td>\n      <td>0.000000</td>\n      <td>0.0</td>\n    </tr>\n    <tr>\n      <th>4</th>\n      <td>7712572</td>\n      <td>1.557217e+09</td>\n      <td>0xbd9ed130a53cfafcf81502e4d35329a6c4d53410</td>\n      <td>0</td>\n      <td>0</td>\n      <td>1</td>\n      <td>0.010000</td>\n      <td>0.007500</td>\n      <td>0.000001</td>\n      <td>0.0</td>\n      <td>...</td>\n      <td>0.000000</td>\n      <td>0.0</td>\n      <td>0.000000</td>\n      <td>0.000000</td>\n      <td>0</td>\n      <td>0.0</td>\n      <td>0.0</td>\n      <td>0</td>\n      <td>0.000000</td>\n      <td>0.0</td>\n    </tr>\n    <tr>\n      <th>5</th>\n      <td>7715069</td>\n      <td>1.557250e+09</td>\n      <td>0x502cb8985b2c92a8d4bf309cdaa89de9be442708</td>\n      <td>1</td>\n      <td>1</td>\n      <td>1</td>\n      <td>44.488424</td>\n      <td>30.059852</td>\n      <td>0.048606</td>\n      <td>0.0</td>\n      <td>...</td>\n      <td>58.317987</td>\n      <td>0.0</td>\n      <td>1.543275</td>\n      <td>0.514425</td>\n      <td>3</td>\n      <td>0.0</td>\n      <td>0.0</td>\n      <td>0</td>\n      <td>1.543275</td>\n      <td>0.0</td>\n    </tr>\n    <tr>\n      <th>6</th>\n      <td>7715078</td>\n      <td>1.557251e+09</td>\n      <td>0x502cb8985b2c92a8d4bf309cdaa89de9be442708</td>\n      <td>1</td>\n      <td>1</td>\n      <td>1</td>\n      <td>44.430545</td>\n      <td>29.912079</td>\n      <td>0.052241</td>\n      <td>0.0</td>\n      <td>...</td>\n      <td>58.317987</td>\n      <td>0.0</td>\n      <td>1.543275</td>\n      <td>0.514425</td>\n      <td>4</td>\n      <td>0.0</td>\n      <td>0.0</td>\n      <td>0</td>\n      <td>1.543275</td>\n      <td>0.0</td>\n    </tr>\n    <tr>\n      <th>7</th>\n      <td>7715985</td>\n      <td>1.557263e+09</td>\n      <td>0x502cb8985b2c92a8d4bf309cdaa89de9be442708</td>\n      <td>1</td>\n      <td>1</td>\n      <td>1</td>\n      <td>51.316928</td>\n      <td>28.781848</td>\n      <td>0.088052</td>\n      <td>0.0</td>\n      <td>...</td>\n      <td>58.317987</td>\n      <td>0.0</td>\n      <td>2.749083</td>\n      <td>0.687271</td>\n      <td>5</td>\n      <td>0.0</td>\n      <td>0.0</td>\n      <td>0</td>\n      <td>2.749083</td>\n      <td>0.0</td>\n    </tr>\n    <tr>\n      <th>8</th>\n      <td>7716888</td>\n      <td>1.557276e+09</td>\n      <td>0x502cb8985b2c92a8d4bf309cdaa89de9be442708</td>\n      <td>1</td>\n      <td>1</td>\n      <td>1</td>\n      <td>58.791139</td>\n      <td>38.667542</td>\n      <td>0.081422</td>\n      <td>0.0</td>\n      <td>...</td>\n      <td>3.127926</td>\n      <td>0.0</td>\n      <td>3.320086</td>\n      <td>0.664017</td>\n      <td>6</td>\n      <td>0.0</td>\n      <td>0.0</td>\n      <td>0</td>\n      <td>3.320086</td>\n      <td>0.0</td>\n    </tr>\n    <tr>\n      <th>9</th>\n      <td>7717003</td>\n      <td>1.557277e+09</td>\n      <td>0x502cb8985b2c92a8d4bf309cdaa89de9be442708</td>\n      <td>1</td>\n      <td>1</td>\n      <td>1</td>\n      <td>60.268602</td>\n      <td>33.574491</td>\n      <td>0.221625</td>\n      <td>0.0</td>\n      <td>...</td>\n      <td>3.127926</td>\n      <td>0.0</td>\n      <td>9.247470</td>\n      <td>1.541245</td>\n      <td>7</td>\n      <td>0.0</td>\n      <td>0.0</td>\n      <td>0</td>\n      <td>9.247470</td>\n      <td>0.0</td>\n    </tr>\n  </tbody>\n</table>\n<p>10 rows × 78 columns</p>\n</div>"
     },
     "execution_count": 34,
     "metadata": {},
     "output_type": "execute_result"
    }
   ],
   "source": [
    "import duckdb\n",
    "duckdb.query((f\"\"\"\n",
    "select * from '{'0xB79CDBC5Cd94a807CC5cc761e3eF4A6B9baC8939_training_data.parquet'}' limit 10\n",
    "\"\"\")).df()"
   ]
  },
  {
   "cell_type": "markdown",
   "id": "381973f7a440e1c1",
   "metadata": {
    "collapsed": false
   },
   "source": [
    "You may choose to use any subset of the data above to train your model. We guarantee availability of this data during the challenge lifespan.\n",
    "You may also supplement this set with external data, however you will be responsible for hosting and serving this data during testing and consumption."
   ]
  },
  {
   "cell_type": "markdown",
   "id": "bbd842b1cf28d677",
   "metadata": {
    "collapsed": false
   },
   "source": [
    "## Exploratory Data Analysis\n",
    "\n",
    "You may use any tools you wish to explore the data and generate features. As an example we examine the max_risk_factor feature, look for potential outliers, consider dropping those samples, and examine correlated features"
   ]
  },
  {
   "cell_type": "code",
   "execution_count": 4,
   "id": "a2588fd7f7802985",
   "metadata": {
    "collapsed": false,
    "ExecuteTime": {
     "end_time": "2023-11-06T19:10:08.998771Z",
     "start_time": "2023-11-06T19:10:08.289952Z"
    }
   },
   "outputs": [
    {
     "data": {
      "text/plain": "count    4.316180e+05\nmean     2.946256e+08\nstd      3.271465e+10\nmin      0.000000e+00\n25%      4.379520e-01\n50%      7.663844e-01\n75%      9.154721e-01\nmax      3.633082e+12\nName: max_risk_factor, dtype: float64"
     },
     "execution_count": 4,
     "metadata": {},
     "output_type": "execute_result"
    }
   ],
   "source": [
    "import pandas as pd\n",
    "training_dataframe = duckdb.query((f\"\"\"\n",
    "select * from '{'0xB79CDBC5Cd94a807CC5cc761e3eF4A6B9baC8939_training_data.parquet'}'\n",
    "\"\"\")).df()\n",
    "training_dataframe['max_risk_factor'].describe()"
   ]
  },
  {
   "cell_type": "markdown",
   "id": "d41ba80974e514dc",
   "metadata": {
    "collapsed": false
   },
   "source": [
    "The max value listed above is far greater than the majority of samples, and may be an outlier. A risk factor over one is uncommon, so a value this large could be due to a highly irregular onchain action, an error in data fetching, or an error dataset construction. \n",
    "\n",
    "We should examine samples with high values of this feature."
   ]
  },
  {
   "cell_type": "code",
   "execution_count": 5,
   "id": "e99f56b514ba5b06",
   "metadata": {
    "collapsed": false,
    "ExecuteTime": {
     "end_time": "2023-11-06T19:10:09.031080Z",
     "start_time": "2023-11-06T19:10:08.998497Z"
    }
   },
   "outputs": [
    {
     "data": {
      "text/plain": "   unusually_high_risk_factor_address\n0                                  61",
      "text/html": "<div>\n<style scoped>\n    .dataframe tbody tr th:only-of-type {\n        vertical-align: middle;\n    }\n\n    .dataframe tbody tr th {\n        vertical-align: top;\n    }\n\n    .dataframe thead th {\n        text-align: right;\n    }\n</style>\n<table border=\"1\" class=\"dataframe\">\n  <thead>\n    <tr style=\"text-align: right;\">\n      <th></th>\n      <th>unusually_high_risk_factor_address</th>\n    </tr>\n  </thead>\n  <tbody>\n    <tr>\n      <th>0</th>\n      <td>61</td>\n    </tr>\n  </tbody>\n</table>\n</div>"
     },
     "execution_count": 5,
     "metadata": {},
     "output_type": "execute_result"
    }
   ],
   "source": [
    "duckdb.query((f\"\"\"\n",
    "select count(distinct(wallet_address)) as unusually_high_risk_factor_address from '{'0xB79CDBC5Cd94a807CC5cc761e3eF4A6B9baC8939_training_data.parquet'}'\n",
    "where max_risk_factor > 100\n",
    "\"\"\")).df()"
   ]
  },
  {
   "cell_type": "markdown",
   "id": "b176b8a0293d6890",
   "metadata": {
    "collapsed": false
   },
   "source": [
    "There are 61 addresses with this unusually high value, let's remove all samples with a risk factor over 100 from training. "
   ]
  },
  {
   "cell_type": "code",
   "execution_count": 6,
   "id": "b26794e3943356d8",
   "metadata": {
    "collapsed": false,
    "ExecuteTime": {
     "end_time": "2023-11-06T19:10:09.715574Z",
     "start_time": "2023-11-06T19:10:09.030668Z"
    }
   },
   "outputs": [
    {
     "data": {
      "text/plain": "count    429835.000000\nmean          0.806303\nstd           2.302598\nmin           0.000000\n25%           0.434355\n50%           0.764848\n75%           0.913552\nmax          86.364163\nName: max_risk_factor, dtype: float64"
     },
     "execution_count": 6,
     "metadata": {},
     "output_type": "execute_result"
    }
   ],
   "source": [
    "training_dataframe = duckdb.query((f\"\"\"\n",
    "select * from '{'0xB79CDBC5Cd94a807CC5cc761e3eF4A6B9baC8939_training_data.parquet'}'\n",
    "where max_risk_factor < 100\n",
    "\"\"\")).df()\n",
    "training_dataframe['max_risk_factor'].describe()"
   ]
  },
  {
   "cell_type": "markdown",
   "id": "45ca4f2f6a8f1e10",
   "metadata": {
    "collapsed": false
   },
   "source": [
    "A risk factor of 86 is still highly unusual, but we will leave it in for now as this is only an example."
   ]
  },
  {
   "cell_type": "markdown",
   "id": "ba2bfaf4526b19bf",
   "metadata": {
    "collapsed": false
   },
   "source": [
    "It's always helpful to visualize data when getting acquainted, so let's examine a few features together. We'll look at the correlation between the withdraw_deposit_diff_If_positive_eth, withdraw_amount_sum_eth, and deposit_amount_sum_eth features.\n",
    "\n",
    "\n",
    "These defi features represent the total amount of eth withdrawn, deposited, and the difference between the two."
   ]
  },
  {
   "cell_type": "code",
   "execution_count": 7,
   "id": "607fd60bd0291df1",
   "metadata": {
    "collapsed": false,
    "ExecuteTime": {
     "end_time": "2023-11-06T19:10:09.988751Z",
     "start_time": "2023-11-06T19:10:09.713932Z"
    }
   },
   "outputs": [
    {
     "data": {
      "text/plain": "<Figure size 640x480 with 2 Axes>",
      "image/png": "[encoded data removed]"
     },
     "metadata": {},
     "output_type": "display_data"
    }
   ],
   "source": [
    "import matplotlib.pyplot as mp \n",
    "import seaborn as sb \n",
    "dataplot = sb.heatmap(training_dataframe[['withdraw_deposit_diff_If_positive_eth',\n",
    "                                          'withdraw_amount_sum_eth',\n",
    "                                          'deposit_amount_sum_eth' ]].corr(), annot=True) \n",
    "mp.show() "
   ]
  },
  {
   "cell_type": "markdown",
   "id": "11216ac3f0af75dd",
   "metadata": {
    "collapsed": false
   },
   "source": [
    "These features represent actions on opposite ends of the lending lifecycle, so we could reasonably expect there to be some correlation for many samples.\n",
    "\n",
    "withdraw_amount_sum_eth and deposit_amount_sum_eth are highly correlated, so we'll move to drop withdraw_amount_sum_eth from our training set. In practice it would be beneficial to examine the correlation between other features and understand why some of these may be correlated or not.  "
   ]
  },
  {
   "cell_type": "code",
   "execution_count": 8,
   "id": "78bebe45b9fc2f34",
   "metadata": {
    "collapsed": false,
    "ExecuteTime": {
     "end_time": "2023-11-06T19:10:10.567848Z",
     "start_time": "2023-11-06T19:10:09.990372Z"
    }
   },
   "outputs": [],
   "source": [
    "import duckdb\n",
    "training_dataframe = duckdb.query((f\"\"\"\n",
    "select * from '{'0xB79CDBC5Cd94a807CC5cc761e3eF4A6B9baC8939_training_data.parquet'}'\n",
    "where max_risk_factor < 100\n",
    "\"\"\")).df().drop(columns=['withdraw_amount_sum_eth'], inplace=False)"
   ]
  },
  {
   "cell_type": "markdown",
   "id": "a3272d11c57031c8",
   "metadata": {
    "collapsed": false
   },
   "source": [
    "For this example we'll conclude our analysis, and move to modelling. During the challenge you should spend time exploring the data and generating features. There is no shortage of exciting onchain activity that could be used to generate features, and we encourage you to be creative. \n",
    "\n",
    "\n",
    "Features derived from activity on other lending protocols, other chains, non-fungibile token value, and decentralized exchange positions have all proven to be relevant in our previous work. Want to discuss with other modelers and our team? Join our [Discord](https://discord.com/invite/Vqwhxva7Y2)"
   ]
  },
  {
   "cell_type": "markdown",
   "id": "8bc50f29efb96b25",
   "metadata": {
    "collapsed": false
   },
   "source": [
    "## Modeling\n",
    "\n",
    "\n",
    "### Train a neural net using the dataset above\n",
    "\n",
    "This model is strictly for example purposes, and is not intended to be a \"good\" model. \n",
    "You should not make assumptions based on this model that this is how the problem should be approached\n",
    "\n",
    "\n",
    "In particular, you should not assume:\n",
    "- anything about the relevancy of features and samples dropped above\n",
    "- that loss and accuracy are appropriate metrics for this problem\n",
    "- that ReLU is the ideal activation function (or any other architecture specifics defined herein)"
   ]
  },
  {
   "cell_type": "code",
   "execution_count": 9,
   "id": "8eb47db470503e9",
   "metadata": {
    "collapsed": false,
    "ExecuteTime": {
     "end_time": "2023-11-06T19:10:11.964503Z",
     "start_time": "2023-11-06T19:10:10.569254Z"
    }
   },
   "outputs": [],
   "source": [
    "import pandas as pd\n",
    "import numpy as np\n",
    "import duckdb\n",
    "\n",
    "from sklearn.preprocessing import StandardScaler\n",
    "from sklearn.model_selection import train_test_split\n",
    "\n",
    "\n",
    "import torch\n",
    "import torch.nn as nn\n",
    "import torch.optim as optim\n",
    "from torch.utils.data import DataLoader\n",
    "\n",
    "import json\n",
    "from tqdm.auto import tqdm\n",
    "from timeit import default_timer as timer \n",
    "import random\n",
    "import os\n",
    "\n",
    "# Spectral Helpers (see helpers folder for more details on any of these\n",
    "from helpers.modeling import TestData, TrainData, StratifiedBatchSampler, print_train_time, auc_fn, auroc_fn, auc_pr_fn, brier_fn, ks_fn, recall_fn, prob_diff_fn, f1_score_fn, train_step, test_step, eval_model, plot_loss_curves,ValidationLossEarlyStopping, predict_on_test_sample\n",
    "\n",
    "# for reproducible results\n",
    "random_seed = 42\n",
    "np.random.seed(random_seed)\n",
    "torch.manual_seed(random_seed)\n",
    "torch.use_deterministic_algorithms(True, warn_only=True)\n",
    "torch.backends.cudnn.determenistic=True\n",
    "\n",
    "random.seed(random_seed)\n",
    "def seed_worker(worker_id):\n",
    "    worker_seed = random_seed\n",
    "    np.random.seed(worker_seed)\n",
    "    random.seed(worker_seed)\n",
    "g = torch.Generator()\n",
    "g.manual_seed(random_seed)\n",
    "\n",
    "#specifically required for reproducibility with CuBLABS and CUDA\n",
    "os.environ[\"CUBLAS_WORKSPACE_CONFIG\"] = \":4096:8\" \n",
    "os.environ[\"PYTHONHASHSEED\"] = str(random_seed)"
   ]
  },
  {
   "cell_type": "markdown",
   "id": "af8fcfbb734be3e3",
   "metadata": {
    "collapsed": false
   },
   "source": [
    "We'll use the same training dataset we defined above, and split it into training and testing sets.\n",
    "\n",
    "***TODO: Fix when Data api is up***"
   ]
  },
  {
   "cell_type": "code",
   "execution_count": 10,
   "outputs": [],
   "source": [
    "# We're going to hold out 10K samples for \"realtime\" testing while data api is down\n",
    "example_testing_samples = training_dataframe[-10_000:]\n",
    "training_dataframe = training_dataframe[:-10_000]\n"
   ],
   "metadata": {
    "collapsed": false,
    "ExecuteTime": {
     "end_time": "2023-11-06T19:10:11.968583Z",
     "start_time": "2023-11-06T19:10:11.964958Z"
    }
   },
   "id": "2cf01e507633537"
  },
  {
   "cell_type": "code",
   "execution_count": 11,
   "id": "5068158ad351cca9",
   "metadata": {
    "collapsed": false,
    "ExecuteTime": {
     "end_time": "2023-11-06T19:10:12.372752Z",
     "start_time": "2023-11-06T19:10:11.968202Z"
    }
   },
   "outputs": [],
   "source": [
    "training_cols = list(training_dataframe.columns.drop(\n",
    "    ['borrow_timestamp', 'wallet_address', 'borrow_block_number', 'target']))\n",
    "\n",
    "\n",
    "\n",
    "X_train, X_test, y_train, y_test = train_test_split(training_dataframe[training_cols].to_numpy(),\n",
    "                                                    training_dataframe['target'].to_numpy(), test_size=0.2, random_state=random_seed)\n",
    "\n",
    "\n",
    "sc = StandardScaler()\n",
    "X_train_scaled = sc.fit_transform(X_train)\n",
    "X_test_scaled = sc.transform(X_test)"
   ]
  },
  {
   "cell_type": "code",
   "execution_count": 12,
   "id": "743a9250c6387446",
   "metadata": {
    "collapsed": false,
    "ExecuteTime": {
     "end_time": "2023-11-06T19:10:12.408403Z",
     "start_time": "2023-11-06T19:10:12.373238Z"
    }
   },
   "outputs": [],
   "source": [
    "train_data = TrainData(torch.from_numpy(X_train_scaled).type(torch.float), torch.from_numpy(y_train).type(torch.float))\n",
    "test_data = TestData(torch.from_numpy(X_test_scaled).type(torch.float), torch.from_numpy(y_test).type(torch.float))"
   ]
  },
  {
   "cell_type": "code",
   "execution_count": 13,
   "id": "3abb51b7117f6398",
   "metadata": {
    "collapsed": false,
    "ExecuteTime": {
     "end_time": "2023-11-06T19:10:12.413851Z",
     "start_time": "2023-11-06T19:10:12.406557Z"
    }
   },
   "outputs": [
    {
     "name": "stdout",
     "output_type": "stream",
     "text": [
      "Dataloaders: (<torch.utils.data.dataloader.DataLoader object at 0x2ff80bc10>, <torch.utils.data.dataloader.DataLoader object at 0x2fe3bfc10>)\n",
      "Length of train dataloader: 101 batches of 3358\n",
      "Length of test dataloader: 26 batches of 3358\n",
      "Using number of workers: 0\n"
     ]
    }
   ],
   "source": [
    "\n",
    "NUM_WORKERS = 0 # use all available CPU cores with os.cpu_count(), if possible\n",
    "BATCH_SIZE = int(X_train.shape[0]/100) # ~1% of the training data\n",
    "# initialize DataLoaders\n",
    "train_dataloader = DataLoader(dataset=train_data,\n",
    "                              batch_sampler=StratifiedBatchSampler(torch.tensor(y_train), batch_size=BATCH_SIZE), \n",
    "                              worker_init_fn=seed_worker, \n",
    "                              generator=g,\n",
    "                              num_workers=NUM_WORKERS)\n",
    "test_dataloader = DataLoader(dataset=test_data, \n",
    "                             batch_size=BATCH_SIZE,\n",
    "                             shuffle=False,\n",
    "                             worker_init_fn=seed_worker,\n",
    "                             generator=g,\n",
    "                             num_workers=NUM_WORKERS)\n",
    "\n",
    "print(f'Dataloaders: {train_dataloader, test_dataloader}') \n",
    "print(f'Length of train dataloader: {len(train_dataloader)} batches of {BATCH_SIZE}')\n",
    "print(f'Length of test dataloader: {len(test_dataloader)} batches of {BATCH_SIZE}')\n",
    "print(f'Using number of workers: {NUM_WORKERS}')"
   ]
  },
  {
   "cell_type": "code",
   "execution_count": 14,
   "id": "4643ba2c1c96fa8",
   "metadata": {
    "collapsed": false,
    "ExecuteTime": {
     "end_time": "2023-11-06T19:10:12.468111Z",
     "start_time": "2023-11-06T19:10:12.416015Z"
    }
   },
   "outputs": [
    {
     "data": {
      "text/plain": "(torch.Size([3326, 73]), torch.Size([3326]))"
     },
     "execution_count": 14,
     "metadata": {},
     "output_type": "execute_result"
    }
   ],
   "source": [
    "# Check out what's inside the training dataloader\n",
    "train_features_batch, train_labels_batch = next(iter(train_dataloader))\n",
    "train_features_batch.shape, train_labels_batch.shape"
   ]
  },
  {
   "cell_type": "code",
   "execution_count": 15,
   "id": "50185f943de2a042",
   "metadata": {
    "collapsed": false,
    "ExecuteTime": {
     "end_time": "2023-11-06T19:10:12.484003Z",
     "start_time": "2023-11-06T19:10:12.466031Z"
    }
   },
   "outputs": [
    {
     "data": {
      "text/plain": "(torch.Size([3358, 73]), torch.Size([3358]))"
     },
     "execution_count": 15,
     "metadata": {},
     "output_type": "execute_result"
    }
   ],
   "source": [
    "# Check out what's inside the testing dataloader\n",
    "test_features_batch, test_labels_batch = next(iter(test_dataloader))\n",
    "test_features_batch.shape, test_labels_batch.shape"
   ]
  },
  {
   "cell_type": "code",
   "execution_count": 16,
   "id": "46e017e2f60e6a78",
   "metadata": {
    "collapsed": false,
    "ExecuteTime": {
     "end_time": "2023-11-06T19:10:12.485502Z",
     "start_time": "2023-11-06T19:10:12.482042Z"
    }
   },
   "outputs": [
    {
     "data": {
      "text/plain": "device(type='cpu')"
     },
     "execution_count": 16,
     "metadata": {},
     "output_type": "execute_result"
    }
   ],
   "source": [
    "device = torch.device('cuda' if torch.cuda.is_available() else 'cpu')\n",
    "device"
   ]
  },
  {
   "cell_type": "markdown",
   "id": "a05f73952909054b",
   "metadata": {
    "collapsed": false
   },
   "source": [
    "### One hidden layer with ReLU activation"
   ]
  },
  {
   "cell_type": "code",
   "execution_count": 17,
   "id": "70cf4c484410b95f",
   "metadata": {
    "collapsed": false,
    "ExecuteTime": {
     "end_time": "2023-11-06T19:10:12.489062Z",
     "start_time": "2023-11-06T19:10:12.486141Z"
    }
   },
   "outputs": [
    {
     "data": {
      "text/plain": "PredictLiquidationsV1(\n  (linear_layer_stack): Sequential(\n    (0): Linear(in_features=73, out_features=82, bias=True)\n    (1): ReLU()\n    (2): Dropout(p=0.2, inplace=False)\n    (3): Linear(in_features=82, out_features=82, bias=True)\n    (4): ReLU()\n    (5): Dropout(p=0.4, inplace=False)\n    (6): Linear(in_features=82, out_features=1, bias=True)\n    (7): Sigmoid()\n  )\n)"
     },
     "execution_count": 17,
     "metadata": {},
     "output_type": "execute_result"
    }
   ],
   "source": [
    "# define NN architecture\n",
    "class PredictLiquidationsV1(nn.Module):\n",
    "    \"\"\"\n",
    "    The final layer should be a sigmoid, to get the probability of liquidation. \n",
    "    \"\"\"\n",
    "    def __init__(self, input_features, output_features, hidden_units):\n",
    "        super().__init__()\n",
    "        self.linear_layer_stack = nn.Sequential(\n",
    "            nn.Linear(in_features=input_features, out_features=hidden_units),\n",
    "            nn.ReLU(),\n",
    "            nn.Dropout(p = 0.2),\n",
    "            nn.Linear(in_features=hidden_units, out_features=hidden_units),\n",
    "            nn.ReLU(),\n",
    "            nn.Dropout(p = 0.4),\n",
    "            nn.Linear(in_features=hidden_units, out_features=output_features),\n",
    "            nn.Sigmoid()\n",
    "        )        \n",
    "        \n",
    "    def forward(self, x):\n",
    "        return self.linear_layer_stack(x)\n",
    "    \n",
    "# instantiate the model\n",
    "model_1 = PredictLiquidationsV1(input_features=X_train.shape[1],\n",
    "                                output_features=1,\n",
    "                                hidden_units=82).to(device)\n",
    "model_1"
   ]
  },
  {
   "cell_type": "code",
   "execution_count": 18,
   "id": "a99b3fc8cb1c1919",
   "metadata": {
    "collapsed": false,
    "ExecuteTime": {
     "end_time": "2023-11-06T19:10:12.519766Z",
     "start_time": "2023-11-06T19:10:12.489699Z"
    }
   },
   "outputs": [],
   "source": [
    "early_stopper = ValidationLossEarlyStopping(patience=1, min_delta=0.0)\n",
    "loss_fn = nn.BCELoss()\n",
    "optimizer = optim.Adam(params=model_1.parameters(),\n",
    "                       lr=0.001,\n",
    "                       weight_decay=0.01)"
   ]
  },
  {
   "cell_type": "code",
   "execution_count": 19,
   "id": "b4347c274d619846",
   "metadata": {
    "collapsed": false,
    "ExecuteTime": {
     "end_time": "2023-11-06T19:10:12.807747Z",
     "start_time": "2023-11-06T19:10:12.491897Z"
    }
   },
   "outputs": [],
   "source": [
    "compiled_model_1 = torch.compile(model_1)"
   ]
  },
  {
   "cell_type": "code",
   "execution_count": 20,
   "id": "a9c3c8dc41ca0251",
   "metadata": {
    "collapsed": false,
    "ExecuteTime": {
     "end_time": "2023-11-06T19:11:26.385053Z",
     "start_time": "2023-11-06T19:10:12.810946Z"
    }
   },
   "outputs": [
    {
     "data": {
      "text/plain": "  0%|          | 0/30 [00:00<?, ?it/s]",
      "application/vnd.jupyter.widget-view+json": {
       "version_major": 2,
       "version_minor": 0,
       "model_id": "41bad49a74b04ea0a033d9ba771ada30"
      }
     },
     "metadata": {},
     "output_type": "display_data"
    },
    {
     "name": "stdout",
     "output_type": "stream",
     "text": [
      "Epoch: 0\n",
      "---------\n",
      "Training metrics:\n",
      "Loss: 0.56654 | Recall: 40.03% | F1-Score: 49.42% | AUROC: 74.66% | Brier Score: 19.15% | AUC PR: 70.12% | KS-Statistic: 40.43% | Pred Prob Diff: 18.84%\n",
      "Testing metrics:\n",
      "Loss: 0.49981 | Recall: 58.16% | F1-Score: 67.00% | AUROC: 80.54% | Brier Score: 16.32% | AUC PR: 78.26% | KS-Statistic: 49.89% | Pred Prob Diff: 35.15%\n",
      "Epoch: 5\n",
      "---------\n",
      "Training metrics:\n",
      "Loss: 0.46830 | Recall: 58.75% | F1-Score: 68.02% | AUROC: 83.41% | Brier Score: 15.18% | AUC PR: 80.69% | KS-Statistic: 52.13% | Pred Prob Diff: 40.55%\n",
      "Testing metrics:\n",
      "Loss: 0.46395 | Recall: 59.99% | F1-Score: 68.93% | AUROC: 83.88% | Brier Score: 15.02% | AUC PR: 81.24% | KS-Statistic: 53.56% | Pred Prob Diff: 42.00%\n",
      "Epoch: 10\n",
      "---------\n",
      "Training metrics:\n",
      "Loss: 0.46593 | Recall: 58.94% | F1-Score: 68.21% | AUROC: 83.64% | Brier Score: 15.09% | AUC PR: 80.90% | KS-Statistic: 52.48% | Pred Prob Diff: 40.93%\n",
      "Testing metrics:\n",
      "Loss: 0.46178 | Recall: 60.14% | F1-Score: 69.06% | AUROC: 84.10% | Brier Score: 14.94% | AUC PR: 81.42% | KS-Statistic: 53.77% | Pred Prob Diff: 42.32%\n",
      "Epoch: 15\n",
      "---------\n",
      "Training metrics:\n",
      "Loss: 0.46529 | Recall: 58.98% | F1-Score: 68.24% | AUROC: 83.71% | Brier Score: 15.07% | AUC PR: 80.96% | KS-Statistic: 52.61% | Pred Prob Diff: 41.01%\n",
      "Testing metrics:\n",
      "Loss: 0.46112 | Recall: 60.25% | F1-Score: 69.16% | AUROC: 84.15% | Brier Score: 14.91% | AUC PR: 81.48% | KS-Statistic: 53.82% | Pred Prob Diff: 42.48%\n",
      "Stopped early at epoch: 19\n",
      "---------\n",
      "Training metrics:\n",
      "Loss: 0.46499 | Recall: 59.02% | F1-Score: 68.28% | AUROC: 83.74% | Brier Score: 15.06% | AUC PR: 80.98% | KS-Statistic: 52.65% | Pred Prob Diff: 41.06%\n",
      "Testing metrics:\n",
      "Loss: 0.46088 | Recall: 60.29% | F1-Score: 69.16% | AUROC: 84.23% | Brier Score: 14.91% | AUC PR: 81.52% | KS-Statistic: 53.85% | Pred Prob Diff: 42.56%\n",
      "Train time on cpu: 73.572 seconds\n"
     ]
    }
   ],
   "source": [
    "# Measure time\n",
    "train_time_start = timer()\n",
    "\n",
    "epochs = 30\n",
    "\n",
    "# Create empty loss lists to track values\n",
    "model_1_train_loss_values = []\n",
    "model_1_test_loss_values = []\n",
    "model_1_epoch_count = []\n",
    "\n",
    "for epoch in tqdm(range(epochs)):\n",
    "    if epoch % 5 == 0:\n",
    "        print(f\"Epoch: {epoch}\\n---------\")\n",
    "    train_metrics = train_step(data_loader=train_dataloader, \n",
    "                               model=compiled_model_1, \n",
    "                               epochs=epoch,\n",
    "                               loss_fn=loss_fn,\n",
    "                               optimizer=optimizer,\n",
    "                               auc_fn=auc_fn,\n",
    "                               recall_fn=recall_fn,\n",
    "                               f1_score_fn=f1_score_fn,\n",
    "                               auroc_fn=auroc_fn,\n",
    "                               brier_fn=brier_fn,\n",
    "                               auc_pr_fn=auc_pr_fn,\n",
    "                               ks_fn=ks_fn,\n",
    "                               prob_diff_fn=prob_diff_fn\n",
    "    )\n",
    "    test_metrics = test_step(data_loader=test_dataloader,\n",
    "                             model=compiled_model_1,\n",
    "                             epochs=epoch,\n",
    "                             loss_fn=loss_fn,\n",
    "                             auc_fn=auc_fn,\n",
    "                             recall_fn=recall_fn,\n",
    "                             f1_score_fn=f1_score_fn,\n",
    "                             auroc_fn=auroc_fn,\n",
    "                             brier_fn=brier_fn,\n",
    "                             auc_pr_fn=auc_pr_fn,\n",
    "                             ks_fn=ks_fn,\n",
    "                             prob_diff_fn=prob_diff_fn\n",
    "    )\n",
    "    model_1_epoch_count.append(epoch)\n",
    "    model_1_train_loss_values.append(train_metrics['loss'])\n",
    "    model_1_test_loss_values.append(test_metrics['loss'])\n",
    "    \n",
    "    if early_stopper.early_stop_check(test_metrics['loss']):\n",
    "        print(f\"Stopped early at epoch: {epoch}\\n---------\")\n",
    "        print(f\"Training metrics:\\nLoss: {train_metrics['loss']:.5f} | Recall: {train_metrics['recall']:.2f}% | F1-Score: {train_metrics['f1']:.2f}% | AUROC: {train_metrics['auroc']:.2f}% | Brier Score: {train_metrics['brier']:.2f}% | AUC PR: {train_metrics['aucpr']:.2f}% | KS-Statistic: {train_metrics['ks']:.2f}% | Pred Prob Diff: {train_metrics['prob_diff']:.2f}%\")\n",
    "        print(f\"Testing metrics:\\nLoss: {test_metrics['loss']:.5f} | Recall: {test_metrics['recall']:.2f}% | F1-Score: {test_metrics['f1']:.2f}% | AUROC: {test_metrics['auroc']:.2f}% | Brier Score: {test_metrics['brier']:.2f}% | AUC PR: {test_metrics['aucpr']:.2f}% | KS-Statistic: {test_metrics['ks']:.2f}% | Pred Prob Diff: {test_metrics['prob_diff']:.2f}%\")\n",
    "        break\n",
    "\n",
    "train_time_end = timer()\n",
    "total_train_time_model_1 = print_train_time(start=train_time_start,\n",
    "                                            end=train_time_end,\n",
    "                                            device=device)"
   ]
  },
  {
   "cell_type": "code",
   "execution_count": 21,
   "id": "cc86dcfcf8bd5fb7",
   "metadata": {
    "collapsed": false,
    "ExecuteTime": {
     "end_time": "2023-11-06T19:11:26.532321Z",
     "start_time": "2023-11-06T19:11:26.502042Z"
    }
   },
   "outputs": [
    {
     "data": {
      "text/plain": "<Figure size 640x480 with 1 Axes>",
      "image/png": "[encoded data removed]"
     },
     "metadata": {},
     "output_type": "display_data"
    }
   ],
   "source": [
    "plot_loss_curves(model_1_epoch_count, model_1_train_loss_values, model_1_test_loss_values)"
   ]
  },
  {
   "cell_type": "code",
   "execution_count": 22,
   "id": "4ddad9e2be6c8e13",
   "metadata": {
    "collapsed": false,
    "ExecuteTime": {
     "end_time": "2023-11-06T19:11:27.211582Z",
     "start_time": "2023-11-06T19:11:26.544475Z"
    }
   },
   "outputs": [
    {
     "data": {
      "text/plain": "{'model_name': 'PredictLiquidationsV1',\n 'model_loss': 0.460879921913147,\n 'model_rec': 60.292740895197944,\n 'model_f1': 69.15935927170973,\n 'model_auroc': 84.22744780320387,\n 'model_brier': 14.905121133535424,\n 'model_aucpr': 81.52356881361742,\n 'model_ks': 53.85187535400367,\n 'model_prob_diff': 42.5647748204378}"
     },
     "execution_count": 22,
     "metadata": {},
     "output_type": "execute_result"
    }
   ],
   "source": [
    "# Calculate model 1 results\n",
    "model_1_results = eval_model(model=compiled_model_1,\n",
    "                             data_loader=test_dataloader,\n",
    "                             loss_fn=loss_fn,\n",
    "                             auc_fn=auc_fn,\n",
    "                             recall_fn=recall_fn,\n",
    "                             f1_score_fn=f1_score_fn,\n",
    "                             auroc_fn=auroc_fn,\n",
    "                             brier_fn=brier_fn,\n",
    "                             auc_pr_fn=auc_pr_fn,\n",
    "                             ks_fn=ks_fn,\n",
    "                             prob_diff_fn=prob_diff_fn,\n",
    "                             device=device)\n",
    "model_1_results.update({'model_name': model_1.__class__.__name__})\n",
    "\n",
    "model_1_results"
   ]
  },
  {
   "cell_type": "markdown",
   "id": "b7f4e1fa0704530e",
   "metadata": {
    "collapsed": false
   },
   "source": [
    "# Export to ONNX"
   ]
  },
  {
   "cell_type": "code",
   "execution_count": 23,
   "outputs": [],
   "source": [
    "if not os.path.exists('submissions'):\n",
    "    os.makedirs('submissions')"
   ],
   "metadata": {
    "collapsed": false,
    "ExecuteTime": {
     "end_time": "2023-11-06T19:11:27.215655Z",
     "start_time": "2023-11-06T19:11:27.212082Z"
    }
   },
   "id": "2b1b3768405ce0c8"
  },
  {
   "cell_type": "code",
   "execution_count": 24,
   "id": "80beb253b095299d",
   "metadata": {
    "collapsed": false,
    "ExecuteTime": {
     "end_time": "2023-11-06T19:11:27.248188Z",
     "start_time": "2023-11-06T19:11:27.215165Z"
    }
   },
   "outputs": [],
   "source": [
    "model_1.eval()\n",
    "torch.onnx.export(model_1,\n",
    "                  torch.randn((1,X_train.shape[1]), requires_grad = True).to(device),\n",
    "                  'submissions/model_1.onnx',\n",
    "                  input_names = ['input'],\n",
    "                  output_names = ['output'],\n",
    "                  dynamic_axes = {'input' : {0 : 'batch_size'}, \n",
    "                                  'output' : {0 : 'batch_size'}})"
   ]
  },
  {
   "cell_type": "code",
   "execution_count": 25,
   "id": "6673b392b442b77d",
   "metadata": {
    "collapsed": false,
    "ExecuteTime": {
     "end_time": "2023-11-06T19:11:27.255113Z",
     "start_time": "2023-11-06T19:11:27.234321Z"
    }
   },
   "outputs": [],
   "source": [
    "# export an observation from the test dataset that will be used to calibrate the ezkl settings file. This list of feature values can be from the test data (as shown here) or a completeley different sample that will be representative of the data to be seend in prod\n",
    "x = next(iter(test_features_batch)).numpy().tolist()\n",
    "data = dict(input_data = [x])\n",
    "json.dump(data, open('submissions/model_1_cal_data.json', 'w'))"
   ]
  },
  {
   "cell_type": "markdown",
   "id": "a0a9efb66b1a15aa",
   "metadata": {
    "collapsed": false
   },
   "source": [
    "# Generate Predictions"
   ]
  },
  {
   "cell_type": "code",
   "execution_count": 26,
   "id": "a1fd3d244d998127",
   "metadata": {
    "collapsed": false,
    "ExecuteTime": {
     "end_time": "2023-11-06T19:11:27.255337Z",
     "start_time": "2023-11-06T19:11:27.240369Z"
    }
   },
   "outputs": [],
   "source": [
    "# Create a new dataframe for submission\n",
    "submission_dataframe = pd.DataFrame([])"
   ]
  },
  {
   "cell_type": "code",
   "execution_count": 27,
   "id": "ddc48f6c6b96a4b6",
   "metadata": {
    "collapsed": false,
    "ExecuteTime": {
     "end_time": "2023-11-06T19:11:28.908814Z",
     "start_time": "2023-11-06T19:11:27.242790Z"
    }
   },
   "outputs": [],
   "source": [
    "submission_dataframe['wallet_address'], submission_dataframe['probability_of_liquidation'], submission_dataframe['input_for_prediction'] = zip(*example_testing_samples.apply(lambda row: predict_on_test_sample(row, training_cols, model_1), axis=1))"
   ]
  },
  {
   "cell_type": "markdown",
   "id": "20c918e36be1151e",
   "metadata": {
    "collapsed": false
   },
   "source": [
    "As a modeler you will choose to set the target variable to 1 if the probability of liquidation is greater than some threshold.\n",
    "\n",
    "In this example we'll take the threshold to be .6, but you may find a different value is more appropriate"
   ]
  },
  {
   "cell_type": "code",
   "execution_count": 28,
   "id": "a280a666ac6db9d0",
   "metadata": {
    "collapsed": false,
    "ExecuteTime": {
     "end_time": "2023-11-06T19:11:28.913180Z",
     "start_time": "2023-11-06T19:11:28.911374Z"
    }
   },
   "outputs": [],
   "source": [
    "submission_dataframe['target'] = submission_dataframe['probability_of_liquidation'].apply(lambda x: 1 if x > .6 else 0)"
   ]
  },
  {
   "cell_type": "markdown",
   "id": "8380201e6c154241",
   "metadata": {
    "collapsed": false
   },
   "source": [
    "To format our dataframe for submission, we'll store the wallet_address, probability, target, and the input features used to generate the prediction.\n",
    "\n",
    "Input features should follow the naming convention below"
   ]
  },
  {
   "cell_type": "code",
   "execution_count": 29,
   "id": "49d378d62c2e1b96",
   "metadata": {
    "collapsed": false,
    "ExecuteTime": {
     "end_time": "2023-11-06T19:11:29.416335Z",
     "start_time": "2023-11-06T19:11:29.042678Z"
    }
   },
   "outputs": [],
   "source": [
    "df = pd.DataFrame([pd.Series(x) for x in submission_dataframe['input_for_prediction']])\n",
    "df.columns = ['feature_{}'.format(x+1) for x in df.columns]\n",
    "\n",
    "\n",
    "# Merge and save results\n",
    "submission_dataframe = submission_dataframe.merge(df, left_index=True, right_index=True).drop(columns=['input_for_prediction'])\n",
    "submission_dataframe.to_parquet('submissions/submission_dataframe.parquet')"
   ]
  },
  {
   "cell_type": "code",
   "execution_count": 30,
   "id": "13417af6de0c8f61",
   "metadata": {
    "collapsed": false,
    "ExecuteTime": {
     "end_time": "2023-11-06T19:11:29.425305Z",
     "start_time": "2023-11-06T19:11:29.419625Z"
    }
   },
   "outputs": [
    {
     "data": {
      "text/plain": "                               wallet_address  probability_of_liquidation  \\\n0  0x49654d0584e777e3f8de4f932e2d6432e39c1cf5                         0.0   \n1  0x49654d0584e777e3f8de4f932e2d6432e39c1cf5                         0.0   \n2  0x49654d0584e777e3f8de4f932e2d6432e39c1cf5                         0.0   \n3  0x49654d0584e777e3f8de4f932e2d6432e39c1cf5                         0.0   \n4  0x49654d0584e777e3f8de4f932e2d6432e39c1cf5                         0.0   \n\n   target  feature_1  feature_2   feature_3   feature_4  feature_5  feature_6  \\\n0       0        1.0        1.0  188.763245  102.935135   0.339014        0.0   \n1       0        1.0        1.0  188.763245   88.076187   0.434429        0.0   \n2       0        1.0        1.0  188.763245   78.616051   0.495176        0.0   \n3       0        1.0        1.0  188.763245   67.392860   0.567245        0.0   \n4       0        1.0        1.0  188.763245   50.214287   0.677555        0.0   \n\n   feature_7  ...  feature_64  feature_65  feature_66  feature_67  feature_68  \\\n0   0.816839  ...    0.001785    0.303029    5.864956    0.733120         8.0   \n1   0.816839  ...    0.001785    0.303029    7.777018    0.864113         9.0   \n2   0.816839  ...    0.001785    0.303029    7.777018    0.777702        10.0   \n3   0.816839  ...    0.001785    0.303029    9.213414    0.837583        11.0   \n4   0.816839  ...    0.001785    0.303029   11.415947    0.951329        12.0   \n\n   feature_69  feature_70  feature_71  feature_72  feature_73  \n0         0.0         0.0         0.0    5.864956         0.0  \n1         0.0         0.0         0.0    7.777018         0.0  \n2         0.0         0.0         0.0    7.777018         0.0  \n3         0.0         0.0         0.0    9.213414         0.0  \n4         0.0         0.0         0.0   11.415947         0.0  \n\n[5 rows x 76 columns]",
      "text/html": "<div>\n<style scoped>\n    .dataframe tbody tr th:only-of-type {\n        vertical-align: middle;\n    }\n\n    .dataframe tbody tr th {\n        vertical-align: top;\n    }\n\n    .dataframe thead th {\n        text-align: right;\n    }\n</style>\n<table border=\"1\" class=\"dataframe\">\n  <thead>\n    <tr style=\"text-align: right;\">\n      <th></th>\n      <th>wallet_address</th>\n      <th>probability_of_liquidation</th>\n      <th>target</th>\n      <th>feature_1</th>\n      <th>feature_2</th>\n      <th>feature_3</th>\n      <th>feature_4</th>\n      <th>feature_5</th>\n      <th>feature_6</th>\n      <th>feature_7</th>\n      <th>...</th>\n      <th>feature_64</th>\n      <th>feature_65</th>\n      <th>feature_66</th>\n      <th>feature_67</th>\n      <th>feature_68</th>\n      <th>feature_69</th>\n      <th>feature_70</th>\n      <th>feature_71</th>\n      <th>feature_72</th>\n      <th>feature_73</th>\n    </tr>\n  </thead>\n  <tbody>\n    <tr>\n      <th>0</th>\n      <td>0x49654d0584e777e3f8de4f932e2d6432e39c1cf5</td>\n      <td>0.0</td>\n      <td>0</td>\n      <td>1.0</td>\n      <td>1.0</td>\n      <td>188.763245</td>\n      <td>102.935135</td>\n      <td>0.339014</td>\n      <td>0.0</td>\n      <td>0.816839</td>\n      <td>...</td>\n      <td>0.001785</td>\n      <td>0.303029</td>\n      <td>5.864956</td>\n      <td>0.733120</td>\n      <td>8.0</td>\n      <td>0.0</td>\n      <td>0.0</td>\n      <td>0.0</td>\n      <td>5.864956</td>\n      <td>0.0</td>\n    </tr>\n    <tr>\n      <th>1</th>\n      <td>0x49654d0584e777e3f8de4f932e2d6432e39c1cf5</td>\n      <td>0.0</td>\n      <td>0</td>\n      <td>1.0</td>\n      <td>1.0</td>\n      <td>188.763245</td>\n      <td>88.076187</td>\n      <td>0.434429</td>\n      <td>0.0</td>\n      <td>0.816839</td>\n      <td>...</td>\n      <td>0.001785</td>\n      <td>0.303029</td>\n      <td>7.777018</td>\n      <td>0.864113</td>\n      <td>9.0</td>\n      <td>0.0</td>\n      <td>0.0</td>\n      <td>0.0</td>\n      <td>7.777018</td>\n      <td>0.0</td>\n    </tr>\n    <tr>\n      <th>2</th>\n      <td>0x49654d0584e777e3f8de4f932e2d6432e39c1cf5</td>\n      <td>0.0</td>\n      <td>0</td>\n      <td>1.0</td>\n      <td>1.0</td>\n      <td>188.763245</td>\n      <td>78.616051</td>\n      <td>0.495176</td>\n      <td>0.0</td>\n      <td>0.816839</td>\n      <td>...</td>\n      <td>0.001785</td>\n      <td>0.303029</td>\n      <td>7.777018</td>\n      <td>0.777702</td>\n      <td>10.0</td>\n      <td>0.0</td>\n      <td>0.0</td>\n      <td>0.0</td>\n      <td>7.777018</td>\n      <td>0.0</td>\n    </tr>\n    <tr>\n      <th>3</th>\n      <td>0x49654d0584e777e3f8de4f932e2d6432e39c1cf5</td>\n      <td>0.0</td>\n      <td>0</td>\n      <td>1.0</td>\n      <td>1.0</td>\n      <td>188.763245</td>\n      <td>67.392860</td>\n      <td>0.567245</td>\n      <td>0.0</td>\n      <td>0.816839</td>\n      <td>...</td>\n      <td>0.001785</td>\n      <td>0.303029</td>\n      <td>9.213414</td>\n      <td>0.837583</td>\n      <td>11.0</td>\n      <td>0.0</td>\n      <td>0.0</td>\n      <td>0.0</td>\n      <td>9.213414</td>\n      <td>0.0</td>\n    </tr>\n    <tr>\n      <th>4</th>\n      <td>0x49654d0584e777e3f8de4f932e2d6432e39c1cf5</td>\n      <td>0.0</td>\n      <td>0</td>\n      <td>1.0</td>\n      <td>1.0</td>\n      <td>188.763245</td>\n      <td>50.214287</td>\n      <td>0.677555</td>\n      <td>0.0</td>\n      <td>0.816839</td>\n      <td>...</td>\n      <td>0.001785</td>\n      <td>0.303029</td>\n      <td>11.415947</td>\n      <td>0.951329</td>\n      <td>12.0</td>\n      <td>0.0</td>\n      <td>0.0</td>\n      <td>0.0</td>\n      <td>11.415947</td>\n      <td>0.0</td>\n    </tr>\n  </tbody>\n</table>\n<p>5 rows × 76 columns</p>\n</div>"
     },
     "execution_count": 30,
     "metadata": {},
     "output_type": "execute_result"
    }
   ],
   "source": [
    "submission_dataframe.head()"
   ]
  },
  {
   "cell_type": "markdown",
   "id": "216d142b70453650",
   "metadata": {
    "collapsed": false
   },
   "source": [
    "# Commit to a Model\n",
    "\n",
    "\n",
    "**Seemingly broken on 0.0.6 and 0.0.7, maybe local issue?**"
   ]
  },
  {
   "cell_type": "code",
   "execution_count": null,
   "outputs": [],
   "source": [
    "!spectral-cli commit submissions/model_1.onnx submissions/model_1_cal_data.json 0xB79CDBC5Cd94a807CC5cc761e3eF4A6B9baC8939"
   ],
   "metadata": {
    "collapsed": false
   },
   "id": "eb142b09391a175c"
  },
  {
   "cell_type": "markdown",
   "id": "2a5d3e57c4e398ab",
   "metadata": {
    "collapsed": false
   },
   "source": [
    "# Submission \n",
    "\n",
    "Ensure your cil wallet is funded\n",
    "\n",
    "\n",
    "**Also seemingly broken?**"
   ]
  },
  {
   "cell_type": "code",
   "execution_count": 32,
   "outputs": [],
   "source": [
    "# !spectral-cli commit model_1.onnx model_1_cal_data.json 0xB79CDBC5Cd94a807CC5cc761e3eF4A6B9baC8939"
   ],
   "metadata": {
    "collapsed": false,
    "ExecuteTime": {
     "end_time": "2023-11-06T19:11:29.430027Z",
     "start_time": "2023-11-06T19:11:29.427316Z"
    }
   },
   "id": "f8ad83ce8cdd5e"
  },
  {
   "cell_type": "code",
   "execution_count": 33,
   "id": "9f9d5c8d8be5195d",
   "metadata": {
    "collapsed": false,
    "ExecuteTime": {
     "end_time": "2023-11-06T19:11:29.433503Z",
     "start_time": "2023-11-06T19:11:29.429652Z"
    }
   },
   "outputs": [],
   "source": [
    "# ! spectral-cli submit-inferences 0xB79CDBC5Cd94a807CC5cc761e3eF4A6B9baC8939 submissions/submission_dataframe.parquet"
   ]
  }
 ],
 "metadata": {
  "kernelspec": {
   "display_name": "Python 3",
   "language": "python",
   "name": "python3"
  },
  "language_info": {
   "codemirror_mode": {
    "name": "ipython",
    "version": 2
   },
   "file_extension": ".py",
   "mimetype": "text/x-python",
   "name": "python",
   "nbconvert_exporter": "python",
   "pygments_lexer": "ipython2",
   "version": "3.11.3"
  }
 },
 "nbformat": 4,
 "nbformat_minor": 5
}
