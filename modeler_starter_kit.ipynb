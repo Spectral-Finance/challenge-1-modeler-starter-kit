{
 "cells": [
  {
   "cell_type": "markdown",
   "id": "1680b5e722b122ab",
   "metadata": {
    "collapsed": false
   },
   "source": [
    "# Modeler Starter Kit\n",
    "This notebook will guide you through the entire challenge lifecycle, covering everything from fetching the training data to training a model and submitting it for evaluation.\n",
    "\n",
    "There are two phases of outputs required to submit a model for evaluation:\n",
    "- Phase 1: Commit to a model with an ONNX file and a sample of this model's input data.\n",
    "- Phase 2: Generate a file that contains test set predictions and the feature values required to generate those predictions.\n",
    "\n",
    "Upon completing both phases, you will have a submission directory containing three files:\n",
    "1. `model_1.onnx`\n",
    "2. `model_1_calibration.json`\n",
    "3. `submission.parquet`"
   ]
  },
  {
   "cell_type": "markdown",
   "id": "b0b7393429d94fe3",
   "metadata": {
    "collapsed": false
   },
   "source": [
    "## Fetch Training Data\n",
    "The following code will allow you to download the training dataset for this competition using the Spectral CLI.\n",
    "\n",
    "The training dataset is a tabular file, where each row represents a borrow event at the specified timestamp. Each row contains a timestamp and Ethereum block number, the wallet address initiating the borrow transaction, a list of features (including borrower and market activity), and a binary target variable indicating if the borrower was liquidated within 30 days of the borrow event.\n",
    "\n",
    "[Refer to our data dictionary for a comprehensive list of features, their types, and descriptions.](https://docs.spectral.finance/modeler-handbook/2.-model-training/step-3-fetch-training-dataset)\n",
    "\n",
    "During testing and consumption, you will receive all values except the target variable. Your model will be evaluated on the ability to predict the target variable for each sample in your unique test set within the thirty-day window following your submission."
   ]
  },
  {
   "cell_type": "code",
   "execution_count": 1,
   "id": "e032ae5292d5fea",
   "metadata": {
    "collapsed": false,
    "ExecuteTime": {
     "end_time": "2023-12-06T14:34:55.103366Z",
     "start_time": "2023-12-06T14:34:33.451244Z"
    }
   },
   "outputs": [
    {
     "name": "stdout",
     "output_type": "stream",
     "text": [
      "100%|███████████████████████████████████████| 111M/111M [00:17<00:00, 6.26MiB/s]\r\n",
      "Training dataset successfully downloaded!\r\n"
     ]
    }
   ],
   "source": [
    "# Download Training Data\n",
    "!spectral-cli fetch-training-data 0xFDC1BE05aD924e6Fc4Ab2c6443279fF7C0AB5544"
   ]
  },
  {
   "cell_type": "markdown",
   "id": "c8201b5a34215e1b",
   "metadata": {
    "collapsed": false
   },
   "source": [
    "This file should be around 110MB. If your download is a few kb in size, try using a VPN, as IPFS is sometimes blocked by certain internet service providers."
   ]
  },
  {
   "cell_type": "markdown",
   "id": "665c55cfee641ca8",
   "metadata": {
    "collapsed": false
   },
   "source": [
    "Examine a subset of the dataset"
   ]
  },
  {
   "cell_type": "code",
   "execution_count": 2,
   "id": "61ccd97507a633f9",
   "metadata": {
    "collapsed": false,
    "ExecuteTime": {
     "end_time": "2023-12-06T14:42:35.602401Z",
     "start_time": "2023-12-06T14:42:35.131610Z"
    }
   },
   "outputs": [
    {
     "data": {
      "text/plain": "   borrow_block_number  borrow_timestamp  \\\n0              7711117      1.557197e+09   \n1              7711123      1.557197e+09   \n2              7711126      1.557197e+09   \n3              7711672      1.557205e+09   \n4              7712572      1.557217e+09   \n5              7715069      1.557250e+09   \n6              7715078      1.557251e+09   \n7              7715985      1.557263e+09   \n8              7716888      1.557276e+09   \n9              7717003      1.557277e+09   \n\n                               wallet_address  first_tx_timestamp  \\\n0  0x502cb8985b2c92a8d4bf309cdaa89de9be442708        1.537224e+09   \n1  0x502cb8985b2c92a8d4bf309cdaa89de9be442708        1.537224e+09   \n2  0x502cb8985b2c92a8d4bf309cdaa89de9be442708        1.537224e+09   \n3  0xa7ff0d561cd15ed525e31bbe0af3fe34ac2059f6        1.557191e+09   \n4  0xbd9ed130a53cfafcf81502e4d35329a6c4d53410        1.557217e+09   \n5  0x502cb8985b2c92a8d4bf309cdaa89de9be442708        1.537224e+09   \n6  0x502cb8985b2c92a8d4bf309cdaa89de9be442708        1.537224e+09   \n7  0x502cb8985b2c92a8d4bf309cdaa89de9be442708        1.537224e+09   \n8  0x502cb8985b2c92a8d4bf309cdaa89de9be442708        1.537224e+09   \n9  0x502cb8985b2c92a8d4bf309cdaa89de9be442708        1.537224e+09   \n\n   last_tx_timestamp  wallet_age  incoming_tx_count  outgoing_tx_count  \\\n0       1.557197e+09  19973049.0                200                439   \n1       1.557197e+09  19973188.0                201                440   \n2       1.557197e+09  19973238.0                201                441   \n3       1.557198e+09     13922.0                  8                 56   \n4       1.557217e+09       264.0                  2                  3   \n5       1.557197e+09  20026227.0                202                442   \n6       1.557250e+09  20026372.0                204                443   \n7       1.557263e+09  20038980.0                206                447   \n8       1.557275e+09  20051321.0                208                451   \n9       1.557276e+09  20053223.0                208                452   \n\n   net_incoming_tx_count  total_gas_paid_eth  ...  market_max_drawdown_365d  \\\n0                   -239            0.397391  ...                 -0.895911   \n1                   -239            0.399063  ...                 -0.895911   \n2                   -240            0.400895  ...                 -0.895911   \n3                    -48            0.604001  ...                 -0.895911   \n4                     -1            0.003008  ...                 -0.895911   \n5                   -240            0.402533  ...                 -0.895911   \n6                   -239            0.404220  ...                 -0.895911   \n7                   -241            0.406736  ...                 -0.895911   \n8                   -243            0.410259  ...                 -0.893019   \n9                   -244            0.411663  ...                 -0.893019   \n\n   market_natr  market_plus_di  market_plus_dm  market_ppo  market_rocp  \\\n0     4.479356       33.216622       33.415526   -2.370346     0.104294   \n1     4.479356       33.216622       33.415526   -2.370346     0.104294   \n2     4.479356       33.216622       33.415526   -2.370346     0.104294   \n3     4.479356       33.216622       33.415526   -2.370346     0.104294   \n4     4.479356       33.216622       33.415526   -2.370346     0.104294   \n5     4.479356       33.216622       33.415526   -2.370346     0.104294   \n6     4.479356       33.216622       33.415526   -2.370346     0.104294   \n7     4.479356       33.216622       33.415526   -2.370346     0.104294   \n8     4.579614       34.254180       35.663011   -1.694858     0.071725   \n9     4.579614       34.254180       35.663011   -1.694858     0.071725   \n\n   market_rocr  unique_borrow_protocol_count  unique_lending_protocol_count  \\\n0     1.104294                             0                              1   \n1     1.104294                             1                              1   \n2     1.104294                             1                              1   \n3     1.104294                             0                              1   \n4     1.104294                             0                              1   \n5     1.104294                             1                              1   \n6     1.104294                             1                              1   \n7     1.104294                             1                              1   \n8     1.071725                             1                              1   \n9     1.071725                             1                              1   \n\n   target  \n0       1  \n1       1  \n2       1  \n3       0  \n4       0  \n5       1  \n6       1  \n7       1  \n8       1  \n9       1  \n\n[10 rows x 78 columns]",
      "text/html": "<div>\n<style scoped>\n    .dataframe tbody tr th:only-of-type {\n        vertical-align: middle;\n    }\n\n    .dataframe tbody tr th {\n        vertical-align: top;\n    }\n\n    .dataframe thead th {\n        text-align: right;\n    }\n</style>\n<table border=\"1\" class=\"dataframe\">\n  <thead>\n    <tr style=\"text-align: right;\">\n      <th></th>\n      <th>borrow_block_number</th>\n      <th>borrow_timestamp</th>\n      <th>wallet_address</th>\n      <th>first_tx_timestamp</th>\n      <th>last_tx_timestamp</th>\n      <th>wallet_age</th>\n      <th>incoming_tx_count</th>\n      <th>outgoing_tx_count</th>\n      <th>net_incoming_tx_count</th>\n      <th>total_gas_paid_eth</th>\n      <th>...</th>\n      <th>market_max_drawdown_365d</th>\n      <th>market_natr</th>\n      <th>market_plus_di</th>\n      <th>market_plus_dm</th>\n      <th>market_ppo</th>\n      <th>market_rocp</th>\n      <th>market_rocr</th>\n      <th>unique_borrow_protocol_count</th>\n      <th>unique_lending_protocol_count</th>\n      <th>target</th>\n    </tr>\n  </thead>\n  <tbody>\n    <tr>\n      <th>0</th>\n      <td>7711117</td>\n      <td>1.557197e+09</td>\n      <td>0x502cb8985b2c92a8d4bf309cdaa89de9be442708</td>\n      <td>1.537224e+09</td>\n      <td>1.557197e+09</td>\n      <td>19973049.0</td>\n      <td>200</td>\n      <td>439</td>\n      <td>-239</td>\n      <td>0.397391</td>\n      <td>...</td>\n      <td>-0.895911</td>\n      <td>4.479356</td>\n      <td>33.216622</td>\n      <td>33.415526</td>\n      <td>-2.370346</td>\n      <td>0.104294</td>\n      <td>1.104294</td>\n      <td>0</td>\n      <td>1</td>\n      <td>1</td>\n    </tr>\n    <tr>\n      <th>1</th>\n      <td>7711123</td>\n      <td>1.557197e+09</td>\n      <td>0x502cb8985b2c92a8d4bf309cdaa89de9be442708</td>\n      <td>1.537224e+09</td>\n      <td>1.557197e+09</td>\n      <td>19973188.0</td>\n      <td>201</td>\n      <td>440</td>\n      <td>-239</td>\n      <td>0.399063</td>\n      <td>...</td>\n      <td>-0.895911</td>\n      <td>4.479356</td>\n      <td>33.216622</td>\n      <td>33.415526</td>\n      <td>-2.370346</td>\n      <td>0.104294</td>\n      <td>1.104294</td>\n      <td>1</td>\n      <td>1</td>\n      <td>1</td>\n    </tr>\n    <tr>\n      <th>2</th>\n      <td>7711126</td>\n      <td>1.557197e+09</td>\n      <td>0x502cb8985b2c92a8d4bf309cdaa89de9be442708</td>\n      <td>1.537224e+09</td>\n      <td>1.557197e+09</td>\n      <td>19973238.0</td>\n      <td>201</td>\n      <td>441</td>\n      <td>-240</td>\n      <td>0.400895</td>\n      <td>...</td>\n      <td>-0.895911</td>\n      <td>4.479356</td>\n      <td>33.216622</td>\n      <td>33.415526</td>\n      <td>-2.370346</td>\n      <td>0.104294</td>\n      <td>1.104294</td>\n      <td>1</td>\n      <td>1</td>\n      <td>1</td>\n    </tr>\n    <tr>\n      <th>3</th>\n      <td>7711672</td>\n      <td>1.557205e+09</td>\n      <td>0xa7ff0d561cd15ed525e31bbe0af3fe34ac2059f6</td>\n      <td>1.557191e+09</td>\n      <td>1.557198e+09</td>\n      <td>13922.0</td>\n      <td>8</td>\n      <td>56</td>\n      <td>-48</td>\n      <td>0.604001</td>\n      <td>...</td>\n      <td>-0.895911</td>\n      <td>4.479356</td>\n      <td>33.216622</td>\n      <td>33.415526</td>\n      <td>-2.370346</td>\n      <td>0.104294</td>\n      <td>1.104294</td>\n      <td>0</td>\n      <td>1</td>\n      <td>0</td>\n    </tr>\n    <tr>\n      <th>4</th>\n      <td>7712572</td>\n      <td>1.557217e+09</td>\n      <td>0xbd9ed130a53cfafcf81502e4d35329a6c4d53410</td>\n      <td>1.557217e+09</td>\n      <td>1.557217e+09</td>\n      <td>264.0</td>\n      <td>2</td>\n      <td>3</td>\n      <td>-1</td>\n      <td>0.003008</td>\n      <td>...</td>\n      <td>-0.895911</td>\n      <td>4.479356</td>\n      <td>33.216622</td>\n      <td>33.415526</td>\n      <td>-2.370346</td>\n      <td>0.104294</td>\n      <td>1.104294</td>\n      <td>0</td>\n      <td>1</td>\n      <td>0</td>\n    </tr>\n    <tr>\n      <th>5</th>\n      <td>7715069</td>\n      <td>1.557250e+09</td>\n      <td>0x502cb8985b2c92a8d4bf309cdaa89de9be442708</td>\n      <td>1.537224e+09</td>\n      <td>1.557197e+09</td>\n      <td>20026227.0</td>\n      <td>202</td>\n      <td>442</td>\n      <td>-240</td>\n      <td>0.402533</td>\n      <td>...</td>\n      <td>-0.895911</td>\n      <td>4.479356</td>\n      <td>33.216622</td>\n      <td>33.415526</td>\n      <td>-2.370346</td>\n      <td>0.104294</td>\n      <td>1.104294</td>\n      <td>1</td>\n      <td>1</td>\n      <td>1</td>\n    </tr>\n    <tr>\n      <th>6</th>\n      <td>7715078</td>\n      <td>1.557251e+09</td>\n      <td>0x502cb8985b2c92a8d4bf309cdaa89de9be442708</td>\n      <td>1.537224e+09</td>\n      <td>1.557250e+09</td>\n      <td>20026372.0</td>\n      <td>204</td>\n      <td>443</td>\n      <td>-239</td>\n      <td>0.404220</td>\n      <td>...</td>\n      <td>-0.895911</td>\n      <td>4.479356</td>\n      <td>33.216622</td>\n      <td>33.415526</td>\n      <td>-2.370346</td>\n      <td>0.104294</td>\n      <td>1.104294</td>\n      <td>1</td>\n      <td>1</td>\n      <td>1</td>\n    </tr>\n    <tr>\n      <th>7</th>\n      <td>7715985</td>\n      <td>1.557263e+09</td>\n      <td>0x502cb8985b2c92a8d4bf309cdaa89de9be442708</td>\n      <td>1.537224e+09</td>\n      <td>1.557263e+09</td>\n      <td>20038980.0</td>\n      <td>206</td>\n      <td>447</td>\n      <td>-241</td>\n      <td>0.406736</td>\n      <td>...</td>\n      <td>-0.895911</td>\n      <td>4.479356</td>\n      <td>33.216622</td>\n      <td>33.415526</td>\n      <td>-2.370346</td>\n      <td>0.104294</td>\n      <td>1.104294</td>\n      <td>1</td>\n      <td>1</td>\n      <td>1</td>\n    </tr>\n    <tr>\n      <th>8</th>\n      <td>7716888</td>\n      <td>1.557276e+09</td>\n      <td>0x502cb8985b2c92a8d4bf309cdaa89de9be442708</td>\n      <td>1.537224e+09</td>\n      <td>1.557275e+09</td>\n      <td>20051321.0</td>\n      <td>208</td>\n      <td>451</td>\n      <td>-243</td>\n      <td>0.410259</td>\n      <td>...</td>\n      <td>-0.893019</td>\n      <td>4.579614</td>\n      <td>34.254180</td>\n      <td>35.663011</td>\n      <td>-1.694858</td>\n      <td>0.071725</td>\n      <td>1.071725</td>\n      <td>1</td>\n      <td>1</td>\n      <td>1</td>\n    </tr>\n    <tr>\n      <th>9</th>\n      <td>7717003</td>\n      <td>1.557277e+09</td>\n      <td>0x502cb8985b2c92a8d4bf309cdaa89de9be442708</td>\n      <td>1.537224e+09</td>\n      <td>1.557276e+09</td>\n      <td>20053223.0</td>\n      <td>208</td>\n      <td>452</td>\n      <td>-244</td>\n      <td>0.411663</td>\n      <td>...</td>\n      <td>-0.893019</td>\n      <td>4.579614</td>\n      <td>34.254180</td>\n      <td>35.663011</td>\n      <td>-1.694858</td>\n      <td>0.071725</td>\n      <td>1.071725</td>\n      <td>1</td>\n      <td>1</td>\n      <td>1</td>\n    </tr>\n  </tbody>\n</table>\n<p>10 rows × 78 columns</p>\n</div>"
     },
     "execution_count": 2,
     "metadata": {},
     "output_type": "execute_result"
    }
   ],
   "source": [
    "import duckdb\n",
    "# DuckDB is an In-process SQL OLAP database management system.\n",
    "# The .df() method converts the result of a query to a pandas dataframe\n",
    "\n",
    "# All datasets in this challenge are parquet files, which are both natively compressed and queryable.\n",
    "# This means you can use SQL to query the data without loading the entire dataset into memory,\n",
    "# or you may use read_parquet() in pandas or polars as you would with a csv file.\n",
    "\n",
    "duckdb.query((f\"\"\"\n",
    "select * from '{'0xFDC1BE05aD924e6Fc4Ab2c6443279fF7C0AB5544_training_data.parquet'}' limit 10\n",
    "\"\"\")).df()"
   ]
  },
  {
   "cell_type": "markdown",
   "id": "381973f7a440e1c1",
   "metadata": {
    "collapsed": false
   },
   "source": [
    "You can choose any subset of the data above to train your model. We guarantee the availability of this data throughout the challenge lifespan. You also have the option to supplement this set with external data; however, you are responsible for hosting and serving external data during testing and consumption."
   ]
  },
  {
   "cell_type": "markdown",
   "id": "bbd842b1cf28d677",
   "metadata": {
    "collapsed": false
   },
   "source": [
    "## Exploratory Data Analysis\n",
    "\n",
    "Feel free to utilize any tools of your choice for data exploration and feature generation.\n",
    "\n",
    "As an illustration, let's focus on the `max_risk_factor` feature. We'll inspect potential outliers, consider removing those samples, and explore correlated features.\n",
    "\n",
    "A borrower's `risk_factor` is defined as 1 divided by their minimum health factor across DeFi protocols.\n",
    "\n",
    "For more information on health factors, refer to Aave's documentation [here](https://docs.aave.com/risk/v/aave-v2/asset-risk/risk-parameters#health-factor)."
   ]
  },
  {
   "cell_type": "code",
   "execution_count": 3,
   "id": "a2588fd7f7802985",
   "metadata": {
    "collapsed": false,
    "ExecuteTime": {
     "end_time": "2023-12-06T14:42:37.903054Z",
     "start_time": "2023-12-06T14:42:37.174977Z"
    }
   },
   "outputs": [
    {
     "data": {
      "text/plain": "count    4.406890e+05\nmean     2.885612e+08\nstd      3.237624e+10\nmin      0.000000e+00\n25%      2.947943e-01\n50%      7.542835e-01\n75%      9.113818e-01\nmax      3.633082e+12\nName: max_risk_factor, dtype: float64"
     },
     "execution_count": 3,
     "metadata": {},
     "output_type": "execute_result"
    }
   ],
   "source": [
    "training_dataframe = duckdb.query((f\"\"\"\n",
    "select * from '{'0xFDC1BE05aD924e6Fc4Ab2c6443279fF7C0AB5544_training_data.parquet'}'\n",
    "\"\"\")).df()\n",
    "training_dataframe['max_risk_factor'].describe()"
   ]
  },
  {
   "cell_type": "markdown",
   "id": "d41ba80974e514dc",
   "metadata": {
    "collapsed": false
   },
   "source": [
    "The max value for all samples listed above is significantly higher than the majority. A risk factor over one is uncommon, so a value this large could be attributed to highly irregular on-chain actions, data fetching errors, or dataset construction errors.\n",
    "\n",
    "\n",
    "Let's investigate samples with high values of this feature."
   ]
  },
  {
   "cell_type": "code",
   "execution_count": 4,
   "id": "e99f56b514ba5b06",
   "metadata": {
    "collapsed": false,
    "ExecuteTime": {
     "end_time": "2023-12-06T14:42:38.519370Z",
     "start_time": "2023-12-06T14:42:38.487946Z"
    }
   },
   "outputs": [
    {
     "data": {
      "text/plain": "   count_of_unique_addresses_with_unusually_high_risk_factors\n0                                                 61         ",
      "text/html": "<div>\n<style scoped>\n    .dataframe tbody tr th:only-of-type {\n        vertical-align: middle;\n    }\n\n    .dataframe tbody tr th {\n        vertical-align: top;\n    }\n\n    .dataframe thead th {\n        text-align: right;\n    }\n</style>\n<table border=\"1\" class=\"dataframe\">\n  <thead>\n    <tr style=\"text-align: right;\">\n      <th></th>\n      <th>count_of_unique_addresses_with_unusually_high_risk_factors</th>\n    </tr>\n  </thead>\n  <tbody>\n    <tr>\n      <th>0</th>\n      <td>61</td>\n    </tr>\n  </tbody>\n</table>\n</div>"
     },
     "execution_count": 4,
     "metadata": {},
     "output_type": "execute_result"
    }
   ],
   "source": [
    "# Count addresses with unusually high risk factors\n",
    "duckdb.query((f\"\"\"\n",
    "select count(distinct(wallet_address)) as count_of_unique_addresses_with_unusually_high_risk_factors \n",
    "from '{'0xFDC1BE05aD924e6Fc4Ab2c6443279fF7C0AB5544_training_data.parquet'}'\n",
    "where max_risk_factor > 100\n",
    "\"\"\")).df()"
   ]
  },
  {
   "cell_type": "markdown",
   "id": "b176b8a0293d6890",
   "metadata": {
    "collapsed": false
   },
   "source": [
    "There are only 61 addresses an unreasonably high value; let's remove all samples with a risk factor over 100 from training."
   ]
  },
  {
   "cell_type": "code",
   "execution_count": 5,
   "id": "b26794e3943356d8",
   "metadata": {
    "collapsed": false,
    "ExecuteTime": {
     "end_time": "2023-12-06T14:42:39.767341Z",
     "start_time": "2023-12-06T14:42:39.118596Z"
    }
   },
   "outputs": [
    {
     "data": {
      "text/plain": "count    438906.000000\nmean          0.778140\nstd           2.283952\nmin           0.000000\n25%           0.287379\n50%           0.752146\n75%           0.909115\nmax          86.364163\nName: max_risk_factor, dtype: float64"
     },
     "execution_count": 5,
     "metadata": {},
     "output_type": "execute_result"
    }
   ],
   "source": [
    "# Remove samples with risk factor over 100\n",
    "training_dataframe = duckdb.query((f\"\"\"\n",
    "select * from '{'0xFDC1BE05aD924e6Fc4Ab2c6443279fF7C0AB5544_training_data.parquet'}'\n",
    "where max_risk_factor < 100\n",
    "\"\"\")).df()\n",
    "training_dataframe['max_risk_factor'].describe()"
   ]
  },
  {
   "cell_type": "markdown",
   "id": "45ca4f2f6a8f1e10",
   "metadata": {
    "collapsed": false
   },
   "source": [
    "A risk factor of 86 is still highly unusual, but we will leave it in for now as this is only an example."
   ]
  },
  {
   "cell_type": "markdown",
   "id": "ba2bfaf4526b19bf",
   "metadata": {
    "collapsed": false
   },
   "source": [
    "It's beneficial to visualize data when familiarizing yourself with it. Let's examine a few features together. We will look at the correlation between `withdraw_deposit_diff_If_positive_eth`, `withdraw_amount_sum_eth`, and `deposit_amount_sum_eth`.\n",
    "\n",
    "These DeFi features represent the total amount withdrawn converted to ETH (see our [data dictionary's disclaimers](https://docs.spectral.finance/modeler-handbook/2.-model-training/step-3-fetch-training-dataset)), total amount deposited converted to ETH, and the difference between the two.\n",
    "\n"
   ]
  },
  {
   "cell_type": "code",
   "execution_count": 6,
   "id": "607fd60bd0291df1",
   "metadata": {
    "collapsed": false,
    "ExecuteTime": {
     "end_time": "2023-12-06T14:42:40.557231Z",
     "start_time": "2023-12-06T14:42:40.307280Z"
    }
   },
   "outputs": [
    {
     "data": {
      "text/plain": "<Figure size 640x480 with 2 Axes>",
      "image/png": "[encoded data removed]"
     },
     "metadata": {},
     "output_type": "display_data"
    }
   ],
   "source": [
    "import matplotlib.pyplot as mp \n",
    "import seaborn as sb\n",
    "\n",
    "dataplot = sb.heatmap(training_dataframe[['withdraw_deposit_diff_If_positive_eth',\n",
    "                                          'withdraw_amount_sum_eth',\n",
    "                                          'deposit_amount_sum_eth' ]].corr(), annot=True) \n",
    "mp.show() "
   ]
  },
  {
   "cell_type": "markdown",
   "id": "11216ac3f0af75dd",
   "metadata": {
    "collapsed": false
   },
   "source": [
    "These features represent actions on opposite ends of the lending lifecycle, so we could reasonably expect there to be some correlation for many samples.\n",
    "\n",
    "Since `withdraw_amount_sum_eth` and `deposit_amount_sum_eth` are highly correlated, let's drop `withdraw_amount_sum_eth` from our training set. In practice, explore the correlation between other features and understand the reasons behind their correlation or lack thereof."
   ]
  },
  {
   "cell_type": "markdown",
   "source": [
    "We should also look at the target definition and distribution in this dataset. \n",
    "\n",
    "As a reminder, our `target` is 1 if the borrower was liquidated within 30 days of the borrow event or if the borrower's `risk_factor` went above the threshold of (1/1.2) on the first block of any day in this 30-day window.\n",
    "\n",
    "For example, consider Alice, who borrowed token A on January 1st using token B as collateral. On January 10th, a significant change in the price of token B caused Alice's `risk_factor` to reach (1/1.1) for 36 hours. There was no liquidation event during this period, but because Alice's risk factor was above the threshold of (1/1.2) on the first block of the day, her target variable is 1.\n"
   ],
   "metadata": {
    "collapsed": false
   },
   "id": "c96307d5b2c6b050"
  },
  {
   "cell_type": "code",
   "execution_count": 7,
   "outputs": [
    {
     "data": {
      "text/plain": "target\n0    271836\n1    167070\nName: count, dtype: int64"
     },
     "execution_count": 7,
     "metadata": {},
     "output_type": "execute_result"
    }
   ],
   "source": [
    "training_dataframe = duckdb.query((f\"\"\"\n",
    "select * from '{'0xFDC1BE05aD924e6Fc4Ab2c6443279fF7C0AB5544_training_data.parquet'}'\n",
    "where max_risk_factor < 100\n",
    "\"\"\")).df().drop(columns=['withdraw_amount_sum_eth'], inplace=False)\n",
    "\n",
    "training_dataframe['target'].value_counts()"
   ],
   "metadata": {
    "collapsed": false,
    "ExecuteTime": {
     "end_time": "2023-12-06T14:42:42.282544Z",
     "start_time": "2023-12-06T14:42:41.643161Z"
    }
   },
   "id": "fc2332c64291e0c7"
  },
  {
   "cell_type": "markdown",
   "source": [
    "You can see that this dataset is imbalanced, with around 38% of targets equal to 1. This is expected, as the majority of borrowers are not liquidated within 30 days of borrowing.\n",
    "\n",
    "When making inferences on the test set, you will predict if the borrower is liquidated (using the definition above) in the next 30 days. "
   ],
   "metadata": {
    "collapsed": false
   },
   "id": "454c09f877d810e0"
  },
  {
   "cell_type": "markdown",
   "id": "a3272d11c57031c8",
   "metadata": {
    "collapsed": false
   },
   "source": [
    "For this example we'll conclude our analysis and proceed to modeling. During the challenge, spend time exploring the data and generating features. There is ample exciting on-chain activity that could be used for feature generation, and we encourage you to be creative.\n",
    "\n",
    "Features derived from activity on other lending protocols, other chains, non-fungible token value, and decentralized exchange positions have proven relevant in our previous work. Want to discuss with other modelers and our team? Join our [Discord](https://discord.gg/Z9ESSwy)."
   ]
  },
  {
   "cell_type": "markdown",
   "id": "8bc50f29efb96b25",
   "metadata": {
    "collapsed": false
   },
   "source": [
    "## Modeling\n",
    "\n",
    "**The only supported models for this challenge are:**\n",
    "- Neural networks using **PyTorch** (excluding recurrent neural networks, e.g., LSTM)\n",
    "- Logistic regression using PyTorch\n",
    "\n",
    "**Important Note: If you use a model that does not meet the criteria mentioned above, you won't be able to participate in this challenge.**\n",
    "\n",
    "Popular choices such as **XGBoost** and **CatBoost** are not supported at this time due to constrains of the zkML library. Additionally, **scikit-learn** and **TensorFlow** are not supported at this time."
   ]
  },
  {
   "cell_type": "markdown",
   "id": "52172e2fcd26e285",
   "metadata": {
    "collapsed": false
   },
   "source": [
    "### Train a Neural Network using the Provided Dataset\n",
    "\n",
    "The following example model is for illustrative purposes only and is not intended to achieve high placement in this challenge. Avoid making assumptions based on this model regarding the approach to the problem.\n",
    "\n",
    "\n",
    "\n",
    "In particular, refrain from assuming:\n",
    "- Anything about the relevance of features and samples dropped earlier.\n",
    "- That ReLU is the ideal activation function or any other architecture specifics defined herein."
   ]
  },
  {
   "cell_type": "code",
   "execution_count": 8,
   "id": "8eb47db470503e9",
   "metadata": {
    "collapsed": false,
    "ExecuteTime": {
     "end_time": "2023-12-06T14:42:49.198671Z",
     "start_time": "2023-12-06T14:42:44.591820Z"
    }
   },
   "outputs": [],
   "source": [
    "import pandas as pd\n",
    "import numpy as np\n",
    "from sklearn.preprocessing import StandardScaler\n",
    "from sklearn.model_selection import train_test_split\n",
    "import torch\n",
    "import torch.nn as nn\n",
    "import torch.optim as optim\n",
    "from torch.utils.data import DataLoader\n",
    "import json\n",
    "from tqdm.auto import tqdm\n",
    "import time\n",
    "from timeit import default_timer as timer \n",
    "import random\n",
    "import os\n",
    "\n",
    "# Spectral Helpers (see helpers folder for more details on any of these\n",
    "from helpers.modeling import (TestData, TrainData, StratifiedBatchSampler,\n",
    "                              print_train_time, auc_fn, auroc_fn, auc_pr_fn,\n",
    "                              brier_fn, ks_fn, recall_fn, prob_diff_fn, f1_score_fn,\n",
    "                              train_step, test_step, eval_model, plot_loss_curves,\n",
    "                              ValidationLossEarlyStopping)\n",
    "\n",
    "# for reproducible results\n",
    "random_seed = 42\n",
    "np.random.seed(random_seed)\n",
    "torch.manual_seed(random_seed)\n",
    "torch.use_deterministic_algorithms(True, warn_only=True)\n",
    "torch.backends.cudnn.determenistic=True\n",
    "\n",
    "random.seed(random_seed)\n",
    "def seed_worker():\n",
    "    worker_seed = random_seed\n",
    "    np.random.seed(worker_seed)\n",
    "    random.seed(worker_seed)\n",
    "g = torch.Generator()\n",
    "g.manual_seed(random_seed)\n",
    "\n",
    "#specifically required for reproducibility with CuBLABS and CUDA\n",
    "os.environ[\"CUBLAS_WORKSPACE_CONFIG\"] = \":4096:8\" \n",
    "os.environ[\"PYTHONHASHSEED\"] = str(random_seed)"
   ]
  },
  {
   "cell_type": "markdown",
   "id": "af8fcfbb734be3e3",
   "metadata": {
    "collapsed": false
   },
   "source": [
    "Realtime features are not yet available, so we'll use the same training dataset we defined above, and split it into training and testing sets."
   ]
  },
  {
   "cell_type": "code",
   "execution_count": 9,
   "outputs": [],
   "source": [
    "# Start by loading our training data\n",
    "import duckdb\n",
    "training_dataframe = duckdb.query((f\"\"\"\n",
    "select * from '{'0xFDC1BE05aD924e6Fc4Ab2c6443279fF7C0AB5544_training_data.parquet'}'\n",
    "where max_risk_factor < 100\n",
    "\"\"\")).df().drop(columns=['withdraw_amount_sum_eth'], inplace=False)"
   ],
   "metadata": {
    "collapsed": false,
    "ExecuteTime": {
     "end_time": "2023-12-06T14:42:54.896192Z",
     "start_time": "2023-12-06T14:42:54.214313Z"
    }
   },
   "id": "1e5ff04ee4140400"
  },
  {
   "cell_type": "code",
   "execution_count": 10,
   "id": "2cf01e507633537",
   "metadata": {
    "collapsed": false,
    "ExecuteTime": {
     "end_time": "2023-12-06T14:42:55.369705Z",
     "start_time": "2023-12-06T14:42:55.362485Z"
    }
   },
   "outputs": [],
   "source": [
    "# We're going to hold out ~10K samples for \"real-time\" testing while data API is down\n",
    "example_testing_samples = training_dataframe[-10_000:].drop_duplicates(subset=['wallet_address'], keep='first').reset_index(drop=True)\n",
    "training_dataframe = training_dataframe[:-10_000]"
   ]
  },
  {
   "cell_type": "code",
   "execution_count": 11,
   "id": "5068158ad351cca9",
   "metadata": {
    "collapsed": false,
    "ExecuteTime": {
     "end_time": "2023-12-06T14:42:56.286537Z",
     "start_time": "2023-12-06T14:42:55.835054Z"
    }
   },
   "outputs": [],
   "source": [
    "training_cols = list(training_dataframe.columns.drop(\n",
    "    ['borrow_timestamp', 'wallet_address', 'borrow_block_number', 'target']))\n",
    "\n",
    "X_train, X_test, y_train, y_test = train_test_split(training_dataframe[training_cols].to_numpy(),\n",
    "                                                    training_dataframe['target'].to_numpy(),\n",
    "                                                    test_size=0.2,\n",
    "                                                    random_state=random_seed)\n",
    "\n",
    "# Note that if you scale your training data, you must scale the test data in the same way\n",
    "sc = StandardScaler()\n",
    "X_train_scaled = sc.fit_transform(X_train)\n",
    "X_test_scaled = sc.transform(X_test)"
   ]
  },
  {
   "cell_type": "code",
   "execution_count": 12,
   "id": "743a9250c6387446",
   "metadata": {
    "collapsed": false,
    "ExecuteTime": {
     "end_time": "2023-12-06T14:42:56.475439Z",
     "start_time": "2023-12-06T14:42:56.444498Z"
    }
   },
   "outputs": [],
   "source": [
    "train_data = TrainData(torch.from_numpy(X_train_scaled).type(torch.float),\n",
    "                       torch.from_numpy(y_train).type(torch.float))\n",
    "\n",
    "test_data = TestData(torch.from_numpy(X_test_scaled).type(torch.float),\n",
    "                     torch.from_numpy(y_test).type(torch.float))"
   ]
  },
  {
   "cell_type": "code",
   "execution_count": 13,
   "id": "3abb51b7117f6398",
   "metadata": {
    "collapsed": false,
    "ExecuteTime": {
     "end_time": "2023-12-06T14:42:56.830646Z",
     "start_time": "2023-12-06T14:42:56.823868Z"
    }
   },
   "outputs": [
    {
     "name": "stdout",
     "output_type": "stream",
     "text": [
      "Dataloaders: (<torch.utils.data.dataloader.DataLoader object at 0x2a7921150>, <torch.utils.data.dataloader.DataLoader object at 0x2a7907110>)\n",
      "Length of train dataloader: 101 batches of 3431\n",
      "Length of test dataloader: 26 batches of 3431\n",
      "Using number of workers: 0\n"
     ]
    }
   ],
   "source": [
    "NUM_WORKERS = 0 # use all available CPU cores with os.cpu_count(), if possible\n",
    "BATCH_SIZE = int(X_train.shape[0]/100) # ~1% of the training data\n",
    "\n",
    "# initialize DataLoaders\n",
    "train_dataloader = DataLoader(dataset=train_data,\n",
    "                              batch_sampler=StratifiedBatchSampler(torch.tensor(y_train), batch_size=BATCH_SIZE), \n",
    "                              worker_init_fn=seed_worker, \n",
    "                              generator=g,\n",
    "                              num_workers=NUM_WORKERS)\n",
    "test_dataloader = DataLoader(dataset=test_data, \n",
    "                             batch_size=BATCH_SIZE,\n",
    "                             shuffle=False,\n",
    "                             worker_init_fn=seed_worker,\n",
    "                             generator=g,\n",
    "                             num_workers=NUM_WORKERS)\n",
    "\n",
    "print(f'Dataloaders: {train_dataloader, test_dataloader}') \n",
    "print(f'Length of train dataloader: {len(train_dataloader)} batches of {BATCH_SIZE}')\n",
    "print(f'Length of test dataloader: {len(test_dataloader)} batches of {BATCH_SIZE}')\n",
    "print(f'Using number of workers: {NUM_WORKERS}')"
   ]
  },
  {
   "cell_type": "code",
   "execution_count": 14,
   "id": "4643ba2c1c96fa8",
   "metadata": {
    "collapsed": false,
    "ExecuteTime": {
     "end_time": "2023-12-06T14:42:57.324271Z",
     "start_time": "2023-12-06T14:42:57.186863Z"
    }
   },
   "outputs": [
    {
     "data": {
      "text/plain": "(torch.Size([3398, 73]), torch.Size([3398]))"
     },
     "execution_count": 14,
     "metadata": {},
     "output_type": "execute_result"
    }
   ],
   "source": [
    "# Check out what's inside the training dataloader\n",
    "train_features_batch, train_labels_batch = next(iter(train_dataloader))\n",
    "train_features_batch.shape, train_labels_batch.shape"
   ]
  },
  {
   "cell_type": "code",
   "execution_count": 15,
   "id": "50185f943de2a042",
   "metadata": {
    "collapsed": false,
    "ExecuteTime": {
     "end_time": "2023-12-06T14:42:57.935432Z",
     "start_time": "2023-12-06T14:42:57.927895Z"
    }
   },
   "outputs": [
    {
     "data": {
      "text/plain": "(torch.Size([3431, 73]), torch.Size([3431]))"
     },
     "execution_count": 15,
     "metadata": {},
     "output_type": "execute_result"
    }
   ],
   "source": [
    "# Check out what's inside the testing dataloader\n",
    "test_features_batch, test_labels_batch = next(iter(test_dataloader))\n",
    "test_features_batch.shape, test_labels_batch.shape"
   ]
  },
  {
   "cell_type": "code",
   "execution_count": 16,
   "id": "46e017e2f60e6a78",
   "metadata": {
    "collapsed": false,
    "ExecuteTime": {
     "end_time": "2023-12-06T14:42:58.466595Z",
     "start_time": "2023-12-06T14:42:58.457568Z"
    }
   },
   "outputs": [
    {
     "data": {
      "text/plain": "device(type='cpu')"
     },
     "execution_count": 16,
     "metadata": {},
     "output_type": "execute_result"
    }
   ],
   "source": [
    "device = torch.device('cuda' if torch.cuda.is_available() else 'cpu')\n",
    "device"
   ]
  },
  {
   "cell_type": "markdown",
   "id": "a05f73952909054b",
   "metadata": {
    "collapsed": false
   },
   "source": [
    "### Define an Example Model\n",
    "Here, we define an example model, `PredictLiquidationsV1`, for predicting liquidations using PyTorch. Note that the final layer employs a sigmoid activation function to output the probability of liquidation."
   ]
  },
  {
   "cell_type": "code",
   "execution_count": 17,
   "id": "70cf4c484410b95f",
   "metadata": {
    "collapsed": false,
    "ExecuteTime": {
     "end_time": "2023-12-06T14:42:59.959855Z",
     "start_time": "2023-12-06T14:42:59.941121Z"
    }
   },
   "outputs": [
    {
     "data": {
      "text/plain": "PredictLiquidationsV1(\n  (linear_layer_stack): Sequential(\n    (0): Linear(in_features=73, out_features=82, bias=True)\n    (1): ReLU()\n    (2): Dropout(p=0.2, inplace=False)\n    (3): Linear(in_features=82, out_features=82, bias=True)\n    (4): ReLU()\n    (5): Dropout(p=0.4, inplace=False)\n    (6): Linear(in_features=82, out_features=1, bias=True)\n    (7): Sigmoid()\n  )\n)"
     },
     "execution_count": 17,
     "metadata": {},
     "output_type": "execute_result"
    }
   ],
   "source": [
    "class PredictLiquidationsV1(nn.Module):\n",
    "    \"\"\"\n",
    "    The final layer should be a sigmoid, to get the probability of liquidation. \n",
    "    \"\"\"\n",
    "    def __init__(self, input_features, output_features, hidden_units):\n",
    "        super().__init__()\n",
    "        self.linear_layer_stack = nn.Sequential(\n",
    "            nn.Linear(in_features=input_features, out_features=hidden_units),\n",
    "            nn.ReLU(),\n",
    "            nn.Dropout(p = 0.2),\n",
    "            nn.Linear(in_features=hidden_units, out_features=hidden_units),\n",
    "            nn.ReLU(),\n",
    "            nn.Dropout(p = 0.4),\n",
    "            nn.Linear(in_features=hidden_units, out_features=output_features),\n",
    "            nn.Sigmoid()\n",
    "        )        \n",
    "        \n",
    "    def forward(self, x):\n",
    "        return self.linear_layer_stack(x)\n",
    "    \n",
    "# instantiate the model\n",
    "model_1 = PredictLiquidationsV1(input_features=X_train.shape[1],\n",
    "                                output_features=1,\n",
    "                                hidden_units=82).to(device)\n",
    "model_1"
   ]
  },
  {
   "cell_type": "code",
   "execution_count": 18,
   "id": "a99b3fc8cb1c1919",
   "metadata": {
    "collapsed": false,
    "ExecuteTime": {
     "end_time": "2023-12-06T14:43:00.780972Z",
     "start_time": "2023-12-06T14:43:00.777504Z"
    }
   },
   "outputs": [],
   "source": [
    "# Initialize early stopping\n",
    "early_stopper = ValidationLossEarlyStopping(patience=1, min_delta=0.0)\n",
    "\n",
    "# Define loss function and optimizer\n",
    "loss_fn = nn.BCELoss()\n",
    "optimizer = optim.Adam(params=model_1.parameters(),\n",
    "                       lr=0.001,\n",
    "                       weight_decay=0.01)"
   ]
  },
  {
   "cell_type": "code",
   "execution_count": 19,
   "id": "a9c3c8dc41ca0251",
   "metadata": {
    "collapsed": false,
    "ExecuteTime": {
     "end_time": "2023-12-06T14:45:02.042635Z",
     "start_time": "2023-12-06T14:43:07.442887Z"
    }
   },
   "outputs": [
    {
     "data": {
      "text/plain": "  0%|          | 0/30 [00:00<?, ?it/s]",
      "application/vnd.jupyter.widget-view+json": {
       "version_major": 2,
       "version_minor": 0,
       "model_id": "3a52c24c702140438010844c732cca69"
      }
     },
     "metadata": {},
     "output_type": "display_data"
    },
    {
     "name": "stdout",
     "output_type": "stream",
     "text": [
      "Epoch: 0\n",
      "---------\n",
      "Training metrics:\n",
      "Loss: 0.57697 | Recall: 34.02% | F1-Score: 42.11% | AUROC: 72.61% | Brier Score: 19.61% | AUC PR: 67.31% | KS-Statistic: 37.08% | Pred Prob Diff: 16.60%\n",
      "Testing metrics:\n",
      "Loss: 0.49954 | Recall: 57.05% | F1-Score: 66.44% | AUROC: 80.42% | Brier Score: 16.31% | AUC PR: 77.88% | KS-Statistic: 49.37% | Pred Prob Diff: 32.95%\n",
      "Epoch: 5\n",
      "---------\n",
      "Training metrics:\n",
      "Loss: 0.46555 | Recall: 58.20% | F1-Score: 67.60% | AUROC: 83.59% | Brier Score: 15.09% | AUC PR: 80.44% | KS-Statistic: 51.97% | Pred Prob Diff: 39.82%\n",
      "Testing metrics:\n",
      "Loss: 0.46383 | Recall: 60.84% | F1-Score: 69.15% | AUROC: 83.61% | Brier Score: 15.03% | AUC PR: 81.00% | KS-Statistic: 52.85% | Pred Prob Diff: 42.51%\n",
      "Epoch: 10\n",
      "---------\n",
      "Training metrics:\n",
      "Loss: 0.46331 | Recall: 58.42% | F1-Score: 67.79% | AUROC: 83.81% | Brier Score: 15.01% | AUC PR: 80.64% | KS-Statistic: 52.40% | Pred Prob Diff: 40.10%\n",
      "Testing metrics:\n",
      "Loss: 0.46141 | Recall: 61.03% | F1-Score: 69.42% | AUROC: 84.15% | Brier Score: 14.93% | AUC PR: 81.34% | KS-Statistic: 53.28% | Pred Prob Diff: 42.54%\n",
      "Epoch: 15\n",
      "---------\n",
      "Training metrics:\n",
      "Loss: 0.46289 | Recall: 58.46% | F1-Score: 67.83% | AUROC: 83.86% | Brier Score: 14.99% | AUC PR: 80.68% | KS-Statistic: 52.47% | Pred Prob Diff: 40.17%\n",
      "Testing metrics:\n",
      "Loss: 0.46071 | Recall: 60.77% | F1-Score: 69.38% | AUROC: 84.22% | Brier Score: 14.91% | AUC PR: 81.40% | KS-Statistic: 53.46% | Pred Prob Diff: 42.17%\n",
      "Epoch: 20\n",
      "---------\n",
      "Training metrics:\n",
      "Loss: 0.46269 | Recall: 58.46% | F1-Score: 67.83% | AUROC: 83.88% | Brier Score: 14.98% | AUC PR: 80.70% | KS-Statistic: 52.48% | Pred Prob Diff: 40.19%\n",
      "Testing metrics:\n",
      "Loss: 0.46031 | Recall: 60.48% | F1-Score: 69.29% | AUROC: 84.24% | Brier Score: 14.89% | AUC PR: 81.43% | KS-Statistic: 53.61% | Pred Prob Diff: 41.71%\n",
      "Epoch: 25\n",
      "---------\n",
      "Training metrics:\n",
      "Loss: 0.46249 | Recall: 58.49% | F1-Score: 67.86% | AUROC: 83.89% | Brier Score: 14.98% | AUC PR: 80.71% | KS-Statistic: 52.49% | Pred Prob Diff: 40.23%\n",
      "Testing metrics:\n",
      "Loss: 0.46004 | Recall: 60.23% | F1-Score: 69.22% | AUROC: 84.26% | Brier Score: 14.88% | AUC PR: 81.44% | KS-Statistic: 53.69% | Pred Prob Diff: 41.43%\n",
      "Stopped early at epoch: 29\n",
      "---------\n",
      "Training metrics:\n",
      "Loss: 0.46232 | Recall: 58.51% | F1-Score: 67.88% | AUROC: 83.91% | Brier Score: 14.97% | AUC PR: 80.73% | KS-Statistic: 52.51% | Pred Prob Diff: 40.27%\n",
      "Testing metrics:\n",
      "Loss: 0.45986 | Recall: 60.19% | F1-Score: 69.22% | AUROC: 84.28% | Brier Score: 14.87% | AUC PR: 81.46% | KS-Statistic: 53.74% | Pred Prob Diff: 41.23%\n",
      "Train time on cpu: 114.597 seconds\n"
     ]
    }
   ],
   "source": [
    "# Measure training time\n",
    "train_time_start = timer()\n",
    "\n",
    "# Set the number of training epochs\n",
    "epochs = 30\n",
    "\n",
    "# Create empty lists to track loss values\n",
    "model_1_train_loss_values = []\n",
    "model_1_test_loss_values = []\n",
    "model_1_epoch_count = []\n",
    "\n",
    "# Training loop\n",
    "for epoch in tqdm(range(epochs)):\n",
    "    if epoch % 5 == 0:\n",
    "        print(f\"Epoch: {epoch}\\n---------\")\n",
    "    train_metrics = train_step(data_loader=train_dataloader, \n",
    "                               model=model_1, \n",
    "                               epochs=epoch,\n",
    "                               loss_fn=loss_fn,\n",
    "                               optimizer=optimizer,\n",
    "                               auc_fn=auc_fn,\n",
    "                               recall_fn=recall_fn,\n",
    "                               f1_score_fn=f1_score_fn,\n",
    "                               auroc_fn=auroc_fn,\n",
    "                               brier_fn=brier_fn,\n",
    "                               auc_pr_fn=auc_pr_fn,\n",
    "                               ks_fn=ks_fn,\n",
    "                               prob_diff_fn=prob_diff_fn\n",
    "    )\n",
    "    test_metrics = test_step(data_loader=test_dataloader,\n",
    "                             model=model_1,\n",
    "                             epochs=epoch,\n",
    "                             loss_fn=loss_fn,\n",
    "                             auc_fn=auc_fn,\n",
    "                             recall_fn=recall_fn,\n",
    "                             f1_score_fn=f1_score_fn,\n",
    "                             auroc_fn=auroc_fn,\n",
    "                             brier_fn=brier_fn,\n",
    "                             auc_pr_fn=auc_pr_fn,\n",
    "                             ks_fn=ks_fn,\n",
    "                             prob_diff_fn=prob_diff_fn\n",
    "    )\n",
    "    model_1_epoch_count.append(epoch)\n",
    "    model_1_train_loss_values.append(train_metrics['loss'])\n",
    "    model_1_test_loss_values.append(test_metrics['loss'])\n",
    "    \n",
    "    if early_stopper.early_stop_check(test_metrics['loss']):\n",
    "        print(f\"Stopped early at epoch: {epoch}\\n---------\")\n",
    "        \n",
    "        print(f\"Training metrics:\\nLoss: {train_metrics['loss']:.5f} \"\n",
    "              f\"| Recall: {train_metrics['recall']:.2f}% | F1-Score: {train_metrics['f1']:.2f}% \"\n",
    "              f\"| AUROC: {train_metrics['auroc']:.2f}% | Brier Score: {train_metrics['brier']:.2f}% \"\n",
    "              f\"| AUC PR: {train_metrics['aucpr']:.2f}% | KS-Statistic: {train_metrics['ks']:.2f}% \"\n",
    "              f\"| Pred Prob Diff: {train_metrics['prob_diff']:.2f}%\")\n",
    "        \n",
    "        print(f\"Testing metrics:\\nLoss: {test_metrics['loss']:.5f} \"\n",
    "              f\"| Recall: {test_metrics['recall']:.2f}% | F1-Score: {test_metrics['f1']:.2f}% \"\n",
    "              f\"| AUROC: {test_metrics['auroc']:.2f}% | Brier Score: {test_metrics['brier']:.2f}% \"\n",
    "              f\"| AUC PR: {test_metrics['aucpr']:.2f}% | KS-Statistic: {test_metrics['ks']:.2f}% \"\n",
    "              f\"| Pred Prob Diff: {test_metrics['prob_diff']:.2f}%\")\n",
    "        break\n",
    "\n",
    "train_time_end = timer()\n",
    "total_train_time_model_1 = print_train_time(start=train_time_start,\n",
    "                                            end=train_time_end,\n",
    "                                            device=device)\n",
    "\n",
    "\n",
    "# If you see a red progress bar below, training was stopped to prevent overfitting through early stopping callbacks. \n",
    "# This is not a cause for concern in this example."
   ]
  },
  {
   "cell_type": "code",
   "execution_count": 20,
   "id": "cc86dcfcf8bd5fb7",
   "metadata": {
    "collapsed": false,
    "ExecuteTime": {
     "end_time": "2023-12-06T14:45:02.177607Z",
     "start_time": "2023-12-06T14:45:02.042791Z"
    }
   },
   "outputs": [
    {
     "data": {
      "text/plain": "<Figure size 640x480 with 1 Axes>",
      "image/png": "[encoded data removed]"
     },
     "metadata": {},
     "output_type": "display_data"
    }
   ],
   "source": [
    "# Plot loss curves\n",
    "plot_loss_curves(model_1_epoch_count, model_1_train_loss_values, model_1_test_loss_values)"
   ]
  },
  {
   "cell_type": "code",
   "execution_count": 21,
   "id": "4ddad9e2be6c8e13",
   "metadata": {
    "collapsed": false,
    "ExecuteTime": {
     "end_time": "2023-12-06T14:45:02.833303Z",
     "start_time": "2023-12-06T14:45:02.190390Z"
    }
   },
   "outputs": [
    {
     "data": {
      "text/plain": "{'model_name': 'PredictLiquidationsV1',\n 'model_loss': 0.45986154675483704,\n 'model_rec': 60.19263179485615,\n 'model_f1': 69.22184841449445,\n 'model_auroc': 84.28006538977989,\n 'model_brier': 14.869687310187244,\n 'model_aucpr': 81.46005295790158,\n 'model_ks': 53.736471372563265,\n 'model_prob_diff': 41.23257914414773}"
     },
     "execution_count": 21,
     "metadata": {},
     "output_type": "execute_result"
    }
   ],
   "source": [
    "# Calculate model 1 results\n",
    "model_1_results = eval_model(model=model_1,\n",
    "                             data_loader=test_dataloader,\n",
    "                             loss_fn=loss_fn,\n",
    "                             auc_fn=auc_fn,\n",
    "                             recall_fn=recall_fn,\n",
    "                             f1_score_fn=f1_score_fn,\n",
    "                             auroc_fn=auroc_fn,\n",
    "                             brier_fn=brier_fn,\n",
    "                             auc_pr_fn=auc_pr_fn,\n",
    "                             ks_fn=ks_fn,\n",
    "                             prob_diff_fn=prob_diff_fn,\n",
    "                             device=device)\n",
    "model_1_results.update({'model_name': model_1.__class__.__name__})\n",
    "\n",
    "model_1_results"
   ]
  },
  {
   "cell_type": "markdown",
   "id": "b7f4e1fa0704530e",
   "metadata": {
    "collapsed": false
   },
   "source": [
    "# Submission Phase 1\n",
    "\n",
    "### Generate ONNX File and Model Calibration Data\n",
    "To initiate the submission process, you need to generate an ONNX file representing your trained model and create a calibration data file. Follow the steps below:"
   ]
  },
  {
   "cell_type": "code",
   "execution_count": 22,
   "id": "2b1b3768405ce0c8",
   "metadata": {
    "collapsed": false,
    "ExecuteTime": {
     "end_time": "2023-12-06T14:45:02.838884Z",
     "start_time": "2023-12-06T14:45:02.835187Z"
    }
   },
   "outputs": [],
   "source": [
    "# You will only commit files in the submission directory\n",
    "# If one does not exist create it\n",
    "if not os.path.exists('submissions'):\n",
    "    os.makedirs('submissions')"
   ]
  },
  {
   "cell_type": "code",
   "execution_count": 23,
   "id": "2a8fe707-5f5c-4cc3-b36d-6803ed8ce26a",
   "metadata": {
    "collapsed": false,
    "ExecuteTime": {
     "end_time": "2023-12-06T14:45:02.887818Z",
     "start_time": "2023-12-06T14:45:02.839457Z"
    }
   },
   "outputs": [],
   "source": [
    "# Export the ONNX file using the trained model and create an observation for model calibration.\n",
    "model_1.eval()\n",
    "torch.onnx.export(model_1,\n",
    "                  torch.randn((1, X_train.shape[1]), requires_grad=True).to(device),\n",
    "                  'submissions/model_1.onnx',\n",
    "                  input_names=['input'],\n",
    "                  output_names=['output'],\n",
    "                  dynamic_axes={'input' : {0 : 'batch_size'}, \n",
    "                                'output' : {0 : 'batch_size'}})"
   ]
  },
  {
   "cell_type": "markdown",
   "id": "d70a649a-0b2e-4241-91a2-8dfca11ac490",
   "metadata": {},
   "source": [
    "Export an observation from the test dataset that will be used to calibrate the zkML settings file.\n",
    "\n",
    "This list of feature values can be from the test data (as shown here) or a completely different sample that will be representative of the data seen in production. "
   ]
  },
  {
   "cell_type": "code",
   "execution_count": 24,
   "id": "6673b392b442b77d",
   "metadata": {
    "collapsed": false,
    "ExecuteTime": {
     "end_time": "2023-12-06T14:45:02.895502Z",
     "start_time": "2023-12-06T14:45:02.858570Z"
    }
   },
   "outputs": [],
   "source": [
    "# Export 1 or multiple  observations for zk-circuit calibration\n",
    "# A better calibrated circuit will result in lower quantization errors in production, albeit potentially, at the cost of higher compute and proving time requirements \n",
    "x = test_features_batch[:1].reshape([-1]).numpy().tolist()\n",
    "data = dict(input_data=[x])\n",
    "json.dump(data, open('submissions/model_1_calibration.json', 'w'))"
   ]
  },
  {
   "cell_type": "markdown",
   "id": "c10cb78e2309cd3f",
   "metadata": {
    "collapsed": false
   },
   "source": [
    "### Commit to a Model\n",
    "\n",
    "**If this is your first time committing a model, you will need to configure the Spectral CLI.**\n",
    "\n",
    "Begin with Step 5 in our [Gitbook](https://docs.spectral.finance/modeler-handbook/3.-submission/step-5-configure-spectral-cli) and return here for Step 6's \"Submit model commitment (never the model itself!)\""
   ]
  },
  {
   "cell_type": "code",
   "execution_count": 25,
   "id": "912924090436c546",
   "metadata": {
    "collapsed": false,
    "ExecuteTime": {
     "end_time": "2023-11-15T20:51:26.892070Z",
     "start_time": "2023-11-15T20:51:13.334196Z"
    }
   },
   "outputs": [
    {
     "name": "stdout",
     "output_type": "stream",
     "text": [
      "Settings successfully generated\r\n",
      "\u001B[2K\u001B[1A[00:00:08] \u001B[36m########################################\u001B[34m\u001B[0m\u001B[0m      63/63      Calibration Done.aram scale: 7, scale rebase multiplier: 10\u001B[1A[1A\u001B[1A\u001B[1A\u001B[1A\u001B[1A\u001B[1A\u001B[1A\u001B[1A\u001B[1A\u001B[1A\u001B[1A\u001B[1A\u001B[1A\u001B[1A\u001B[1A\u001B[1A\u001B[1A\u001B[1A\u001B[1A\u001B[1A\u001B[1A\u001B[1A\u001B[1A\u001B[1A\u001B[1A\u001B[1A\u001B[1A\u001B[1A\u001B[1A\u001B[1A\u001B[1A\u001B[1A\u001B[1A\u001B[1A\u001B[1A\u001B[1A\u001B[1A\u001B[1A\u001B[1A\u001B[1A\u001B[1A\u001B[1A\u001B[1A\u001B[1A\u001B[1A\u001B[1A\u001B[1A\u001B[1A\u001B[1A\u001B[1A\u001B[1A\u001B[1A\u001B[1A\u001B[1A\u001B[1A\u001B[1A\u001B[1A\u001B[1A\u001B[1A\u001B[1A\u001B[1A\u001B[1A\u001B[1A\u001B[1A\u001B[1A\u001B[1A\u001B[1A\u001B[1A\u001B[1A\u001B[1A\u001B[1A\u001B[1A\u001B[1A\u001B[1A\u001B[1A\u001B[1A\u001B[1A\u001B[1A\u001B[1A\u001B[1A\u001B[1A\u001B[1A\u001B[1A\u001B[1A\u001B[1A\u001B[1ASettings successfully calibrated\r\n",
      "Model successfully compiled\r\n",
      "\u001B[2K[00:00:00] \u001B[34m------ - 👾 \u001B[0m SRS validated                                           spawning module 2----- - ✨ \u001B[0m Validating SRS (this may take a while) ...              \r\n",
      "spawning module 2\r\n",
      "EZKL Setup was successful\r\n",
      "\r\n",
      "Commitment successfully uploaded to IPFS: QmcUE6DsCw7dRVMKC4SeF8N7WCG92y6WigA3ifiTQadPf2\r\n",
      "Submitting model with CID: QmcUE6DsCw7dRVMKC4SeF8N7WCG92y6WigA3ifiTQadPf2 to challenge: 0xFDC1BE05aD924e6Fc4Ab2c6443279fF7C0AB5544. This may take a moment.\r\n",
      "Your submission has been recorded successfully!\r\n",
      "You can check status of that transaction under: https://arbiscan.io/tx/0x2127580669bdc18c431dd1a5047ea426e009a2ccf5cca8157476d8abdc953b48\r\n"
     ]
    }
   ],
   "source": [
    "!spectral-cli commit submissions/model_1.onnx submissions/model_1_calibration.json 0xFDC1BE05aD924e6Fc4Ab2c6443279fF7C0AB5544"
   ]
  },
  {
   "cell_type": "markdown",
   "id": "a0a9efb66b1a15aa",
   "metadata": {
    "collapsed": false
   },
   "source": [
    "# Submission Phase 2\n",
    "### Generate Predictions File\n",
    "\n",
    "Each modeler will receive a unique test set and will be responsible for generating predictions for each sample in the test set.\n",
    "\n",
    "Currently, this process below is an example submission only using a portion of the training data. In a few days, this will be replaced with the actual test set of 10,000 addresses (reach out to us on [Discord](https://discord.gg/Z9ESSwy) for instructions), and real-time feature values for each of these addresses."
   ]
  },
  {
   "cell_type": "code",
   "execution_count": 26,
   "outputs": [
    {
     "name": "stdout",
     "output_type": "stream",
     "text": [
      "You must wait about 30 seconds between Phase 1 submission and fetching test set. Our Gitbook explains why.\n"
     ]
    }
   ],
   "source": [
    "print(\"You must wait about 30 seconds between Phase 1 submission and fetching test set. Our Gitbook explains why.\")\n",
    "time.sleep(30)"
   ],
   "metadata": {
    "collapsed": false,
    "ExecuteTime": {
     "end_time": "2023-11-15T20:52:06.993342Z",
     "start_time": "2023-11-15T20:51:36.979637Z"
    }
   },
   "id": "a28c3eaf2b2062cb"
  },
  {
   "cell_type": "code",
   "execution_count": 27,
   "id": "529d52885b1bcf89",
   "metadata": {
    "collapsed": false,
    "ExecuteTime": {
     "end_time": "2023-11-15T20:52:07.017546Z",
     "start_time": "2023-11-15T20:52:06.998250Z"
    }
   },
   "outputs": [
    {
     "data": {
      "text/plain": "   first_tx_timestamp  last_tx_timestamp  wallet_age  incoming_tx_count  \\\n0            1.511854           2.058580   -0.236694          -0.308558   \n1           -1.149986           2.059107    2.883465          -0.215470   \n2            1.369634           2.056110   -0.069922          -0.330207   \n3            0.418673           2.058955    1.044772          -0.072590   \n4            1.488651           2.058897   -0.209404           0.492437   \n\n   outgoing_tx_count  net_incoming_tx_count  total_gas_paid_eth  \\\n0           0.071022              -0.097473            0.405495   \n1          -0.062150               0.045021           -0.148606   \n2          -0.059524               0.032844           -0.083136   \n3          -0.049444               0.044015           -0.155244   \n4           0.074606              -0.034649            0.187954   \n\n   avg_gas_paid_per_tx_eth  risky_tx_count  risky_unique_contract_count  ...  \\\n0                 0.152214       -0.381280                    -0.515165  ...   \n1                -0.069200       -0.087979                     0.110060  ...   \n2                 0.491618       -0.381280                    -0.515165  ...   \n3                -0.316967       -0.176285                     0.327529  ...   \n4                -0.103464        1.741211                     0.273162  ...   \n\n   market_natr  market_plus_di  market_plus_dm  market_ppo  market_rocp  \\\n0    -1.309774        0.147762       -0.042779   -0.251882     0.025143   \n1    -1.309774        0.147762       -0.042779   -0.251882     0.025143   \n2    -1.309774        0.147762       -0.042779   -0.251882     0.025143   \n3    -1.309774        0.147762       -0.042779   -0.251882     0.025143   \n4    -1.309774        0.147762       -0.042779   -0.251882     0.025143   \n\n   market_rocr  unique_borrow_protocol_count  unique_lending_protocol_count  \\\n0     0.025143                      0.052589                      -0.504534   \n1     0.025143                      0.052589                      -0.504534   \n2     0.025143                      0.052589                      -0.504534   \n3     0.025143                      0.052589                      -0.504534   \n4     0.025143                      0.052589                      -0.504534   \n\n                               wallet_address  pred_prob  \n0  0xfac983fce7ef3cee8ffb2ceb967e1b2362aada00   0.009436  \n1  0xfa273296a238ea726d9af7eb835c9c586784ea2d   0.610410  \n2  0xea80829c827f1633a46e7ea6026ed693ca54eebd   0.062782  \n3  0x23a37a07845c887dc65d76052d8105d5f67402f7   0.197765  \n4  0xf9c241b6ad269ac8e8cdb24a540f6cce0ec9e0dd   0.951124  \n\n[5 rows x 75 columns]",
      "text/html": "<div>\n<style scoped>\n    .dataframe tbody tr th:only-of-type {\n        vertical-align: middle;\n    }\n\n    .dataframe tbody tr th {\n        vertical-align: top;\n    }\n\n    .dataframe thead th {\n        text-align: right;\n    }\n</style>\n<table border=\"1\" class=\"dataframe\">\n  <thead>\n    <tr style=\"text-align: right;\">\n      <th></th>\n      <th>first_tx_timestamp</th>\n      <th>last_tx_timestamp</th>\n      <th>wallet_age</th>\n      <th>incoming_tx_count</th>\n      <th>outgoing_tx_count</th>\n      <th>net_incoming_tx_count</th>\n      <th>total_gas_paid_eth</th>\n      <th>avg_gas_paid_per_tx_eth</th>\n      <th>risky_tx_count</th>\n      <th>risky_unique_contract_count</th>\n      <th>...</th>\n      <th>market_natr</th>\n      <th>market_plus_di</th>\n      <th>market_plus_dm</th>\n      <th>market_ppo</th>\n      <th>market_rocp</th>\n      <th>market_rocr</th>\n      <th>unique_borrow_protocol_count</th>\n      <th>unique_lending_protocol_count</th>\n      <th>wallet_address</th>\n      <th>pred_prob</th>\n    </tr>\n  </thead>\n  <tbody>\n    <tr>\n      <th>0</th>\n      <td>1.511854</td>\n      <td>2.058580</td>\n      <td>-0.236694</td>\n      <td>-0.308558</td>\n      <td>0.071022</td>\n      <td>-0.097473</td>\n      <td>0.405495</td>\n      <td>0.152214</td>\n      <td>-0.381280</td>\n      <td>-0.515165</td>\n      <td>...</td>\n      <td>-1.309774</td>\n      <td>0.147762</td>\n      <td>-0.042779</td>\n      <td>-0.251882</td>\n      <td>0.025143</td>\n      <td>0.025143</td>\n      <td>0.052589</td>\n      <td>-0.504534</td>\n      <td>0xfac983fce7ef3cee8ffb2ceb967e1b2362aada00</td>\n      <td>0.009436</td>\n    </tr>\n    <tr>\n      <th>1</th>\n      <td>-1.149986</td>\n      <td>2.059107</td>\n      <td>2.883465</td>\n      <td>-0.215470</td>\n      <td>-0.062150</td>\n      <td>0.045021</td>\n      <td>-0.148606</td>\n      <td>-0.069200</td>\n      <td>-0.087979</td>\n      <td>0.110060</td>\n      <td>...</td>\n      <td>-1.309774</td>\n      <td>0.147762</td>\n      <td>-0.042779</td>\n      <td>-0.251882</td>\n      <td>0.025143</td>\n      <td>0.025143</td>\n      <td>0.052589</td>\n      <td>-0.504534</td>\n      <td>0xfa273296a238ea726d9af7eb835c9c586784ea2d</td>\n      <td>0.610410</td>\n    </tr>\n    <tr>\n      <th>2</th>\n      <td>1.369634</td>\n      <td>2.056110</td>\n      <td>-0.069922</td>\n      <td>-0.330207</td>\n      <td>-0.059524</td>\n      <td>0.032844</td>\n      <td>-0.083136</td>\n      <td>0.491618</td>\n      <td>-0.381280</td>\n      <td>-0.515165</td>\n      <td>...</td>\n      <td>-1.309774</td>\n      <td>0.147762</td>\n      <td>-0.042779</td>\n      <td>-0.251882</td>\n      <td>0.025143</td>\n      <td>0.025143</td>\n      <td>0.052589</td>\n      <td>-0.504534</td>\n      <td>0xea80829c827f1633a46e7ea6026ed693ca54eebd</td>\n      <td>0.062782</td>\n    </tr>\n    <tr>\n      <th>3</th>\n      <td>0.418673</td>\n      <td>2.058955</td>\n      <td>1.044772</td>\n      <td>-0.072590</td>\n      <td>-0.049444</td>\n      <td>0.044015</td>\n      <td>-0.155244</td>\n      <td>-0.316967</td>\n      <td>-0.176285</td>\n      <td>0.327529</td>\n      <td>...</td>\n      <td>-1.309774</td>\n      <td>0.147762</td>\n      <td>-0.042779</td>\n      <td>-0.251882</td>\n      <td>0.025143</td>\n      <td>0.025143</td>\n      <td>0.052589</td>\n      <td>-0.504534</td>\n      <td>0x23a37a07845c887dc65d76052d8105d5f67402f7</td>\n      <td>0.197765</td>\n    </tr>\n    <tr>\n      <th>4</th>\n      <td>1.488651</td>\n      <td>2.058897</td>\n      <td>-0.209404</td>\n      <td>0.492437</td>\n      <td>0.074606</td>\n      <td>-0.034649</td>\n      <td>0.187954</td>\n      <td>-0.103464</td>\n      <td>1.741211</td>\n      <td>0.273162</td>\n      <td>...</td>\n      <td>-1.309774</td>\n      <td>0.147762</td>\n      <td>-0.042779</td>\n      <td>-0.251882</td>\n      <td>0.025143</td>\n      <td>0.025143</td>\n      <td>0.052589</td>\n      <td>-0.504534</td>\n      <td>0xf9c241b6ad269ac8e8cdb24a540f6cce0ec9e0dd</td>\n      <td>0.951124</td>\n    </tr>\n  </tbody>\n</table>\n<p>5 rows × 75 columns</p>\n</div>"
     },
     "execution_count": 27,
     "metadata": {},
     "output_type": "execute_result"
    }
   ],
   "source": [
    "# Generate predictions for each address in the test set\n",
    "wallet_address = example_testing_samples['wallet_address']\n",
    "example_testing_samples_scaled = sc.transform(example_testing_samples[training_cols])\n",
    "model_1.eval()\n",
    "\n",
    "# Inference using the trained model\n",
    "with torch.inference_mode():\n",
    "    pol = model_1(torch.tensor(example_testing_samples_scaled).float().to(device)).squeeze().detach().cpu().numpy()\n",
    "\n",
    "# Create a DataFrame with predictions\n",
    "submission_dataframe = pd.DataFrame(example_testing_samples_scaled, index=example_testing_samples.index, columns=example_testing_samples[training_cols].columns)\n",
    "submission_dataframe['wallet_address'] = wallet_address\n",
    "submission_dataframe['pred_prob'] = pol\n",
    "submission_dataframe.head()"
   ]
  },
  {
   "cell_type": "markdown",
   "id": "20c918e36be1151e",
   "metadata": {
    "collapsed": false
   },
   "source": [
    "As a modeler, you will choose to set the target variable to 1 if the probability of liquidation is greater than some threshold.\n",
    "\n",
    "In this example, we'll take the threshold to be 0.6, but you may find a different value is more appropriate (perhaps the one returned by the `auc_fn` function in `helpers.modeling`). \n",
    "\n",
    "This threshold should not be taken as a recommendation for the challenge and is only used for this example."
   ]
  },
  {
   "cell_type": "code",
   "execution_count": 28,
   "id": "a280a666ac6db9d0",
   "metadata": {
    "collapsed": false,
    "ExecuteTime": {
     "end_time": "2023-11-15T20:52:07.027160Z",
     "start_time": "2023-11-15T20:52:07.019388Z"
    }
   },
   "outputs": [],
   "source": [
    "submission_dataframe['pred_label'] = (\n",
    "    submission_dataframe['pred_prob'].apply(lambda x: 1 if x > .6 else 0))"
   ]
  },
  {
   "cell_type": "markdown",
   "id": "8380201e6c154241",
   "metadata": {
    "collapsed": false
   },
   "source": [
    "To meet the submission requirements, ensure that each row in the dataframe consists of the following columns: wallet address, predicted probability, predicted target label, and the input features (values only, without feature names). The input feature values will be needed (later) to prove that the predictions are generated from the committed model from Phase 1.\n",
    "\n",
    "**The final submission file must follow the naming conventions below.** "
   ]
  },
  {
   "cell_type": "code",
   "execution_count": 29,
   "id": "49d378d62c2e1b96",
   "metadata": {
    "collapsed": false,
    "ExecuteTime": {
     "end_time": "2023-11-15T20:52:07.045205Z",
     "start_time": "2023-11-15T20:52:07.028466Z"
    }
   },
   "outputs": [],
   "source": [
    "# Format the DataFrame for submission\n",
    "non_feature_cols = ['wallet_address', 'pred_prob', 'pred_label']\n",
    "\n",
    "# Rename feature columns for anonymity (optional)\n",
    "for index, col in enumerate(submission_dataframe.columns):\n",
    "    if col not in non_feature_cols:\n",
    "        submission_dataframe.rename(columns={col: f'feature_{index+1}'}, inplace=True)"
   ]
  },
  {
   "cell_type": "code",
   "execution_count": 30,
   "id": "773de7f1dca469fb",
   "metadata": {
    "collapsed": false,
    "ExecuteTime": {
     "end_time": "2023-11-15T20:52:07.093429Z",
     "start_time": "2023-11-15T20:52:07.031991Z"
    }
   },
   "outputs": [
    {
     "data": {
      "text/plain": "                               wallet_address  pred_prob  pred_label  \\\n0  0xfac983fce7ef3cee8ffb2ceb967e1b2362aada00   0.009436           0   \n1  0xfa273296a238ea726d9af7eb835c9c586784ea2d   0.610410           1   \n2  0xea80829c827f1633a46e7ea6026ed693ca54eebd   0.062782           0   \n3  0x23a37a07845c887dc65d76052d8105d5f67402f7   0.197765           0   \n4  0xf9c241b6ad269ac8e8cdb24a540f6cce0ec9e0dd   0.951124           1   \n\n   feature_1  feature_2  feature_3  feature_4  feature_5  feature_6  \\\n0   1.511854   2.058580  -0.236694  -0.308558   0.071022  -0.097473   \n1  -1.149986   2.059107   2.883465  -0.215470  -0.062150   0.045021   \n2   1.369634   2.056110  -0.069922  -0.330207  -0.059524   0.032844   \n3   0.418673   2.058955   1.044772  -0.072590  -0.049444   0.044015   \n4   1.488651   2.058897  -0.209404   0.492437   0.074606  -0.034649   \n\n   feature_7  ...  feature_64  feature_65  feature_66  feature_67  feature_68  \\\n0   0.405495  ...   -0.298468    0.789309   -1.309774    0.147762   -0.042779   \n1  -0.148606  ...   -0.298468    0.789309   -1.309774    0.147762   -0.042779   \n2  -0.083136  ...   -0.298468    0.789309   -1.309774    0.147762   -0.042779   \n3  -0.155244  ...   -0.298468    0.789309   -1.309774    0.147762   -0.042779   \n4   0.187954  ...   -0.298468    0.789309   -1.309774    0.147762   -0.042779   \n\n   feature_69  feature_70  feature_71  feature_72  feature_73  \n0   -0.251882    0.025143    0.025143    0.052589   -0.504534  \n1   -0.251882    0.025143    0.025143    0.052589   -0.504534  \n2   -0.251882    0.025143    0.025143    0.052589   -0.504534  \n3   -0.251882    0.025143    0.025143    0.052589   -0.504534  \n4   -0.251882    0.025143    0.025143    0.052589   -0.504534  \n\n[5 rows x 76 columns]",
      "text/html": "<div>\n<style scoped>\n    .dataframe tbody tr th:only-of-type {\n        vertical-align: middle;\n    }\n\n    .dataframe tbody tr th {\n        vertical-align: top;\n    }\n\n    .dataframe thead th {\n        text-align: right;\n    }\n</style>\n<table border=\"1\" class=\"dataframe\">\n  <thead>\n    <tr style=\"text-align: right;\">\n      <th></th>\n      <th>wallet_address</th>\n      <th>pred_prob</th>\n      <th>pred_label</th>\n      <th>feature_1</th>\n      <th>feature_2</th>\n      <th>feature_3</th>\n      <th>feature_4</th>\n      <th>feature_5</th>\n      <th>feature_6</th>\n      <th>feature_7</th>\n      <th>...</th>\n      <th>feature_64</th>\n      <th>feature_65</th>\n      <th>feature_66</th>\n      <th>feature_67</th>\n      <th>feature_68</th>\n      <th>feature_69</th>\n      <th>feature_70</th>\n      <th>feature_71</th>\n      <th>feature_72</th>\n      <th>feature_73</th>\n    </tr>\n  </thead>\n  <tbody>\n    <tr>\n      <th>0</th>\n      <td>0xfac983fce7ef3cee8ffb2ceb967e1b2362aada00</td>\n      <td>0.009436</td>\n      <td>0</td>\n      <td>1.511854</td>\n      <td>2.058580</td>\n      <td>-0.236694</td>\n      <td>-0.308558</td>\n      <td>0.071022</td>\n      <td>-0.097473</td>\n      <td>0.405495</td>\n      <td>...</td>\n      <td>-0.298468</td>\n      <td>0.789309</td>\n      <td>-1.309774</td>\n      <td>0.147762</td>\n      <td>-0.042779</td>\n      <td>-0.251882</td>\n      <td>0.025143</td>\n      <td>0.025143</td>\n      <td>0.052589</td>\n      <td>-0.504534</td>\n    </tr>\n    <tr>\n      <th>1</th>\n      <td>0xfa273296a238ea726d9af7eb835c9c586784ea2d</td>\n      <td>0.610410</td>\n      <td>1</td>\n      <td>-1.149986</td>\n      <td>2.059107</td>\n      <td>2.883465</td>\n      <td>-0.215470</td>\n      <td>-0.062150</td>\n      <td>0.045021</td>\n      <td>-0.148606</td>\n      <td>...</td>\n      <td>-0.298468</td>\n      <td>0.789309</td>\n      <td>-1.309774</td>\n      <td>0.147762</td>\n      <td>-0.042779</td>\n      <td>-0.251882</td>\n      <td>0.025143</td>\n      <td>0.025143</td>\n      <td>0.052589</td>\n      <td>-0.504534</td>\n    </tr>\n    <tr>\n      <th>2</th>\n      <td>0xea80829c827f1633a46e7ea6026ed693ca54eebd</td>\n      <td>0.062782</td>\n      <td>0</td>\n      <td>1.369634</td>\n      <td>2.056110</td>\n      <td>-0.069922</td>\n      <td>-0.330207</td>\n      <td>-0.059524</td>\n      <td>0.032844</td>\n      <td>-0.083136</td>\n      <td>...</td>\n      <td>-0.298468</td>\n      <td>0.789309</td>\n      <td>-1.309774</td>\n      <td>0.147762</td>\n      <td>-0.042779</td>\n      <td>-0.251882</td>\n      <td>0.025143</td>\n      <td>0.025143</td>\n      <td>0.052589</td>\n      <td>-0.504534</td>\n    </tr>\n    <tr>\n      <th>3</th>\n      <td>0x23a37a07845c887dc65d76052d8105d5f67402f7</td>\n      <td>0.197765</td>\n      <td>0</td>\n      <td>0.418673</td>\n      <td>2.058955</td>\n      <td>1.044772</td>\n      <td>-0.072590</td>\n      <td>-0.049444</td>\n      <td>0.044015</td>\n      <td>-0.155244</td>\n      <td>...</td>\n      <td>-0.298468</td>\n      <td>0.789309</td>\n      <td>-1.309774</td>\n      <td>0.147762</td>\n      <td>-0.042779</td>\n      <td>-0.251882</td>\n      <td>0.025143</td>\n      <td>0.025143</td>\n      <td>0.052589</td>\n      <td>-0.504534</td>\n    </tr>\n    <tr>\n      <th>4</th>\n      <td>0xf9c241b6ad269ac8e8cdb24a540f6cce0ec9e0dd</td>\n      <td>0.951124</td>\n      <td>1</td>\n      <td>1.488651</td>\n      <td>2.058897</td>\n      <td>-0.209404</td>\n      <td>0.492437</td>\n      <td>0.074606</td>\n      <td>-0.034649</td>\n      <td>0.187954</td>\n      <td>...</td>\n      <td>-0.298468</td>\n      <td>0.789309</td>\n      <td>-1.309774</td>\n      <td>0.147762</td>\n      <td>-0.042779</td>\n      <td>-0.251882</td>\n      <td>0.025143</td>\n      <td>0.025143</td>\n      <td>0.052589</td>\n      <td>-0.504534</td>\n    </tr>\n  </tbody>\n</table>\n<p>5 rows × 76 columns</p>\n</div>"
     },
     "execution_count": 30,
     "metadata": {},
     "output_type": "execute_result"
    }
   ],
   "source": [
    "# Order the columns for readability (optional)\n",
    "cols_order_list = non_feature_cols + [col for col in submission_dataframe.columns if col not in non_feature_cols]\n",
    "submission_dataframe = submission_dataframe[cols_order_list]\n",
    "\n",
    "# Save the submission file\n",
    "submission_dataframe.to_parquet('submissions/submission.parquet', index=False)\n",
    "submission_dataframe.head()"
   ]
  },
  {
   "cell_type": "markdown",
   "id": "2a5d3e57c4e398ab",
   "metadata": {
    "collapsed": false
   },
   "source": [
    "### Submit Predictions File\n",
    "Once you are satisfied with the generated predictions file, you can submit it for evaluation.\n",
    "\n",
    "Ensure that the Spectral CLI wallet is funded with gas for this transaction before running the following step."
   ]
  },
  {
   "cell_type": "code",
   "execution_count": 31,
   "id": "9f9d5c8d8be5195d",
   "metadata": {
    "collapsed": false,
    "ExecuteTime": {
     "end_time": "2023-11-15T20:52:11.102121Z",
     "start_time": "2023-11-15T20:52:08.531982Z"
    }
   },
   "outputs": [
    {
     "name": "stdout",
     "output_type": "stream",
     "text": [
      "Submitting response with CID: QmQBWU6jkuyXDbE7oXgXwofUHmww6bBho3gfTGvQBTvftN to challenge: 0xFDC1BE05aD924e6Fc4Ab2c6443279fF7C0AB5544. This may take a moment.\r\n",
      "Your inferences have been recorded successfully!\r\n",
      "You can check status of that transaction under: https://arbiscan.io/tx/0x454c2b517f508327677a93f9b4d98f7291531664c41c9176c451846e9498936d\r\n"
     ]
    }
   ],
   "source": [
    "!spectral-cli submit-inferences 0xFDC1BE05aD924e6Fc4Ab2c6443279fF7C0AB5544 submissions/submission.parquet"
   ]
  },
  {
   "cell_type": "markdown",
   "source": [
    "### Ensure that both the commitment and Submission transactions are successful and note the transaction hash for reference later. "
   ],
   "metadata": {
    "collapsed": false
   },
   "id": "267b88342e81fadd"
  }
 ],
 "metadata": {
  "kernelspec": {
   "display_name": "Python 3 (ipykernel)",
   "language": "python",
   "name": "python3"
  },
  "language_info": {
   "codemirror_mode": {
    "name": "ipython",
    "version": 3
   },
   "file_extension": ".py",
   "mimetype": "text/x-python",
   "name": "python",
   "nbconvert_exporter": "python",
   "pygments_lexer": "ipython3",
   "version": "3.11.3"
  }
 },
 "nbformat": 4,
 "nbformat_minor": 5
}
