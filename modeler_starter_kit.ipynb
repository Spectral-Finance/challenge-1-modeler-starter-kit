{
 "cells": [
  {
   "cell_type": "markdown",
   "source": [
    "# Modeler Starter Kit\n",
    "This notebook will walk you through the entire challenge lifecycle, from fetching the training data, to training a model, to submitting your model for evaluation."
   ],
   "metadata": {
    "collapsed": false
   },
   "id": "1680b5e722b122ab"
  },
  {
   "cell_type": "markdown",
   "source": [
    "## Fetch Training Data\n",
    "The following code will allow you download a previously fetched training dataset for this competition using the Spectral cli. \n",
    "\n",
    "The training dataset is a tabular parquet file, where each row represents a borrow event at the specified timestamp. \n",
    "\n",
    "Each row contains a timestamp and ethereum block number, the wallet address that initiated the borrow transaction, a list of features including borrower and market activity, and a binary target variable indicating if the borrower was liquidated within 30 days of the borrow event.\n",
    "\n",
    "See our data dictionary for a full list of features, their types, and descriptions. **TODO: INSERT LINK HERE**\n",
    "\n",
    "During testing and consumption you will be given all of these values aside from the target variable. Your model will be evaluated on the ability to predict the target variable for each sample in the test set.\n",
    "\n"
   ],
   "metadata": {
    "collapsed": false
   },
   "id": "b0b7393429d94fe3"
  },
  {
   "cell_type": "code",
   "execution_count": 15,
   "outputs": [
    {
     "name": "stdout",
     "output_type": "stream",
     "text": [
      "Available challenges:\r\n",
      "Credit Scoring: 0xB79CDBC5Cd94a807CC5cc761e3eF4A6B9baC8939\r\n"
     ]
    }
   ],
   "source": [
    "#List available challenges\n",
    "!spectral-cli  list-challenges  "
   ],
   "metadata": {
    "collapsed": false,
    "ExecuteTime": {
     "end_time": "2023-11-02T23:23:18.669034Z",
     "start_time": "2023-11-02T23:23:17.147427Z"
    }
   },
   "id": "a02dec87ff8cb68c"
  },
  {
   "cell_type": "code",
   "execution_count": 16,
   "outputs": [
    {
     "name": "stdout",
     "output_type": "stream",
     "text": [
      "Failed to fetch the file from the official gateway. Trying another gateway...\r\n",
      "112MiB [00:00, 1.19GiB/s]\r\n",
      "Training dataset successfully fetched from the alternative gateway!\r\n"
     ]
    }
   ],
   "source": [
    "# Download Training Data\n",
    "!spectral-cli fetch-training-data 0xB79CDBC5Cd94a807CC5cc761e3eF4A6B9baC8939"
   ],
   "metadata": {
    "collapsed": false,
    "ExecuteTime": {
     "end_time": "2023-11-02T23:23:38.223872Z",
     "start_time": "2023-11-02T23:23:19.245292Z"
    }
   },
   "id": "e032ae5292d5fea"
  },
  {
   "cell_type": "markdown",
   "source": [
    "Examine a subset of the dataset"
   ],
   "metadata": {
    "collapsed": false
   },
   "id": "c8201b5a34215e1b"
  },
  {
   "cell_type": "code",
   "execution_count": 17,
   "outputs": [
    {
     "data": {
      "text/plain": "   borrow_block_number  borrow_timestamp  \\\n0              7711117      1.557197e+09   \n1              7711123      1.557197e+09   \n2              7711126      1.557197e+09   \n3              7711672      1.557205e+09   \n4              7712572      1.557217e+09   \n5              7715069      1.557250e+09   \n6              7715078      1.557251e+09   \n7              7715985      1.557263e+09   \n8              7716888      1.557276e+09   \n9              7717003      1.557277e+09   \n\n                               wallet_address  target  \\\n0  0x502cb8985b2c92a8d4bf309cdaa89de9be442708       1   \n1  0x502cb8985b2c92a8d4bf309cdaa89de9be442708       1   \n2  0x502cb8985b2c92a8d4bf309cdaa89de9be442708       1   \n3  0xa7ff0d561cd15ed525e31bbe0af3fe34ac2059f6       0   \n4  0xbd9ed130a53cfafcf81502e4d35329a6c4d53410       0   \n5  0x502cb8985b2c92a8d4bf309cdaa89de9be442708       1   \n6  0x502cb8985b2c92a8d4bf309cdaa89de9be442708       1   \n7  0x502cb8985b2c92a8d4bf309cdaa89de9be442708       1   \n8  0x502cb8985b2c92a8d4bf309cdaa89de9be442708       1   \n9  0x502cb8985b2c92a8d4bf309cdaa89de9be442708       1   \n\n   unique_borrow_protocol_count  unique_lending_protocol_count  \\\n0                             0                              1   \n1                             1                              1   \n2                             1                              1   \n3                             0                              1   \n4                             0                              1   \n5                             1                              1   \n6                             1                              1   \n7                             1                              1   \n8                             1                              1   \n9                             1                              1   \n\n   total_collateral_eth  misc_available_borrows_eth  risk_factor  \\\n0             44.479139                   31.575270     0.000001   \n1             44.479139                   31.418863     0.004953   \n2             44.479139                   31.035236     0.017103   \n3              0.000767                    0.000460     0.000001   \n4              0.010000                    0.007500     0.000001   \n5             44.488424                   30.059852     0.048606   \n6             44.430545                   29.912079     0.052241   \n7             51.316928                   28.781848     0.088052   \n8             58.791139                   38.667542     0.081422   \n9             60.268602                   33.574491     0.221625   \n\n   risk_factor_above_threshold_daily_count  ...  total_balance_eth  \\\n0                                      0.0  ...          58.317987   \n1                                      0.0  ...          58.317987   \n2                                      0.0  ...          58.317987   \n3                                      0.0  ...           0.000000   \n4                                      0.0  ...           0.000000   \n5                                      0.0  ...          58.317987   \n6                                      0.0  ...          58.317987   \n7                                      0.0  ...          58.317987   \n8                                      0.0  ...           3.127926   \n9                                      0.0  ...           3.127926   \n\n   withdraw_amount_sum_eth  borrow_amount_sum_eth  borrow_amount_avg_eth  \\\n0                      0.0               0.000000               0.000000   \n1                      0.0               0.157110               0.157110   \n2                      0.0               0.543275               0.271637   \n3                      0.0               0.000000               0.000000   \n4                      0.0               0.000000               0.000000   \n5                      0.0               1.543275               0.514425   \n6                      0.0               1.543275               0.514425   \n7                      0.0               2.749083               0.687271   \n8                      0.0               3.320086               0.664017   \n9                      0.0               9.247470               1.541245   \n\n   borrow_count  repay_amount_sum_eth  repay_amount_avg_eth  repay_count  \\\n0             0                   0.0                   0.0            0   \n1             1                   0.0                   0.0            0   \n2             2                   0.0                   0.0            0   \n3             0                   0.0                   0.0            0   \n4             0                   0.0                   0.0            0   \n5             3                   0.0                   0.0            0   \n6             4                   0.0                   0.0            0   \n7             5                   0.0                   0.0            0   \n8             6                   0.0                   0.0            0   \n9             7                   0.0                   0.0            0   \n\n   borrow_repay_diff_eth  withdraw_deposit_diff_If_positive_eth  \n0               0.000000                                    0.0  \n1               0.157110                                    0.0  \n2               0.543275                                    0.0  \n3               0.000000                                    0.0  \n4               0.000000                                    0.0  \n5               1.543275                                    0.0  \n6               1.543275                                    0.0  \n7               2.749083                                    0.0  \n8               3.320086                                    0.0  \n9               9.247470                                    0.0  \n\n[10 rows x 78 columns]",
      "text/html": "<div>\n<style scoped>\n    .dataframe tbody tr th:only-of-type {\n        vertical-align: middle;\n    }\n\n    .dataframe tbody tr th {\n        vertical-align: top;\n    }\n\n    .dataframe thead th {\n        text-align: right;\n    }\n</style>\n<table border=\"1\" class=\"dataframe\">\n  <thead>\n    <tr style=\"text-align: right;\">\n      <th></th>\n      <th>borrow_block_number</th>\n      <th>borrow_timestamp</th>\n      <th>wallet_address</th>\n      <th>target</th>\n      <th>unique_borrow_protocol_count</th>\n      <th>unique_lending_protocol_count</th>\n      <th>total_collateral_eth</th>\n      <th>misc_available_borrows_eth</th>\n      <th>risk_factor</th>\n      <th>risk_factor_above_threshold_daily_count</th>\n      <th>...</th>\n      <th>total_balance_eth</th>\n      <th>withdraw_amount_sum_eth</th>\n      <th>borrow_amount_sum_eth</th>\n      <th>borrow_amount_avg_eth</th>\n      <th>borrow_count</th>\n      <th>repay_amount_sum_eth</th>\n      <th>repay_amount_avg_eth</th>\n      <th>repay_count</th>\n      <th>borrow_repay_diff_eth</th>\n      <th>withdraw_deposit_diff_If_positive_eth</th>\n    </tr>\n  </thead>\n  <tbody>\n    <tr>\n      <th>0</th>\n      <td>7711117</td>\n      <td>1.557197e+09</td>\n      <td>0x502cb8985b2c92a8d4bf309cdaa89de9be442708</td>\n      <td>1</td>\n      <td>0</td>\n      <td>1</td>\n      <td>44.479139</td>\n      <td>31.575270</td>\n      <td>0.000001</td>\n      <td>0.0</td>\n      <td>...</td>\n      <td>58.317987</td>\n      <td>0.0</td>\n      <td>0.000000</td>\n      <td>0.000000</td>\n      <td>0</td>\n      <td>0.0</td>\n      <td>0.0</td>\n      <td>0</td>\n      <td>0.000000</td>\n      <td>0.0</td>\n    </tr>\n    <tr>\n      <th>1</th>\n      <td>7711123</td>\n      <td>1.557197e+09</td>\n      <td>0x502cb8985b2c92a8d4bf309cdaa89de9be442708</td>\n      <td>1</td>\n      <td>1</td>\n      <td>1</td>\n      <td>44.479139</td>\n      <td>31.418863</td>\n      <td>0.004953</td>\n      <td>0.0</td>\n      <td>...</td>\n      <td>58.317987</td>\n      <td>0.0</td>\n      <td>0.157110</td>\n      <td>0.157110</td>\n      <td>1</td>\n      <td>0.0</td>\n      <td>0.0</td>\n      <td>0</td>\n      <td>0.157110</td>\n      <td>0.0</td>\n    </tr>\n    <tr>\n      <th>2</th>\n      <td>7711126</td>\n      <td>1.557197e+09</td>\n      <td>0x502cb8985b2c92a8d4bf309cdaa89de9be442708</td>\n      <td>1</td>\n      <td>1</td>\n      <td>1</td>\n      <td>44.479139</td>\n      <td>31.035236</td>\n      <td>0.017103</td>\n      <td>0.0</td>\n      <td>...</td>\n      <td>58.317987</td>\n      <td>0.0</td>\n      <td>0.543275</td>\n      <td>0.271637</td>\n      <td>2</td>\n      <td>0.0</td>\n      <td>0.0</td>\n      <td>0</td>\n      <td>0.543275</td>\n      <td>0.0</td>\n    </tr>\n    <tr>\n      <th>3</th>\n      <td>7711672</td>\n      <td>1.557205e+09</td>\n      <td>0xa7ff0d561cd15ed525e31bbe0af3fe34ac2059f6</td>\n      <td>0</td>\n      <td>0</td>\n      <td>1</td>\n      <td>0.000767</td>\n      <td>0.000460</td>\n      <td>0.000001</td>\n      <td>0.0</td>\n      <td>...</td>\n      <td>0.000000</td>\n      <td>0.0</td>\n      <td>0.000000</td>\n      <td>0.000000</td>\n      <td>0</td>\n      <td>0.0</td>\n      <td>0.0</td>\n      <td>0</td>\n      <td>0.000000</td>\n      <td>0.0</td>\n    </tr>\n    <tr>\n      <th>4</th>\n      <td>7712572</td>\n      <td>1.557217e+09</td>\n      <td>0xbd9ed130a53cfafcf81502e4d35329a6c4d53410</td>\n      <td>0</td>\n      <td>0</td>\n      <td>1</td>\n      <td>0.010000</td>\n      <td>0.007500</td>\n      <td>0.000001</td>\n      <td>0.0</td>\n      <td>...</td>\n      <td>0.000000</td>\n      <td>0.0</td>\n      <td>0.000000</td>\n      <td>0.000000</td>\n      <td>0</td>\n      <td>0.0</td>\n      <td>0.0</td>\n      <td>0</td>\n      <td>0.000000</td>\n      <td>0.0</td>\n    </tr>\n    <tr>\n      <th>5</th>\n      <td>7715069</td>\n      <td>1.557250e+09</td>\n      <td>0x502cb8985b2c92a8d4bf309cdaa89de9be442708</td>\n      <td>1</td>\n      <td>1</td>\n      <td>1</td>\n      <td>44.488424</td>\n      <td>30.059852</td>\n      <td>0.048606</td>\n      <td>0.0</td>\n      <td>...</td>\n      <td>58.317987</td>\n      <td>0.0</td>\n      <td>1.543275</td>\n      <td>0.514425</td>\n      <td>3</td>\n      <td>0.0</td>\n      <td>0.0</td>\n      <td>0</td>\n      <td>1.543275</td>\n      <td>0.0</td>\n    </tr>\n    <tr>\n      <th>6</th>\n      <td>7715078</td>\n      <td>1.557251e+09</td>\n      <td>0x502cb8985b2c92a8d4bf309cdaa89de9be442708</td>\n      <td>1</td>\n      <td>1</td>\n      <td>1</td>\n      <td>44.430545</td>\n      <td>29.912079</td>\n      <td>0.052241</td>\n      <td>0.0</td>\n      <td>...</td>\n      <td>58.317987</td>\n      <td>0.0</td>\n      <td>1.543275</td>\n      <td>0.514425</td>\n      <td>4</td>\n      <td>0.0</td>\n      <td>0.0</td>\n      <td>0</td>\n      <td>1.543275</td>\n      <td>0.0</td>\n    </tr>\n    <tr>\n      <th>7</th>\n      <td>7715985</td>\n      <td>1.557263e+09</td>\n      <td>0x502cb8985b2c92a8d4bf309cdaa89de9be442708</td>\n      <td>1</td>\n      <td>1</td>\n      <td>1</td>\n      <td>51.316928</td>\n      <td>28.781848</td>\n      <td>0.088052</td>\n      <td>0.0</td>\n      <td>...</td>\n      <td>58.317987</td>\n      <td>0.0</td>\n      <td>2.749083</td>\n      <td>0.687271</td>\n      <td>5</td>\n      <td>0.0</td>\n      <td>0.0</td>\n      <td>0</td>\n      <td>2.749083</td>\n      <td>0.0</td>\n    </tr>\n    <tr>\n      <th>8</th>\n      <td>7716888</td>\n      <td>1.557276e+09</td>\n      <td>0x502cb8985b2c92a8d4bf309cdaa89de9be442708</td>\n      <td>1</td>\n      <td>1</td>\n      <td>1</td>\n      <td>58.791139</td>\n      <td>38.667542</td>\n      <td>0.081422</td>\n      <td>0.0</td>\n      <td>...</td>\n      <td>3.127926</td>\n      <td>0.0</td>\n      <td>3.320086</td>\n      <td>0.664017</td>\n      <td>6</td>\n      <td>0.0</td>\n      <td>0.0</td>\n      <td>0</td>\n      <td>3.320086</td>\n      <td>0.0</td>\n    </tr>\n    <tr>\n      <th>9</th>\n      <td>7717003</td>\n      <td>1.557277e+09</td>\n      <td>0x502cb8985b2c92a8d4bf309cdaa89de9be442708</td>\n      <td>1</td>\n      <td>1</td>\n      <td>1</td>\n      <td>60.268602</td>\n      <td>33.574491</td>\n      <td>0.221625</td>\n      <td>0.0</td>\n      <td>...</td>\n      <td>3.127926</td>\n      <td>0.0</td>\n      <td>9.247470</td>\n      <td>1.541245</td>\n      <td>7</td>\n      <td>0.0</td>\n      <td>0.0</td>\n      <td>0</td>\n      <td>9.247470</td>\n      <td>0.0</td>\n    </tr>\n  </tbody>\n</table>\n<p>10 rows × 78 columns</p>\n</div>"
     },
     "execution_count": 17,
     "metadata": {},
     "output_type": "execute_result"
    }
   ],
   "source": [
    "import duckdb\n",
    "duckdb.query((f\"\"\"\n",
    "select * from '{'0xB79CDBC5Cd94a807CC5cc761e3eF4A6B9baC8939_training_data.parquet'}' limit 10\n",
    "\"\"\")).df()"
   ],
   "metadata": {
    "collapsed": false,
    "ExecuteTime": {
     "end_time": "2023-11-02T23:24:51.485350Z",
     "start_time": "2023-11-02T23:24:51.420142Z"
    }
   },
   "id": "61ccd97507a633f9"
  },
  {
   "cell_type": "markdown",
   "source": [
    "You may choose to use any subset of the data above to train your model. We guarantee availability of this data during the challenge lifespan.\n",
    "You may also supplement this set with external data, however you will be responsible for hosting and serving this data during testing and consumption."
   ],
   "metadata": {
    "collapsed": false
   },
   "id": "381973f7a440e1c1"
  },
  {
   "cell_type": "markdown",
   "source": [
    "## EDA and Feature Engineering\n",
    "\n",
    "You may use any tools you wish to explore the data and generate features. As an example we examine the max_risk_factor feature, look for potential outliers, consider dropping those samples, and examine correlated features"
   ],
   "metadata": {
    "collapsed": false
   },
   "id": "bbd842b1cf28d677"
  },
  {
   "cell_type": "code",
   "execution_count": 22,
   "outputs": [
    {
     "data": {
      "text/plain": "count    4.316180e+05\nmean     2.946256e+08\nstd      3.271465e+10\nmin      0.000000e+00\n25%      4.379520e-01\n50%      7.663844e-01\n75%      9.154721e-01\nmax      3.633082e+12\nName: max_risk_factor, dtype: float64"
     },
     "execution_count": 22,
     "metadata": {},
     "output_type": "execute_result"
    }
   ],
   "source": [
    "import pandas as pd\n",
    "training_dataframe = duckdb.query((f\"\"\"\n",
    "select * from '{'0xB79CDBC5Cd94a807CC5cc761e3eF4A6B9baC8939_training_data.parquet'}'\n",
    "\"\"\")).df()\n",
    "training_dataframe['max_risk_factor'].describe()"
   ],
   "metadata": {
    "collapsed": false,
    "ExecuteTime": {
     "end_time": "2023-11-02T23:55:59.234574Z",
     "start_time": "2023-11-02T23:55:58.662287Z"
    }
   },
   "id": "a2588fd7f7802985"
  },
  {
   "cell_type": "markdown",
   "source": [
    "The max value listed above is far greater than the majority of samples, and may be an outlier. A risk factor over one is uncommon, so a value this large could be due to a highly irregular onchain action, an error in data fetching, or an error dataset construction. \n",
    "\n",
    "We should examine samples with high values of this feature."
   ],
   "metadata": {
    "collapsed": false
   },
   "id": "d41ba80974e514dc"
  },
  {
   "cell_type": "code",
   "execution_count": 33,
   "outputs": [
    {
     "data": {
      "text/plain": "   unusually_high_risk_factor_address\n0                                  61",
      "text/html": "<div>\n<style scoped>\n    .dataframe tbody tr th:only-of-type {\n        vertical-align: middle;\n    }\n\n    .dataframe tbody tr th {\n        vertical-align: top;\n    }\n\n    .dataframe thead th {\n        text-align: right;\n    }\n</style>\n<table border=\"1\" class=\"dataframe\">\n  <thead>\n    <tr style=\"text-align: right;\">\n      <th></th>\n      <th>unusually_high_risk_factor_address</th>\n    </tr>\n  </thead>\n  <tbody>\n    <tr>\n      <th>0</th>\n      <td>61</td>\n    </tr>\n  </tbody>\n</table>\n</div>"
     },
     "execution_count": 33,
     "metadata": {},
     "output_type": "execute_result"
    }
   ],
   "source": [
    "duckdb.query((f\"\"\"\n",
    "select count(distinct(wallet_address)) as unusually_high_risk_factor_address from '{'0xB79CDBC5Cd94a807CC5cc761e3eF4A6B9baC8939_training_data.parquet'}'\n",
    "where max_risk_factor > 100\n",
    "\"\"\")).df()"
   ],
   "metadata": {
    "collapsed": false,
    "ExecuteTime": {
     "end_time": "2023-11-03T00:02:55.483107Z",
     "start_time": "2023-11-03T00:02:55.445997Z"
    }
   },
   "id": "e99f56b514ba5b06"
  },
  {
   "cell_type": "markdown",
   "source": [
    "There are 61 addresses with this unusually high value, let's remove all samples with a risk factor over 100 from training. "
   ],
   "metadata": {
    "collapsed": false
   },
   "id": "b176b8a0293d6890"
  },
  {
   "cell_type": "code",
   "execution_count": 34,
   "outputs": [
    {
     "data": {
      "text/plain": "count    429835.000000\nmean          0.806303\nstd           2.302598\nmin           0.000000\n25%           0.434355\n50%           0.764848\n75%           0.913552\nmax          86.364163\nName: max_risk_factor, dtype: float64"
     },
     "execution_count": 34,
     "metadata": {},
     "output_type": "execute_result"
    }
   ],
   "source": [
    "training_dataframe = duckdb.query((f\"\"\"\n",
    "select * from '{'0xB79CDBC5Cd94a807CC5cc761e3eF4A6B9baC8939_training_data.parquet'}'\n",
    "where max_risk_factor < 100\n",
    "\"\"\")).df()\n",
    "training_dataframe['max_risk_factor'].describe()"
   ],
   "metadata": {
    "collapsed": false,
    "ExecuteTime": {
     "end_time": "2023-11-03T00:03:03.257126Z",
     "start_time": "2023-11-03T00:03:02.735047Z"
    }
   },
   "id": "b26794e3943356d8"
  },
  {
   "cell_type": "markdown",
   "source": [
    "A risk factor of 86 is still highly unusual, but we will leave it in for now as this is only an example."
   ],
   "metadata": {
    "collapsed": false
   },
   "id": "45ca4f2f6a8f1e10"
  },
  {
   "cell_type": "markdown",
   "source": [
    "It's always helpful to visualize data when getting acquainted, so let's examine a few features together. We'll look at the correlation between the withdraw_deposit_diff_If_positive_eth, withdraw_amount_sum_eth, and deposit_amount_sum_eth features.\n",
    "\n",
    "\n",
    "These defi features represent the total amount of eth withdrawn, deposited, and the difference between the two."
   ],
   "metadata": {
    "collapsed": false
   },
   "id": "ba2bfaf4526b19bf"
  },
  {
   "cell_type": "code",
   "execution_count": 38,
   "outputs": [
    {
     "data": {
      "text/plain": "<Figure size 640x480 with 2 Axes>",
      "image/png": "[encoded data removed]"
     },
     "metadata": {},
     "output_type": "display_data"
    }
   ],
   "source": [
    "import matplotlib.pyplot as mp \n",
    "import seaborn as sb \n",
    "dataplot = sb.heatmap(training_dataframe[['withdraw_deposit_diff_If_positive_eth', 'withdraw_amount_sum_eth', 'deposit_amount_sum_eth' ]].corr(), annot=True) \n",
    "mp.show() "
   ],
   "metadata": {
    "collapsed": false,
    "ExecuteTime": {
     "end_time": "2023-11-03T00:08:12.640452Z",
     "start_time": "2023-11-03T00:08:12.496626Z"
    }
   },
   "id": "607fd60bd0291df1"
  },
  {
   "cell_type": "markdown",
   "source": [
    "These features represent actions on opposite ends of the lending lifecycle, so we could reasonably expect there to be some correlation for many samples.\n",
    "\n",
    "withdraw_amount_sum_eth and deposit_amount_sum_eth are highly correlated, so we'll move to drop withdraw_amount_sum_eth from our training set. In practice it would be beneficial to examine the correlation between other features and understand why some of these may be correlated or not.  "
   ],
   "metadata": {
    "collapsed": false
   },
   "id": "11216ac3f0af75dd"
  },
  {
   "cell_type": "code",
   "execution_count": 41,
   "outputs": [],
   "source": [
    "training_dataframe = duckdb.query((f\"\"\"\n",
    "select * from '{'0xB79CDBC5Cd94a807CC5cc761e3eF4A6B9baC8939_training_data.parquet'}'\n",
    "where max_risk_factor < 100\n",
    "\"\"\")).df().drop(columns=['withdraw_amount_sum_eth'], inplace=False)"
   ],
   "metadata": {
    "collapsed": false,
    "ExecuteTime": {
     "end_time": "2023-11-03T00:14:22.248228Z",
     "start_time": "2023-11-03T00:14:21.622139Z"
    }
   },
   "id": "78bebe45b9fc2f34"
  },
  {
   "cell_type": "markdown",
   "source": [
    "For this example we'll conclude our eda, and move to modelling. During the challenge you should spend time exploring the data and generating features.There is no shortage of exciting onchain activity that could be used to generate features, and we encourage you to be creative. \n",
    "\n",
    "\n",
    "Features derived from activity on other lending protocols, other chains, non-fungibile token value, and decentralized exchanges positions have all been proven to be relevant in our previous work. "
   ],
   "metadata": {
    "collapsed": false
   },
   "id": "a3272d11c57031c8"
  },
  {
   "cell_type": "markdown",
   "source": [
    "## Modeling"
   ],
   "metadata": {
    "collapsed": false
   },
   "id": "8bc50f29efb96b25"
  },
  {
   "cell_type": "markdown",
   "source": [
    "### Train an example logistic regression model using the datasets above\n",
    "\n",
    "This is purely an example, in no way is this a \"good\" model. It is simply a demonstration of how to train a model using the datasets above. We also don't care much about accuracy alone, only a simple example."
   ],
   "metadata": {
    "collapsed": false
   },
   "id": "a359743fc44d65ac"
  }
 ],
 "metadata": {
  "kernelspec": {
   "display_name": "Python 3",
   "language": "python",
   "name": "python3"
  },
  "language_info": {
   "codemirror_mode": {
    "name": "ipython",
    "version": 2
   },
   "file_extension": ".py",
   "mimetype": "text/x-python",
   "name": "python",
   "nbconvert_exporter": "python",
   "pygments_lexer": "ipython2",
   "version": "2.7.6"
  }
 },
 "nbformat": 4,
 "nbformat_minor": 5
}
