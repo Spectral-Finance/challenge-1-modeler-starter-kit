{
 "cells": [
  {
   "cell_type": "markdown",
   "id": "1680b5e722b122ab",
   "metadata": {
    "collapsed": false
   },
   "source": [
    "# Modeler Starter Kit\n",
    "This notebook will walk you through the entire challenge lifecycle, from fetching the training data, to training a model, to submitting your model for evaluation.\n",
    "\n",
    "There are two phases of outputs required to submit a model for evaluation:\n",
    "- Phase 1: Commit to a model with an onnx file and input_data.\n",
    "- Phase 2: Generate a file that contains test set predictions and the feature values required to generate those predictions. \n",
    "\n",
    "After both phases, you will have a submission directory with three files\n",
    "1. model_1.onnx\n",
    "2. model_1_calibration.json\n",
    "3. submission.parquet\n"
   ]
  },
  {
   "cell_type": "markdown",
   "id": "b0b7393429d94fe3",
   "metadata": {
    "collapsed": false
   },
   "source": [
    "## Fetch Training Data\n",
    "The following code will allow you to download the training dataset for this competition using the Spectral CLI.\n",
    "\n",
    "The training dataset is a tabular file, where each row represents a borrow event at the specified timestamp. \n",
    "\n",
    "Each row contains a timestamp and Ethereum block number, the wallet address that initiated the borrow transaction, a list of features including borrower and market activity, and a binary target variable indicating if the borrower was liquidated within 30 days of the borrow event.\n",
    "\n",
    "[See our data dictionary for a full list of features, their types, and descriptions.](https://docs.spectral.finance/modeler-handbook/2.-model-training/step-3-fetch-training-dataset)\n",
    "\n",
    "During testing and consumption, you will be given all of these values aside from the target variable. Your model will be evaluated on the ability to predict the target variable for each sample in the test set.\n",
    "\n"
   ]
  },
  {
   "cell_type": "code",
   "execution_count": 1,
   "id": "e032ae5292d5fea",
   "metadata": {
    "collapsed": false,
    "ExecuteTime": {
     "end_time": "2023-11-14T18:27:39.063227Z",
     "start_time": "2023-11-14T18:27:35.050029Z"
    }
   },
   "outputs": [
    {
     "name": "stdout",
     "output_type": "stream",
     "text": [
      "100%|███████████████████████████████████████| 112M/112M [00:02<00:00, 51.4MiB/s]\r\n",
      "Training dataset successfully downloaded!\r\n"
     ]
    }
   ],
   "source": [
    "# Download Training Data\n",
    "!spectral-cli fetch-training-data 0x0163655101Dd34f5a7D8cC9c52Fa60AfcED1c929"
   ]
  },
  {
   "cell_type": "markdown",
   "id": "c8201b5a34215e1b",
   "metadata": {
    "collapsed": false
   },
   "source": [
    "This file should be around 112MB, if you have a file only a few kb in size try using a VPN as IPFS is often blocked by some internet service providers."
   ]
  },
  {
   "cell_type": "markdown",
   "id": "665c55cfee641ca8",
   "metadata": {
    "collapsed": false
   },
   "source": [
    "Examine a subset of the dataset"
   ]
  },
  {
   "cell_type": "code",
   "execution_count": 2,
   "id": "61ccd97507a633f9",
   "metadata": {
    "collapsed": false,
    "ExecuteTime": {
     "end_time": "2023-11-14T18:27:39.149881Z",
     "start_time": "2023-11-14T18:27:39.064728Z"
    }
   },
   "outputs": [
    {
     "data": {
      "text/plain": "   borrow_block_number  borrow_timestamp  \\\n0              7711117      1.557197e+09   \n1              7711123      1.557197e+09   \n2              7711126      1.557197e+09   \n3              7711672      1.557205e+09   \n4              7712572      1.557217e+09   \n5              7715069      1.557250e+09   \n6              7715078      1.557251e+09   \n7              7715985      1.557263e+09   \n8              7716888      1.557276e+09   \n9              7717003      1.557277e+09   \n\n                               wallet_address  target  \\\n0  0x502cb8985b2c92a8d4bf309cdaa89de9be442708       1   \n1  0x502cb8985b2c92a8d4bf309cdaa89de9be442708       1   \n2  0x502cb8985b2c92a8d4bf309cdaa89de9be442708       1   \n3  0xa7ff0d561cd15ed525e31bbe0af3fe34ac2059f6       0   \n4  0xbd9ed130a53cfafcf81502e4d35329a6c4d53410       0   \n5  0x502cb8985b2c92a8d4bf309cdaa89de9be442708       1   \n6  0x502cb8985b2c92a8d4bf309cdaa89de9be442708       1   \n7  0x502cb8985b2c92a8d4bf309cdaa89de9be442708       1   \n8  0x502cb8985b2c92a8d4bf309cdaa89de9be442708       1   \n9  0x502cb8985b2c92a8d4bf309cdaa89de9be442708       1   \n\n   unique_borrow_protocol_count  unique_lending_protocol_count  \\\n0                             0                              1   \n1                             1                              1   \n2                             1                              1   \n3                             0                              1   \n4                             0                              1   \n5                             1                              1   \n6                             1                              1   \n7                             1                              1   \n8                             1                              1   \n9                             1                              1   \n\n   total_collateral_eth  misc_available_borrows_eth  risk_factor  \\\n0             44.479139                   31.575270     0.000001   \n1             44.479139                   31.418863     0.004953   \n2             44.479139                   31.035236     0.017103   \n3              0.000767                    0.000460     0.000001   \n4              0.010000                    0.007500     0.000001   \n5             44.488424                   30.059852     0.048606   \n6             44.430545                   29.912079     0.052241   \n7             51.316928                   28.781848     0.088052   \n8             58.791139                   38.667542     0.081422   \n9             60.268602                   33.574491     0.221625   \n\n   risk_factor_above_threshold_daily_count  ...  total_balance_eth  \\\n0                                      0.0  ...          58.317987   \n1                                      0.0  ...          58.317987   \n2                                      0.0  ...          58.317987   \n3                                      0.0  ...           0.000000   \n4                                      0.0  ...           0.000000   \n5                                      0.0  ...          58.317987   \n6                                      0.0  ...          58.317987   \n7                                      0.0  ...          58.317987   \n8                                      0.0  ...           3.127926   \n9                                      0.0  ...           3.127926   \n\n   withdraw_amount_sum_eth  borrow_amount_sum_eth  borrow_amount_avg_eth  \\\n0                      0.0               0.000000               0.000000   \n1                      0.0               0.157110               0.157110   \n2                      0.0               0.543275               0.271637   \n3                      0.0               0.000000               0.000000   \n4                      0.0               0.000000               0.000000   \n5                      0.0               1.543275               0.514425   \n6                      0.0               1.543275               0.514425   \n7                      0.0               2.749083               0.687271   \n8                      0.0               3.320086               0.664017   \n9                      0.0               9.247470               1.541245   \n\n   borrow_count  repay_amount_sum_eth  repay_amount_avg_eth  repay_count  \\\n0             0                   0.0                   0.0            0   \n1             1                   0.0                   0.0            0   \n2             2                   0.0                   0.0            0   \n3             0                   0.0                   0.0            0   \n4             0                   0.0                   0.0            0   \n5             3                   0.0                   0.0            0   \n6             4                   0.0                   0.0            0   \n7             5                   0.0                   0.0            0   \n8             6                   0.0                   0.0            0   \n9             7                   0.0                   0.0            0   \n\n   borrow_repay_diff_eth  withdraw_deposit_diff_If_positive_eth  \n0               0.000000                                    0.0  \n1               0.157110                                    0.0  \n2               0.543275                                    0.0  \n3               0.000000                                    0.0  \n4               0.000000                                    0.0  \n5               1.543275                                    0.0  \n6               1.543275                                    0.0  \n7               2.749083                                    0.0  \n8               3.320086                                    0.0  \n9               9.247470                                    0.0  \n\n[10 rows x 78 columns]",
      "text/html": "<div>\n<style scoped>\n    .dataframe tbody tr th:only-of-type {\n        vertical-align: middle;\n    }\n\n    .dataframe tbody tr th {\n        vertical-align: top;\n    }\n\n    .dataframe thead th {\n        text-align: right;\n    }\n</style>\n<table border=\"1\" class=\"dataframe\">\n  <thead>\n    <tr style=\"text-align: right;\">\n      <th></th>\n      <th>borrow_block_number</th>\n      <th>borrow_timestamp</th>\n      <th>wallet_address</th>\n      <th>target</th>\n      <th>unique_borrow_protocol_count</th>\n      <th>unique_lending_protocol_count</th>\n      <th>total_collateral_eth</th>\n      <th>misc_available_borrows_eth</th>\n      <th>risk_factor</th>\n      <th>risk_factor_above_threshold_daily_count</th>\n      <th>...</th>\n      <th>total_balance_eth</th>\n      <th>withdraw_amount_sum_eth</th>\n      <th>borrow_amount_sum_eth</th>\n      <th>borrow_amount_avg_eth</th>\n      <th>borrow_count</th>\n      <th>repay_amount_sum_eth</th>\n      <th>repay_amount_avg_eth</th>\n      <th>repay_count</th>\n      <th>borrow_repay_diff_eth</th>\n      <th>withdraw_deposit_diff_If_positive_eth</th>\n    </tr>\n  </thead>\n  <tbody>\n    <tr>\n      <th>0</th>\n      <td>7711117</td>\n      <td>1.557197e+09</td>\n      <td>0x502cb8985b2c92a8d4bf309cdaa89de9be442708</td>\n      <td>1</td>\n      <td>0</td>\n      <td>1</td>\n      <td>44.479139</td>\n      <td>31.575270</td>\n      <td>0.000001</td>\n      <td>0.0</td>\n      <td>...</td>\n      <td>58.317987</td>\n      <td>0.0</td>\n      <td>0.000000</td>\n      <td>0.000000</td>\n      <td>0</td>\n      <td>0.0</td>\n      <td>0.0</td>\n      <td>0</td>\n      <td>0.000000</td>\n      <td>0.0</td>\n    </tr>\n    <tr>\n      <th>1</th>\n      <td>7711123</td>\n      <td>1.557197e+09</td>\n      <td>0x502cb8985b2c92a8d4bf309cdaa89de9be442708</td>\n      <td>1</td>\n      <td>1</td>\n      <td>1</td>\n      <td>44.479139</td>\n      <td>31.418863</td>\n      <td>0.004953</td>\n      <td>0.0</td>\n      <td>...</td>\n      <td>58.317987</td>\n      <td>0.0</td>\n      <td>0.157110</td>\n      <td>0.157110</td>\n      <td>1</td>\n      <td>0.0</td>\n      <td>0.0</td>\n      <td>0</td>\n      <td>0.157110</td>\n      <td>0.0</td>\n    </tr>\n    <tr>\n      <th>2</th>\n      <td>7711126</td>\n      <td>1.557197e+09</td>\n      <td>0x502cb8985b2c92a8d4bf309cdaa89de9be442708</td>\n      <td>1</td>\n      <td>1</td>\n      <td>1</td>\n      <td>44.479139</td>\n      <td>31.035236</td>\n      <td>0.017103</td>\n      <td>0.0</td>\n      <td>...</td>\n      <td>58.317987</td>\n      <td>0.0</td>\n      <td>0.543275</td>\n      <td>0.271637</td>\n      <td>2</td>\n      <td>0.0</td>\n      <td>0.0</td>\n      <td>0</td>\n      <td>0.543275</td>\n      <td>0.0</td>\n    </tr>\n    <tr>\n      <th>3</th>\n      <td>7711672</td>\n      <td>1.557205e+09</td>\n      <td>0xa7ff0d561cd15ed525e31bbe0af3fe34ac2059f6</td>\n      <td>0</td>\n      <td>0</td>\n      <td>1</td>\n      <td>0.000767</td>\n      <td>0.000460</td>\n      <td>0.000001</td>\n      <td>0.0</td>\n      <td>...</td>\n      <td>0.000000</td>\n      <td>0.0</td>\n      <td>0.000000</td>\n      <td>0.000000</td>\n      <td>0</td>\n      <td>0.0</td>\n      <td>0.0</td>\n      <td>0</td>\n      <td>0.000000</td>\n      <td>0.0</td>\n    </tr>\n    <tr>\n      <th>4</th>\n      <td>7712572</td>\n      <td>1.557217e+09</td>\n      <td>0xbd9ed130a53cfafcf81502e4d35329a6c4d53410</td>\n      <td>0</td>\n      <td>0</td>\n      <td>1</td>\n      <td>0.010000</td>\n      <td>0.007500</td>\n      <td>0.000001</td>\n      <td>0.0</td>\n      <td>...</td>\n      <td>0.000000</td>\n      <td>0.0</td>\n      <td>0.000000</td>\n      <td>0.000000</td>\n      <td>0</td>\n      <td>0.0</td>\n      <td>0.0</td>\n      <td>0</td>\n      <td>0.000000</td>\n      <td>0.0</td>\n    </tr>\n    <tr>\n      <th>5</th>\n      <td>7715069</td>\n      <td>1.557250e+09</td>\n      <td>0x502cb8985b2c92a8d4bf309cdaa89de9be442708</td>\n      <td>1</td>\n      <td>1</td>\n      <td>1</td>\n      <td>44.488424</td>\n      <td>30.059852</td>\n      <td>0.048606</td>\n      <td>0.0</td>\n      <td>...</td>\n      <td>58.317987</td>\n      <td>0.0</td>\n      <td>1.543275</td>\n      <td>0.514425</td>\n      <td>3</td>\n      <td>0.0</td>\n      <td>0.0</td>\n      <td>0</td>\n      <td>1.543275</td>\n      <td>0.0</td>\n    </tr>\n    <tr>\n      <th>6</th>\n      <td>7715078</td>\n      <td>1.557251e+09</td>\n      <td>0x502cb8985b2c92a8d4bf309cdaa89de9be442708</td>\n      <td>1</td>\n      <td>1</td>\n      <td>1</td>\n      <td>44.430545</td>\n      <td>29.912079</td>\n      <td>0.052241</td>\n      <td>0.0</td>\n      <td>...</td>\n      <td>58.317987</td>\n      <td>0.0</td>\n      <td>1.543275</td>\n      <td>0.514425</td>\n      <td>4</td>\n      <td>0.0</td>\n      <td>0.0</td>\n      <td>0</td>\n      <td>1.543275</td>\n      <td>0.0</td>\n    </tr>\n    <tr>\n      <th>7</th>\n      <td>7715985</td>\n      <td>1.557263e+09</td>\n      <td>0x502cb8985b2c92a8d4bf309cdaa89de9be442708</td>\n      <td>1</td>\n      <td>1</td>\n      <td>1</td>\n      <td>51.316928</td>\n      <td>28.781848</td>\n      <td>0.088052</td>\n      <td>0.0</td>\n      <td>...</td>\n      <td>58.317987</td>\n      <td>0.0</td>\n      <td>2.749083</td>\n      <td>0.687271</td>\n      <td>5</td>\n      <td>0.0</td>\n      <td>0.0</td>\n      <td>0</td>\n      <td>2.749083</td>\n      <td>0.0</td>\n    </tr>\n    <tr>\n      <th>8</th>\n      <td>7716888</td>\n      <td>1.557276e+09</td>\n      <td>0x502cb8985b2c92a8d4bf309cdaa89de9be442708</td>\n      <td>1</td>\n      <td>1</td>\n      <td>1</td>\n      <td>58.791139</td>\n      <td>38.667542</td>\n      <td>0.081422</td>\n      <td>0.0</td>\n      <td>...</td>\n      <td>3.127926</td>\n      <td>0.0</td>\n      <td>3.320086</td>\n      <td>0.664017</td>\n      <td>6</td>\n      <td>0.0</td>\n      <td>0.0</td>\n      <td>0</td>\n      <td>3.320086</td>\n      <td>0.0</td>\n    </tr>\n    <tr>\n      <th>9</th>\n      <td>7717003</td>\n      <td>1.557277e+09</td>\n      <td>0x502cb8985b2c92a8d4bf309cdaa89de9be442708</td>\n      <td>1</td>\n      <td>1</td>\n      <td>1</td>\n      <td>60.268602</td>\n      <td>33.574491</td>\n      <td>0.221625</td>\n      <td>0.0</td>\n      <td>...</td>\n      <td>3.127926</td>\n      <td>0.0</td>\n      <td>9.247470</td>\n      <td>1.541245</td>\n      <td>7</td>\n      <td>0.0</td>\n      <td>0.0</td>\n      <td>0</td>\n      <td>9.247470</td>\n      <td>0.0</td>\n    </tr>\n  </tbody>\n</table>\n<p>10 rows × 78 columns</p>\n</div>"
     },
     "execution_count": 2,
     "metadata": {},
     "output_type": "execute_result"
    }
   ],
   "source": [
    "import duckdb\n",
    "# DuckDB is an In-process SQL OLAP database management system.\n",
    "# The .df() method converts the result of a query to a pandas dataframe\n",
    "\n",
    "duckdb.query((f\"\"\"\n",
    "select * from '{'0x0163655101Dd34f5a7D8cC9c52Fa60AfcED1c929_training_data.parquet'}' limit 10\n",
    "\"\"\")).df()"
   ]
  },
  {
   "cell_type": "markdown",
   "id": "381973f7a440e1c1",
   "metadata": {
    "collapsed": false
   },
   "source": [
    "You may choose to use any subset of the data above to train your model. We guarantee the availability of this data during the challenge lifespan.\n",
    "You may also supplement this set with external data, however, you will be responsible for hosting and serving this data during testing and consumption."
   ]
  },
  {
   "cell_type": "markdown",
   "id": "bbd842b1cf28d677",
   "metadata": {
    "collapsed": false
   },
   "source": [
    "## Exploratory Data Analysis\n",
    "\n",
    "You may use any tools you wish to explore the data and generate features. \n",
    "\n",
    "As an example, we examine the max_risk_factor feature, look for potential outliers, consider dropping those samples, and look for correlated features. \n",
    "\n",
    "A borrower's risk_factor is defined as 1 / their minimum health factor across DeFi protocols.\n",
    "\n",
    "For a background on health factors, see Aave's documentation [here](https://docs.aave.com/risk/v/aave-v2/asset-risk/risk-parameters#health-factor)."
   ]
  },
  {
   "cell_type": "code",
   "execution_count": 3,
   "id": "a2588fd7f7802985",
   "metadata": {
    "collapsed": false,
    "ExecuteTime": {
     "end_time": "2023-11-14T18:27:39.818613Z",
     "start_time": "2023-11-14T18:27:39.150270Z"
    }
   },
   "outputs": [
    {
     "data": {
      "text/plain": "count    4.406890e+05\nmean     2.885612e+08\nstd      3.237624e+10\nmin      0.000000e+00\n25%      3.829586e-01\n50%      7.578586e-01\n75%      9.122225e-01\nmax      3.633082e+12\nName: max_risk_factor, dtype: float64"
     },
     "execution_count": 3,
     "metadata": {},
     "output_type": "execute_result"
    }
   ],
   "source": [
    "training_dataframe = duckdb.query((f\"\"\"\n",
    "select * from '{'0x0163655101Dd34f5a7D8cC9c52Fa60AfcED1c929_training_data.parquet'}'\n",
    "\"\"\")).df()\n",
    "training_dataframe['max_risk_factor'].describe()"
   ]
  },
  {
   "cell_type": "markdown",
   "id": "d41ba80974e514dc",
   "metadata": {
    "collapsed": false
   },
   "source": [
    "The max value listed above is far greater than the majority of samples, and may be an outlier. A risk factor over one is uncommon, so a value this large could be due to a highly irregular onchain action, an error in data fetching, or an error dataset construction. \n",
    "\n",
    "\n",
    "\n",
    "We should examine samples with high values of this feature."
   ]
  },
  {
   "cell_type": "code",
   "execution_count": 4,
   "id": "e99f56b514ba5b06",
   "metadata": {
    "collapsed": false,
    "ExecuteTime": {
     "end_time": "2023-11-14T18:27:39.861976Z",
     "start_time": "2023-11-14T18:27:39.823126Z"
    }
   },
   "outputs": [
    {
     "data": {
      "text/plain": "   unusually_high_risk_factor_address\n0                                  61",
      "text/html": "<div>\n<style scoped>\n    .dataframe tbody tr th:only-of-type {\n        vertical-align: middle;\n    }\n\n    .dataframe tbody tr th {\n        vertical-align: top;\n    }\n\n    .dataframe thead th {\n        text-align: right;\n    }\n</style>\n<table border=\"1\" class=\"dataframe\">\n  <thead>\n    <tr style=\"text-align: right;\">\n      <th></th>\n      <th>unusually_high_risk_factor_address</th>\n    </tr>\n  </thead>\n  <tbody>\n    <tr>\n      <th>0</th>\n      <td>61</td>\n    </tr>\n  </tbody>\n</table>\n</div>"
     },
     "execution_count": 4,
     "metadata": {},
     "output_type": "execute_result"
    }
   ],
   "source": [
    "duckdb.query((f\"\"\"\n",
    "select count(distinct(wallet_address)) as unusually_high_risk_factor_address \n",
    "from '{'0x0163655101Dd34f5a7D8cC9c52Fa60AfcED1c929_training_data.parquet'}'\n",
    "where max_risk_factor > 100\n",
    "\"\"\")).df()"
   ]
  },
  {
   "cell_type": "markdown",
   "id": "b176b8a0293d6890",
   "metadata": {
    "collapsed": false
   },
   "source": [
    "There are 61 addresses with this unusually high value, let's remove all samples with a risk factor over 100 from training. "
   ]
  },
  {
   "cell_type": "code",
   "execution_count": 5,
   "id": "b26794e3943356d8",
   "metadata": {
    "collapsed": false,
    "ExecuteTime": {
     "end_time": "2023-11-14T18:27:40.570013Z",
     "start_time": "2023-11-14T18:27:39.862635Z"
    }
   },
   "outputs": [
    {
     "data": {
      "text/plain": "count    438906.000000\nmean          0.789639\nstd           2.281565\nmin           0.000000\n25%           0.378455\n50%           0.756124\n75%           0.909860\nmax          86.364163\nName: max_risk_factor, dtype: float64"
     },
     "execution_count": 5,
     "metadata": {},
     "output_type": "execute_result"
    }
   ],
   "source": [
    "training_dataframe = duckdb.query((f\"\"\"\n",
    "select * from '{'0x0163655101Dd34f5a7D8cC9c52Fa60AfcED1c929_training_data.parquet'}'\n",
    "where max_risk_factor < 100\n",
    "\"\"\")).df()\n",
    "training_dataframe['max_risk_factor'].describe()"
   ]
  },
  {
   "cell_type": "markdown",
   "id": "45ca4f2f6a8f1e10",
   "metadata": {
    "collapsed": false
   },
   "source": [
    "A risk factor of 86 is still highly unusual, but we will leave it in for now as this is only an example."
   ]
  },
  {
   "cell_type": "markdown",
   "id": "ba2bfaf4526b19bf",
   "metadata": {
    "collapsed": false
   },
   "source": [
    "It's always helpful to visualize data when getting acquainted, so let's examine a few features together. We'll look at the correlation between the withdraw_deposit_diff_If_positive_eth, withdraw_amount_sum_eth, and deposit_amount_sum_eth features.\n",
    "\n",
    "\n",
    "These DeFi features represent the total amount of eth withdrawn, eth deposited, and the difference between the two."
   ]
  },
  {
   "cell_type": "code",
   "execution_count": 6,
   "id": "607fd60bd0291df1",
   "metadata": {
    "collapsed": false,
    "ExecuteTime": {
     "end_time": "2023-11-14T18:27:40.844376Z",
     "start_time": "2023-11-14T18:27:40.570681Z"
    }
   },
   "outputs": [
    {
     "data": {
      "text/plain": "<Figure size 640x480 with 2 Axes>",
      "image/png": "[encoded data removed]"
     },
     "metadata": {},
     "output_type": "display_data"
    }
   ],
   "source": [
    "import matplotlib.pyplot as mp \n",
    "import seaborn as sb \n",
    "dataplot = sb.heatmap(training_dataframe[['withdraw_deposit_diff_If_positive_eth',\n",
    "                                          'withdraw_amount_sum_eth',\n",
    "                                          'deposit_amount_sum_eth' ]].corr(), annot=True) \n",
    "mp.show() "
   ]
  },
  {
   "cell_type": "markdown",
   "id": "11216ac3f0af75dd",
   "metadata": {
    "collapsed": false
   },
   "source": [
    "These features represent actions on opposite ends of the lending lifecycle, so we could reasonably expect there to be some correlation for many samples.\n",
    "\n",
    "withdraw_amount_sum_eth and deposit_amount_sum_eth are highly correlated, so we'll move to drop withdraw_amount_sum_eth from our training set. In practice, it would be beneficial to examine the correlation between other features and understand why some of these may be correlated or not.  "
   ]
  },
  {
   "cell_type": "markdown",
   "id": "a3272d11c57031c8",
   "metadata": {
    "collapsed": false
   },
   "source": [
    "For this example we'll conclude our analysis, and move to modelling. During the challenge you should spend time exploring the data and generating features. There is no shortage of exciting onchain activity that could be used to generate features, and we encourage you to be creative. \n",
    "\n",
    "\n",
    "Features derived from activity on other lending protocols, other chains, non-fungible token value, and decentralized exchange positions have all proven to be relevant in our previous work. Want to discuss with other modelers and our team? Join our [Discord](https://discord.gg/w7mKT2KBKh)"
   ]
  },
  {
   "cell_type": "markdown",
   "id": "8bc50f29efb96b25",
   "metadata": {
    "collapsed": false
   },
   "source": [
    "## Modeling\n",
    "\n",
    "**The only supported models for this challenge are:**\n",
    "- Neural networks using PyTorch (other than recurrent neural networks, e.g., LSTM) \n",
    "- and logistic regression using PyTorch\n",
    "\n",
    "**If you use a model that does not meet the criteria above, you will be unable to participate in this challenge**"
   ]
  },
  {
   "cell_type": "markdown",
   "id": "52172e2fcd26e285",
   "metadata": {
    "collapsed": false
   },
   "source": [
    "### Train a neural net using the provided dataset\n",
    "\n",
    "This model is strictly for example purposes and is not intended to be a model that places high in this challenge. \n",
    "You should not make assumptions based on this model that this is how the problem should be approached. \n",
    "\n",
    "\n",
    "In particular, you should not assume:\n",
    "- anything about the relevancy of features and samples dropped above\n",
    "- that ReLU is the ideal activation function (or any other architecture specifics defined herein)"
   ]
  },
  {
   "cell_type": "code",
   "execution_count": 7,
   "id": "0d96b25c-1760-42d5-a3b9-8b61504b0b23",
   "metadata": {
    "ExecuteTime": {
     "end_time": "2023-11-14T18:27:41.402934Z",
     "start_time": "2023-11-14T18:27:40.839769Z"
    }
   },
   "outputs": [],
   "source": [
    "# Start by loading our training data\n",
    "import duckdb\n",
    "training_dataframe = duckdb.query((f\"\"\"\n",
    "select * from '{'0x0163655101Dd34f5a7D8cC9c52Fa60AfcED1c929_training_data.parquet'}'\n",
    "where max_risk_factor < 100\n",
    "\"\"\")).df().drop(columns=['withdraw_amount_sum_eth'], inplace=False)"
   ]
  },
  {
   "cell_type": "code",
   "execution_count": 8,
   "id": "8eb47db470503e9",
   "metadata": {
    "collapsed": false,
    "ExecuteTime": {
     "end_time": "2023-11-14T18:27:42.859909Z",
     "start_time": "2023-11-14T18:27:41.404510Z"
    }
   },
   "outputs": [],
   "source": [
    "import pandas as pd\n",
    "import numpy as np\n",
    "\n",
    "from sklearn.preprocessing import StandardScaler\n",
    "from sklearn.model_selection import train_test_split\n",
    "\n",
    "\n",
    "import torch\n",
    "import torch.nn as nn\n",
    "import torch.optim as optim\n",
    "from torch.utils.data import DataLoader\n",
    "\n",
    "import json\n",
    "from tqdm.auto import tqdm\n",
    "import time\n",
    "from timeit import default_timer as timer \n",
    "import random\n",
    "import os\n",
    "\n",
    "# Spectral Helpers (see helpers folder for more details on any of these\n",
    "from helpers.modeling import (TestData, TrainData, StratifiedBatchSampler,\n",
    "                              print_train_time, auc_fn, auroc_fn, auc_pr_fn,\n",
    "                              brier_fn, ks_fn, recall_fn, prob_diff_fn, f1_score_fn,\n",
    "                              train_step, test_step, eval_model, plot_loss_curves,\n",
    "                              ValidationLossEarlyStopping)\n",
    "\n",
    "# for reproducible results\n",
    "random_seed = 42\n",
    "np.random.seed(random_seed)\n",
    "torch.manual_seed(random_seed)\n",
    "torch.use_deterministic_algorithms(True, warn_only=True)\n",
    "torch.backends.cudnn.determenistic=True\n",
    "\n",
    "random.seed(random_seed)\n",
    "def seed_worker(worker_id):\n",
    "    worker_seed = random_seed\n",
    "    np.random.seed(worker_seed)\n",
    "    random.seed(worker_seed)\n",
    "g = torch.Generator()\n",
    "g.manual_seed(random_seed)\n",
    "\n",
    "#specifically required for reproducibility with CuBLABS and CUDA\n",
    "os.environ[\"CUBLAS_WORKSPACE_CONFIG\"] = \":4096:8\" \n",
    "os.environ[\"PYTHONHASHSEED\"] = str(random_seed)"
   ]
  },
  {
   "cell_type": "markdown",
   "id": "af8fcfbb734be3e3",
   "metadata": {
    "collapsed": false
   },
   "source": [
    "Realtime features are not yet available, so we'll use the same training dataset we defined above, and split it into training and testing sets."
   ]
  },
  {
   "cell_type": "code",
   "execution_count": 9,
   "id": "2cf01e507633537",
   "metadata": {
    "collapsed": false,
    "ExecuteTime": {
     "end_time": "2023-11-14T18:27:42.865732Z",
     "start_time": "2023-11-14T18:27:42.861345Z"
    }
   },
   "outputs": [],
   "source": [
    "# We're going to hold out ~10K samples for \"realtime\" testing while data api is down\n",
    "example_testing_samples = training_dataframe[-10_000:].drop_duplicates(subset=['wallet_address'], keep='first').reset_index(drop=True)\n",
    "training_dataframe = training_dataframe[:-10_000]"
   ]
  },
  {
   "cell_type": "code",
   "execution_count": 10,
   "id": "5068158ad351cca9",
   "metadata": {
    "collapsed": false,
    "ExecuteTime": {
     "end_time": "2023-11-14T18:27:43.265697Z",
     "start_time": "2023-11-14T18:27:42.866708Z"
    }
   },
   "outputs": [],
   "source": [
    "training_cols = list(training_dataframe.columns.drop(\n",
    "    ['borrow_timestamp', 'wallet_address', 'borrow_block_number', 'target']))\n",
    "\n",
    "\n",
    "\n",
    "X_train, X_test, y_train, y_test = train_test_split(training_dataframe[training_cols].to_numpy(),\n",
    "                                                    training_dataframe['target'].to_numpy(),\n",
    "                                                    test_size=0.2,\n",
    "                                                    random_state=random_seed)\n",
    "\n",
    "\n",
    "\n",
    "# Note that if you scale your training data, you must scale the test data in the same way\n",
    "sc = StandardScaler()\n",
    "X_train_scaled = sc.fit_transform(X_train)\n",
    "X_test_scaled = sc.transform(X_test)"
   ]
  },
  {
   "cell_type": "code",
   "execution_count": 11,
   "id": "743a9250c6387446",
   "metadata": {
    "collapsed": false,
    "ExecuteTime": {
     "end_time": "2023-11-14T18:27:43.291026Z",
     "start_time": "2023-11-14T18:27:43.266480Z"
    }
   },
   "outputs": [],
   "source": [
    "train_data = TrainData(torch.from_numpy(X_train_scaled).type(torch.float),\n",
    "                       torch.from_numpy(y_train).type(torch.float))\n",
    "\n",
    "test_data = TestData(torch.from_numpy(X_test_scaled).type(torch.float),\n",
    "                     torch.from_numpy(y_test).type(torch.float))"
   ]
  },
  {
   "cell_type": "code",
   "execution_count": 12,
   "id": "3abb51b7117f6398",
   "metadata": {
    "collapsed": false,
    "ExecuteTime": {
     "end_time": "2023-11-14T18:27:43.297341Z",
     "start_time": "2023-11-14T18:27:43.289267Z"
    }
   },
   "outputs": [
    {
     "name": "stdout",
     "output_type": "stream",
     "text": [
      "Dataloaders: (<torch.utils.data.dataloader.DataLoader object at 0x29e52cc10>, <torch.utils.data.dataloader.DataLoader object at 0x17706bb10>)\n",
      "Length of train dataloader: 101 batches of 3431\n",
      "Length of test dataloader: 26 batches of 3431\n",
      "Using number of workers: 0\n"
     ]
    }
   ],
   "source": [
    "NUM_WORKERS = 0 # use all available CPU cores with os.cpu_count(), if possible\n",
    "BATCH_SIZE = int(X_train.shape[0]/100) # ~1% of the training data\n",
    "# initialize DataLoaders\n",
    "train_dataloader = DataLoader(dataset=train_data,\n",
    "                              batch_sampler=StratifiedBatchSampler(torch.tensor(y_train), batch_size=BATCH_SIZE), \n",
    "                              worker_init_fn=seed_worker, \n",
    "                              generator=g,\n",
    "                              num_workers=NUM_WORKERS)\n",
    "test_dataloader = DataLoader(dataset=test_data, \n",
    "                             batch_size=BATCH_SIZE,\n",
    "                             shuffle=False,\n",
    "                             worker_init_fn=seed_worker,\n",
    "                             generator=g,\n",
    "                             num_workers=NUM_WORKERS)\n",
    "\n",
    "print(f'Dataloaders: {train_dataloader, test_dataloader}') \n",
    "print(f'Length of train dataloader: {len(train_dataloader)} batches of {BATCH_SIZE}')\n",
    "print(f'Length of test dataloader: {len(test_dataloader)} batches of {BATCH_SIZE}')\n",
    "print(f'Using number of workers: {NUM_WORKERS}')"
   ]
  },
  {
   "cell_type": "code",
   "execution_count": 13,
   "id": "4643ba2c1c96fa8",
   "metadata": {
    "collapsed": false,
    "ExecuteTime": {
     "end_time": "2023-11-14T18:27:43.345054Z",
     "start_time": "2023-11-14T18:27:43.295514Z"
    }
   },
   "outputs": [
    {
     "data": {
      "text/plain": "(torch.Size([3398, 73]), torch.Size([3398]))"
     },
     "execution_count": 13,
     "metadata": {},
     "output_type": "execute_result"
    }
   ],
   "source": [
    "# Check out what's inside the training dataloader\n",
    "train_features_batch, train_labels_batch = next(iter(train_dataloader))\n",
    "train_features_batch.shape, train_labels_batch.shape"
   ]
  },
  {
   "cell_type": "code",
   "execution_count": 14,
   "id": "50185f943de2a042",
   "metadata": {
    "collapsed": false,
    "ExecuteTime": {
     "end_time": "2023-11-14T18:27:43.360535Z",
     "start_time": "2023-11-14T18:27:43.345311Z"
    }
   },
   "outputs": [
    {
     "data": {
      "text/plain": "(torch.Size([3431, 73]), torch.Size([3431]))"
     },
     "execution_count": 14,
     "metadata": {},
     "output_type": "execute_result"
    }
   ],
   "source": [
    "# Check out what's inside the testing dataloader\n",
    "test_features_batch, test_labels_batch = next(iter(test_dataloader))\n",
    "test_features_batch.shape, test_labels_batch.shape"
   ]
  },
  {
   "cell_type": "code",
   "execution_count": 15,
   "id": "46e017e2f60e6a78",
   "metadata": {
    "collapsed": false,
    "ExecuteTime": {
     "end_time": "2023-11-14T18:27:43.363286Z",
     "start_time": "2023-11-14T18:27:43.360790Z"
    }
   },
   "outputs": [
    {
     "data": {
      "text/plain": "device(type='cpu')"
     },
     "execution_count": 15,
     "metadata": {},
     "output_type": "execute_result"
    }
   ],
   "source": [
    "device = torch.device('cuda' if torch.cuda.is_available() else 'cpu')\n",
    "device"
   ]
  },
  {
   "cell_type": "markdown",
   "id": "a05f73952909054b",
   "metadata": {
    "collapsed": false
   },
   "source": [
    "### Define an Example Model"
   ]
  },
  {
   "cell_type": "code",
   "execution_count": 16,
   "id": "70cf4c484410b95f",
   "metadata": {
    "collapsed": false,
    "ExecuteTime": {
     "end_time": "2023-11-14T18:27:43.403680Z",
     "start_time": "2023-11-14T18:27:43.364722Z"
    }
   },
   "outputs": [
    {
     "data": {
      "text/plain": "PredictLiquidationsV1(\n  (linear_layer_stack): Sequential(\n    (0): Linear(in_features=73, out_features=82, bias=True)\n    (1): ReLU()\n    (2): Dropout(p=0.2, inplace=False)\n    (3): Linear(in_features=82, out_features=82, bias=True)\n    (4): ReLU()\n    (5): Dropout(p=0.4, inplace=False)\n    (6): Linear(in_features=82, out_features=1, bias=True)\n    (7): Sigmoid()\n  )\n)"
     },
     "execution_count": 16,
     "metadata": {},
     "output_type": "execute_result"
    }
   ],
   "source": [
    "class PredictLiquidationsV1(nn.Module):\n",
    "    \"\"\"\n",
    "    The final layer should be a sigmoid, to get the probability of liquidation. \n",
    "    \"\"\"\n",
    "    def __init__(self, input_features, output_features, hidden_units):\n",
    "        super().__init__()\n",
    "        self.linear_layer_stack = nn.Sequential(\n",
    "            nn.Linear(in_features=input_features, out_features=hidden_units),\n",
    "            nn.ReLU(),\n",
    "            nn.Dropout(p = 0.2),\n",
    "            nn.Linear(in_features=hidden_units, out_features=hidden_units),\n",
    "            nn.ReLU(),\n",
    "            nn.Dropout(p = 0.4),\n",
    "            nn.Linear(in_features=hidden_units, out_features=output_features),\n",
    "            nn.Sigmoid()\n",
    "        )        \n",
    "        \n",
    "    def forward(self, x):\n",
    "        return self.linear_layer_stack(x)\n",
    "    \n",
    "# instantiate the model\n",
    "model_1 = PredictLiquidationsV1(input_features=X_train.shape[1],\n",
    "                                output_features=1,\n",
    "                                hidden_units=82).to(device)\n",
    "model_1"
   ]
  },
  {
   "cell_type": "code",
   "execution_count": 17,
   "id": "a99b3fc8cb1c1919",
   "metadata": {
    "collapsed": false,
    "ExecuteTime": {
     "end_time": "2023-11-14T18:27:43.403955Z",
     "start_time": "2023-11-14T18:27:43.368677Z"
    }
   },
   "outputs": [],
   "source": [
    "early_stopper = ValidationLossEarlyStopping(patience=1, min_delta=0.0)\n",
    "loss_fn = nn.BCELoss()\n",
    "optimizer = optim.Adam(params=model_1.parameters(),\n",
    "                       lr=0.001,\n",
    "                       weight_decay=0.01)"
   ]
  },
  {
   "cell_type": "code",
   "execution_count": null,
   "id": "a9c3c8dc41ca0251",
   "metadata": {
    "collapsed": false,
    "is_executing": true,
    "ExecuteTime": {
     "start_time": "2023-11-14T18:27:43.373598Z"
    }
   },
   "outputs": [
    {
     "data": {
      "text/plain": "  0%|          | 0/30 [00:00<?, ?it/s]",
      "application/vnd.jupyter.widget-view+json": {
       "version_major": 2,
       "version_minor": 0,
       "model_id": "4be958b8f353420297d218a3aa5f74a8"
      }
     },
     "metadata": {},
     "output_type": "display_data"
    },
    {
     "name": "stdout",
     "output_type": "stream",
     "text": [
      "Epoch: 0\n",
      "---------\n",
      "Training metrics:\n",
      "Loss: 0.57473 | Recall: 35.28% | F1-Score: 44.35% | AUROC: 73.21% | Brier Score: 19.51% | AUC PR: 67.93% | KS-Statistic: 37.97% | Pred Prob Diff: 16.60%\n",
      "Testing metrics:\n",
      "Loss: 0.49889 | Recall: 57.36% | F1-Score: 66.53% | AUROC: 80.80% | Brier Score: 16.29% | AUC PR: 77.95% | KS-Statistic: 49.62% | Pred Prob Diff: 32.96%\n",
      "Epoch: 5\n",
      "---------\n",
      "Training metrics:\n",
      "Loss: 0.46803 | Recall: 58.16% | F1-Score: 67.52% | AUROC: 83.27% | Brier Score: 15.18% | AUC PR: 80.22% | KS-Statistic: 51.65% | Pred Prob Diff: 39.83%\n",
      "Testing metrics:\n",
      "Loss: 0.46587 | Recall: 60.73% | F1-Score: 69.02% | AUROC: 83.27% | Brier Score: 15.11% | AUC PR: 80.79% | KS-Statistic: 52.42% | Pred Prob Diff: 42.43%\n",
      "Epoch: 10\n",
      "---------\n",
      "Training metrics:\n",
      "Loss: 0.46555 | Recall: 58.38% | F1-Score: 67.72% | AUROC: 83.53% | Brier Score: 15.09% | AUC PR: 80.45% | KS-Statistic: 52.05% | Pred Prob Diff: 40.19%\n",
      "Testing metrics:\n",
      "Loss: 0.46319 | Recall: 60.85% | F1-Score: 69.24% | AUROC: 83.86% | Brier Score: 15.00% | AUC PR: 81.17% | KS-Statistic: 52.93% | Pred Prob Diff: 42.46%\n",
      "Epoch: 15\n",
      "---------\n",
      "Training metrics:\n",
      "Loss: 0.46494 | Recall: 58.38% | F1-Score: 67.74% | AUROC: 83.59% | Brier Score: 15.06% | AUC PR: 80.51% | KS-Statistic: 52.15% | Pred Prob Diff: 40.21%\n",
      "Testing metrics:\n",
      "Loss: 0.46241 | Recall: 60.60% | F1-Score: 69.22% | AUROC: 83.94% | Brier Score: 14.97% | AUC PR: 81.23% | KS-Statistic: 53.11% | Pred Prob Diff: 42.03%\n"
     ]
    }
   ],
   "source": [
    "# Measure time\n",
    "train_time_start = timer()\n",
    "\n",
    "epochs = 30\n",
    "\n",
    "# Create empty loss lists to track values\n",
    "model_1_train_loss_values = []\n",
    "model_1_test_loss_values = []\n",
    "model_1_epoch_count = []\n",
    "\n",
    "for epoch in tqdm(range(epochs)):\n",
    "    if epoch % 5 == 0:\n",
    "        print(f\"Epoch: {epoch}\\n---------\")\n",
    "    train_metrics = train_step(data_loader=train_dataloader, \n",
    "                               model=model_1, \n",
    "                               epochs=epoch,\n",
    "                               loss_fn=loss_fn,\n",
    "                               optimizer=optimizer,\n",
    "                               auc_fn=auc_fn,\n",
    "                               recall_fn=recall_fn,\n",
    "                               f1_score_fn=f1_score_fn,\n",
    "                               auroc_fn=auroc_fn,\n",
    "                               brier_fn=brier_fn,\n",
    "                               auc_pr_fn=auc_pr_fn,\n",
    "                               ks_fn=ks_fn,\n",
    "                               prob_diff_fn=prob_diff_fn\n",
    "    )\n",
    "    test_metrics = test_step(data_loader=test_dataloader,\n",
    "                             model=model_1,\n",
    "                             epochs=epoch,\n",
    "                             loss_fn=loss_fn,\n",
    "                             auc_fn=auc_fn,\n",
    "                             recall_fn=recall_fn,\n",
    "                             f1_score_fn=f1_score_fn,\n",
    "                             auroc_fn=auroc_fn,\n",
    "                             brier_fn=brier_fn,\n",
    "                             auc_pr_fn=auc_pr_fn,\n",
    "                             ks_fn=ks_fn,\n",
    "                             prob_diff_fn=prob_diff_fn\n",
    "    )\n",
    "    model_1_epoch_count.append(epoch)\n",
    "    model_1_train_loss_values.append(train_metrics['loss'])\n",
    "    model_1_test_loss_values.append(test_metrics['loss'])\n",
    "    \n",
    "    if early_stopper.early_stop_check(test_metrics['loss']):\n",
    "        print(f\"Stopped early at epoch: {epoch}\\n---------\")\n",
    "        \n",
    "        print(f\"Training metrics:\\nLoss: {train_metrics['loss']:.5f} \"\n",
    "              f\"| Recall: {train_metrics['recall']:.2f}% | F1-Score: {train_metrics['f1']:.2f}% \"\n",
    "              f\"| AUROC: {train_metrics['auroc']:.2f}% | Brier Score: {train_metrics['brier']:.2f}% \"\n",
    "              f\"| AUC PR: {train_metrics['aucpr']:.2f}% | KS-Statistic: {train_metrics['ks']:.2f}% \"\n",
    "              f\"| Pred Prob Diff: {train_metrics['prob_diff']:.2f}%\")\n",
    "        \n",
    "        print(f\"Testing metrics:\\nLoss: {test_metrics['loss']:.5f} \"\n",
    "              f\"| Recall: {test_metrics['recall']:.2f}% | F1-Score: {test_metrics['f1']:.2f}% \"\n",
    "              f\"| AUROC: {test_metrics['auroc']:.2f}% | Brier Score: {test_metrics['brier']:.2f}% \"\n",
    "              f\"| AUC PR: {test_metrics['aucpr']:.2f}% | KS-Statistic: {test_metrics['ks']:.2f}% \"\n",
    "              f\"| Pred Prob Diff: {test_metrics['prob_diff']:.2f}%\")\n",
    "        break\n",
    "\n",
    "train_time_end = timer()\n",
    "total_train_time_model_1 = print_train_time(start=train_time_start,\n",
    "                                            end=train_time_end,\n",
    "                                            device=device)\n",
    "\n",
    "\n",
    "# If you see a red progress bar below that's due to the early stopping criteria being met\n",
    "# Not a cause for concern in this example"
   ]
  },
  {
   "cell_type": "code",
   "execution_count": null,
   "id": "cc86dcfcf8bd5fb7",
   "metadata": {
    "collapsed": false,
    "is_executing": true
   },
   "outputs": [],
   "source": [
    "plot_loss_curves(model_1_epoch_count, model_1_train_loss_values, model_1_test_loss_values)"
   ]
  },
  {
   "cell_type": "code",
   "execution_count": null,
   "id": "4ddad9e2be6c8e13",
   "metadata": {
    "collapsed": false,
    "is_executing": true
   },
   "outputs": [],
   "source": [
    "# Calculate model 1 results\n",
    "model_1_results = eval_model(model=model_1,\n",
    "                             data_loader=test_dataloader,\n",
    "                             loss_fn=loss_fn,\n",
    "                             auc_fn=auc_fn,\n",
    "                             recall_fn=recall_fn,\n",
    "                             f1_score_fn=f1_score_fn,\n",
    "                             auroc_fn=auroc_fn,\n",
    "                             brier_fn=brier_fn,\n",
    "                             auc_pr_fn=auc_pr_fn,\n",
    "                             ks_fn=ks_fn,\n",
    "                             prob_diff_fn=prob_diff_fn,\n",
    "                             device=device)\n",
    "model_1_results.update({'model_name': model_1.__class__.__name__})\n",
    "\n",
    "model_1_results"
   ]
  },
  {
   "cell_type": "markdown",
   "id": "b7f4e1fa0704530e",
   "metadata": {
    "collapsed": false
   },
   "source": [
    "# Submission Phase 1\n",
    "\n",
    "### Generate onnx file and input data json"
   ]
  },
  {
   "cell_type": "code",
   "execution_count": null,
   "id": "2b1b3768405ce0c8",
   "metadata": {
    "collapsed": false,
    "is_executing": true
   },
   "outputs": [],
   "source": [
    "# You will commit files in the submission directory\n",
    "# If one does not exist create it\n",
    "if not os.path.exists('submissions'):\n",
    "    os.makedirs('submissions')"
   ]
  },
  {
   "cell_type": "code",
   "execution_count": null,
   "id": "2a8fe707-5f5c-4cc3-b36d-6803ed8ce26a",
   "metadata": {
    "collapsed": false,
    "is_executing": true
   },
   "outputs": [],
   "source": [
    "model_1.eval()\n",
    "torch.onnx.export(model_1,\n",
    "                  torch.randn((1, X_train.shape[1]), requires_grad=True).to(device),\n",
    "                  'submissions/model_1.onnx',\n",
    "                  input_names=['input'],\n",
    "                  output_names=['output'],\n",
    "                  dynamic_axes={'input' : {0 : 'batch_size'}, \n",
    "                                'output' : {0 : 'batch_size'}})"
   ]
  },
  {
   "cell_type": "markdown",
   "id": "d70a649a-0b2e-4241-91a2-8dfca11ac490",
   "metadata": {},
   "source": [
    "Export an observation from the test dataset that will be used to calibrate the ezkl settings file.\n",
    "\n",
    "This list of feature values can be from the test data (as shown here) or a completely different sample that will be representative of the data seen in production. "
   ]
  },
  {
   "cell_type": "code",
   "execution_count": null,
   "id": "6673b392b442b77d",
   "metadata": {
    "collapsed": false,
    "is_executing": true
   },
   "outputs": [],
   "source": [
    "x = next(iter(test_features_batch)).numpy().tolist()\n",
    "data = dict(input_data=[x])\n",
    "json.dump(data, open('submissions/model_1_calibration.json', 'w'))"
   ]
  },
  {
   "cell_type": "markdown",
   "id": "c10cb78e2309cd3f",
   "metadata": {
    "collapsed": false
   },
   "source": [
    "### Commit to a Model\n",
    "\n",
    "**If this is your first time committing a model, you will need to configure the Spectral CLI.**\n",
    "\n",
    "Begin with Step 5 in our [Gitbook](https://docs.spectral.finance/modeler-handbook/3.-submission/step-5-configure-spectral-cli) and return here for Step 6's \"Submit model commitment (never the model itself!)\""
   ]
  },
  {
   "cell_type": "code",
   "execution_count": null,
   "id": "912924090436c546",
   "metadata": {
    "collapsed": false,
    "is_executing": true
   },
   "outputs": [],
   "source": [
    "!spectral-cli commit submissions/model_1.onnx submissions/model_1_calibration.json 0x0163655101Dd34f5a7D8cC9c52Fa60AfcED1c929"
   ]
  },
  {
   "cell_type": "markdown",
   "id": "a0a9efb66b1a15aa",
   "metadata": {
    "collapsed": false
   },
   "source": [
    "# Submission Phase 2\n",
    "### Generate Predictions File\n",
    "\n",
    "Each modeler will receive their unique test set and will be responsible for generating predictions for each sample in the test set.\n",
    "\n",
    "Currently, this process is an example submission only using the portion of the training data we held out above. In the future, this will be replaced with the test set of 10,000 addresses (you must reach out to us on Discord for instructions), and realtime feature values for each of these addresses. "
   ]
  },
  {
   "cell_type": "code",
   "execution_count": null,
   "outputs": [],
   "source": [
    "print(\"You must wait about 30 seconds between Phase 1 submission and fetching test set. Our Gitbook explains why.\")\n",
    "time.sleep(30)"
   ],
   "metadata": {
    "collapsed": false,
    "is_executing": true
   },
   "id": "a28c3eaf2b2062cb"
  },
  {
   "cell_type": "code",
   "execution_count": null,
   "id": "529d52885b1bcf89",
   "metadata": {
    "collapsed": false,
    "is_executing": true
   },
   "outputs": [],
   "source": [
    "# Generate predictions for each address in the test st\n",
    "wallet_address = example_testing_samples['wallet_address']\n",
    "example_testing_samples_scaled = sc.transform(example_testing_samples[training_cols])\n",
    "model_1.eval()\n",
    "with torch.inference_mode():\n",
    "    pol = model_1(torch.tensor(example_testing_samples_scaled).float().to(device)).squeeze().detach().cpu().numpy()\n",
    "submission_dataframe = pd.DataFrame(example_testing_samples_scaled, index=example_testing_samples.index, columns=example_testing_samples[training_cols].columns)\n",
    "submission_dataframe['wallet_address'] = wallet_address\n",
    "submission_dataframe['pred_prob'] = pol\n",
    "submission_dataframe.head()"
   ]
  },
  {
   "cell_type": "markdown",
   "id": "20c918e36be1151e",
   "metadata": {
    "collapsed": false
   },
   "source": [
    "As a modeler, you will choose to set the target variable to 1 if the probability of liquidation is greater than some threshold.\n",
    "\n",
    "In this example, we'll take the threshold to be 0.6, but you may find a different value is more appropriate (perhaps the one returned by the `auc_fn` function in `helpers.modeling`). \n",
    "\n",
    "This threshold should not be taken as a recommendation for the challenge and is only used for this example."
   ]
  },
  {
   "cell_type": "code",
   "execution_count": null,
   "id": "a280a666ac6db9d0",
   "metadata": {
    "collapsed": false,
    "is_executing": true
   },
   "outputs": [],
   "source": [
    "submission_dataframe['pred_label'] = (\n",
    "    submission_dataframe['pred_prob'].apply(lambda x: 1 if x > .6 else 0))"
   ]
  },
  {
   "cell_type": "markdown",
   "id": "8380201e6c154241",
   "metadata": {
    "collapsed": false
   },
   "source": [
    "Now, we need to format our dataframe correctly to meet the requirements for submission. Each row in the dataframe will consist of a wallet address, predicted probability, predicted target label, and the input features (without any feature names) used to generate the prediction.\n",
    "\n",
    "The input features (just the values) will be needed to (later) prove that the predictions are generated from the committed model from Phase 1.\n",
    "\n",
    "**The final submission file must follow the naming conventions below.** "
   ]
  },
  {
   "cell_type": "code",
   "execution_count": null,
   "id": "49d378d62c2e1b96",
   "metadata": {
    "collapsed": false,
    "is_executing": true
   },
   "outputs": [],
   "source": [
    "non_feature_cols = ['wallet_address', 'pred_prob', 'pred_label']\n",
    "for index, col in enumerate(submission_dataframe.columns):\n",
    "    if col not in non_feature_cols:\n",
    "        submission_dataframe.rename(columns={col: f'feature_{index+1}'}, inplace=True)"
   ]
  },
  {
   "cell_type": "code",
   "execution_count": null,
   "id": "773de7f1dca469fb",
   "metadata": {
    "collapsed": false,
    "is_executing": true
   },
   "outputs": [],
   "source": [
    "# We're also ordering the columns for readability, this step is optional\n",
    "cols_order_list = non_feature_cols + [col for col in submission_dataframe.columns if col not in non_feature_cols]\n",
    "submission_dataframe = submission_dataframe[cols_order_list]\n",
    "submission_dataframe.to_parquet('submissions/submission.parquet', index=False)\n",
    "submission_dataframe.head()"
   ]
  },
  {
   "cell_type": "markdown",
   "id": "2a5d3e57c4e398ab",
   "metadata": {
    "collapsed": false
   },
   "source": [
    "### Submit Predictions File\n",
    "Once a predictions file has been generated, and you are satisfied with the results, you may submit your predictions for evaluation.\n",
    "\n",
    "Prior to running this step ensure the Spectral CLI wallet is funded with gas for this transaction."
   ]
  },
  {
   "cell_type": "code",
   "execution_count": null,
   "id": "9f9d5c8d8be5195d",
   "metadata": {
    "collapsed": false,
    "is_executing": true
   },
   "outputs": [],
   "source": [
    "!spectral-cli submit-inferences 0x0163655101Dd34f5a7D8cC9c52Fa60AfcED1c929 submissions/submission.parquet"
   ]
  },
  {
   "cell_type": "markdown",
   "source": [
    "### Ensure that both the commitment and Submission transactions are successful and note the transaction hash for reference later. "
   ],
   "metadata": {
    "collapsed": false
   },
   "id": "267b88342e81fadd"
  }
 ],
 "metadata": {
  "kernelspec": {
   "display_name": "Python 3 (ipykernel)",
   "language": "python",
   "name": "python3"
  },
  "language_info": {
   "codemirror_mode": {
    "name": "ipython",
    "version": 3
   },
   "file_extension": ".py",
   "mimetype": "text/x-python",
   "name": "python",
   "nbconvert_exporter": "python",
   "pygments_lexer": "ipython3",
   "version": "3.11.3"
  }
 },
 "nbformat": 4,
 "nbformat_minor": 5
}
