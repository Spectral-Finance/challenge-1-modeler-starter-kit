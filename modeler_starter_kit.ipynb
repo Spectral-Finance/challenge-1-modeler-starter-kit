{
 "cells": [
  {
   "cell_type": "markdown",
   "id": "1680b5e722b122ab",
   "metadata": {
    "collapsed": false,
    "jupyter": {
     "outputs_hidden": false
    }
   },
   "source": [
    "# Modeler starter kit\n",
    "This notebook will guide you through the entire challenge lifecycle, covering everything from fetching the training data to training a model and submitting it for evaluation.\n",
    "\n",
    "There are three phases of outputs required to submit a model for evaluation:\n",
    "- Phase 1: Commit to a model with an ONNX file and a calibration data file (sample of the model's input data).\n",
    "- Phase 2: Generate a file that contains test set predictions and the (scaled) feature values required to generate those predictions.\n",
    "- Phase 3: Calculate and submit proofs that the predictions were generated from the committed model.\n",
    "\n",
    "Upon completing all phases, you will have a submission directory containing three files:\n",
    "1. `model_1.onnx`\n",
    "2. `model_1_calibration.json`\n",
    "3. `submission.parquet`"
   ]
  },
  {
   "cell_type": "markdown",
   "id": "b0b7393429d94fe3",
   "metadata": {
    "collapsed": false,
    "jupyter": {
     "outputs_hidden": false
    }
   },
   "source": [
    "## Fetch training data\n",
    "The following code will allow you to download the training dataset for this competition using the Spectral CLI.\n",
    "\n",
    "The training dataset is a tabular file, where each row represents a borrow event at the specified timestamp. Each row contains a timestamp and Ethereum block number, the wallet address initiating the borrow transaction, a list of features (including borrower and market activity), and a binary target variable indicating if the borrower was liquidated within 30 days of the borrow event.\n",
    "\n",
    "[Refer to our data dictionary for a comprehensive list of features, their types, and descriptions.](https://docs.spectral.finance/modeler-handbook/2.-model-training/step-3-fetch-training-dataset)\n",
    "\n",
    "During testing and consumption, you will receive all values except the target variable. Your model will be evaluated on the ability to predict the target variable for each sample in your unique test set within the thirty-day window following your submission."
   ]
  },
  {
   "cell_type": "code",
   "execution_count": 1,
   "id": "e032ae5292d5fea",
   "metadata": {
    "ExecuteTime": {
     "end_time": "2024-01-11T18:00:33.140826Z",
     "start_time": "2024-01-11T18:00:29.656587Z"
    },
    "collapsed": false,
    "jupyter": {
     "outputs_hidden": false
    }
   },
   "outputs": [
    {
     "name": "stdout",
     "output_type": "stream",
     "text": [
      "100%|███████████████████████████████████████| 112M/112M [00:01<00:00, 93.3MiB/s]\r\n",
      "Training dataset successfully downloaded!\r\n"
     ]
    }
   ],
   "source": [
    "# Download Training Data\n",
    "!spectral-cli fetch-training-data 0xFDC1BE05aD924e6Fc4Ab2c6443279fF7C0AB5544"
   ]
  },
  {
   "cell_type": "markdown",
   "id": "c8201b5a34215e1b",
   "metadata": {
    "collapsed": false,
    "jupyter": {
     "outputs_hidden": false
    }
   },
   "source": [
    "This file should be around 110MB. If your download is a few kb in size, try using a VPN, as IPFS is sometimes blocked by certain internet service providers."
   ]
  },
  {
   "cell_type": "markdown",
   "id": "665c55cfee641ca8",
   "metadata": {
    "collapsed": false,
    "jupyter": {
     "outputs_hidden": false
    }
   },
   "source": [
    "Examine a subset of the dataset"
   ]
  },
  {
   "cell_type": "code",
   "execution_count": 2,
   "id": "61ccd97507a633f9",
   "metadata": {
    "ExecuteTime": {
     "end_time": "2024-01-11T18:00:35.356703Z",
     "start_time": "2024-01-11T18:00:35.230188Z"
    },
    "collapsed": false,
    "jupyter": {
     "outputs_hidden": false
    }
   },
   "outputs": [
    {
     "data": {
      "text/html": [
       "<div>\n",
       "<style scoped>\n",
       "    .dataframe tbody tr th:only-of-type {\n",
       "        vertical-align: middle;\n",
       "    }\n",
       "\n",
       "    .dataframe tbody tr th {\n",
       "        vertical-align: top;\n",
       "    }\n",
       "\n",
       "    .dataframe thead th {\n",
       "        text-align: right;\n",
       "    }\n",
       "</style>\n",
       "<table border=\"1\" class=\"dataframe\">\n",
       "  <thead>\n",
       "    <tr style=\"text-align: right;\">\n",
       "      <th></th>\n",
       "      <th>borrow_block_number</th>\n",
       "      <th>borrow_timestamp</th>\n",
       "      <th>wallet_address</th>\n",
       "      <th>first_tx_timestamp</th>\n",
       "      <th>last_tx_timestamp</th>\n",
       "      <th>wallet_age</th>\n",
       "      <th>incoming_tx_count</th>\n",
       "      <th>outgoing_tx_count</th>\n",
       "      <th>net_incoming_tx_count</th>\n",
       "      <th>total_gas_paid_eth</th>\n",
       "      <th>...</th>\n",
       "      <th>market_max_drawdown_365d</th>\n",
       "      <th>market_natr</th>\n",
       "      <th>market_plus_di</th>\n",
       "      <th>market_plus_dm</th>\n",
       "      <th>market_ppo</th>\n",
       "      <th>market_rocp</th>\n",
       "      <th>market_rocr</th>\n",
       "      <th>unique_borrow_protocol_count</th>\n",
       "      <th>unique_lending_protocol_count</th>\n",
       "      <th>target</th>\n",
       "    </tr>\n",
       "  </thead>\n",
       "  <tbody>\n",
       "    <tr>\n",
       "      <th>0</th>\n",
       "      <td>7711117</td>\n",
       "      <td>1.557197e+09</td>\n",
       "      <td>0x502cb8985b2c92a8d4bf309cdaa89de9be442708</td>\n",
       "      <td>1.537224e+09</td>\n",
       "      <td>1.557197e+09</td>\n",
       "      <td>19973049.0</td>\n",
       "      <td>199</td>\n",
       "      <td>438</td>\n",
       "      <td>-239</td>\n",
       "      <td>0.397391</td>\n",
       "      <td>...</td>\n",
       "      <td>-0.895911</td>\n",
       "      <td>4.479356</td>\n",
       "      <td>33.216622</td>\n",
       "      <td>33.415526</td>\n",
       "      <td>-2.370346</td>\n",
       "      <td>0.104294</td>\n",
       "      <td>1.104294</td>\n",
       "      <td>0</td>\n",
       "      <td>1</td>\n",
       "      <td>1</td>\n",
       "    </tr>\n",
       "    <tr>\n",
       "      <th>1</th>\n",
       "      <td>7711123</td>\n",
       "      <td>1.557197e+09</td>\n",
       "      <td>0x502cb8985b2c92a8d4bf309cdaa89de9be442708</td>\n",
       "      <td>1.537224e+09</td>\n",
       "      <td>1.557197e+09</td>\n",
       "      <td>19973188.0</td>\n",
       "      <td>200</td>\n",
       "      <td>439</td>\n",
       "      <td>-239</td>\n",
       "      <td>0.399063</td>\n",
       "      <td>...</td>\n",
       "      <td>-0.895911</td>\n",
       "      <td>4.479356</td>\n",
       "      <td>33.216622</td>\n",
       "      <td>33.415526</td>\n",
       "      <td>-2.370346</td>\n",
       "      <td>0.104294</td>\n",
       "      <td>1.104294</td>\n",
       "      <td>1</td>\n",
       "      <td>1</td>\n",
       "      <td>1</td>\n",
       "    </tr>\n",
       "    <tr>\n",
       "      <th>2</th>\n",
       "      <td>7711126</td>\n",
       "      <td>1.557197e+09</td>\n",
       "      <td>0x502cb8985b2c92a8d4bf309cdaa89de9be442708</td>\n",
       "      <td>1.537224e+09</td>\n",
       "      <td>1.557197e+09</td>\n",
       "      <td>19973238.0</td>\n",
       "      <td>201</td>\n",
       "      <td>440</td>\n",
       "      <td>-239</td>\n",
       "      <td>0.400895</td>\n",
       "      <td>...</td>\n",
       "      <td>-0.895911</td>\n",
       "      <td>4.479356</td>\n",
       "      <td>33.216622</td>\n",
       "      <td>33.415526</td>\n",
       "      <td>-2.370346</td>\n",
       "      <td>0.104294</td>\n",
       "      <td>1.104294</td>\n",
       "      <td>1</td>\n",
       "      <td>1</td>\n",
       "      <td>1</td>\n",
       "    </tr>\n",
       "    <tr>\n",
       "      <th>3</th>\n",
       "      <td>7711672</td>\n",
       "      <td>1.557205e+09</td>\n",
       "      <td>0xa7ff0d561cd15ed525e31bbe0af3fe34ac2059f6</td>\n",
       "      <td>1.557191e+09</td>\n",
       "      <td>1.557198e+09</td>\n",
       "      <td>13922.0</td>\n",
       "      <td>8</td>\n",
       "      <td>56</td>\n",
       "      <td>-48</td>\n",
       "      <td>0.604001</td>\n",
       "      <td>...</td>\n",
       "      <td>-0.895911</td>\n",
       "      <td>4.479356</td>\n",
       "      <td>33.216622</td>\n",
       "      <td>33.415526</td>\n",
       "      <td>-2.370346</td>\n",
       "      <td>0.104294</td>\n",
       "      <td>1.104294</td>\n",
       "      <td>0</td>\n",
       "      <td>1</td>\n",
       "      <td>0</td>\n",
       "    </tr>\n",
       "    <tr>\n",
       "      <th>4</th>\n",
       "      <td>7712572</td>\n",
       "      <td>1.557217e+09</td>\n",
       "      <td>0xbd9ed130a53cfafcf81502e4d35329a6c4d53410</td>\n",
       "      <td>1.557217e+09</td>\n",
       "      <td>1.557217e+09</td>\n",
       "      <td>264.0</td>\n",
       "      <td>2</td>\n",
       "      <td>3</td>\n",
       "      <td>-1</td>\n",
       "      <td>0.003008</td>\n",
       "      <td>...</td>\n",
       "      <td>-0.895911</td>\n",
       "      <td>4.479356</td>\n",
       "      <td>33.216622</td>\n",
       "      <td>33.415526</td>\n",
       "      <td>-2.370346</td>\n",
       "      <td>0.104294</td>\n",
       "      <td>1.104294</td>\n",
       "      <td>0</td>\n",
       "      <td>1</td>\n",
       "      <td>0</td>\n",
       "    </tr>\n",
       "    <tr>\n",
       "      <th>5</th>\n",
       "      <td>7715069</td>\n",
       "      <td>1.557250e+09</td>\n",
       "      <td>0x502cb8985b2c92a8d4bf309cdaa89de9be442708</td>\n",
       "      <td>1.537224e+09</td>\n",
       "      <td>1.557197e+09</td>\n",
       "      <td>20026227.0</td>\n",
       "      <td>202</td>\n",
       "      <td>441</td>\n",
       "      <td>-239</td>\n",
       "      <td>0.402533</td>\n",
       "      <td>...</td>\n",
       "      <td>-0.895911</td>\n",
       "      <td>4.479356</td>\n",
       "      <td>33.216622</td>\n",
       "      <td>33.415526</td>\n",
       "      <td>-2.370346</td>\n",
       "      <td>0.104294</td>\n",
       "      <td>1.104294</td>\n",
       "      <td>1</td>\n",
       "      <td>1</td>\n",
       "      <td>1</td>\n",
       "    </tr>\n",
       "    <tr>\n",
       "      <th>6</th>\n",
       "      <td>7715078</td>\n",
       "      <td>1.557251e+09</td>\n",
       "      <td>0x502cb8985b2c92a8d4bf309cdaa89de9be442708</td>\n",
       "      <td>1.537224e+09</td>\n",
       "      <td>1.557250e+09</td>\n",
       "      <td>20026372.0</td>\n",
       "      <td>203</td>\n",
       "      <td>442</td>\n",
       "      <td>-239</td>\n",
       "      <td>0.404220</td>\n",
       "      <td>...</td>\n",
       "      <td>-0.895911</td>\n",
       "      <td>4.479356</td>\n",
       "      <td>33.216622</td>\n",
       "      <td>33.415526</td>\n",
       "      <td>-2.370346</td>\n",
       "      <td>0.104294</td>\n",
       "      <td>1.104294</td>\n",
       "      <td>1</td>\n",
       "      <td>1</td>\n",
       "      <td>1</td>\n",
       "    </tr>\n",
       "    <tr>\n",
       "      <th>7</th>\n",
       "      <td>7715985</td>\n",
       "      <td>1.557263e+09</td>\n",
       "      <td>0x502cb8985b2c92a8d4bf309cdaa89de9be442708</td>\n",
       "      <td>1.537224e+09</td>\n",
       "      <td>1.557263e+09</td>\n",
       "      <td>20038980.0</td>\n",
       "      <td>205</td>\n",
       "      <td>446</td>\n",
       "      <td>-241</td>\n",
       "      <td>0.406736</td>\n",
       "      <td>...</td>\n",
       "      <td>-0.895911</td>\n",
       "      <td>4.479356</td>\n",
       "      <td>33.216622</td>\n",
       "      <td>33.415526</td>\n",
       "      <td>-2.370346</td>\n",
       "      <td>0.104294</td>\n",
       "      <td>1.104294</td>\n",
       "      <td>1</td>\n",
       "      <td>1</td>\n",
       "      <td>1</td>\n",
       "    </tr>\n",
       "    <tr>\n",
       "      <th>8</th>\n",
       "      <td>7716888</td>\n",
       "      <td>1.557276e+09</td>\n",
       "      <td>0x502cb8985b2c92a8d4bf309cdaa89de9be442708</td>\n",
       "      <td>1.537224e+09</td>\n",
       "      <td>1.557275e+09</td>\n",
       "      <td>20051321.0</td>\n",
       "      <td>207</td>\n",
       "      <td>450</td>\n",
       "      <td>-243</td>\n",
       "      <td>0.410259</td>\n",
       "      <td>...</td>\n",
       "      <td>-0.893019</td>\n",
       "      <td>4.579614</td>\n",
       "      <td>34.254180</td>\n",
       "      <td>35.663011</td>\n",
       "      <td>-1.694858</td>\n",
       "      <td>0.071725</td>\n",
       "      <td>1.071725</td>\n",
       "      <td>1</td>\n",
       "      <td>1</td>\n",
       "      <td>1</td>\n",
       "    </tr>\n",
       "    <tr>\n",
       "      <th>9</th>\n",
       "      <td>7717003</td>\n",
       "      <td>1.557277e+09</td>\n",
       "      <td>0x502cb8985b2c92a8d4bf309cdaa89de9be442708</td>\n",
       "      <td>1.537224e+09</td>\n",
       "      <td>1.557276e+09</td>\n",
       "      <td>20053223.0</td>\n",
       "      <td>208</td>\n",
       "      <td>451</td>\n",
       "      <td>-243</td>\n",
       "      <td>0.411663</td>\n",
       "      <td>...</td>\n",
       "      <td>-0.893019</td>\n",
       "      <td>4.579614</td>\n",
       "      <td>34.254180</td>\n",
       "      <td>35.663011</td>\n",
       "      <td>-1.694858</td>\n",
       "      <td>0.071725</td>\n",
       "      <td>1.071725</td>\n",
       "      <td>1</td>\n",
       "      <td>1</td>\n",
       "      <td>1</td>\n",
       "    </tr>\n",
       "  </tbody>\n",
       "</table>\n",
       "<p>10 rows × 78 columns</p>\n",
       "</div>"
      ],
      "text/plain": [
       "   borrow_block_number  borrow_timestamp  \\\n",
       "0              7711117      1.557197e+09   \n",
       "1              7711123      1.557197e+09   \n",
       "2              7711126      1.557197e+09   \n",
       "3              7711672      1.557205e+09   \n",
       "4              7712572      1.557217e+09   \n",
       "5              7715069      1.557250e+09   \n",
       "6              7715078      1.557251e+09   \n",
       "7              7715985      1.557263e+09   \n",
       "8              7716888      1.557276e+09   \n",
       "9              7717003      1.557277e+09   \n",
       "\n",
       "                               wallet_address  first_tx_timestamp  \\\n",
       "0  0x502cb8985b2c92a8d4bf309cdaa89de9be442708        1.537224e+09   \n",
       "1  0x502cb8985b2c92a8d4bf309cdaa89de9be442708        1.537224e+09   \n",
       "2  0x502cb8985b2c92a8d4bf309cdaa89de9be442708        1.537224e+09   \n",
       "3  0xa7ff0d561cd15ed525e31bbe0af3fe34ac2059f6        1.557191e+09   \n",
       "4  0xbd9ed130a53cfafcf81502e4d35329a6c4d53410        1.557217e+09   \n",
       "5  0x502cb8985b2c92a8d4bf309cdaa89de9be442708        1.537224e+09   \n",
       "6  0x502cb8985b2c92a8d4bf309cdaa89de9be442708        1.537224e+09   \n",
       "7  0x502cb8985b2c92a8d4bf309cdaa89de9be442708        1.537224e+09   \n",
       "8  0x502cb8985b2c92a8d4bf309cdaa89de9be442708        1.537224e+09   \n",
       "9  0x502cb8985b2c92a8d4bf309cdaa89de9be442708        1.537224e+09   \n",
       "\n",
       "   last_tx_timestamp  wallet_age  incoming_tx_count  outgoing_tx_count  \\\n",
       "0       1.557197e+09  19973049.0                199                438   \n",
       "1       1.557197e+09  19973188.0                200                439   \n",
       "2       1.557197e+09  19973238.0                201                440   \n",
       "3       1.557198e+09     13922.0                  8                 56   \n",
       "4       1.557217e+09       264.0                  2                  3   \n",
       "5       1.557197e+09  20026227.0                202                441   \n",
       "6       1.557250e+09  20026372.0                203                442   \n",
       "7       1.557263e+09  20038980.0                205                446   \n",
       "8       1.557275e+09  20051321.0                207                450   \n",
       "9       1.557276e+09  20053223.0                208                451   \n",
       "\n",
       "   net_incoming_tx_count  total_gas_paid_eth  ...  market_max_drawdown_365d  \\\n",
       "0                   -239            0.397391  ...                 -0.895911   \n",
       "1                   -239            0.399063  ...                 -0.895911   \n",
       "2                   -239            0.400895  ...                 -0.895911   \n",
       "3                    -48            0.604001  ...                 -0.895911   \n",
       "4                     -1            0.003008  ...                 -0.895911   \n",
       "5                   -239            0.402533  ...                 -0.895911   \n",
       "6                   -239            0.404220  ...                 -0.895911   \n",
       "7                   -241            0.406736  ...                 -0.895911   \n",
       "8                   -243            0.410259  ...                 -0.893019   \n",
       "9                   -243            0.411663  ...                 -0.893019   \n",
       "\n",
       "   market_natr  market_plus_di  market_plus_dm  market_ppo  market_rocp  \\\n",
       "0     4.479356       33.216622       33.415526   -2.370346     0.104294   \n",
       "1     4.479356       33.216622       33.415526   -2.370346     0.104294   \n",
       "2     4.479356       33.216622       33.415526   -2.370346     0.104294   \n",
       "3     4.479356       33.216622       33.415526   -2.370346     0.104294   \n",
       "4     4.479356       33.216622       33.415526   -2.370346     0.104294   \n",
       "5     4.479356       33.216622       33.415526   -2.370346     0.104294   \n",
       "6     4.479356       33.216622       33.415526   -2.370346     0.104294   \n",
       "7     4.479356       33.216622       33.415526   -2.370346     0.104294   \n",
       "8     4.579614       34.254180       35.663011   -1.694858     0.071725   \n",
       "9     4.579614       34.254180       35.663011   -1.694858     0.071725   \n",
       "\n",
       "   market_rocr  unique_borrow_protocol_count  unique_lending_protocol_count  \\\n",
       "0     1.104294                             0                              1   \n",
       "1     1.104294                             1                              1   \n",
       "2     1.104294                             1                              1   \n",
       "3     1.104294                             0                              1   \n",
       "4     1.104294                             0                              1   \n",
       "5     1.104294                             1                              1   \n",
       "6     1.104294                             1                              1   \n",
       "7     1.104294                             1                              1   \n",
       "8     1.071725                             1                              1   \n",
       "9     1.071725                             1                              1   \n",
       "\n",
       "   target  \n",
       "0       1  \n",
       "1       1  \n",
       "2       1  \n",
       "3       0  \n",
       "4       0  \n",
       "5       1  \n",
       "6       1  \n",
       "7       1  \n",
       "8       1  \n",
       "9       1  \n",
       "\n",
       "[10 rows x 78 columns]"
      ]
     },
     "execution_count": 2,
     "metadata": {},
     "output_type": "execute_result"
    }
   ],
   "source": [
    "import duckdb\n",
    "# DuckDB is an In-process SQL OLAP database management system.\n",
    "# The .df() method converts the result of a query to a pandas dataframe\n",
    "\n",
    "# All datasets in this challenge are parquet files, which are both natively compressed and queryable.\n",
    "# This means you can use SQL to query the data without loading the entire dataset into memory,\n",
    "# or you may use read_parquet() in pandas or polars as you would with a csv file.\n",
    "\n",
    "duckdb.query((f\"\"\"\n",
    "select * from '{'0xFDC1BE05aD924e6Fc4Ab2c6443279fF7C0AB5544_training_data.parquet'}' limit 10\n",
    "\"\"\")).df()"
   ]
  },
  {
   "cell_type": "markdown",
   "id": "381973f7a440e1c1",
   "metadata": {
    "collapsed": false,
    "jupyter": {
     "outputs_hidden": false
    }
   },
   "source": [
    "You can choose any subset of the data above to train your model. We guarantee the availability of this data throughout the challenge lifespan. You also have the option to supplement this set with external data; however, you are responsible for hosting and serving external data during testing and consumption."
   ]
  },
  {
   "cell_type": "markdown",
   "id": "bbd842b1cf28d677",
   "metadata": {
    "collapsed": false,
    "jupyter": {
     "outputs_hidden": false
    }
   },
   "source": [
    "## Exploratory data analysis\n",
    "\n",
    "Feel free to utilize any tools of your choice for data exploration and feature generation.\n",
    "\n",
    "As an example, let's focus on the `max_risk_factor` feature. We'll inspect potential outliers, consider removing those samples, and explore correlated features.\n",
    "\n",
    "A borrower's `risk_factor` is defined as 1 divided by their minimum health factor across DeFi protocols.\n",
    "\n",
    "For more information on health factors, refer to Aave's documentation [here](https://docs.aave.com/risk/v/aave-v2/asset-risk/risk-parameters#health-factor)."
   ]
  },
  {
   "cell_type": "code",
   "execution_count": 3,
   "id": "a2588fd7f7802985",
   "metadata": {
    "ExecuteTime": {
     "end_time": "2024-01-11T18:00:38.790097Z",
     "start_time": "2024-01-11T18:00:38.096431Z"
    },
    "collapsed": false,
    "jupyter": {
     "outputs_hidden": false
    }
   },
   "outputs": [
    {
     "data": {
      "text/plain": [
       "count    4.429610e+05\n",
       "mean     1.047412e+04\n",
       "std      1.218293e+06\n",
       "min      0.000000e+00\n",
       "25%      3.208391e-01\n",
       "50%      7.521871e-01\n",
       "75%      9.028941e-01\n",
       "max      4.461020e+08\n",
       "Name: max_risk_factor, dtype: float64"
      ]
     },
     "execution_count": 3,
     "metadata": {},
     "output_type": "execute_result"
    }
   ],
   "source": [
    "training_dataframe = duckdb.query((f\"\"\"\n",
    "select * from '{'0xFDC1BE05aD924e6Fc4Ab2c6443279fF7C0AB5544_training_data.parquet'}'\n",
    "\"\"\")).df()\n",
    "training_dataframe['max_risk_factor'].describe()"
   ]
  },
  {
   "cell_type": "markdown",
   "id": "d41ba80974e514dc",
   "metadata": {
    "collapsed": false,
    "jupyter": {
     "outputs_hidden": false
    }
   },
   "source": [
    "The max value for all samples listed above is significantly higher than the majority. A risk factor over one is uncommon, so a value this large could be attributed to highly irregular on-chain actions, data fetching errors, or dataset construction errors.\n",
    "\n",
    "\n",
    "Let's investigate samples with high values of this feature."
   ]
  },
  {
   "cell_type": "code",
   "execution_count": 4,
   "id": "e99f56b514ba5b06",
   "metadata": {
    "ExecuteTime": {
     "end_time": "2024-01-11T18:00:40.800254Z",
     "start_time": "2024-01-11T18:00:40.769531Z"
    },
    "collapsed": false,
    "jupyter": {
     "outputs_hidden": false
    }
   },
   "outputs": [
    {
     "data": {
      "text/html": [
       "<div>\n",
       "<style scoped>\n",
       "    .dataframe tbody tr th:only-of-type {\n",
       "        vertical-align: middle;\n",
       "    }\n",
       "\n",
       "    .dataframe tbody tr th {\n",
       "        vertical-align: top;\n",
       "    }\n",
       "\n",
       "    .dataframe thead th {\n",
       "        text-align: right;\n",
       "    }\n",
       "</style>\n",
       "<table border=\"1\" class=\"dataframe\">\n",
       "  <thead>\n",
       "    <tr style=\"text-align: right;\">\n",
       "      <th></th>\n",
       "      <th>count_of_unique_addresses_with_unusually_high_risk_factors</th>\n",
       "    </tr>\n",
       "  </thead>\n",
       "  <tbody>\n",
       "    <tr>\n",
       "      <th>0</th>\n",
       "      <td>270</td>\n",
       "    </tr>\n",
       "  </tbody>\n",
       "</table>\n",
       "</div>"
      ],
      "text/plain": [
       "   count_of_unique_addresses_with_unusually_high_risk_factors\n",
       "0                                                270         "
      ]
     },
     "execution_count": 4,
     "metadata": {},
     "output_type": "execute_result"
    }
   ],
   "source": [
    "# Count addresses with unusually high risk factors\n",
    "duckdb.query((f\"\"\"\n",
    "select count(distinct(wallet_address)) as count_of_unique_addresses_with_unusually_high_risk_factors \n",
    "from '{'0xFDC1BE05aD924e6Fc4Ab2c6443279fF7C0AB5544_training_data.parquet'}'\n",
    "where max_risk_factor > 100\n",
    "\"\"\")).df()"
   ]
  },
  {
   "cell_type": "markdown",
   "id": "b176b8a0293d6890",
   "metadata": {
    "collapsed": false,
    "jupyter": {
     "outputs_hidden": false
    }
   },
   "source": [
    "There are only 270 addresses an unreasonably high value; let's remove all samples with a risk factor over 100 from training."
   ]
  },
  {
   "cell_type": "code",
   "execution_count": 5,
   "id": "b26794e3943356d8",
   "metadata": {
    "ExecuteTime": {
     "end_time": "2024-01-11T18:00:42.516899Z",
     "start_time": "2024-01-11T18:00:41.893847Z"
    },
    "collapsed": false,
    "jupyter": {
     "outputs_hidden": false
    }
   },
   "outputs": [
    {
     "data": {
      "text/plain": [
       "count    440450.000000\n",
       "mean          0.622996\n",
       "std           0.893060\n",
       "min           0.000000\n",
       "25%           0.312013\n",
       "50%           0.750963\n",
       "75%           0.900387\n",
       "max          69.713836\n",
       "Name: max_risk_factor, dtype: float64"
      ]
     },
     "execution_count": 5,
     "metadata": {},
     "output_type": "execute_result"
    }
   ],
   "source": [
    "# Remove samples with risk factor over 100\n",
    "training_dataframe = duckdb.query((f\"\"\"\n",
    "select * from '{'0xFDC1BE05aD924e6Fc4Ab2c6443279fF7C0AB5544_training_data.parquet'}'\n",
    "where max_risk_factor < 100\n",
    "\"\"\")).df()\n",
    "training_dataframe['max_risk_factor'].describe()"
   ]
  },
  {
   "cell_type": "markdown",
   "id": "45ca4f2f6a8f1e10",
   "metadata": {
    "collapsed": false,
    "jupyter": {
     "outputs_hidden": false
    }
   },
   "source": [
    "A risk factor of 69 is still highly unusual, but we will leave it in for now as this is only an example."
   ]
  },
  {
   "cell_type": "markdown",
   "id": "ba2bfaf4526b19bf",
   "metadata": {
    "collapsed": false,
    "jupyter": {
     "outputs_hidden": false
    }
   },
   "source": [
    "It's beneficial to visualize data when familiarizing yourself with it. Let's examine a few features together. We will look at the correlation between `withdraw_deposit_diff_if_positive_eth`, `withdraw_amount_sum_eth`, and `deposit_amount_sum_eth`.\n",
    "\n",
    "These DeFi features represent the total amount withdrawn converted to ETH (see our [data dictionary's disclaimers](https://docs.spectral.finance/modeler-handbook/2.-model-training/step-3-fetch-training-dataset)), total amount deposited converted to ETH, and the difference between the two.\n",
    "\n"
   ]
  },
  {
   "cell_type": "code",
   "execution_count": 6,
   "id": "607fd60bd0291df1",
   "metadata": {
    "ExecuteTime": {
     "end_time": "2024-01-11T18:00:44.382094Z",
     "start_time": "2024-01-11T18:00:44.149833Z"
    },
    "collapsed": false,
    "jupyter": {
     "outputs_hidden": false
    }
   },
   "outputs": [
    {
     "data": {
      "image/png": "[encoded data removed]",
      "text/plain": [
       "<Figure size 640x480 with 2 Axes>"
      ]
     },
     "metadata": {},
     "output_type": "display_data"
    }
   ],
   "source": [
    "import matplotlib.pyplot as mp \n",
    "import seaborn as sb\n",
    "\n",
    "dataplot = sb.heatmap(training_dataframe[['withdraw_deposit_diff_if_positive_eth',\n",
    "                                          'withdraw_amount_sum_eth',\n",
    "                                          'deposit_amount_sum_eth' ]].corr(), annot=True) \n",
    "mp.show() "
   ]
  },
  {
   "cell_type": "markdown",
   "id": "11216ac3f0af75dd",
   "metadata": {
    "collapsed": false,
    "jupyter": {
     "outputs_hidden": false
    }
   },
   "source": [
    "These features represent actions on opposite ends of the lending lifecycle, so we could reasonably expect there to be some correlation for many samples.\n",
    "\n",
    "Since `withdraw_amount_sum_eth` and `deposit_amount_sum_eth` are highly correlated, let's drop `withdraw_amount_sum_eth` from our training set. In practice, explore the correlation between other features and understand the reasons behind their correlation or lack thereof."
   ]
  },
  {
   "cell_type": "markdown",
   "id": "c96307d5b2c6b050",
   "metadata": {
    "collapsed": false,
    "jupyter": {
     "outputs_hidden": false
    }
   },
   "source": [
    "We should also look at the target definition and distribution in this dataset. \n",
    "\n",
    "As a reminder, our `target` is 1 if the borrower was liquidated within 30 days of the borrow event or if the borrower's `risk_factor` went above the threshold of (1/1.2) on the first block of any day in this 30-day window.\n",
    "\n",
    "For example, consider Alice, who borrowed token A on January 1st using token B as collateral. On January 10th, a significant change in the price of token B caused Alice's `risk_factor` to reach (1/1.1) for 36 hours. There was no liquidation event during this period, but because Alice's risk factor was above the threshold of (1/1.2) on the first block of the day, her target variable is 1.\n"
   ]
  },
  {
   "cell_type": "code",
   "execution_count": 7,
   "id": "fc2332c64291e0c7",
   "metadata": {
    "ExecuteTime": {
     "end_time": "2024-01-11T18:00:47.120221Z",
     "start_time": "2024-01-11T18:00:46.361282Z"
    },
    "collapsed": false,
    "jupyter": {
     "outputs_hidden": false
    }
   },
   "outputs": [
    {
     "data": {
      "text/plain": [
       "target\n",
       "0    275063\n",
       "1    165387\n",
       "Name: count, dtype: int64"
      ]
     },
     "execution_count": 7,
     "metadata": {},
     "output_type": "execute_result"
    }
   ],
   "source": [
    "training_dataframe = duckdb.query((f\"\"\"\n",
    "select * from '{'0xFDC1BE05aD924e6Fc4Ab2c6443279fF7C0AB5544_training_data.parquet'}'\n",
    "where max_risk_factor < 100\n",
    "\"\"\")).df().drop(columns=['withdraw_amount_sum_eth'], inplace=False)\n",
    "\n",
    "training_dataframe['target'].value_counts()"
   ]
  },
  {
   "cell_type": "markdown",
   "id": "454c09f877d810e0",
   "metadata": {
    "collapsed": false,
    "jupyter": {
     "outputs_hidden": false
    }
   },
   "source": [
    "You can see that this dataset is imbalanced, with around 38% of targets equal to 1. This is expected, as the majority of borrowers are not liquidated within 30 days of borrowing.\n",
    "\n",
    "When making inferences on the test set, you will predict if the borrower is liquidated (using the definition above) in the next 30 days. "
   ]
  },
  {
   "cell_type": "markdown",
   "id": "a3272d11c57031c8",
   "metadata": {
    "collapsed": false,
    "jupyter": {
     "outputs_hidden": false
    }
   },
   "source": [
    "For this example we'll conclude our analysis and proceed to modeling. During the challenge, spend time exploring the data and generating features. There is ample exciting on-chain activity that could be used for feature generation, and we encourage you to be creative.\n",
    "\n",
    "Features derived from activity on other lending protocols, other chains, non-fungible token value, and decentralized exchange positions have proven relevant in our previous work. Want to discuss with other modelers and our team? Join our [Discord](https://discord.gg/Z9ESSwy)."
   ]
  },
  {
   "cell_type": "markdown",
   "id": "8bc50f29efb96b25",
   "metadata": {
    "collapsed": false,
    "jupyter": {
     "outputs_hidden": false
    }
   },
   "source": [
    "## Modeling\n",
    "\n",
    "**The only supported models for this challenge are:**\n",
    "- Neural networks using **PyTorch** (excluding recurrent neural networks, e.g., LSTM)\n",
    "- Logistic regression using PyTorch\n",
    "\n",
    "**Important Note: If you use a model that does not meet the criteria mentioned above, you won't be able to participate in this challenge.**\n",
    "\n",
    "Popular choices such as **XGBoost** and **CatBoost** are not supported at this time due to constrains of the zkML library. Additionally, **scikit-learn** and **TensorFlow** are not supported at this time."
   ]
  },
  {
   "cell_type": "markdown",
   "id": "52172e2fcd26e285",
   "metadata": {
    "collapsed": false,
    "jupyter": {
     "outputs_hidden": false
    }
   },
   "source": [
    "### Train a neural network using the provided dataset\n",
    "\n",
    "The following example model is for illustrative purposes only and is not intended to achieve high placement in this challenge. Avoid making assumptions based on this model regarding the approach to the problem.\n",
    "\n",
    "\n",
    "\n",
    "In particular, refrain from assuming:\n",
    "- Anything about the relevance of features and samples dropped earlier.\n",
    "- That ReLU is the ideal activation function or any other architecture specifics defined herein."
   ]
  },
  {
   "cell_type": "code",
   "execution_count": 8,
   "id": "8eb47db470503e9",
   "metadata": {
    "ExecuteTime": {
     "end_time": "2024-01-11T18:00:52.366606Z",
     "start_time": "2024-01-11T18:00:50.732640Z"
    },
    "collapsed": false,
    "jupyter": {
     "outputs_hidden": false
    }
   },
   "outputs": [],
   "source": [
    "import pandas as pd\n",
    "import numpy as np\n",
    "from sklearn.preprocessing import StandardScaler\n",
    "from sklearn.model_selection import train_test_split\n",
    "import torch\n",
    "import torch.nn as nn\n",
    "import torch.optim as optim\n",
    "from torch.utils.data import DataLoader\n",
    "import json\n",
    "from tqdm.auto import tqdm\n",
    "import time\n",
    "from timeit import default_timer as timer \n",
    "import random\n",
    "import os\n",
    "\n",
    "# Spectral Helpers (see helpers folder for more details on any of these\n",
    "from helpers.modeling import (TestData, TrainData, StratifiedBatchSampler,\n",
    "                              print_train_time, auc_fn, auroc_fn, auc_pr_fn,\n",
    "                              brier_fn, ks_fn, recall_fn, prob_diff_fn, f1_score_fn,\n",
    "                              train_step, test_step, eval_model, plot_loss_curves,\n",
    "                              ValidationLossEarlyStopping)\n",
    "\n",
    "# for reproducible results\n",
    "random_seed = 42\n",
    "np.random.seed(random_seed)\n",
    "torch.manual_seed(random_seed)\n",
    "torch.use_deterministic_algorithms(True, warn_only=True)\n",
    "torch.backends.cudnn.determenistic=True\n",
    "\n",
    "random.seed(random_seed)\n",
    "def seed_worker():\n",
    "    worker_seed = random_seed\n",
    "    np.random.seed(worker_seed)\n",
    "    random.seed(worker_seed)\n",
    "g = torch.Generator()\n",
    "g.manual_seed(random_seed)\n",
    "\n",
    "#specifically required for reproducibility with CuBLABS and CUDA\n",
    "os.environ[\"CUBLAS_WORKSPACE_CONFIG\"] = \":4096:8\" \n",
    "os.environ[\"PYTHONHASHSEED\"] = str(random_seed)"
   ]
  },
  {
   "cell_type": "code",
   "execution_count": 9,
   "id": "1e5ff04ee4140400",
   "metadata": {
    "ExecuteTime": {
     "end_time": "2024-01-11T18:00:54.014013Z",
     "start_time": "2024-01-11T18:00:53.318690Z"
    },
    "collapsed": false,
    "jupyter": {
     "outputs_hidden": false
    }
   },
   "outputs": [],
   "source": [
    "# Start by loading our training data\n",
    "import duckdb\n",
    "training_dataframe = duckdb.query((f\"\"\"\n",
    "select * from '{'0xFDC1BE05aD924e6Fc4Ab2c6443279fF7C0AB5544_training_data.parquet'}'\n",
    "where max_risk_factor < 100\n",
    "\"\"\")).df().drop(columns=['withdraw_amount_sum_eth'], inplace=False)"
   ]
  },
  {
   "cell_type": "code",
   "execution_count": 10,
   "id": "5068158ad351cca9",
   "metadata": {
    "ExecuteTime": {
     "end_time": "2024-01-11T18:00:55.046424Z",
     "start_time": "2024-01-11T18:00:54.613538Z"
    },
    "collapsed": false,
    "jupyter": {
     "outputs_hidden": false
    }
   },
   "outputs": [],
   "source": [
    "training_cols = list(training_dataframe.columns.drop(\n",
    "    ['borrow_timestamp', 'wallet_address', 'borrow_block_number', 'target']))\n",
    "\n",
    "# Split the data into training and validation sets\n",
    "X_train, X_val, y_train, y_val = train_test_split(training_dataframe[training_cols].to_numpy(),\n",
    "                                                    training_dataframe['target'].to_numpy(),\n",
    "                                                    test_size=0.2,\n",
    "                                                    random_state=random_seed)\n",
    "\n",
    "# Note that if you scale your training data, you must scale the validation and testing data in the same way\n",
    "sc = StandardScaler()\n",
    "X_train_scaled = sc.fit_transform(X_train)\n",
    "X_val_scaled = sc.transform(X_val)"
   ]
  },
  {
   "cell_type": "code",
   "execution_count": 11,
   "id": "743a9250c6387446",
   "metadata": {
    "ExecuteTime": {
     "end_time": "2024-01-11T18:00:56.686069Z",
     "start_time": "2024-01-11T18:00:56.620691Z"
    },
    "collapsed": false,
    "jupyter": {
     "outputs_hidden": false
    }
   },
   "outputs": [],
   "source": [
    "train_data = TrainData(torch.from_numpy(X_train_scaled).type(torch.float),\n",
    "                       torch.from_numpy(y_train).type(torch.float))\n",
    "\n",
    "validation_data = TestData(torch.from_numpy(X_val_scaled).type(torch.float),\n",
    "                     torch.from_numpy(y_val).type(torch.float))"
   ]
  },
  {
   "cell_type": "code",
   "execution_count": 12,
   "id": "3abb51b7117f6398",
   "metadata": {
    "ExecuteTime": {
     "end_time": "2024-01-11T18:00:56.994194Z",
     "start_time": "2024-01-11T18:00:56.983180Z"
    },
    "collapsed": false,
    "jupyter": {
     "outputs_hidden": false
    }
   },
   "outputs": [
    {
     "name": "stdout",
     "output_type": "stream",
     "text": [
      "Dataloaders: (<torch.utils.data.dataloader.DataLoader object at 0x17f603950>, <torch.utils.data.dataloader.DataLoader object at 0x2b3bd4290>)\n",
      "Length of train dataloader: 101 batches of 3523\n",
      "Length of validation dataloader: 26 batches of 3523\n",
      "Using number of workers: 0\n"
     ]
    }
   ],
   "source": [
    "NUM_WORKERS = 0 # use all available CPU cores with os.cpu_count(), if possible\n",
    "BATCH_SIZE = int(X_train.shape[0]/100) # ~1% of the training data\n",
    "\n",
    "# initialize DataLoaders\n",
    "train_dataloader = DataLoader(dataset=train_data,\n",
    "                              batch_sampler=StratifiedBatchSampler(torch.tensor(y_train), batch_size=BATCH_SIZE), \n",
    "                              worker_init_fn=seed_worker, \n",
    "                              generator=g,\n",
    "                              num_workers=NUM_WORKERS)\n",
    "validation_dataloader = DataLoader(dataset=validation_data, \n",
    "                             batch_size=BATCH_SIZE,\n",
    "                             shuffle=False,\n",
    "                             worker_init_fn=seed_worker,\n",
    "                             generator=g,\n",
    "                             num_workers=NUM_WORKERS)\n",
    "\n",
    "print(f'Dataloaders: {train_dataloader, validation_dataloader}') \n",
    "print(f'Length of train dataloader: {len(train_dataloader)} batches of {BATCH_SIZE}')\n",
    "print(f'Length of validation dataloader: {len(validation_dataloader)} batches of {BATCH_SIZE}')\n",
    "print(f'Using number of workers: {NUM_WORKERS}')"
   ]
  },
  {
   "cell_type": "code",
   "execution_count": 13,
   "id": "4643ba2c1c96fa8",
   "metadata": {
    "ExecuteTime": {
     "end_time": "2024-01-11T18:00:59.016740Z",
     "start_time": "2024-01-11T18:00:58.951794Z"
    },
    "collapsed": false,
    "jupyter": {
     "outputs_hidden": false
    }
   },
   "outputs": [
    {
     "data": {
      "text/plain": [
       "(torch.Size([3489, 73]), torch.Size([3489]))"
      ]
     },
     "execution_count": 13,
     "metadata": {},
     "output_type": "execute_result"
    }
   ],
   "source": [
    "# Check out what's inside the training dataloader\n",
    "train_features_batch, train_labels_batch = next(iter(train_dataloader))\n",
    "train_features_batch.shape, train_labels_batch.shape"
   ]
  },
  {
   "cell_type": "code",
   "execution_count": 14,
   "id": "50185f943de2a042",
   "metadata": {
    "ExecuteTime": {
     "end_time": "2024-01-11T18:00:59.590775Z",
     "start_time": "2024-01-11T18:00:59.569386Z"
    },
    "collapsed": false,
    "jupyter": {
     "outputs_hidden": false
    }
   },
   "outputs": [
    {
     "data": {
      "text/plain": [
       "(torch.Size([3523, 73]), torch.Size([3523]))"
      ]
     },
     "execution_count": 14,
     "metadata": {},
     "output_type": "execute_result"
    }
   ],
   "source": [
    "# Check out what's inside the validation dataloader\n",
    "validation_features_batch, validation_labels_batch = next(iter(validation_dataloader))\n",
    "validation_features_batch.shape, validation_labels_batch.shape"
   ]
  },
  {
   "cell_type": "code",
   "execution_count": 15,
   "id": "46e017e2f60e6a78",
   "metadata": {
    "ExecuteTime": {
     "end_time": "2024-01-11T18:01:00.306393Z",
     "start_time": "2024-01-11T18:01:00.294687Z"
    },
    "collapsed": false,
    "jupyter": {
     "outputs_hidden": false
    }
   },
   "outputs": [
    {
     "data": {
      "text/plain": [
       "device(type='cpu')"
      ]
     },
     "execution_count": 15,
     "metadata": {},
     "output_type": "execute_result"
    }
   ],
   "source": [
    "device = torch.device('cuda' if torch.cuda.is_available() else 'cpu')\n",
    "device"
   ]
  },
  {
   "cell_type": "markdown",
   "id": "a05f73952909054b",
   "metadata": {
    "collapsed": false,
    "jupyter": {
     "outputs_hidden": false
    }
   },
   "source": [
    "### Define an example model\n",
    "Here, we define an example model, `PredictLiquidationsV1`, for predicting liquidations using PyTorch. Note that the final layer employs a sigmoid activation function to output the probability of liquidation."
   ]
  },
  {
   "cell_type": "code",
   "execution_count": 16,
   "id": "70cf4c484410b95f",
   "metadata": {
    "ExecuteTime": {
     "end_time": "2024-01-11T18:01:02.388617Z",
     "start_time": "2024-01-11T18:01:02.376431Z"
    },
    "collapsed": false,
    "jupyter": {
     "outputs_hidden": false
    }
   },
   "outputs": [
    {
     "data": {
      "text/plain": [
       "PredictLiquidationsV1(\n",
       "  (linear_layer_stack): Sequential(\n",
       "    (0): Linear(in_features=73, out_features=82, bias=True)\n",
       "    (1): ReLU()\n",
       "    (2): Dropout(p=0.2, inplace=False)\n",
       "    (3): Linear(in_features=82, out_features=82, bias=True)\n",
       "    (4): ReLU()\n",
       "    (5): Dropout(p=0.4, inplace=False)\n",
       "    (6): Linear(in_features=82, out_features=1, bias=True)\n",
       "    (7): Sigmoid()\n",
       "  )\n",
       ")"
      ]
     },
     "execution_count": 16,
     "metadata": {},
     "output_type": "execute_result"
    }
   ],
   "source": [
    "class PredictLiquidationsV1(nn.Module):\n",
    "    \"\"\"\n",
    "    The final layer should be a sigmoid, to get the probability of liquidation. \n",
    "    \"\"\"\n",
    "    def __init__(self, input_features, output_features, hidden_units):\n",
    "        super().__init__()\n",
    "        self.linear_layer_stack = nn.Sequential(\n",
    "            nn.Linear(in_features=input_features, out_features=hidden_units),\n",
    "            nn.ReLU(),\n",
    "            nn.Dropout(p = 0.2),\n",
    "            nn.Linear(in_features=hidden_units, out_features=hidden_units),\n",
    "            nn.ReLU(),\n",
    "            nn.Dropout(p = 0.4),\n",
    "            nn.Linear(in_features=hidden_units, out_features=output_features),\n",
    "            nn.Sigmoid()\n",
    "        )        \n",
    "        \n",
    "    def forward(self, x):\n",
    "        return self.linear_layer_stack(x)\n",
    "    \n",
    "# instantiate the model\n",
    "model_1 = PredictLiquidationsV1(input_features=X_train.shape[1],\n",
    "                                output_features=1,\n",
    "                                hidden_units=82).to(device)\n",
    "model_1"
   ]
  },
  {
   "cell_type": "code",
   "execution_count": 17,
   "id": "a99b3fc8cb1c1919",
   "metadata": {
    "ExecuteTime": {
     "end_time": "2024-01-11T18:01:03.016286Z",
     "start_time": "2024-01-11T18:01:03.002250Z"
    },
    "collapsed": false,
    "jupyter": {
     "outputs_hidden": false
    }
   },
   "outputs": [],
   "source": [
    "# Initialize early stopping\n",
    "early_stopper = ValidationLossEarlyStopping(patience=1, min_delta=0.0)\n",
    "\n",
    "# Define loss function and optimizer\n",
    "loss_fn = nn.BCELoss()\n",
    "optimizer = optim.Adam(params=model_1.parameters(),\n",
    "                       lr=0.001,\n",
    "                       weight_decay=0.01)"
   ]
  },
  {
   "cell_type": "code",
   "execution_count": 18,
   "id": "a9c3c8dc41ca0251",
   "metadata": {
    "ExecuteTime": {
     "end_time": "2024-01-11T18:01:53.867926Z",
     "start_time": "2024-01-11T18:01:03.646264Z"
    },
    "collapsed": false,
    "jupyter": {
     "outputs_hidden": false
    }
   },
   "outputs": [
    {
     "data": {
      "application/vnd.jupyter.widget-view+json": {
       "model_id": "027b2727fc1a4fcebe952ebed85babc1",
       "version_major": 2,
       "version_minor": 0
      },
      "text/plain": [
       "  0%|          | 0/30 [00:00<?, ?it/s]"
      ]
     },
     "metadata": {},
     "output_type": "display_data"
    },
    {
     "name": "stdout",
     "output_type": "stream",
     "text": [
      "Epoch: 0\n",
      "---------\n",
      "Training metrics:\n",
      "Loss: 0.56785 | Recall: 37.01% | F1-Score: 45.40% | AUROC: 74.50% | Brier Score: 19.18% | AUC PR: 68.33% | KS-Statistic: 40.07% | Pred Prob Diff: 18.61%\n",
      "Testing metrics:\n",
      "Loss: 0.49219 | Recall: 58.13% | F1-Score: 66.43% | AUROC: 81.11% | Brier Score: 15.97% | AUC PR: 77.60% | KS-Statistic: 50.01% | Pred Prob Diff: 35.20%\n",
      "Epoch: 5\n",
      "---------\n",
      "Training metrics:\n",
      "Loss: 0.45231 | Recall: 59.44% | F1-Score: 68.52% | AUROC: 84.52% | Brier Score: 14.57% | AUC PR: 81.24% | KS-Statistic: 53.54% | Pred Prob Diff: 43.33%\n",
      "Testing metrics:\n",
      "Loss: 0.44608 | Recall: 60.10% | F1-Score: 68.79% | AUROC: 84.94% | Brier Score: 14.35% | AUC PR: 81.67% | KS-Statistic: 54.61% | Pred Prob Diff: 44.06%\n",
      "Epoch: 10\n",
      "---------\n",
      "Training metrics:\n",
      "Loss: 0.45062 | Recall: 59.59% | F1-Score: 68.67% | AUROC: 84.67% | Brier Score: 14.51% | AUC PR: 81.39% | KS-Statistic: 53.80% | Pred Prob Diff: 43.54%\n",
      "Testing metrics:\n",
      "Loss: 0.44472 | Recall: 60.13% | F1-Score: 68.89% | AUROC: 85.07% | Brier Score: 14.30% | AUC PR: 81.80% | KS-Statistic: 54.86% | Pred Prob Diff: 44.13%\n",
      "Stopped early at epoch: 13\n",
      "---------\n",
      "Training metrics:\n",
      "Loss: 0.45027 | Recall: 59.63% | F1-Score: 68.70% | AUROC: 84.70% | Brier Score: 14.50% | AUC PR: 81.42% | KS-Statistic: 53.85% | Pred Prob Diff: 43.57%\n",
      "Validation metrics:\n",
      "Loss: 0.44463 | Recall: 60.11% | F1-Score: 68.88% | AUROC: 85.09% | Brier Score: 14.30% | AUC PR: 81.82% | KS-Statistic: 54.94% | Pred Prob Diff: 44.17%\n",
      "Train time on cpu: 50.220 seconds\n"
     ]
    }
   ],
   "source": [
    "# Measure training time\n",
    "train_time_start = timer()\n",
    "\n",
    "# Set the number of training epochs\n",
    "epochs = 30\n",
    "\n",
    "# Create empty lists to track loss values\n",
    "model_1_train_loss_values = []\n",
    "model_1_validation_loss_values = []\n",
    "model_1_epoch_count = []\n",
    "\n",
    "# Training loop\n",
    "for epoch in tqdm(range(epochs)):\n",
    "    if epoch % 5 == 0:\n",
    "        print(f\"Epoch: {epoch}\\n---------\")\n",
    "    train_metrics = train_step(data_loader=train_dataloader, \n",
    "                               model=model_1, \n",
    "                               epochs=epoch,\n",
    "                               loss_fn=loss_fn,\n",
    "                               optimizer=optimizer,\n",
    "                               auc_fn=auc_fn,\n",
    "                               recall_fn=recall_fn,\n",
    "                               f1_score_fn=f1_score_fn,\n",
    "                               auroc_fn=auroc_fn,\n",
    "                               brier_fn=brier_fn,\n",
    "                               auc_pr_fn=auc_pr_fn,\n",
    "                               ks_fn=ks_fn,\n",
    "                               prob_diff_fn=prob_diff_fn\n",
    "    )\n",
    "    validation_metrics = test_step(data_loader=validation_dataloader,\n",
    "                             model=model_1,\n",
    "                             epochs=epoch,\n",
    "                             loss_fn=loss_fn,\n",
    "                             auc_fn=auc_fn,\n",
    "                             recall_fn=recall_fn,\n",
    "                             f1_score_fn=f1_score_fn,\n",
    "                             auroc_fn=auroc_fn,\n",
    "                             brier_fn=brier_fn,\n",
    "                             auc_pr_fn=auc_pr_fn,\n",
    "                             ks_fn=ks_fn,\n",
    "                             prob_diff_fn=prob_diff_fn\n",
    "    )\n",
    "    model_1_epoch_count.append(epoch)\n",
    "    model_1_train_loss_values.append(train_metrics['loss'])\n",
    "    model_1_validation_loss_values.append(validation_metrics['loss'])\n",
    "    \n",
    "    if early_stopper.early_stop_check(validation_metrics['loss']):\n",
    "        print(f\"Stopped early at epoch: {epoch}\\n---------\")\n",
    "        \n",
    "        print(f\"Training metrics:\\nLoss: {train_metrics['loss']:.5f} \"\n",
    "              f\"| Recall: {train_metrics['recall']:.2f}% | F1-Score: {train_metrics['f1']:.2f}% \"\n",
    "              f\"| AUROC: {train_metrics['auroc']:.2f}% | Brier Score: {train_metrics['brier']:.2f}% \"\n",
    "              f\"| AUC PR: {train_metrics['aucpr']:.2f}% | KS-Statistic: {train_metrics['ks']:.2f}% \"\n",
    "              f\"| Pred Prob Diff: {train_metrics['prob_diff']:.2f}%\")\n",
    "        \n",
    "        print(f\"Validation metrics:\\nLoss: {validation_metrics['loss']:.5f} \"\n",
    "              f\"| Recall: {validation_metrics['recall']:.2f}% | F1-Score: {validation_metrics['f1']:.2f}% \"\n",
    "              f\"| AUROC: {validation_metrics['auroc']:.2f}% | Brier Score: {validation_metrics['brier']:.2f}% \"\n",
    "              f\"| AUC PR: {validation_metrics['aucpr']:.2f}% | KS-Statistic: {validation_metrics['ks']:.2f}% \"\n",
    "              f\"| Pred Prob Diff: {validation_metrics['prob_diff']:.2f}%\")\n",
    "        break\n",
    "\n",
    "train_time_end = timer()\n",
    "total_train_time_model_1 = print_train_time(start=train_time_start,\n",
    "                                            end=train_time_end,\n",
    "                                            device=device)\n",
    "\n",
    "\n",
    "# If you see a red progress bar below, training was stopped to prevent overfitting through early stopping callbacks. \n",
    "# This is not a cause for concern in this example."
   ]
  },
  {
   "cell_type": "code",
   "execution_count": 19,
   "id": "cc86dcfcf8bd5fb7",
   "metadata": {
    "ExecuteTime": {
     "end_time": "2024-01-11T18:01:54.003786Z",
     "start_time": "2024-01-11T18:01:53.869949Z"
    },
    "collapsed": false,
    "jupyter": {
     "outputs_hidden": false
    }
   },
   "outputs": [
    {
     "data": {
      "image/png": "[encoded data removed]",
      "text/plain": [
       "<Figure size 640x480 with 1 Axes>"
      ]
     },
     "metadata": {},
     "output_type": "display_data"
    }
   ],
   "source": [
    "# Plot loss curves\n",
    "plot_loss_curves(model_1_epoch_count, model_1_train_loss_values, model_1_validation_loss_values)"
   ]
  },
  {
   "cell_type": "code",
   "execution_count": 20,
   "id": "4ddad9e2be6c8e13",
   "metadata": {
    "ExecuteTime": {
     "end_time": "2024-01-11T18:01:54.625428Z",
     "start_time": "2024-01-11T18:01:54.016085Z"
    },
    "collapsed": false,
    "jupyter": {
     "outputs_hidden": false
    }
   },
   "outputs": [
    {
     "data": {
      "text/plain": [
       "{'model_name': 'PredictLiquidationsV1',\n",
       " 'model_loss': 0.44462621212005615,\n",
       " 'model_rec': 60.10767716627855,\n",
       " 'model_f1': 68.87922697800856,\n",
       " 'model_auroc': 85.08841587946965,\n",
       " 'model_brier': 14.295589037442642,\n",
       " 'model_aucpr': 81.81597063174614,\n",
       " 'model_ks': 54.93996914548726,\n",
       " 'model_prob_diff': 44.16842460632324}"
      ]
     },
     "execution_count": 20,
     "metadata": {},
     "output_type": "execute_result"
    }
   ],
   "source": [
    "# Calculate model 1 results\n",
    "model_1_results = eval_model(model=model_1,\n",
    "                             data_loader=validation_dataloader,\n",
    "                             loss_fn=loss_fn,\n",
    "                             auc_fn=auc_fn,\n",
    "                             recall_fn=recall_fn,\n",
    "                             f1_score_fn=f1_score_fn,\n",
    "                             auroc_fn=auroc_fn,\n",
    "                             brier_fn=brier_fn,\n",
    "                             auc_pr_fn=auc_pr_fn,\n",
    "                             ks_fn=ks_fn,\n",
    "                             prob_diff_fn=prob_diff_fn,\n",
    "                             device=device)\n",
    "model_1_results.update({'model_name': model_1.__class__.__name__})\n",
    "\n",
    "model_1_results"
   ]
  },
  {
   "cell_type": "markdown",
   "id": "b7f4e1fa0704530e",
   "metadata": {
    "collapsed": false,
    "jupyter": {
     "outputs_hidden": false
    }
   },
   "source": [
    "# Submission Phase 1\n",
    "\n",
    "### Generate onnx file and model calibration data\n",
    "To initiate the submission process, you need to generate an ONNX file representing your trained model and create a calibration data file. Follow the steps below:"
   ]
  },
  {
   "cell_type": "code",
   "execution_count": 21,
   "id": "2b1b3768405ce0c8",
   "metadata": {
    "ExecuteTime": {
     "end_time": "2024-01-11T18:01:54.628075Z",
     "start_time": "2024-01-11T18:01:54.626199Z"
    },
    "collapsed": false,
    "jupyter": {
     "outputs_hidden": false
    }
   },
   "outputs": [],
   "source": [
    "# You will only commit files in the submission directory\n",
    "# If one does not exist create it\n",
    "if not os.path.exists('submissions'):\n",
    "    os.makedirs('submissions')"
   ]
  },
  {
   "cell_type": "code",
   "execution_count": 22,
   "id": "2a8fe707-5f5c-4cc3-b36d-6803ed8ce26a",
   "metadata": {
    "ExecuteTime": {
     "end_time": "2024-01-11T18:01:54.669937Z",
     "start_time": "2024-01-11T18:01:54.628512Z"
    },
    "collapsed": false,
    "jupyter": {
     "outputs_hidden": false
    }
   },
   "outputs": [],
   "source": [
    "# Export the ONNX file using the trained model and create an observation for model calibration.\n",
    "model_1.eval()\n",
    "torch.onnx.export(model_1,\n",
    "                  torch.randn((1, X_train.shape[1]), requires_grad=True).to(device),\n",
    "                  'submissions/model_1.onnx',\n",
    "                  input_names=['input'],\n",
    "                  output_names=['output'],\n",
    "                  dynamic_axes={'input' : {0 : 'batch_size'}, \n",
    "                                'output' : {0 : 'batch_size'}},\n",
    "                  opset_version=14)"
   ]
  },
  {
   "cell_type": "markdown",
   "id": "d70a649a-0b2e-4241-91a2-8dfca11ac490",
   "metadata": {},
   "source": [
    "Export an observation from the validation dataset that will be used to calibrate the zkML settings file.\n",
    "\n",
    "This list of feature values can be from the validation dataset (as shown here) or a completely different sample that will be representative of the data seen in production. "
   ]
  },
  {
   "cell_type": "code",
   "execution_count": 23,
   "id": "6673b392b442b77d",
   "metadata": {
    "ExecuteTime": {
     "end_time": "2024-01-11T18:01:54.670914Z",
     "start_time": "2024-01-11T18:01:54.664684Z"
    },
    "collapsed": false,
    "jupyter": {
     "outputs_hidden": false
    }
   },
   "outputs": [],
   "source": [
    "# Export 1 or multiple observations for zk-circuit calibration (here we're exporting 10)\n",
    "# A better calibrated circuit will result in lower quantization errors in production, albeit potentially, at the cost of higher compute and proving time requirements \n",
    "x = validation_features_batch[:10].reshape([-1]).numpy().tolist()\n",
    "data = dict(input_data=[x])\n",
    "json.dump(data, open('submissions/model_1_calibration.json', 'w'))"
   ]
  },
  {
   "cell_type": "markdown",
   "id": "c10cb78e2309cd3f",
   "metadata": {
    "collapsed": false,
    "jupyter": {
     "outputs_hidden": false
    }
   },
   "source": [
    "### Commit to a model\n",
    "\n",
    "**If this is your first time committing a model, you will need to configure the Spectral CLI.**\n",
    "\n",
    "Begin with Step 5 in our [Gitbook](https://docs.spectral.finance/modeler-handbook/3.-submission/step-5-configure-spectral-cli) and return here for Step 6's \"Submit model commitment (never the model itself!)\""
   ]
  },
  {
   "cell_type": "code",
   "execution_count": 24,
   "id": "912924090436c546",
   "metadata": {
    "ExecuteTime": {
     "end_time": "2023-12-08T23:39:06.708906Z",
     "start_time": "2023-12-08T23:38:50.353236Z"
    },
    "collapsed": false,
    "jupyter": {
     "outputs_hidden": false
    }
   },
   "outputs": [
    {
     "name": "stdout",
     "output_type": "stream",
     "text": [
      "Settings successfully generated\r\n",
      "\u001b[2K\u001b[1A[00:00:08] \u001b[36m########################################\u001b[34m\u001b[0m\u001b[0m      63/63      Calibration Done.aram scale: 7, scale rebase multiplier: 10[1A\u001b[1A\u001b[1A\u001b[1A\u001b[1A\u001b[1A\u001b[1A\u001b[1A\u001b[1A\u001b[1A\u001b[1A\u001b[1A\u001b[1A\u001b[1A\u001b[1A\u001b[1A\u001b[1A\u001b[1A\u001b[1A\u001b[1A\u001b[1A\u001b[1A\u001b[1A\u001b[1A\u001b[1A\u001b[1A\u001b[1A\u001b[1A\u001b[1A\u001b[1A\u001b[1A\u001b[1A\u001b[1A\u001b[1A\u001b[1A\u001b[1A\u001b[1A\u001b[1A\u001b[1A\u001b[1A\u001b[1A\u001b[1A\u001b[1A\u001b[1A\u001b[1A\u001b[1A\u001b[1A\u001b[1A\u001b[1A\u001b[1A\u001b[1A\u001b[1A\u001b[1A\u001b[1A\u001b[1A\u001b[1A\u001b[1A\u001b[1A\u001b[1A\u001b[1A\u001b[1A\u001b[1A\u001b[1A\u001b[1A\u001b[1A\u001b[1A\u001b[1A\u001b[1A\u001b[1A\u001b[1A\u001b[1A\u001b[1A\u001b[1A\u001b[1A\u001b[1A\u001b[1A\u001b[1A\u001b[1A\u001b[1A\u001b[1A\u001b[1A\u001b[1A\u001b[1A\u001b[1A\u001b[1A\u001b[1A\u001b[1A\u001b[1ASettings successfully calibrated\r\n",
      "Model successfully compiled\r\n",
      "\u001b[2K[00:00:00] \u001b[34m------ - 👾 \u001b[0m SRS validated                                           spawning module 2----- - ✨ \u001b[0m Validating SRS (this may take a while) ...              \r\n",
      "spawning module 2\r\n",
      "EZKL Setup was successful\r\n",
      "\r\n",
      "Commitment successfully uploaded to IPFS: QmXPb9jTWiSE2ejNUVKCAMsxqej1anmAgEKNQKKZxSC5gp\r\n",
      "Submitting model with CID: QmXPb9jTWiSE2ejNUVKCAMsxqej1anmAgEKNQKKZxSC5gp to challenge: 0xFDC1BE05aD924e6Fc4Ab2c6443279fF7C0AB5544. This may take a moment.\r\n",
      "Your submission has been recorded successfully!\r\n",
      "You can check status of that transaction under: https://arbiscan.io/tx/0x46904e71548b738915ab7c341926d2631de581b4c1eed6ff8cef8e3e6c4f7099\r\n"
     ]
    }
   ],
   "source": [
    "!spectral-cli commit submissions/model_1.onnx submissions/model_1_calibration.json 0xFDC1BE05aD924e6Fc4Ab2c6443279fF7C0AB5544"
   ]
  },
  {
   "cell_type": "markdown",
   "id": "a0a9efb66b1a15aa",
   "metadata": {
    "collapsed": false,
    "jupyter": {
     "outputs_hidden": false
    }
   },
   "source": [
    "# Submission Phase 2\n",
    "### Generate predictions file\n",
    "\n",
    "Each modeler will receive a unique test set and will be responsible for generating predictions for each sample in the test set.\n",
    "This process happens in four steps: \n",
    "\n",
    "1. Fetching your unique test set of 10,000 addresses from a validator. \n",
    "    - Once a commitment is made, validators will take a verifiably random number and deliver a subset of the global test set of addresses to each modeler. Consider two modelers A and B. Modeler A's test set will be different from Modeler B's test set, although they may both contain some of the same addresses.\n",
    "2. Fetching real-time feature values for each address in your test set.\n",
    "    - Spectral's datawrapper provides the same features used in the training dataset, but the values for each feature are updated in real-time. These features will also be available during the consumption period. Modelers should apply the same transformations used during training to these real-time feature values.\n",
    "3. Making a prediction for each address in the test set.\n",
    "    - You will make a prediction for each address in your test set using the model committed in Phase 1.\n",
    "4. Formatting your predictions for final submission.\n",
    "    - Modelers do not submit the models they created. Modelers submit predictions from their models along with scaled and transformed feature values used to generate these predictions. This allows validators to verify that the predictions were generated from a committed model without requiring modelers to reveal any details about their models."
   ]
  },
  {
   "cell_type": "code",
   "execution_count": 25,
   "id": "a28c3eaf2b2062cb",
   "metadata": {
    "ExecuteTime": {
     "end_time": "2024-01-11T18:10:14.997885Z",
     "start_time": "2024-01-11T18:06:14.952674Z"
    },
    "collapsed": false,
    "jupyter": {
     "outputs_hidden": false
    }
   },
   "outputs": [
    {
     "name": "stdout",
     "output_type": "stream",
     "text": [
      "You must wait about 4 minutes between Phase 1 submission and fetching test set. Our Gitbook explains why.\n"
     ]
    }
   ],
   "source": [
    "print(\"You must wait about 4 minutes between Phase 1 submission and fetching test set. Our Gitbook explains why.\")\n",
    "time.sleep(240)"
   ]
  },
  {
   "cell_type": "markdown",
   "id": "b9d015179b664d02",
   "metadata": {
    "collapsed": false,
    "jupyter": {
     "outputs_hidden": false
    }
   },
   "source": [
    "#### Fetch addresses in your individual test set\n",
    "This will produce a parquet file with a single column titled wallet_address and 10,000 rows. You must make a prediction for each address in this list. "
   ]
  },
  {
   "cell_type": "code",
   "execution_count": 26,
   "id": "e091d79fb8492212",
   "metadata": {
    "ExecuteTime": {
     "end_time": "2024-01-11T18:10:18.086216Z",
     "start_time": "2024-01-11T18:10:14.991739Z"
    },
    "collapsed": false,
    "jupyter": {
     "outputs_hidden": false
    }
   },
   "outputs": [
    {
     "name": "stdout",
     "output_type": "stream",
     "text": [
      "100%|███████████████████████████████████████| 424k/424k [00:00<00:00, 51.2MiB/s]\r\n",
      "Testing dataset successfully downloaded!\r\n"
     ]
    }
   ],
   "source": [
    "!spectral-cli fetch-testing-data 0xFDC1BE05aD924e6Fc4Ab2c6443279fF7C0AB5544"
   ]
  },
  {
   "cell_type": "code",
   "execution_count": 27,
   "id": "fa6113393664f694",
   "metadata": {
    "ExecuteTime": {
     "end_time": "2024-01-11T18:10:18.237913Z",
     "start_time": "2024-01-11T18:10:18.093640Z"
    },
    "collapsed": false,
    "jupyter": {
     "outputs_hidden": false
    }
   },
   "outputs": [
    {
     "data": {
      "text/plain": [
       "['0xb27b86dc5e4d235c4d97fce0f87fe208dc572957',\n",
       " '0xbb480b4fde5ff1b286d64d2231874e6b58069a55',\n",
       " '0x0ba85c9e1863e5efb8395a55cd042d61decd6e89',\n",
       " '0xf2c5ea12e7f6ea82bea1206b430c81bea90e1757',\n",
       " '0xc6fed6a9dd7b9c6e9ff2b0c5d88927fa522b6d3c',\n",
       " '0xff114950ff28f93783bb736b87ebbabbc93ebee8',\n",
       " '0xb85ed50c6c0e4cc2caff3600f6ab08aedbe6c9e6',\n",
       " '0x1b976af94caa1d9b2fe5ed038ef9818dd6d48870',\n",
       " '0x68b5d2b865da2c90f05e10c62ade13edc4461708',\n",
       " '0xae9e4dee1d03404e91d5b22db811c10f7d251c22']"
      ]
     },
     "execution_count": 27,
     "metadata": {},
     "output_type": "execute_result"
    }
   ],
   "source": [
    "# We'll load 10 addresses to verify the set was fetched. \n",
    "# If you cannot execute this cell, try downloading the test set again. \n",
    "test_set_addresses = pd.read_parquet('0xFDC1BE05aD924e6Fc4Ab2c6443279fF7C0AB5544_testing_dataset.parquet')['wallet_address'].tolist()\n",
    "test_set_addresses[0:10]"
   ]
  },
  {
   "cell_type": "markdown",
   "id": "867080c78bdc8b70",
   "metadata": {
    "collapsed": false,
    "jupyter": {
     "outputs_hidden": false
    }
   },
   "source": [
    "### Fetch features for each address in your test set\n",
    "To make a prediction for each address in your test set, you will need to fetch the real-time feature values for each address. These are the same features used in the training dataset, but the values for each feature are updated in real-time.\n",
    "\n",
    "Ex: You may have a sample in the training dataset for 0xA, who borrowed on June 1st 2021. You may also get 0xA in the test set. The training dataset will contain the feature values for 0xA on June 1st 2021. The test set will contain the feature values for 0xA on the day you fetch the data."
   ]
  },
  {
   "cell_type": "markdown",
   "id": "4eca9629f4594a84",
   "metadata": {
    "collapsed": false,
    "jupyter": {
     "outputs_hidden": false
    }
   },
   "source": [
    "If you used any external data sources you should fetch and process them at this time. "
   ]
  },
  {
   "cell_type": "code",
   "execution_count": 28,
   "id": "fb1dd60c6663bfe2",
   "metadata": {
    "ExecuteTime": {
     "end_time": "2024-01-11T18:10:18.241991Z",
     "start_time": "2024-01-11T18:10:18.160304Z"
    },
    "collapsed": false,
    "jupyter": {
     "outputs_hidden": false
    }
   },
   "outputs": [],
   "source": [
    "# Import relevant libraries for fetching features\n",
    "from spectral_datawrappers.credit_scoring.credit_scoring_wrapper import CreditScoringWrapper\n",
    "import pandas as pd\n",
    "import os\n",
    "import configparser\n",
    "import platform"
   ]
  },
  {
   "cell_type": "code",
   "execution_count": 29,
   "id": "14aa507db8cdd04",
   "metadata": {
    "ExecuteTime": {
     "end_time": "2024-01-11T18:10:18.281075Z",
     "start_time": "2024-01-11T18:10:18.198479Z"
    },
    "collapsed": false,
    "jupyter": {
     "outputs_hidden": false
    }
   },
   "outputs": [],
   "source": [
    "# Read your Spectral api_key from your config file\n",
    "\n",
    "# Macos and Linux users\n",
    "if platform.system() != 'Windows':\n",
    "    config = configparser.ConfigParser()\n",
    "    config.read_file(open(os.path.expanduser(\"~/.spectral/config.ini\")))\n",
    "else:\n",
    "    config = configparser.ConfigParser()\n",
    "    config_path = os.path.join(os.environ['USERPROFILE'], '.spectral', 'config.ini')\n",
    "    config.read(config_path)"
   ]
  },
  {
   "cell_type": "code",
   "execution_count": 30,
   "id": "4e4b14ce8da57dff",
   "metadata": {
    "ExecuteTime": {
     "end_time": "2024-01-11T18:10:18.686965Z",
     "start_time": "2024-01-11T18:10:18.208312Z"
    },
    "collapsed": false,
    "jupyter": {
     "outputs_hidden": false
    }
   },
   "outputs": [],
   "source": [
    "# Read our key and set a client\n",
    "spectral_api_key = config['global']['spectral_api_key']\n",
    "client = CreditScoringWrapper({'spectral_api_key': spectral_api_key})"
   ]
  },
  {
   "cell_type": "code",
   "execution_count": 31,
   "id": "adba5ff58b4fc558",
   "metadata": {
    "ExecuteTime": {
     "end_time": "2024-01-11T18:10:18.789839Z",
     "start_time": "2024-01-11T18:10:18.292499Z"
    },
    "collapsed": false,
    "jupyter": {
     "outputs_hidden": false
    }
   },
   "outputs": [
    {
     "data": {
      "text/plain": [
       "{'time_since_first_deposit': 40774694,\n",
       " 'market_max_drawdown_365d': -0.9929207900955996,\n",
       " 'market_macd': 16.460511174966086,\n",
       " 'time_since_last_liquidated': 999999999,\n",
       " 'market_natr': 3.246771084065471,\n",
       " 'risk_factor_above_threshold_daily_count': 0,\n",
       " 'borrow_repay_diff_eth': 0.0041649690896,\n",
       " 'incoming_tx_count': 17,\n",
       " 'risky_first_tx_timestamp': 999999999,\n",
       " 'withdraw_deposit_diff_if_positive_eth': 0.0,\n",
       " 'risk_factor': 0.2925948689336981,\n",
       " 'total_balance_eth': 0.006087397494039,\n",
       " 'market_correl': 0.6109736941457287,\n",
       " 'net_incoming_tx_count': -9,\n",
       " 'deposit_amount_sum_eth': 0.009980238366,\n",
       " 'market_cci': -1.3812573998792161,\n",
       " 'market_adxr': 19.58910232507555,\n",
       " 'avg_gas_paid_per_tx_eth': 0.0012606122140959549,\n",
       " 'market_rocr': 1.0140575355842214,\n",
       " 'wallet_age': 41228407,\n",
       " 'market_macdsignal_macdfix': 23.855359543661514,\n",
       " 'market_adx': 17.05379155466699,\n",
       " 'market_aroonup': 21.42857142857143,\n",
       " 'market_rocp': 0.014057535584221324,\n",
       " 'market_ht_trendmode': 0.0,\n",
       " 'risky_last_tx_timestamp': 999999999,\n",
       " 'liquidation_count': 0,\n",
       " 'min_eth_ever': 0.00422,\n",
       " 'market_dx': 4.412722217193037,\n",
       " 'borrow_amount_sum_eth': 0.0041649690896,\n",
       " 'liquidation_amount_sum_eth': 0.0,\n",
       " 'borrow_count': 1,\n",
       " 'total_gas_paid_eth': 0.032775917566494825,\n",
       " 'max_eth_ever': 0.20647,\n",
       " 'market_aroonosc': 85.55555555555556,\n",
       " 'deposit_count': 1,\n",
       " 'withdraw_amount_sum_eth': 0.0,\n",
       " 'market_atr': 72.91862211215758,\n",
       " 'repay_amount_sum_eth': 0.0,\n",
       " 'last_tx_timestamp': 1700542979,\n",
       " 'outgoing_tx_count': 26,\n",
       " 'max_risk_factor': 0.6108876677973348,\n",
       " 'total_collateral_avg_eth': 0.009972838091486672,\n",
       " 'avg_weighted_risk_factor': 0.0013945280915440873,\n",
       " 'risky_unique_contract_count': 0,\n",
       " 'unique_lending_protocol_count': 1,\n",
       " 'risky_tx_count': 0,\n",
       " 'risky_sum_outgoing_amount_eth': 0.0,\n",
       " 'market_fastk': 86.19918638096347,\n",
       " 'market_ppo': 0.8048229295463721,\n",
       " 'market_plus_di': 23.930831275938992,\n",
       " 'repay_amount_avg_eth': 0.0,\n",
       " 'incoming_tx_sum_eth': 0.428267358479834,\n",
       " 'market_macd_macdfix': 15.726971066471833,\n",
       " 'total_available_borrows_eth': 0.00593443146977558,\n",
       " 'market_macdsignal': 24.973424281615202,\n",
       " 'outgoing_tx_avg_eth': 0.023713906930577996,\n",
       " 'first_tx_timestamp': 1663768211,\n",
       " 'market_linearreg_slope': -4.166529661744505,\n",
       " 'repay_count': 0,\n",
       " 'total_available_borrows_avg_eth': 0.004928193548159206,\n",
       " 'total_collateral_eth': 0.010107245649585803,\n",
       " 'outgoing_tx_sum_eth': 0.37942251088924794,\n",
       " 'market_cmo': 11.773013488869292,\n",
       " 'market_macd_macdext': 18.280588003305184,\n",
       " 'incoming_tx_avg_eth': 0.026766709904989625,\n",
       " 'unique_borrow_protocol_count': 1,\n",
       " 'market_macdsignal_macdext': 24.0711560371594,\n",
       " 'market_fastd': 55.605300044313914,\n",
       " 'risky_first_last_tx_timestamp_diff': 0,\n",
       " 'market_plus_dm': 326.5115371465614,\n",
       " 'avg_risk_factor': 0.40437124226464594,\n",
       " 'borrow_amount_avg_eth': 0.0041649690896,\n",
       " 'market_apo': 18.280588003305184,\n",
       " 'wallet_address': '0xc4be7dd2f1dbba2145fe59c26f757c788fc31c26'}"
      ]
     },
     "execution_count": 31,
     "metadata": {},
     "output_type": "execute_result"
    }
   ],
   "source": [
    "# To ensure you are set up correctly, run the following command to fetch features for a single address\n",
    "test_request = client.request({\"wallet_address\": '0xc4be7dd2f1dbba2145fe59c26f757c788fc31c26'})\n",
    "test_request"
   ]
  },
  {
   "cell_type": "markdown",
   "id": "7a1ef8b562edfe4d",
   "metadata": {
    "collapsed": false,
    "jupyter": {
     "outputs_hidden": false
    }
   },
   "source": [
    "#### Fetch features for each address in your test set (this will take around 1 minute)\n",
    "If it takes longer than that, ensure you're on the latest version of spectral-datawrappers\n",
    "\n",
    "The result of this should be dataframe with 10,000 rows and 75 columns.\n",
    "If you get any error messages here please reach out to us on  [Discord](https://discord.gg/w7mKT2KBKh)"
   ]
  },
  {
   "cell_type": "code",
   "execution_count": 32,
   "id": "44694032677e1a7",
   "metadata": {
    "ExecuteTime": {
     "end_time": "2024-01-11T18:11:12.390627Z",
     "start_time": "2024-01-11T18:10:18.593344Z"
    },
    "collapsed": false,
    "jupyter": {
     "outputs_hidden": false
    }
   },
   "outputs": [
    {
     "name": "stderr",
     "output_type": "stream",
     "text": [
      "Processing requests: 100%|██████████| 3/3 [00:53<00:00, 17.90s/request]\n"
     ]
    },
    {
     "data": {
      "text/html": [
       "<div>\n",
       "<style scoped>\n",
       "    .dataframe tbody tr th:only-of-type {\n",
       "        vertical-align: middle;\n",
       "    }\n",
       "\n",
       "    .dataframe tbody tr th {\n",
       "        vertical-align: top;\n",
       "    }\n",
       "\n",
       "    .dataframe thead th {\n",
       "        text-align: right;\n",
       "    }\n",
       "</style>\n",
       "<table border=\"1\" class=\"dataframe\">\n",
       "  <thead>\n",
       "    <tr style=\"text-align: right;\">\n",
       "      <th></th>\n",
       "      <th>time_since_first_deposit</th>\n",
       "      <th>time_since_last_liquidated</th>\n",
       "      <th>risk_factor_above_threshold_daily_count</th>\n",
       "      <th>borrow_repay_diff_eth</th>\n",
       "      <th>incoming_tx_count</th>\n",
       "      <th>risky_first_tx_timestamp</th>\n",
       "      <th>withdraw_deposit_diff_if_positive_eth</th>\n",
       "      <th>risk_factor</th>\n",
       "      <th>total_balance_eth</th>\n",
       "      <th>net_incoming_tx_count</th>\n",
       "      <th>...</th>\n",
       "      <th>market_macdsignal</th>\n",
       "      <th>market_macdsignal_macdext</th>\n",
       "      <th>market_macdsignal_macdfix</th>\n",
       "      <th>market_max_drawdown_365d</th>\n",
       "      <th>market_natr</th>\n",
       "      <th>market_plus_di</th>\n",
       "      <th>market_plus_dm</th>\n",
       "      <th>market_ppo</th>\n",
       "      <th>market_rocp</th>\n",
       "      <th>market_rocr</th>\n",
       "    </tr>\n",
       "  </thead>\n",
       "  <tbody>\n",
       "    <tr>\n",
       "      <th>0</th>\n",
       "      <td>51464824</td>\n",
       "      <td>999999999</td>\n",
       "      <td>395</td>\n",
       "      <td>0.000071</td>\n",
       "      <td>22</td>\n",
       "      <td>999999999</td>\n",
       "      <td>0.000000</td>\n",
       "      <td>0.670351</td>\n",
       "      <td>0.006755</td>\n",
       "      <td>-57</td>\n",
       "      <td>...</td>\n",
       "      <td>24.973424</td>\n",
       "      <td>24.071156</td>\n",
       "      <td>23.85536</td>\n",
       "      <td>-0.992921</td>\n",
       "      <td>3.246771</td>\n",
       "      <td>23.930831</td>\n",
       "      <td>326.511537</td>\n",
       "      <td>0.804823</td>\n",
       "      <td>0.014058</td>\n",
       "      <td>1.014058</td>\n",
       "    </tr>\n",
       "    <tr>\n",
       "      <th>1</th>\n",
       "      <td>85001658</td>\n",
       "      <td>999999999</td>\n",
       "      <td>0</td>\n",
       "      <td>2.293942</td>\n",
       "      <td>33</td>\n",
       "      <td>1619914091</td>\n",
       "      <td>0.000000</td>\n",
       "      <td>0.266897</td>\n",
       "      <td>1.951528</td>\n",
       "      <td>-75</td>\n",
       "      <td>...</td>\n",
       "      <td>24.973424</td>\n",
       "      <td>24.071156</td>\n",
       "      <td>23.85536</td>\n",
       "      <td>-0.992921</td>\n",
       "      <td>3.246771</td>\n",
       "      <td>23.930831</td>\n",
       "      <td>326.511537</td>\n",
       "      <td>0.804823</td>\n",
       "      <td>0.014058</td>\n",
       "      <td>1.014058</td>\n",
       "    </tr>\n",
       "    <tr>\n",
       "      <th>2</th>\n",
       "      <td>52936111</td>\n",
       "      <td>999999999</td>\n",
       "      <td>0</td>\n",
       "      <td>0.000196</td>\n",
       "      <td>92</td>\n",
       "      <td>1639224589</td>\n",
       "      <td>0.348283</td>\n",
       "      <td>0.268140</td>\n",
       "      <td>0.041223</td>\n",
       "      <td>-220</td>\n",
       "      <td>...</td>\n",
       "      <td>24.973424</td>\n",
       "      <td>24.071156</td>\n",
       "      <td>23.85536</td>\n",
       "      <td>-0.992921</td>\n",
       "      <td>3.246771</td>\n",
       "      <td>23.930831</td>\n",
       "      <td>326.511537</td>\n",
       "      <td>0.804823</td>\n",
       "      <td>0.014058</td>\n",
       "      <td>1.014058</td>\n",
       "    </tr>\n",
       "    <tr>\n",
       "      <th>3</th>\n",
       "      <td>85432935</td>\n",
       "      <td>999999999</td>\n",
       "      <td>0</td>\n",
       "      <td>0.744861</td>\n",
       "      <td>41</td>\n",
       "      <td>1600471406</td>\n",
       "      <td>0.000000</td>\n",
       "      <td>0.426396</td>\n",
       "      <td>0.073910</td>\n",
       "      <td>-64</td>\n",
       "      <td>...</td>\n",
       "      <td>24.973424</td>\n",
       "      <td>24.071156</td>\n",
       "      <td>23.85536</td>\n",
       "      <td>-0.992921</td>\n",
       "      <td>3.246771</td>\n",
       "      <td>23.930831</td>\n",
       "      <td>326.511537</td>\n",
       "      <td>0.804823</td>\n",
       "      <td>0.014058</td>\n",
       "      <td>1.014058</td>\n",
       "    </tr>\n",
       "    <tr>\n",
       "      <th>4</th>\n",
       "      <td>44994980</td>\n",
       "      <td>999999999</td>\n",
       "      <td>58</td>\n",
       "      <td>0.007185</td>\n",
       "      <td>82</td>\n",
       "      <td>1653235424</td>\n",
       "      <td>0.000000</td>\n",
       "      <td>0.769306</td>\n",
       "      <td>0.041656</td>\n",
       "      <td>-239</td>\n",
       "      <td>...</td>\n",
       "      <td>24.973424</td>\n",
       "      <td>24.071156</td>\n",
       "      <td>23.85536</td>\n",
       "      <td>-0.992921</td>\n",
       "      <td>3.246771</td>\n",
       "      <td>23.930831</td>\n",
       "      <td>326.511537</td>\n",
       "      <td>0.804823</td>\n",
       "      <td>0.014058</td>\n",
       "      <td>1.014058</td>\n",
       "    </tr>\n",
       "  </tbody>\n",
       "</table>\n",
       "<p>5 rows × 75 columns</p>\n",
       "</div>"
      ],
      "text/plain": [
       "   time_since_first_deposit  time_since_last_liquidated  \\\n",
       "0                  51464824                   999999999   \n",
       "1                  85001658                   999999999   \n",
       "2                  52936111                   999999999   \n",
       "3                  85432935                   999999999   \n",
       "4                  44994980                   999999999   \n",
       "\n",
       "   risk_factor_above_threshold_daily_count  borrow_repay_diff_eth  \\\n",
       "0                                      395               0.000071   \n",
       "1                                        0               2.293942   \n",
       "2                                        0               0.000196   \n",
       "3                                        0               0.744861   \n",
       "4                                       58               0.007185   \n",
       "\n",
       "   incoming_tx_count  risky_first_tx_timestamp  \\\n",
       "0                 22                 999999999   \n",
       "1                 33                1619914091   \n",
       "2                 92                1639224589   \n",
       "3                 41                1600471406   \n",
       "4                 82                1653235424   \n",
       "\n",
       "   withdraw_deposit_diff_if_positive_eth  risk_factor  total_balance_eth  \\\n",
       "0                               0.000000     0.670351           0.006755   \n",
       "1                               0.000000     0.266897           1.951528   \n",
       "2                               0.348283     0.268140           0.041223   \n",
       "3                               0.000000     0.426396           0.073910   \n",
       "4                               0.000000     0.769306           0.041656   \n",
       "\n",
       "   net_incoming_tx_count  ...  market_macdsignal  market_macdsignal_macdext  \\\n",
       "0                    -57  ...          24.973424                  24.071156   \n",
       "1                    -75  ...          24.973424                  24.071156   \n",
       "2                   -220  ...          24.973424                  24.071156   \n",
       "3                    -64  ...          24.973424                  24.071156   \n",
       "4                   -239  ...          24.973424                  24.071156   \n",
       "\n",
       "   market_macdsignal_macdfix  market_max_drawdown_365d  market_natr  \\\n",
       "0                   23.85536                 -0.992921     3.246771   \n",
       "1                   23.85536                 -0.992921     3.246771   \n",
       "2                   23.85536                 -0.992921     3.246771   \n",
       "3                   23.85536                 -0.992921     3.246771   \n",
       "4                   23.85536                 -0.992921     3.246771   \n",
       "\n",
       "   market_plus_di  market_plus_dm  market_ppo  market_rocp  market_rocr  \n",
       "0       23.930831      326.511537    0.804823     0.014058     1.014058  \n",
       "1       23.930831      326.511537    0.804823     0.014058     1.014058  \n",
       "2       23.930831      326.511537    0.804823     0.014058     1.014058  \n",
       "3       23.930831      326.511537    0.804823     0.014058     1.014058  \n",
       "4       23.930831      326.511537    0.804823     0.014058     1.014058  \n",
       "\n",
       "[5 rows x 75 columns]"
      ]
     },
     "execution_count": 32,
     "metadata": {},
     "output_type": "execute_result"
    }
   ],
   "source": [
    "# Format for request batch method\n",
    "test_set_address_dict = {'wallets_addresses': test_set_addresses}\n",
    "response = client.request_batch(test_set_address_dict)\n",
    "test_set_with_features = pd.DataFrame(response)\n",
    "test_set_with_features.head()"
   ]
  },
  {
   "cell_type": "markdown",
   "id": "cb78a53db70de5e5",
   "metadata": {
    "collapsed": false,
    "jupyter": {
     "outputs_hidden": false
    }
   },
   "source": [
    "#### Generate predictions for each address in the test set\n"
   ]
  },
  {
   "cell_type": "code",
   "execution_count": 33,
   "id": "529d52885b1bcf89",
   "metadata": {
    "ExecuteTime": {
     "end_time": "2024-01-11T18:18:44.479489Z",
     "start_time": "2024-01-11T18:18:44.428050Z"
    },
    "collapsed": false,
    "jupyter": {
     "outputs_hidden": false
    }
   },
   "outputs": [
    {
     "data": {
      "text/html": [
       "<div>\n",
       "<style scoped>\n",
       "    .dataframe tbody tr th:only-of-type {\n",
       "        vertical-align: middle;\n",
       "    }\n",
       "\n",
       "    .dataframe tbody tr th {\n",
       "        vertical-align: top;\n",
       "    }\n",
       "\n",
       "    .dataframe thead th {\n",
       "        text-align: right;\n",
       "    }\n",
       "</style>\n",
       "<table border=\"1\" class=\"dataframe\">\n",
       "  <thead>\n",
       "    <tr style=\"text-align: right;\">\n",
       "      <th></th>\n",
       "      <th>first_tx_timestamp</th>\n",
       "      <th>last_tx_timestamp</th>\n",
       "      <th>wallet_age</th>\n",
       "      <th>incoming_tx_count</th>\n",
       "      <th>outgoing_tx_count</th>\n",
       "      <th>net_incoming_tx_count</th>\n",
       "      <th>total_gas_paid_eth</th>\n",
       "      <th>avg_gas_paid_per_tx_eth</th>\n",
       "      <th>risky_tx_count</th>\n",
       "      <th>risky_unique_contract_count</th>\n",
       "      <th>...</th>\n",
       "      <th>market_natr</th>\n",
       "      <th>market_plus_di</th>\n",
       "      <th>market_plus_dm</th>\n",
       "      <th>market_ppo</th>\n",
       "      <th>market_rocp</th>\n",
       "      <th>market_rocr</th>\n",
       "      <th>unique_borrow_protocol_count</th>\n",
       "      <th>unique_lending_protocol_count</th>\n",
       "      <th>wallet_address</th>\n",
       "      <th>pred_prob</th>\n",
       "    </tr>\n",
       "  </thead>\n",
       "  <tbody>\n",
       "    <tr>\n",
       "      <th>0</th>\n",
       "      <td>0.640541</td>\n",
       "      <td>1.977413</td>\n",
       "      <td>1.242153</td>\n",
       "      <td>-0.329297</td>\n",
       "      <td>-0.075544</td>\n",
       "      <td>0.048961</td>\n",
       "      <td>-0.190384</td>\n",
       "      <td>-0.443622</td>\n",
       "      <td>-0.376033</td>\n",
       "      <td>-0.527782</td>\n",
       "      <td>...</td>\n",
       "      <td>-1.254264</td>\n",
       "      <td>0.065177</td>\n",
       "      <td>-0.035042</td>\n",
       "      <td>-0.14787</td>\n",
       "      <td>-0.139743</td>\n",
       "      <td>-0.139743</td>\n",
       "      <td>0.046942</td>\n",
       "      <td>-0.504171</td>\n",
       "      <td>0xdd505b5496fec452bcb4e0e7651060b9622dd594</td>\n",
       "      <td>0.476792</td>\n",
       "    </tr>\n",
       "    <tr>\n",
       "      <th>1</th>\n",
       "      <td>0.497710</td>\n",
       "      <td>2.251532</td>\n",
       "      <td>1.409931</td>\n",
       "      <td>-0.324522</td>\n",
       "      <td>-0.074505</td>\n",
       "      <td>0.048309</td>\n",
       "      <td>-0.181225</td>\n",
       "      <td>-0.071692</td>\n",
       "      <td>-0.318934</td>\n",
       "      <td>0.428717</td>\n",
       "      <td>...</td>\n",
       "      <td>-1.254264</td>\n",
       "      <td>0.065177</td>\n",
       "      <td>-0.035042</td>\n",
       "      <td>-0.14787</td>\n",
       "      <td>-0.139743</td>\n",
       "      <td>-0.139743</td>\n",
       "      <td>0.046942</td>\n",
       "      <td>-0.504171</td>\n",
       "      <td>0x7dcc2d600cd0dc41fc331c9e07be462dd946340c</td>\n",
       "      <td>0.066744</td>\n",
       "    </tr>\n",
       "    <tr>\n",
       "      <th>2</th>\n",
       "      <td>0.994864</td>\n",
       "      <td>2.336097</td>\n",
       "      <td>0.825944</td>\n",
       "      <td>-0.298915</td>\n",
       "      <td>-0.067201</td>\n",
       "      <td>0.043055</td>\n",
       "      <td>-0.183999</td>\n",
       "      <td>-0.403339</td>\n",
       "      <td>-0.242802</td>\n",
       "      <td>1.441480</td>\n",
       "      <td>...</td>\n",
       "      <td>-1.254264</td>\n",
       "      <td>0.065177</td>\n",
       "      <td>-0.035042</td>\n",
       "      <td>-0.14787</td>\n",
       "      <td>-0.139743</td>\n",
       "      <td>-0.139743</td>\n",
       "      <td>0.046942</td>\n",
       "      <td>1.749809</td>\n",
       "      <td>0x33a74ed005785a83295d3ebe7e9fee647c3b4246</td>\n",
       "      <td>0.091937</td>\n",
       "    </tr>\n",
       "    <tr>\n",
       "      <th>3</th>\n",
       "      <td>0.147025</td>\n",
       "      <td>2.560059</td>\n",
       "      <td>1.821867</td>\n",
       "      <td>-0.321050</td>\n",
       "      <td>-0.074613</td>\n",
       "      <td>0.048707</td>\n",
       "      <td>-0.184773</td>\n",
       "      <td>-0.214963</td>\n",
       "      <td>-0.299901</td>\n",
       "      <td>0.541246</td>\n",
       "      <td>...</td>\n",
       "      <td>-1.254264</td>\n",
       "      <td>0.065177</td>\n",
       "      <td>-0.035042</td>\n",
       "      <td>-0.14787</td>\n",
       "      <td>-0.139743</td>\n",
       "      <td>-0.139743</td>\n",
       "      <td>0.046942</td>\n",
       "      <td>-0.504171</td>\n",
       "      <td>0x1ec5d2dca87e0653197ab3be754d67d7417f6279</td>\n",
       "      <td>0.063737</td>\n",
       "    </tr>\n",
       "    <tr>\n",
       "      <th>4</th>\n",
       "      <td>0.800579</td>\n",
       "      <td>2.556982</td>\n",
       "      <td>1.054162</td>\n",
       "      <td>-0.303255</td>\n",
       "      <td>-0.066879</td>\n",
       "      <td>0.042366</td>\n",
       "      <td>-0.185702</td>\n",
       "      <td>-0.430985</td>\n",
       "      <td>-0.344311</td>\n",
       "      <td>0.006732</td>\n",
       "      <td>...</td>\n",
       "      <td>-1.254264</td>\n",
       "      <td>0.065177</td>\n",
       "      <td>-0.035042</td>\n",
       "      <td>-0.14787</td>\n",
       "      <td>-0.139743</td>\n",
       "      <td>-0.139743</td>\n",
       "      <td>0.046942</td>\n",
       "      <td>-0.504171</td>\n",
       "      <td>0xbf3cd4e28ced7f61c588693c018f4f38b4b0444e</td>\n",
       "      <td>0.404239</td>\n",
       "    </tr>\n",
       "  </tbody>\n",
       "</table>\n",
       "<p>5 rows × 75 columns</p>\n",
       "</div>"
      ],
      "text/plain": [
       "   first_tx_timestamp  last_tx_timestamp  wallet_age  incoming_tx_count  \\\n",
       "0            0.640541           1.977413    1.242153          -0.329297   \n",
       "1            0.497710           2.251532    1.409931          -0.324522   \n",
       "2            0.994864           2.336097    0.825944          -0.298915   \n",
       "3            0.147025           2.560059    1.821867          -0.321050   \n",
       "4            0.800579           2.556982    1.054162          -0.303255   \n",
       "\n",
       "   outgoing_tx_count  net_incoming_tx_count  total_gas_paid_eth  \\\n",
       "0          -0.075544               0.048961           -0.190384   \n",
       "1          -0.074505               0.048309           -0.181225   \n",
       "2          -0.067201               0.043055           -0.183999   \n",
       "3          -0.074613               0.048707           -0.184773   \n",
       "4          -0.066879               0.042366           -0.185702   \n",
       "\n",
       "   avg_gas_paid_per_tx_eth  risky_tx_count  risky_unique_contract_count  ...  \\\n",
       "0                -0.443622       -0.376033                    -0.527782  ...   \n",
       "1                -0.071692       -0.318934                     0.428717  ...   \n",
       "2                -0.403339       -0.242802                     1.441480  ...   \n",
       "3                -0.214963       -0.299901                     0.541246  ...   \n",
       "4                -0.430985       -0.344311                     0.006732  ...   \n",
       "\n",
       "   market_natr  market_plus_di  market_plus_dm  market_ppo  market_rocp  \\\n",
       "0    -1.254264        0.065177       -0.035042    -0.14787    -0.139743   \n",
       "1    -1.254264        0.065177       -0.035042    -0.14787    -0.139743   \n",
       "2    -1.254264        0.065177       -0.035042    -0.14787    -0.139743   \n",
       "3    -1.254264        0.065177       -0.035042    -0.14787    -0.139743   \n",
       "4    -1.254264        0.065177       -0.035042    -0.14787    -0.139743   \n",
       "\n",
       "   market_rocr  unique_borrow_protocol_count  unique_lending_protocol_count  \\\n",
       "0    -0.139743                      0.046942                      -0.504171   \n",
       "1    -0.139743                      0.046942                      -0.504171   \n",
       "2    -0.139743                      0.046942                       1.749809   \n",
       "3    -0.139743                      0.046942                      -0.504171   \n",
       "4    -0.139743                      0.046942                      -0.504171   \n",
       "\n",
       "                               wallet_address  pred_prob  \n",
       "0  0xdd505b5496fec452bcb4e0e7651060b9622dd594   0.476792  \n",
       "1  0x7dcc2d600cd0dc41fc331c9e07be462dd946340c   0.066744  \n",
       "2  0x33a74ed005785a83295d3ebe7e9fee647c3b4246   0.091937  \n",
       "3  0x1ec5d2dca87e0653197ab3be754d67d7417f6279   0.063737  \n",
       "4  0xbf3cd4e28ced7f61c588693c018f4f38b4b0444e   0.404239  \n",
       "\n",
       "[5 rows x 75 columns]"
      ]
     },
     "execution_count": 33,
     "metadata": {},
     "output_type": "execute_result"
    }
   ],
   "source": [
    "wallet_addresses = test_set_with_features['wallet_address']\n",
    "testing_samples_scaled = sc.transform(test_set_with_features[training_cols])\n",
    "\n",
    "model_1.eval()\n",
    "\n",
    "# Inference using the trained model\n",
    "with torch.inference_mode():\n",
    "    pol = model_1(torch.tensor(testing_samples_scaled).float().to(device)).squeeze().detach().cpu().numpy()\n",
    "\n",
    "# Create a DataFrame with predictions\n",
    "submission_dataframe = pd.DataFrame(testing_samples_scaled, index=test_set_with_features.index, columns=test_set_with_features[training_cols].columns)\n",
    "submission_dataframe['wallet_address'] = test_set_with_features['wallet_address']\n",
    "submission_dataframe['pred_prob'] = pol\n",
    "submission_dataframe.head()"
   ]
  },
  {
   "cell_type": "markdown",
   "id": "20c918e36be1151e",
   "metadata": {
    "collapsed": false,
    "jupyter": {
     "outputs_hidden": false
    }
   },
   "source": [
    "As a modeler, you will choose to set the target label to 1 if the probability of liquidation is greater than some threshold.\n",
    "\n",
    "In this example, we'll take the threshold to be 0.6, but you may find a different value is more appropriate (perhaps the one returned by the `auc_fn` function in `helpers.modeling`). \n",
    "\n",
    "This threshold should not be taken as a recommendation for the challenge and is only used for this example."
   ]
  },
  {
   "cell_type": "code",
   "execution_count": 34,
   "id": "a280a666ac6db9d0",
   "metadata": {
    "ExecuteTime": {
     "end_time": "2024-01-11T18:18:47.297726Z",
     "start_time": "2024-01-11T18:18:47.266477Z"
    },
    "collapsed": false,
    "jupyter": {
     "outputs_hidden": false
    }
   },
   "outputs": [],
   "source": [
    "submission_dataframe['pred_label'] = (\n",
    "    submission_dataframe['pred_prob'].apply(lambda x: 1 if x > .6 else 0))"
   ]
  },
  {
   "cell_type": "markdown",
   "id": "8380201e6c154241",
   "metadata": {
    "collapsed": false,
    "jupyter": {
     "outputs_hidden": false
    }
   },
   "source": [
    "To meet the submission requirements, ensure that each row in the dataframe consists of the following columns: wallet address, predicted probability, predicted target label, and the input features (values only, without feature names). The input feature values will be needed (later) to prove that the predictions are generated from the committed model from Phase 1.\n",
    "\n",
    "**The final submission file must follow the naming conventions below.** "
   ]
  },
  {
   "cell_type": "code",
   "execution_count": 35,
   "id": "49d378d62c2e1b96",
   "metadata": {
    "ExecuteTime": {
     "end_time": "2024-01-11T18:18:50.451192Z",
     "start_time": "2024-01-11T18:18:50.444604Z"
    },
    "collapsed": false,
    "jupyter": {
     "outputs_hidden": false
    }
   },
   "outputs": [],
   "source": [
    "# Format the DataFrame for submission\n",
    "non_feature_cols = ['wallet_address', 'pred_prob', 'pred_label']\n",
    "\n",
    "# Rename feature columns for anonymity (optional)\n",
    "for index, col in enumerate(submission_dataframe.columns):\n",
    "    if col not in non_feature_cols:\n",
    "        submission_dataframe.rename(columns={col: f'feature_{index+1}'}, inplace=True)"
   ]
  },
  {
   "cell_type": "code",
   "execution_count": 36,
   "id": "773de7f1dca469fb",
   "metadata": {
    "ExecuteTime": {
     "end_time": "2024-01-11T18:18:51.061577Z",
     "start_time": "2024-01-11T18:18:51.013977Z"
    },
    "collapsed": false,
    "jupyter": {
     "outputs_hidden": false
    }
   },
   "outputs": [
    {
     "data": {
      "text/html": [
       "<div>\n",
       "<style scoped>\n",
       "    .dataframe tbody tr th:only-of-type {\n",
       "        vertical-align: middle;\n",
       "    }\n",
       "\n",
       "    .dataframe tbody tr th {\n",
       "        vertical-align: top;\n",
       "    }\n",
       "\n",
       "    .dataframe thead th {\n",
       "        text-align: right;\n",
       "    }\n",
       "</style>\n",
       "<table border=\"1\" class=\"dataframe\">\n",
       "  <thead>\n",
       "    <tr style=\"text-align: right;\">\n",
       "      <th></th>\n",
       "      <th>wallet_address</th>\n",
       "      <th>pred_prob</th>\n",
       "      <th>pred_label</th>\n",
       "      <th>feature_1</th>\n",
       "      <th>feature_2</th>\n",
       "      <th>feature_3</th>\n",
       "      <th>feature_4</th>\n",
       "      <th>feature_5</th>\n",
       "      <th>feature_6</th>\n",
       "      <th>feature_7</th>\n",
       "      <th>...</th>\n",
       "      <th>feature_64</th>\n",
       "      <th>feature_65</th>\n",
       "      <th>feature_66</th>\n",
       "      <th>feature_67</th>\n",
       "      <th>feature_68</th>\n",
       "      <th>feature_69</th>\n",
       "      <th>feature_70</th>\n",
       "      <th>feature_71</th>\n",
       "      <th>feature_72</th>\n",
       "      <th>feature_73</th>\n",
       "    </tr>\n",
       "  </thead>\n",
       "  <tbody>\n",
       "    <tr>\n",
       "      <th>0</th>\n",
       "      <td>0xdd505b5496fec452bcb4e0e7651060b9622dd594</td>\n",
       "      <td>0.476792</td>\n",
       "      <td>0</td>\n",
       "      <td>0.640541</td>\n",
       "      <td>1.977413</td>\n",
       "      <td>1.242153</td>\n",
       "      <td>-0.329297</td>\n",
       "      <td>-0.075544</td>\n",
       "      <td>0.048961</td>\n",
       "      <td>-0.190384</td>\n",
       "      <td>...</td>\n",
       "      <td>0.011823</td>\n",
       "      <td>-2.692659</td>\n",
       "      <td>-1.254264</td>\n",
       "      <td>0.065177</td>\n",
       "      <td>-0.035042</td>\n",
       "      <td>-0.14787</td>\n",
       "      <td>-0.139743</td>\n",
       "      <td>-0.139743</td>\n",
       "      <td>0.046942</td>\n",
       "      <td>-0.504171</td>\n",
       "    </tr>\n",
       "    <tr>\n",
       "      <th>1</th>\n",
       "      <td>0x7dcc2d600cd0dc41fc331c9e07be462dd946340c</td>\n",
       "      <td>0.066744</td>\n",
       "      <td>0</td>\n",
       "      <td>0.497710</td>\n",
       "      <td>2.251532</td>\n",
       "      <td>1.409931</td>\n",
       "      <td>-0.324522</td>\n",
       "      <td>-0.074505</td>\n",
       "      <td>0.048309</td>\n",
       "      <td>-0.181225</td>\n",
       "      <td>...</td>\n",
       "      <td>0.011823</td>\n",
       "      <td>-2.692659</td>\n",
       "      <td>-1.254264</td>\n",
       "      <td>0.065177</td>\n",
       "      <td>-0.035042</td>\n",
       "      <td>-0.14787</td>\n",
       "      <td>-0.139743</td>\n",
       "      <td>-0.139743</td>\n",
       "      <td>0.046942</td>\n",
       "      <td>-0.504171</td>\n",
       "    </tr>\n",
       "    <tr>\n",
       "      <th>2</th>\n",
       "      <td>0x33a74ed005785a83295d3ebe7e9fee647c3b4246</td>\n",
       "      <td>0.091937</td>\n",
       "      <td>0</td>\n",
       "      <td>0.994864</td>\n",
       "      <td>2.336097</td>\n",
       "      <td>0.825944</td>\n",
       "      <td>-0.298915</td>\n",
       "      <td>-0.067201</td>\n",
       "      <td>0.043055</td>\n",
       "      <td>-0.183999</td>\n",
       "      <td>...</td>\n",
       "      <td>0.011823</td>\n",
       "      <td>-2.692659</td>\n",
       "      <td>-1.254264</td>\n",
       "      <td>0.065177</td>\n",
       "      <td>-0.035042</td>\n",
       "      <td>-0.14787</td>\n",
       "      <td>-0.139743</td>\n",
       "      <td>-0.139743</td>\n",
       "      <td>0.046942</td>\n",
       "      <td>1.749809</td>\n",
       "    </tr>\n",
       "    <tr>\n",
       "      <th>3</th>\n",
       "      <td>0x1ec5d2dca87e0653197ab3be754d67d7417f6279</td>\n",
       "      <td>0.063737</td>\n",
       "      <td>0</td>\n",
       "      <td>0.147025</td>\n",
       "      <td>2.560059</td>\n",
       "      <td>1.821867</td>\n",
       "      <td>-0.321050</td>\n",
       "      <td>-0.074613</td>\n",
       "      <td>0.048707</td>\n",
       "      <td>-0.184773</td>\n",
       "      <td>...</td>\n",
       "      <td>0.011823</td>\n",
       "      <td>-2.692659</td>\n",
       "      <td>-1.254264</td>\n",
       "      <td>0.065177</td>\n",
       "      <td>-0.035042</td>\n",
       "      <td>-0.14787</td>\n",
       "      <td>-0.139743</td>\n",
       "      <td>-0.139743</td>\n",
       "      <td>0.046942</td>\n",
       "      <td>-0.504171</td>\n",
       "    </tr>\n",
       "    <tr>\n",
       "      <th>4</th>\n",
       "      <td>0xbf3cd4e28ced7f61c588693c018f4f38b4b0444e</td>\n",
       "      <td>0.404239</td>\n",
       "      <td>0</td>\n",
       "      <td>0.800579</td>\n",
       "      <td>2.556982</td>\n",
       "      <td>1.054162</td>\n",
       "      <td>-0.303255</td>\n",
       "      <td>-0.066879</td>\n",
       "      <td>0.042366</td>\n",
       "      <td>-0.185702</td>\n",
       "      <td>...</td>\n",
       "      <td>0.011823</td>\n",
       "      <td>-2.692659</td>\n",
       "      <td>-1.254264</td>\n",
       "      <td>0.065177</td>\n",
       "      <td>-0.035042</td>\n",
       "      <td>-0.14787</td>\n",
       "      <td>-0.139743</td>\n",
       "      <td>-0.139743</td>\n",
       "      <td>0.046942</td>\n",
       "      <td>-0.504171</td>\n",
       "    </tr>\n",
       "  </tbody>\n",
       "</table>\n",
       "<p>5 rows × 76 columns</p>\n",
       "</div>"
      ],
      "text/plain": [
       "                               wallet_address  pred_prob  pred_label  \\\n",
       "0  0xdd505b5496fec452bcb4e0e7651060b9622dd594   0.476792           0   \n",
       "1  0x7dcc2d600cd0dc41fc331c9e07be462dd946340c   0.066744           0   \n",
       "2  0x33a74ed005785a83295d3ebe7e9fee647c3b4246   0.091937           0   \n",
       "3  0x1ec5d2dca87e0653197ab3be754d67d7417f6279   0.063737           0   \n",
       "4  0xbf3cd4e28ced7f61c588693c018f4f38b4b0444e   0.404239           0   \n",
       "\n",
       "   feature_1  feature_2  feature_3  feature_4  feature_5  feature_6  \\\n",
       "0   0.640541   1.977413   1.242153  -0.329297  -0.075544   0.048961   \n",
       "1   0.497710   2.251532   1.409931  -0.324522  -0.074505   0.048309   \n",
       "2   0.994864   2.336097   0.825944  -0.298915  -0.067201   0.043055   \n",
       "3   0.147025   2.560059   1.821867  -0.321050  -0.074613   0.048707   \n",
       "4   0.800579   2.556982   1.054162  -0.303255  -0.066879   0.042366   \n",
       "\n",
       "   feature_7  ...  feature_64  feature_65  feature_66  feature_67  feature_68  \\\n",
       "0  -0.190384  ...    0.011823   -2.692659   -1.254264    0.065177   -0.035042   \n",
       "1  -0.181225  ...    0.011823   -2.692659   -1.254264    0.065177   -0.035042   \n",
       "2  -0.183999  ...    0.011823   -2.692659   -1.254264    0.065177   -0.035042   \n",
       "3  -0.184773  ...    0.011823   -2.692659   -1.254264    0.065177   -0.035042   \n",
       "4  -0.185702  ...    0.011823   -2.692659   -1.254264    0.065177   -0.035042   \n",
       "\n",
       "   feature_69  feature_70  feature_71  feature_72  feature_73  \n",
       "0    -0.14787   -0.139743   -0.139743    0.046942   -0.504171  \n",
       "1    -0.14787   -0.139743   -0.139743    0.046942   -0.504171  \n",
       "2    -0.14787   -0.139743   -0.139743    0.046942    1.749809  \n",
       "3    -0.14787   -0.139743   -0.139743    0.046942   -0.504171  \n",
       "4    -0.14787   -0.139743   -0.139743    0.046942   -0.504171  \n",
       "\n",
       "[5 rows x 76 columns]"
      ]
     },
     "execution_count": 36,
     "metadata": {},
     "output_type": "execute_result"
    }
   ],
   "source": [
    "# Order the columns for readability (optional)\n",
    "cols_order_list = non_feature_cols + [col for col in submission_dataframe.columns if col not in non_feature_cols]\n",
    "submission_dataframe = submission_dataframe[cols_order_list]\n",
    "\n",
    "# Save the submission file\n",
    "submission_dataframe.to_parquet('submissions/submission.parquet', index=False)\n",
    "submission_dataframe.head()"
   ]
  },
  {
   "cell_type": "markdown",
   "id": "2a5d3e57c4e398ab",
   "metadata": {
    "collapsed": false,
    "jupyter": {
     "outputs_hidden": false
    }
   },
   "source": [
    "### Submit predictions file\n",
    "Once you are satisfied with the generated predictions file, you can submit it for evaluation.\n",
    "\n",
    "Ensure that the Spectral CLI wallet is funded with gas for this transaction before running the following step."
   ]
  },
  {
   "cell_type": "code",
   "execution_count": 37,
   "id": "9f9d5c8d8be5195d",
   "metadata": {
    "ExecuteTime": {
     "end_time": "2023-12-08T23:46:14.525407Z",
     "start_time": "2023-12-08T23:46:06.475679Z"
    },
    "collapsed": false,
    "jupyter": {
     "outputs_hidden": false
    }
   },
   "outputs": [
    {
     "name": "stdout",
     "output_type": "stream",
     "text": [
      "Submitting response with CID: QmQrt1jAnYdj6DrRUq2djJ13oLmabyuXGtm1VAzVy9eCqL to challenge: 0xFDC1BE05aD924e6Fc4Ab2c6443279fF7C0AB5544. This may take a moment.\r\n",
      "Your inferences have been recorded successfully!\r\n",
      "You can check status of that transaction under: https://arbiscan.io/tx//0x47662a7e90756e71be2663dd7570968baa83083b429bd82793f5152363fde31d\r\n"
     ]
    }
   ],
   "source": [
    "!spectral-cli submit-inferences 0xFDC1BE05aD924e6Fc4Ab2c6443279fF7C0AB5544 submissions/submission.parquet"
   ]
  },
  {
   "cell_type": "markdown",
   "id": "58c089bd1b719507",
   "metadata": {
    "collapsed": false,
    "jupyter": {
     "outputs_hidden": false
    }
   },
   "source": [
    "# Submission Phase 3\n",
    "### Submit Proofs\n"
   ]
  },
  {
   "cell_type": "code",
   "execution_count": null,
   "id": "4dfe863f19baeb30",
   "metadata": {
    "collapsed": false,
    "jupyter": {
     "outputs_hidden": false
    }
   },
   "outputs": [],
   "source": [
    "!spectral-cli submit-proofs model/compiled_model.onnx model/model_pk.pk 0xFDC1BE05aD924e6Fc4Ab2c6443279fF7C0AB5544"
   ]
  },
  {
   "cell_type": "markdown",
   "id": "267b88342e81fadd",
   "metadata": {
    "collapsed": false,
    "jupyter": {
     "outputs_hidden": false
    }
   },
   "source": [
    "### Ensure that the commitment, submission, and proof transactions are successful and note the transaction hash for reference later. \n",
    "\n",
    "Congratulations! Your submission is now complete. Over the next thirty days data will be gathered for the evaluation of your model. On the thirty-first day, the evaluation will be performed by a Validator trustlessly, and the results will be published on the leaderboard in a transparent manner."
   ]
  },
  {
   "cell_type": "code",
   "execution_count": null,
   "id": "4c58c48f07fbac8",
   "metadata": {
    "collapsed": false,
    "jupyter": {
     "outputs_hidden": false
    }
   },
   "outputs": [],
   "source": []
  }
 ],
 "metadata": {
  "kernelspec": {
   "display_name": "Python 3 (ipykernel)",
   "language": "python",
   "name": "python3"
  },
  "language_info": {
   "codemirror_mode": {
    "name": "ipython",
    "version": 3
   },
   "file_extension": ".py",
   "mimetype": "text/x-python",
   "name": "python",
   "nbconvert_exporter": "python",
   "pygments_lexer": "ipython3",
   "version": "3.11.3"
  }
 },
 "nbformat": 4,
 "nbformat_minor": 5
}
