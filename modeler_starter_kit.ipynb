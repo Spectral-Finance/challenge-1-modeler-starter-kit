{
 "cells": [
  {
   "cell_type": "markdown",
   "id": "1680b5e722b122ab",
   "metadata": {
    "collapsed": false
   },
   "source": [
    "# Modeler Starter Kit\n",
    "This notebook will walk you through the entire challenge lifecycle, from fetching the training data, to training a model, to submitting your model for evaluation.\n",
    "\n",
    "There are two phases of outputs required to submit a model for evaluation:\n",
    "- Phase 1: Commit to a model with an onnx file and input_data.\n",
    "- Phase 2: Generate a file that contains test set predictions and the feature values required to generate those predictions. \n",
    "\n",
    "After both phases, you will have a submission directory with three files\n",
    "1. model_1.onnx\n",
    "2. model_1_cal_data.json\n",
    "3. submission.parquet\n"
   ]
  },
  {
   "cell_type": "markdown",
   "id": "b0b7393429d94fe3",
   "metadata": {
    "collapsed": false
   },
   "source": [
    "## Fetch Training Data\n",
    "The following code will allow you to download the training dataset for this competition using the Spectral CLI.\n",
    "\n",
    "The training dataset is a tabular file, where each row represents a borrow event at the specified timestamp. \n",
    "\n",
    "Each row contains a timestamp and Ethereum block number, the wallet address that initiated the borrow transaction, a list of features including borrower and market activity, and a binary target variable indicating if the borrower was liquidated within 30 days of the borrow event.\n",
    "\n",
    "[See our data dictionary for a full list of features, their types, and descriptions.](https://app.gitbook.com/o/-MW6zOYEZqib0lO3JwnI/s/NdvOwSLp1bjkx3G8t5oi/modeler-handbook/2.-model-training/step-4-fetch-training-dataset#challenge-1-data-dictionary)\n",
    "\n",
    "During testing and consumption, you will be given all of these values aside from the target variable. Your model will be evaluated on the ability to predict the target variable for each sample in the test set.\n",
    "\n"
   ]
  },
  {
   "cell_type": "code",
   "execution_count": 2,
   "id": "e032ae5292d5fea",
   "metadata": {
    "collapsed": false,
    "ExecuteTime": {
     "end_time": "2023-11-08T19:37:00.743392Z",
     "start_time": "2023-11-08T19:36:55.826999Z"
    }
   },
   "outputs": [
    {
     "name": "stdout",
     "output_type": "stream",
     "text": [
      "100%|███████████████████████████████████████| 112M/112M [00:02<00:00, 43.5MiB/s]\r\n",
      "Training dataset successfully downloaded!\r\n"
     ]
    }
   ],
   "source": [
    "# Download Training Data\n",
    "!spectral-cli fetch-training-data 0xB79CDBC5Cd94a807CC5cc761e3eF4A6B9baC8939"
   ]
  },
  {
   "cell_type": "markdown",
   "id": "c8201b5a34215e1b",
   "metadata": {
    "collapsed": false
   },
   "source": [
    "This file should be around 112MB, if you have a file only a few kb in size try using a VPN as IPFS is often blocked by some internet service providers."
   ]
  },
  {
   "cell_type": "markdown",
   "source": [
    "Examine a subset of the dataset"
   ],
   "metadata": {
    "collapsed": false
   },
   "id": "665c55cfee641ca8"
  },
  {
   "cell_type": "code",
   "execution_count": 3,
   "id": "61ccd97507a633f9",
   "metadata": {
    "collapsed": false,
    "ExecuteTime": {
     "end_time": "2023-11-08T19:37:00.825340Z",
     "start_time": "2023-11-08T19:37:00.745142Z"
    }
   },
   "outputs": [
    {
     "data": {
      "text/plain": "   borrow_block_number  borrow_timestamp  \\\n0              7711117      1.557197e+09   \n1              7711123      1.557197e+09   \n2              7711126      1.557197e+09   \n3              7711672      1.557205e+09   \n4              7712572      1.557217e+09   \n5              7715069      1.557250e+09   \n6              7715078      1.557251e+09   \n7              7715985      1.557263e+09   \n8              7716888      1.557276e+09   \n9              7717003      1.557277e+09   \n\n                               wallet_address  target  \\\n0  0x502cb8985b2c92a8d4bf309cdaa89de9be442708       1   \n1  0x502cb8985b2c92a8d4bf309cdaa89de9be442708       1   \n2  0x502cb8985b2c92a8d4bf309cdaa89de9be442708       1   \n3  0xa7ff0d561cd15ed525e31bbe0af3fe34ac2059f6       0   \n4  0xbd9ed130a53cfafcf81502e4d35329a6c4d53410       0   \n5  0x502cb8985b2c92a8d4bf309cdaa89de9be442708       1   \n6  0x502cb8985b2c92a8d4bf309cdaa89de9be442708       1   \n7  0x502cb8985b2c92a8d4bf309cdaa89de9be442708       1   \n8  0x502cb8985b2c92a8d4bf309cdaa89de9be442708       1   \n9  0x502cb8985b2c92a8d4bf309cdaa89de9be442708       1   \n\n   unique_borrow_protocol_count  unique_lending_protocol_count  \\\n0                             0                              1   \n1                             1                              1   \n2                             1                              1   \n3                             0                              1   \n4                             0                              1   \n5                             1                              1   \n6                             1                              1   \n7                             1                              1   \n8                             1                              1   \n9                             1                              1   \n\n   total_collateral_eth  misc_available_borrows_eth  risk_factor  \\\n0             44.479139                   31.575270     0.000001   \n1             44.479139                   31.418863     0.004953   \n2             44.479139                   31.035236     0.017103   \n3              0.000767                    0.000460     0.000001   \n4              0.010000                    0.007500     0.000001   \n5             44.488424                   30.059852     0.048606   \n6             44.430545                   29.912079     0.052241   \n7             51.316928                   28.781848     0.088052   \n8             58.791139                   38.667542     0.081422   \n9             60.268602                   33.574491     0.221625   \n\n   risk_factor_above_threshold_daily_count  ...  total_balance_eth  \\\n0                                      0.0  ...          58.317987   \n1                                      0.0  ...          58.317987   \n2                                      0.0  ...          58.317987   \n3                                      0.0  ...           0.000000   \n4                                      0.0  ...           0.000000   \n5                                      0.0  ...          58.317987   \n6                                      0.0  ...          58.317987   \n7                                      0.0  ...          58.317987   \n8                                      0.0  ...           3.127926   \n9                                      0.0  ...           3.127926   \n\n   withdraw_amount_sum_eth  borrow_amount_sum_eth  borrow_amount_avg_eth  \\\n0                      0.0               0.000000               0.000000   \n1                      0.0               0.157110               0.157110   \n2                      0.0               0.543275               0.271637   \n3                      0.0               0.000000               0.000000   \n4                      0.0               0.000000               0.000000   \n5                      0.0               1.543275               0.514425   \n6                      0.0               1.543275               0.514425   \n7                      0.0               2.749083               0.687271   \n8                      0.0               3.320086               0.664017   \n9                      0.0               9.247470               1.541245   \n\n   borrow_count  repay_amount_sum_eth  repay_amount_avg_eth  repay_count  \\\n0             0                   0.0                   0.0            0   \n1             1                   0.0                   0.0            0   \n2             2                   0.0                   0.0            0   \n3             0                   0.0                   0.0            0   \n4             0                   0.0                   0.0            0   \n5             3                   0.0                   0.0            0   \n6             4                   0.0                   0.0            0   \n7             5                   0.0                   0.0            0   \n8             6                   0.0                   0.0            0   \n9             7                   0.0                   0.0            0   \n\n   borrow_repay_diff_eth  withdraw_deposit_diff_If_positive_eth  \n0               0.000000                                    0.0  \n1               0.157110                                    0.0  \n2               0.543275                                    0.0  \n3               0.000000                                    0.0  \n4               0.000000                                    0.0  \n5               1.543275                                    0.0  \n6               1.543275                                    0.0  \n7               2.749083                                    0.0  \n8               3.320086                                    0.0  \n9               9.247470                                    0.0  \n\n[10 rows x 78 columns]",
      "text/html": "<div>\n<style scoped>\n    .dataframe tbody tr th:only-of-type {\n        vertical-align: middle;\n    }\n\n    .dataframe tbody tr th {\n        vertical-align: top;\n    }\n\n    .dataframe thead th {\n        text-align: right;\n    }\n</style>\n<table border=\"1\" class=\"dataframe\">\n  <thead>\n    <tr style=\"text-align: right;\">\n      <th></th>\n      <th>borrow_block_number</th>\n      <th>borrow_timestamp</th>\n      <th>wallet_address</th>\n      <th>target</th>\n      <th>unique_borrow_protocol_count</th>\n      <th>unique_lending_protocol_count</th>\n      <th>total_collateral_eth</th>\n      <th>misc_available_borrows_eth</th>\n      <th>risk_factor</th>\n      <th>risk_factor_above_threshold_daily_count</th>\n      <th>...</th>\n      <th>total_balance_eth</th>\n      <th>withdraw_amount_sum_eth</th>\n      <th>borrow_amount_sum_eth</th>\n      <th>borrow_amount_avg_eth</th>\n      <th>borrow_count</th>\n      <th>repay_amount_sum_eth</th>\n      <th>repay_amount_avg_eth</th>\n      <th>repay_count</th>\n      <th>borrow_repay_diff_eth</th>\n      <th>withdraw_deposit_diff_If_positive_eth</th>\n    </tr>\n  </thead>\n  <tbody>\n    <tr>\n      <th>0</th>\n      <td>7711117</td>\n      <td>1.557197e+09</td>\n      <td>0x502cb8985b2c92a8d4bf309cdaa89de9be442708</td>\n      <td>1</td>\n      <td>0</td>\n      <td>1</td>\n      <td>44.479139</td>\n      <td>31.575270</td>\n      <td>0.000001</td>\n      <td>0.0</td>\n      <td>...</td>\n      <td>58.317987</td>\n      <td>0.0</td>\n      <td>0.000000</td>\n      <td>0.000000</td>\n      <td>0</td>\n      <td>0.0</td>\n      <td>0.0</td>\n      <td>0</td>\n      <td>0.000000</td>\n      <td>0.0</td>\n    </tr>\n    <tr>\n      <th>1</th>\n      <td>7711123</td>\n      <td>1.557197e+09</td>\n      <td>0x502cb8985b2c92a8d4bf309cdaa89de9be442708</td>\n      <td>1</td>\n      <td>1</td>\n      <td>1</td>\n      <td>44.479139</td>\n      <td>31.418863</td>\n      <td>0.004953</td>\n      <td>0.0</td>\n      <td>...</td>\n      <td>58.317987</td>\n      <td>0.0</td>\n      <td>0.157110</td>\n      <td>0.157110</td>\n      <td>1</td>\n      <td>0.0</td>\n      <td>0.0</td>\n      <td>0</td>\n      <td>0.157110</td>\n      <td>0.0</td>\n    </tr>\n    <tr>\n      <th>2</th>\n      <td>7711126</td>\n      <td>1.557197e+09</td>\n      <td>0x502cb8985b2c92a8d4bf309cdaa89de9be442708</td>\n      <td>1</td>\n      <td>1</td>\n      <td>1</td>\n      <td>44.479139</td>\n      <td>31.035236</td>\n      <td>0.017103</td>\n      <td>0.0</td>\n      <td>...</td>\n      <td>58.317987</td>\n      <td>0.0</td>\n      <td>0.543275</td>\n      <td>0.271637</td>\n      <td>2</td>\n      <td>0.0</td>\n      <td>0.0</td>\n      <td>0</td>\n      <td>0.543275</td>\n      <td>0.0</td>\n    </tr>\n    <tr>\n      <th>3</th>\n      <td>7711672</td>\n      <td>1.557205e+09</td>\n      <td>0xa7ff0d561cd15ed525e31bbe0af3fe34ac2059f6</td>\n      <td>0</td>\n      <td>0</td>\n      <td>1</td>\n      <td>0.000767</td>\n      <td>0.000460</td>\n      <td>0.000001</td>\n      <td>0.0</td>\n      <td>...</td>\n      <td>0.000000</td>\n      <td>0.0</td>\n      <td>0.000000</td>\n      <td>0.000000</td>\n      <td>0</td>\n      <td>0.0</td>\n      <td>0.0</td>\n      <td>0</td>\n      <td>0.000000</td>\n      <td>0.0</td>\n    </tr>\n    <tr>\n      <th>4</th>\n      <td>7712572</td>\n      <td>1.557217e+09</td>\n      <td>0xbd9ed130a53cfafcf81502e4d35329a6c4d53410</td>\n      <td>0</td>\n      <td>0</td>\n      <td>1</td>\n      <td>0.010000</td>\n      <td>0.007500</td>\n      <td>0.000001</td>\n      <td>0.0</td>\n      <td>...</td>\n      <td>0.000000</td>\n      <td>0.0</td>\n      <td>0.000000</td>\n      <td>0.000000</td>\n      <td>0</td>\n      <td>0.0</td>\n      <td>0.0</td>\n      <td>0</td>\n      <td>0.000000</td>\n      <td>0.0</td>\n    </tr>\n    <tr>\n      <th>5</th>\n      <td>7715069</td>\n      <td>1.557250e+09</td>\n      <td>0x502cb8985b2c92a8d4bf309cdaa89de9be442708</td>\n      <td>1</td>\n      <td>1</td>\n      <td>1</td>\n      <td>44.488424</td>\n      <td>30.059852</td>\n      <td>0.048606</td>\n      <td>0.0</td>\n      <td>...</td>\n      <td>58.317987</td>\n      <td>0.0</td>\n      <td>1.543275</td>\n      <td>0.514425</td>\n      <td>3</td>\n      <td>0.0</td>\n      <td>0.0</td>\n      <td>0</td>\n      <td>1.543275</td>\n      <td>0.0</td>\n    </tr>\n    <tr>\n      <th>6</th>\n      <td>7715078</td>\n      <td>1.557251e+09</td>\n      <td>0x502cb8985b2c92a8d4bf309cdaa89de9be442708</td>\n      <td>1</td>\n      <td>1</td>\n      <td>1</td>\n      <td>44.430545</td>\n      <td>29.912079</td>\n      <td>0.052241</td>\n      <td>0.0</td>\n      <td>...</td>\n      <td>58.317987</td>\n      <td>0.0</td>\n      <td>1.543275</td>\n      <td>0.514425</td>\n      <td>4</td>\n      <td>0.0</td>\n      <td>0.0</td>\n      <td>0</td>\n      <td>1.543275</td>\n      <td>0.0</td>\n    </tr>\n    <tr>\n      <th>7</th>\n      <td>7715985</td>\n      <td>1.557263e+09</td>\n      <td>0x502cb8985b2c92a8d4bf309cdaa89de9be442708</td>\n      <td>1</td>\n      <td>1</td>\n      <td>1</td>\n      <td>51.316928</td>\n      <td>28.781848</td>\n      <td>0.088052</td>\n      <td>0.0</td>\n      <td>...</td>\n      <td>58.317987</td>\n      <td>0.0</td>\n      <td>2.749083</td>\n      <td>0.687271</td>\n      <td>5</td>\n      <td>0.0</td>\n      <td>0.0</td>\n      <td>0</td>\n      <td>2.749083</td>\n      <td>0.0</td>\n    </tr>\n    <tr>\n      <th>8</th>\n      <td>7716888</td>\n      <td>1.557276e+09</td>\n      <td>0x502cb8985b2c92a8d4bf309cdaa89de9be442708</td>\n      <td>1</td>\n      <td>1</td>\n      <td>1</td>\n      <td>58.791139</td>\n      <td>38.667542</td>\n      <td>0.081422</td>\n      <td>0.0</td>\n      <td>...</td>\n      <td>3.127926</td>\n      <td>0.0</td>\n      <td>3.320086</td>\n      <td>0.664017</td>\n      <td>6</td>\n      <td>0.0</td>\n      <td>0.0</td>\n      <td>0</td>\n      <td>3.320086</td>\n      <td>0.0</td>\n    </tr>\n    <tr>\n      <th>9</th>\n      <td>7717003</td>\n      <td>1.557277e+09</td>\n      <td>0x502cb8985b2c92a8d4bf309cdaa89de9be442708</td>\n      <td>1</td>\n      <td>1</td>\n      <td>1</td>\n      <td>60.268602</td>\n      <td>33.574491</td>\n      <td>0.221625</td>\n      <td>0.0</td>\n      <td>...</td>\n      <td>3.127926</td>\n      <td>0.0</td>\n      <td>9.247470</td>\n      <td>1.541245</td>\n      <td>7</td>\n      <td>0.0</td>\n      <td>0.0</td>\n      <td>0</td>\n      <td>9.247470</td>\n      <td>0.0</td>\n    </tr>\n  </tbody>\n</table>\n<p>10 rows × 78 columns</p>\n</div>"
     },
     "execution_count": 3,
     "metadata": {},
     "output_type": "execute_result"
    }
   ],
   "source": [
    "import duckdb\n",
    "duckdb.query((f\"\"\"\n",
    "select * from '{'0xB79CDBC5Cd94a807CC5cc761e3eF4A6B9baC8939_training_data.parquet'}' limit 10\n",
    "\"\"\")).df()"
   ]
  },
  {
   "cell_type": "markdown",
   "id": "381973f7a440e1c1",
   "metadata": {
    "collapsed": false
   },
   "source": [
    "You may choose to use any subset of the data above to train your model. We guarantee the availability of this data during the challenge lifespan.\n",
    "You may also supplement this set with external data, however, you will be responsible for hosting and serving this data during testing and consumption."
   ]
  },
  {
   "cell_type": "markdown",
   "id": "bbd842b1cf28d677",
   "metadata": {
    "collapsed": false
   },
   "source": [
    "## Exploratory Data Analysis\n",
    "\n",
    "You may use any tools you wish to explore the data and generate features. \n",
    "\n",
    "As an example, we examine the max_risk_factor feature, look for potential outliers, consider dropping those samples, and look for correlated features. \n",
    "\n",
    "A borrower's risk factor is defined as 1 / their minimum health factor across DeFi protocols. \n",
    "\n",
    "For a background on health factors see AAVE's documentation [here](https://docs.aave.com/risk/v/aave-v2/asset-risk/risk-parameters#health-factor)."
   ]
  },
  {
   "cell_type": "code",
   "execution_count": 4,
   "id": "a2588fd7f7802985",
   "metadata": {
    "collapsed": false,
    "ExecuteTime": {
     "end_time": "2023-11-08T19:37:01.414022Z",
     "start_time": "2023-11-08T19:37:00.826249Z"
    }
   },
   "outputs": [
    {
     "data": {
      "text/plain": "count    4.316180e+05\nmean     2.946256e+08\nstd      3.271465e+10\nmin      0.000000e+00\n25%      4.379520e-01\n50%      7.663844e-01\n75%      9.154721e-01\nmax      3.633082e+12\nName: max_risk_factor, dtype: float64"
     },
     "execution_count": 4,
     "metadata": {},
     "output_type": "execute_result"
    }
   ],
   "source": [
    "training_dataframe = duckdb.query((f\"\"\"\n",
    "select * from '{'0xB79CDBC5Cd94a807CC5cc761e3eF4A6B9baC8939_training_data.parquet'}'\n",
    "\"\"\")).df()\n",
    "training_dataframe['max_risk_factor'].describe()"
   ]
  },
  {
   "cell_type": "markdown",
   "id": "d41ba80974e514dc",
   "metadata": {
    "collapsed": false
   },
   "source": [
    "The max value listed above is far greater than the majority of samples, and may be an outlier. A risk factor over one is uncommon, so a value this large could be due to a highly irregular onchain action, an error in data fetching, or an error dataset construction. \n",
    "\n",
    "\n",
    "\n",
    "We should examine samples with high values of this feature."
   ]
  },
  {
   "cell_type": "code",
   "execution_count": 5,
   "id": "e99f56b514ba5b06",
   "metadata": {
    "collapsed": false,
    "ExecuteTime": {
     "end_time": "2023-11-08T19:37:01.440218Z",
     "start_time": "2023-11-08T19:37:01.411412Z"
    }
   },
   "outputs": [
    {
     "data": {
      "text/plain": "   unusually_high_risk_factor_address\n0                                  61",
      "text/html": "<div>\n<style scoped>\n    .dataframe tbody tr th:only-of-type {\n        vertical-align: middle;\n    }\n\n    .dataframe tbody tr th {\n        vertical-align: top;\n    }\n\n    .dataframe thead th {\n        text-align: right;\n    }\n</style>\n<table border=\"1\" class=\"dataframe\">\n  <thead>\n    <tr style=\"text-align: right;\">\n      <th></th>\n      <th>unusually_high_risk_factor_address</th>\n    </tr>\n  </thead>\n  <tbody>\n    <tr>\n      <th>0</th>\n      <td>61</td>\n    </tr>\n  </tbody>\n</table>\n</div>"
     },
     "execution_count": 5,
     "metadata": {},
     "output_type": "execute_result"
    }
   ],
   "source": [
    "duckdb.query((f\"\"\"\n",
    "select count(distinct(wallet_address)) as unusually_high_risk_factor_address \n",
    "from '{'0xB79CDBC5Cd94a807CC5cc761e3eF4A6B9baC8939_training_data.parquet'}'\n",
    "where max_risk_factor > 100\n",
    "\"\"\")).df()"
   ]
  },
  {
   "cell_type": "markdown",
   "id": "b176b8a0293d6890",
   "metadata": {
    "collapsed": false
   },
   "source": [
    "There are 61 addresses with this unusually high value, let's remove all samples with a risk factor over 100 from training. "
   ]
  },
  {
   "cell_type": "code",
   "execution_count": 6,
   "id": "b26794e3943356d8",
   "metadata": {
    "collapsed": false,
    "ExecuteTime": {
     "end_time": "2023-11-08T19:37:02.037467Z",
     "start_time": "2023-11-08T19:37:01.440358Z"
    }
   },
   "outputs": [
    {
     "data": {
      "text/plain": "count    429835.000000\nmean          0.806303\nstd           2.302598\nmin           0.000000\n25%           0.434355\n50%           0.764848\n75%           0.913552\nmax          86.364163\nName: max_risk_factor, dtype: float64"
     },
     "execution_count": 6,
     "metadata": {},
     "output_type": "execute_result"
    }
   ],
   "source": [
    "training_dataframe = duckdb.query((f\"\"\"\n",
    "select * from '{'0xB79CDBC5Cd94a807CC5cc761e3eF4A6B9baC8939_training_data.parquet'}'\n",
    "where max_risk_factor < 100\n",
    "\"\"\")).df()\n",
    "training_dataframe['max_risk_factor'].describe()"
   ]
  },
  {
   "cell_type": "markdown",
   "id": "45ca4f2f6a8f1e10",
   "metadata": {
    "collapsed": false
   },
   "source": [
    "A risk factor of 86 is still highly unusual, but we will leave it in for now as this is only an example."
   ]
  },
  {
   "cell_type": "markdown",
   "id": "ba2bfaf4526b19bf",
   "metadata": {
    "collapsed": false
   },
   "source": [
    "It's always helpful to visualize data when getting acquainted, so let's examine a few features together. We'll look at the correlation between the withdraw_deposit_diff_If_positive_eth, withdraw_amount_sum_eth, and deposit_amount_sum_eth features.\n",
    "\n",
    "\n",
    "These defi features represent the total amount of eth withdrawn, eth deposited, and the difference between the two."
   ]
  },
  {
   "cell_type": "code",
   "execution_count": 7,
   "id": "607fd60bd0291df1",
   "metadata": {
    "collapsed": false,
    "ExecuteTime": {
     "end_time": "2023-11-08T19:37:02.258732Z",
     "start_time": "2023-11-08T19:37:02.036911Z"
    }
   },
   "outputs": [
    {
     "data": {
      "text/plain": "<Figure size 640x480 with 2 Axes>",
      "image/png": "[encoded data removed]"
     },
     "metadata": {},
     "output_type": "display_data"
    }
   ],
   "source": [
    "import matplotlib.pyplot as mp \n",
    "import seaborn as sb \n",
    "dataplot = sb.heatmap(training_dataframe[['withdraw_deposit_diff_If_positive_eth',\n",
    "                                          'withdraw_amount_sum_eth',\n",
    "                                          'deposit_amount_sum_eth' ]].corr(), annot=True) \n",
    "mp.show() "
   ]
  },
  {
   "cell_type": "markdown",
   "id": "11216ac3f0af75dd",
   "metadata": {
    "collapsed": false
   },
   "source": [
    "These features represent actions on opposite ends of the lending lifecycle, so we could reasonably expect there to be some correlation for many samples.\n",
    "\n",
    "withdraw_amount_sum_eth and deposit_amount_sum_eth are highly correlated, so we'll move to drop withdraw_amount_sum_eth from our training set. In practice, it would be beneficial to examine the correlation between other features and understand why some of these may be correlated or not.  "
   ]
  },
  {
   "cell_type": "markdown",
   "id": "a3272d11c57031c8",
   "metadata": {
    "collapsed": false
   },
   "source": [
    "For this example we'll conclude our analysis, and move to modelling. During the challenge you should spend time exploring the data and generating features. There is no shortage of exciting onchain activity that could be used to generate features, and we encourage you to be creative. \n",
    "\n",
    "\n",
    "Features derived from activity on other lending protocols, other chains, non-fungibile token value, and decentralized exchange positions have all proven to be relevant in our previous work. Want to discuss with other modelers and our team? Join our [Discord](https://discord.com/invite/Vqwhxva7Y2)"
   ]
  },
  {
   "cell_type": "markdown",
   "id": "8bc50f29efb96b25",
   "metadata": {
    "collapsed": false
   },
   "source": [
    "## Modeling\n",
    "\n",
    "**The only supported models for this challenge are:**\n",
    "- Neural networks using PyTorch (other than recurrent neural networks, e.g., LSTM) \n",
    "- and logistic regression using PyTorch\n",
    "\n",
    "**If you use a model that does not meet the criteria above, you will be unable to participate in this challenge**"
   ]
  },
  {
   "cell_type": "markdown",
   "source": [
    "### Train a neural net using the provided dataset\n",
    "\n",
    "This model is strictly for example purposes and is not intended to be a model that places high in this challenge. \n",
    "You should not make assumptions based on this model that this is how the problem should be approached. \n",
    "\n",
    "\n",
    "In particular, you should not assume:\n",
    "- anything about the relevancy of features and samples dropped above\n",
    "- that ReLU is the ideal activation function (or any other architecture specifics defined herein)"
   ],
   "metadata": {
    "collapsed": false
   },
   "id": "52172e2fcd26e285"
  },
  {
   "cell_type": "code",
   "execution_count": 8,
   "id": "0d96b25c-1760-42d5-a3b9-8b61504b0b23",
   "metadata": {
    "ExecuteTime": {
     "end_time": "2023-11-08T19:37:02.856751Z",
     "start_time": "2023-11-08T19:37:02.262185Z"
    }
   },
   "outputs": [],
   "source": [
    "# Start by loading our training data\n",
    "import duckdb\n",
    "training_dataframe = duckdb.query((f\"\"\"\n",
    "select * from '{'0xB79CDBC5Cd94a807CC5cc761e3eF4A6B9baC8939_training_data.parquet'}'\n",
    "where max_risk_factor < 100\n",
    "\"\"\")).df().drop(columns=['withdraw_amount_sum_eth'], inplace=False)"
   ]
  },
  {
   "cell_type": "code",
   "execution_count": 9,
   "id": "8eb47db470503e9",
   "metadata": {
    "collapsed": false,
    "ExecuteTime": {
     "end_time": "2023-11-08T19:37:04.252388Z",
     "start_time": "2023-11-08T19:37:02.858287Z"
    }
   },
   "outputs": [],
   "source": [
    "import pandas as pd\n",
    "import numpy as np\n",
    "\n",
    "from sklearn.preprocessing import StandardScaler\n",
    "from sklearn.model_selection import train_test_split\n",
    "\n",
    "\n",
    "import torch\n",
    "import torch.nn as nn\n",
    "import torch.optim as optim\n",
    "from torch.utils.data import DataLoader\n",
    "\n",
    "import json\n",
    "from tqdm.auto import tqdm\n",
    "from timeit import default_timer as timer \n",
    "import random\n",
    "import os\n",
    "\n",
    "# Spectral Helpers (see helpers folder for more details on any of these\n",
    "from helpers.modeling import (TestData, TrainData, StratifiedBatchSampler,\n",
    "                              print_train_time, auc_fn, auroc_fn, auc_pr_fn,\n",
    "                              brier_fn, ks_fn, recall_fn, prob_diff_fn, f1_score_fn,\n",
    "                              train_step, test_step, eval_model, plot_loss_curves,\n",
    "                              ValidationLossEarlyStopping)\n",
    "\n",
    "# for reproducible results\n",
    "random_seed = 42\n",
    "np.random.seed(random_seed)\n",
    "torch.manual_seed(random_seed)\n",
    "torch.use_deterministic_algorithms(True, warn_only=True)\n",
    "torch.backends.cudnn.determenistic=True\n",
    "\n",
    "random.seed(random_seed)\n",
    "def seed_worker(worker_id):\n",
    "    worker_seed = random_seed\n",
    "    np.random.seed(worker_seed)\n",
    "    random.seed(worker_seed)\n",
    "g = torch.Generator()\n",
    "g.manual_seed(random_seed)\n",
    "\n",
    "#specifically required for reproducibility with CuBLABS and CUDA\n",
    "os.environ[\"CUBLAS_WORKSPACE_CONFIG\"] = \":4096:8\" \n",
    "os.environ[\"PYTHONHASHSEED\"] = str(random_seed)"
   ]
  },
  {
   "cell_type": "markdown",
   "id": "af8fcfbb734be3e3",
   "metadata": {
    "collapsed": false
   },
   "source": [
    "We'll use the same training dataset we defined above, and split it into training and testing sets.\n",
    "\n",
    "***TODO: Fix when Data api is up***"
   ]
  },
  {
   "cell_type": "code",
   "execution_count": 10,
   "id": "2cf01e507633537",
   "metadata": {
    "collapsed": false,
    "ExecuteTime": {
     "end_time": "2023-11-08T19:37:04.262493Z",
     "start_time": "2023-11-08T19:37:04.254286Z"
    }
   },
   "outputs": [],
   "source": [
    "# We're going to hold out 10K samples for \"realtime\" testing while data api is down\n",
    "example_testing_samples = training_dataframe[-10_000:].drop_duplicates(subset=['wallet_address'], keep='first')\n",
    "\n",
    "training_dataframe = training_dataframe[:-10_000]\n"
   ]
  },
  {
   "cell_type": "code",
   "execution_count": 11,
   "id": "5068158ad351cca9",
   "metadata": {
    "collapsed": false,
    "ExecuteTime": {
     "end_time": "2023-11-08T19:37:04.618312Z",
     "start_time": "2023-11-08T19:37:04.257715Z"
    }
   },
   "outputs": [],
   "source": [
    "training_cols = list(training_dataframe.columns.drop(\n",
    "    ['borrow_timestamp', 'wallet_address', 'borrow_block_number', 'target']))\n",
    "\n",
    "\n",
    "\n",
    "X_train, X_test, y_train, y_test = train_test_split(training_dataframe[training_cols].to_numpy(),\n",
    "                                                    training_dataframe['target'].to_numpy(),\n",
    "                                                    test_size=0.2,\n",
    "                                                    random_state=random_seed)\n",
    "\n",
    "\n",
    "\n",
    "# Note that if you scale your training data, you must scale the test data in the same way\n",
    "sc = StandardScaler()\n",
    "X_train_scaled = sc.fit_transform(X_train)\n",
    "X_test_scaled = sc.transform(X_test)"
   ]
  },
  {
   "cell_type": "code",
   "execution_count": 12,
   "id": "743a9250c6387446",
   "metadata": {
    "collapsed": false,
    "ExecuteTime": {
     "end_time": "2023-11-08T19:37:04.637600Z",
     "start_time": "2023-11-08T19:37:04.620928Z"
    }
   },
   "outputs": [],
   "source": [
    "train_data = TrainData(torch.from_numpy(X_train_scaled).type(torch.float),\n",
    "                       torch.from_numpy(y_train).type(torch.float))\n",
    "\n",
    "test_data = TestData(torch.from_numpy(X_test_scaled).type(torch.float),\n",
    "                     torch.from_numpy(y_test).type(torch.float))"
   ]
  },
  {
   "cell_type": "code",
   "execution_count": 13,
   "id": "3abb51b7117f6398",
   "metadata": {
    "collapsed": false,
    "ExecuteTime": {
     "end_time": "2023-11-08T19:37:04.649149Z",
     "start_time": "2023-11-08T19:37:04.637721Z"
    }
   },
   "outputs": [
    {
     "name": "stdout",
     "output_type": "stream",
     "text": [
      "Dataloaders: (<torch.utils.data.dataloader.DataLoader object at 0x2f870f110>, <torch.utils.data.dataloader.DataLoader object at 0x2ae63ac50>)\n",
      "Length of train dataloader: 101 batches of 3358\n",
      "Length of test dataloader: 26 batches of 3358\n",
      "Using number of workers: 0\n"
     ]
    }
   ],
   "source": [
    "NUM_WORKERS = 0 # use all available CPU cores with os.cpu_count(), if possible\n",
    "BATCH_SIZE = int(X_train.shape[0]/100) # ~1% of the training data\n",
    "# initialize DataLoaders\n",
    "train_dataloader = DataLoader(dataset=train_data,\n",
    "                              batch_sampler=StratifiedBatchSampler(torch.tensor(y_train), batch_size=BATCH_SIZE), \n",
    "                              worker_init_fn=seed_worker, \n",
    "                              generator=g,\n",
    "                              num_workers=NUM_WORKERS)\n",
    "test_dataloader = DataLoader(dataset=test_data, \n",
    "                             batch_size=BATCH_SIZE,\n",
    "                             shuffle=False,\n",
    "                             worker_init_fn=seed_worker,\n",
    "                             generator=g,\n",
    "                             num_workers=NUM_WORKERS)\n",
    "\n",
    "print(f'Dataloaders: {train_dataloader, test_dataloader}') \n",
    "print(f'Length of train dataloader: {len(train_dataloader)} batches of {BATCH_SIZE}')\n",
    "print(f'Length of test dataloader: {len(test_dataloader)} batches of {BATCH_SIZE}')\n",
    "print(f'Using number of workers: {NUM_WORKERS}')"
   ]
  },
  {
   "cell_type": "code",
   "execution_count": 14,
   "id": "4643ba2c1c96fa8",
   "metadata": {
    "collapsed": false,
    "ExecuteTime": {
     "end_time": "2023-11-08T19:37:04.717343Z",
     "start_time": "2023-11-08T19:37:04.644087Z"
    }
   },
   "outputs": [
    {
     "data": {
      "text/plain": "(torch.Size([3326, 73]), torch.Size([3326]))"
     },
     "execution_count": 14,
     "metadata": {},
     "output_type": "execute_result"
    }
   ],
   "source": [
    "# Check out what's inside the training dataloader\n",
    "train_features_batch, train_labels_batch = next(iter(train_dataloader))\n",
    "train_features_batch.shape, train_labels_batch.shape"
   ]
  },
  {
   "cell_type": "code",
   "execution_count": 15,
   "id": "50185f943de2a042",
   "metadata": {
    "collapsed": false,
    "ExecuteTime": {
     "end_time": "2023-11-08T19:37:04.718712Z",
     "start_time": "2023-11-08T19:37:04.695728Z"
    }
   },
   "outputs": [
    {
     "data": {
      "text/plain": "(torch.Size([3358, 73]), torch.Size([3358]))"
     },
     "execution_count": 15,
     "metadata": {},
     "output_type": "execute_result"
    }
   ],
   "source": [
    "# Check out what's inside the testing dataloader\n",
    "test_features_batch, test_labels_batch = next(iter(test_dataloader))\n",
    "test_features_batch.shape, test_labels_batch.shape"
   ]
  },
  {
   "cell_type": "code",
   "execution_count": 16,
   "id": "46e017e2f60e6a78",
   "metadata": {
    "collapsed": false,
    "ExecuteTime": {
     "end_time": "2023-11-08T19:37:04.718843Z",
     "start_time": "2023-11-08T19:37:04.711322Z"
    }
   },
   "outputs": [
    {
     "data": {
      "text/plain": "device(type='cpu')"
     },
     "execution_count": 16,
     "metadata": {},
     "output_type": "execute_result"
    }
   ],
   "source": [
    "device = torch.device('cuda' if torch.cuda.is_available() else 'cpu')\n",
    "device"
   ]
  },
  {
   "cell_type": "markdown",
   "id": "a05f73952909054b",
   "metadata": {
    "collapsed": false
   },
   "source": [
    "### Define an Example Model"
   ]
  },
  {
   "cell_type": "code",
   "execution_count": 17,
   "id": "70cf4c484410b95f",
   "metadata": {
    "collapsed": false,
    "ExecuteTime": {
     "end_time": "2023-11-08T19:37:04.719543Z",
     "start_time": "2023-11-08T19:37:04.714788Z"
    }
   },
   "outputs": [
    {
     "data": {
      "text/plain": "PredictLiquidationsV1(\n  (linear_layer_stack): Sequential(\n    (0): Linear(in_features=73, out_features=82, bias=True)\n    (1): ReLU()\n    (2): Dropout(p=0.2, inplace=False)\n    (3): Linear(in_features=82, out_features=82, bias=True)\n    (4): ReLU()\n    (5): Dropout(p=0.4, inplace=False)\n    (6): Linear(in_features=82, out_features=1, bias=True)\n    (7): Sigmoid()\n  )\n)"
     },
     "execution_count": 17,
     "metadata": {},
     "output_type": "execute_result"
    }
   ],
   "source": [
    "class PredictLiquidationsV1(nn.Module):\n",
    "    \"\"\"\n",
    "    The final layer should be a sigmoid, to get the probability of liquidation. \n",
    "    \"\"\"\n",
    "    def __init__(self, input_features, output_features, hidden_units):\n",
    "        super().__init__()\n",
    "        self.linear_layer_stack = nn.Sequential(\n",
    "            nn.Linear(in_features=input_features, out_features=hidden_units),\n",
    "            nn.ReLU(),\n",
    "            nn.Dropout(p = 0.2),\n",
    "            nn.Linear(in_features=hidden_units, out_features=hidden_units),\n",
    "            nn.ReLU(),\n",
    "            nn.Dropout(p = 0.4),\n",
    "            nn.Linear(in_features=hidden_units, out_features=output_features),\n",
    "            nn.Sigmoid()\n",
    "        )        \n",
    "        \n",
    "    def forward(self, x):\n",
    "        return self.linear_layer_stack(x)\n",
    "    \n",
    "# instantiate the model\n",
    "model_1 = PredictLiquidationsV1(input_features=X_train.shape[1],\n",
    "                                output_features=1,\n",
    "                                hidden_units=82).to(device)\n",
    "model_1"
   ]
  },
  {
   "cell_type": "code",
   "execution_count": 18,
   "id": "a99b3fc8cb1c1919",
   "metadata": {
    "collapsed": false,
    "ExecuteTime": {
     "end_time": "2023-11-08T19:37:04.722481Z",
     "start_time": "2023-11-08T19:37:04.719207Z"
    }
   },
   "outputs": [],
   "source": [
    "early_stopper = ValidationLossEarlyStopping(patience=1, min_delta=0.0)\n",
    "loss_fn = nn.BCELoss()\n",
    "optimizer = optim.Adam(params=model_1.parameters(),\n",
    "                       lr=0.001,\n",
    "                       weight_decay=0.01)"
   ]
  },
  {
   "cell_type": "code",
   "execution_count": 19,
   "id": "a9c3c8dc41ca0251",
   "metadata": {
    "collapsed": false,
    "ExecuteTime": {
     "end_time": "2023-11-08T19:38:04.367657Z",
     "start_time": "2023-11-08T19:37:04.723359Z"
    }
   },
   "outputs": [
    {
     "data": {
      "text/plain": "  0%|          | 0/30 [00:00<?, ?it/s]",
      "application/vnd.jupyter.widget-view+json": {
       "version_major": 2,
       "version_minor": 0,
       "model_id": "742eba4a67b24f11be272b2a9bf3c3cf"
      }
     },
     "metadata": {},
     "output_type": "display_data"
    },
    {
     "name": "stdout",
     "output_type": "stream",
     "text": [
      "Epoch: 0\n",
      "---------\n",
      "Training metrics:\n",
      "Loss: 0.56586 | Recall: 40.37% | F1-Score: 49.85% | AUROC: 74.71% | Brier Score: 19.12% | AUC PR: 70.23% | KS-Statistic: 40.47% | Pred Prob Diff: 18.93%\n",
      "Testing metrics:\n",
      "Loss: 0.49930 | Recall: 58.32% | F1-Score: 67.05% | AUROC: 80.56% | Brier Score: 16.30% | AUC PR: 78.29% | KS-Statistic: 49.94% | Pred Prob Diff: 35.52%\n",
      "Epoch: 5\n",
      "---------\n",
      "Training metrics:\n",
      "Loss: 0.46827 | Recall: 58.77% | F1-Score: 68.04% | AUROC: 83.41% | Brier Score: 15.18% | AUC PR: 80.69% | KS-Statistic: 52.15% | Pred Prob Diff: 40.60%\n",
      "Testing metrics:\n",
      "Loss: 0.46391 | Recall: 60.09% | F1-Score: 68.99% | AUROC: 83.88% | Brier Score: 15.02% | AUC PR: 81.24% | KS-Statistic: 53.51% | Pred Prob Diff: 42.16%\n",
      "Epoch: 10\n",
      "---------\n",
      "Training metrics:\n",
      "Loss: 0.46601 | Recall: 58.93% | F1-Score: 68.20% | AUROC: 83.64% | Brier Score: 15.09% | AUC PR: 80.89% | KS-Statistic: 52.52% | Pred Prob Diff: 40.98%\n",
      "Testing metrics:\n",
      "Loss: 0.46191 | Recall: 60.27% | F1-Score: 69.13% | AUROC: 84.09% | Brier Score: 14.94% | AUC PR: 81.41% | KS-Statistic: 53.71% | Pred Prob Diff: 42.41%\n",
      "Epoch: 15\n",
      "---------\n",
      "Training metrics:\n",
      "Loss: 0.46537 | Recall: 59.01% | F1-Score: 68.27% | AUROC: 83.70% | Brier Score: 15.07% | AUC PR: 80.95% | KS-Statistic: 52.60% | Pred Prob Diff: 41.07%\n",
      "Testing metrics:\n",
      "Loss: 0.46122 | Recall: 60.33% | F1-Score: 69.16% | AUROC: 84.14% | Brier Score: 14.92% | AUC PR: 81.45% | KS-Statistic: 53.79% | Pred Prob Diff: 42.63%\n",
      "Stopped early at epoch: 16\n",
      "---------\n",
      "Training metrics:\n",
      "Loss: 0.46538 | Recall: 58.97% | F1-Score: 68.24% | AUROC: 83.71% | Brier Score: 15.07% | AUC PR: 80.95% | KS-Statistic: 52.62% | Pred Prob Diff: 41.09%\n",
      "Testing metrics:\n",
      "Loss: 0.46126 | Recall: 60.32% | F1-Score: 69.15% | AUROC: 84.14% | Brier Score: 14.92% | AUC PR: 81.45% | KS-Statistic: 53.81% | Pred Prob Diff: 42.59%\n",
      "Train time on cpu: 59.642 seconds\n"
     ]
    }
   ],
   "source": [
    "# Measure time\n",
    "train_time_start = timer()\n",
    "\n",
    "epochs = 30\n",
    "\n",
    "# Create empty loss lists to track values\n",
    "model_1_train_loss_values = []\n",
    "model_1_test_loss_values = []\n",
    "model_1_epoch_count = []\n",
    "\n",
    "for epoch in tqdm(range(epochs)):\n",
    "    if epoch % 5 == 0:\n",
    "        print(f\"Epoch: {epoch}\\n---------\")\n",
    "    train_metrics = train_step(data_loader=train_dataloader, \n",
    "                               model=model_1, \n",
    "                               epochs=epoch,\n",
    "                               loss_fn=loss_fn,\n",
    "                               optimizer=optimizer,\n",
    "                               auc_fn=auc_fn,\n",
    "                               recall_fn=recall_fn,\n",
    "                               f1_score_fn=f1_score_fn,\n",
    "                               auroc_fn=auroc_fn,\n",
    "                               brier_fn=brier_fn,\n",
    "                               auc_pr_fn=auc_pr_fn,\n",
    "                               ks_fn=ks_fn,\n",
    "                               prob_diff_fn=prob_diff_fn\n",
    "    )\n",
    "    test_metrics = test_step(data_loader=test_dataloader,\n",
    "                             model=model_1,\n",
    "                             epochs=epoch,\n",
    "                             loss_fn=loss_fn,\n",
    "                             auc_fn=auc_fn,\n",
    "                             recall_fn=recall_fn,\n",
    "                             f1_score_fn=f1_score_fn,\n",
    "                             auroc_fn=auroc_fn,\n",
    "                             brier_fn=brier_fn,\n",
    "                             auc_pr_fn=auc_pr_fn,\n",
    "                             ks_fn=ks_fn,\n",
    "                             prob_diff_fn=prob_diff_fn\n",
    "    )\n",
    "    model_1_epoch_count.append(epoch)\n",
    "    model_1_train_loss_values.append(train_metrics['loss'])\n",
    "    model_1_test_loss_values.append(test_metrics['loss'])\n",
    "    \n",
    "    if early_stopper.early_stop_check(test_metrics['loss']):\n",
    "        print(f\"Stopped early at epoch: {epoch}\\n---------\")\n",
    "        \n",
    "        print(f\"Training metrics:\\nLoss: {train_metrics['loss']:.5f} \"\n",
    "              f\"| Recall: {train_metrics['recall']:.2f}% | F1-Score: {train_metrics['f1']:.2f}% \"\n",
    "              f\"| AUROC: {train_metrics['auroc']:.2f}% | Brier Score: {train_metrics['brier']:.2f}% \"\n",
    "              f\"| AUC PR: {train_metrics['aucpr']:.2f}% | KS-Statistic: {train_metrics['ks']:.2f}% \"\n",
    "              f\"| Pred Prob Diff: {train_metrics['prob_diff']:.2f}%\")\n",
    "        \n",
    "        print(f\"Testing metrics:\\nLoss: {test_metrics['loss']:.5f} \"\n",
    "              f\"| Recall: {test_metrics['recall']:.2f}% | F1-Score: {test_metrics['f1']:.2f}% \"\n",
    "              f\"| AUROC: {test_metrics['auroc']:.2f}% | Brier Score: {test_metrics['brier']:.2f}% \"\n",
    "              f\"| AUC PR: {test_metrics['aucpr']:.2f}% | KS-Statistic: {test_metrics['ks']:.2f}% \"\n",
    "              f\"| Pred Prob Diff: {test_metrics['prob_diff']:.2f}%\")\n",
    "        break\n",
    "\n",
    "train_time_end = timer()\n",
    "total_train_time_model_1 = print_train_time(start=train_time_start,\n",
    "                                            end=train_time_end,\n",
    "                                            device=device)\n",
    "\n",
    "\n",
    "# If you see a red progress bar below that's due to the early stopping criteria being met\n",
    "# Not a cause for concern in this example"
   ]
  },
  {
   "cell_type": "code",
   "execution_count": 20,
   "id": "cc86dcfcf8bd5fb7",
   "metadata": {
    "collapsed": false,
    "ExecuteTime": {
     "end_time": "2023-11-08T19:38:04.493298Z",
     "start_time": "2023-11-08T19:38:04.475561Z"
    }
   },
   "outputs": [
    {
     "data": {
      "text/plain": "<Figure size 640x480 with 1 Axes>",
      "image/png": "[encoded data removed]"
     },
     "metadata": {},
     "output_type": "display_data"
    }
   ],
   "source": [
    "plot_loss_curves(model_1_epoch_count, model_1_train_loss_values, model_1_test_loss_values)"
   ]
  },
  {
   "cell_type": "code",
   "execution_count": 21,
   "id": "4ddad9e2be6c8e13",
   "metadata": {
    "collapsed": false,
    "ExecuteTime": {
     "end_time": "2023-11-08T19:38:05.181849Z",
     "start_time": "2023-11-08T19:38:04.535878Z"
    }
   },
   "outputs": [
    {
     "data": {
      "text/plain": "{'model_name': 'PredictLiquidationsV1',\n 'model_loss': 0.461260050535202,\n 'model_rec': 60.322511232816254,\n 'model_f1': 69.15453954843375,\n 'model_auroc': 84.14213004479042,\n 'model_brier': 14.918728583659554,\n 'model_aucpr': 81.45166795987349,\n 'model_ks': 53.81016445241309,\n 'model_prob_diff': 42.58697789448958}"
     },
     "execution_count": 21,
     "metadata": {},
     "output_type": "execute_result"
    }
   ],
   "source": [
    "# Calculate model 1 results\n",
    "model_1_results = eval_model(model=model_1,\n",
    "                             data_loader=test_dataloader,\n",
    "                             loss_fn=loss_fn,\n",
    "                             auc_fn=auc_fn,\n",
    "                             recall_fn=recall_fn,\n",
    "                             f1_score_fn=f1_score_fn,\n",
    "                             auroc_fn=auroc_fn,\n",
    "                             brier_fn=brier_fn,\n",
    "                             auc_pr_fn=auc_pr_fn,\n",
    "                             ks_fn=ks_fn,\n",
    "                             prob_diff_fn=prob_diff_fn,\n",
    "                             device=device)\n",
    "model_1_results.update({'model_name': model_1.__class__.__name__})\n",
    "\n",
    "model_1_results"
   ]
  },
  {
   "cell_type": "markdown",
   "id": "b7f4e1fa0704530e",
   "metadata": {
    "collapsed": false
   },
   "source": [
    "# Submission Phase 1\n",
    "\n",
    "### Generate onnx file and input data json"
   ]
  },
  {
   "cell_type": "code",
   "execution_count": 22,
   "id": "2b1b3768405ce0c8",
   "metadata": {
    "collapsed": false,
    "ExecuteTime": {
     "end_time": "2023-11-08T19:38:05.186474Z",
     "start_time": "2023-11-08T19:38:05.182543Z"
    }
   },
   "outputs": [],
   "source": [
    "# You will commit files in the submission directory\n",
    "# If one does not exist create it\n",
    "if not os.path.exists('submissions'):\n",
    "    os.makedirs('submissions')"
   ]
  },
  {
   "cell_type": "code",
   "execution_count": 23,
   "id": "2a8fe707-5f5c-4cc3-b36d-6803ed8ce26a",
   "metadata": {
    "collapsed": false,
    "ExecuteTime": {
     "end_time": "2023-11-08T19:38:05.235683Z",
     "start_time": "2023-11-08T19:38:05.187263Z"
    }
   },
   "outputs": [],
   "source": [
    "model_1.eval()\n",
    "torch.onnx.export(model_1,\n",
    "                  torch.randn((1,X_train.shape[1]), requires_grad = True).to(device),\n",
    "                  'submissions/model_1.onnx',\n",
    "                  input_names = ['input'],\n",
    "                  output_names = ['output'],\n",
    "                  dynamic_axes = {'input' : {0 : 'batch_size'}, \n",
    "                                  'output' : {0 : 'batch_size'}})"
   ]
  },
  {
   "cell_type": "markdown",
   "id": "d70a649a-0b2e-4241-91a2-8dfca11ac490",
   "metadata": {},
   "source": [
    "Export an observation from the test dataset that will be used to calibrate the ezkl settings file. \n",
    "\n",
    "This list of feature values can be from the test data (as shown here) or a completely different sample that will be representative of the data seen in production. "
   ]
  },
  {
   "cell_type": "code",
   "execution_count": 24,
   "id": "6673b392b442b77d",
   "metadata": {
    "collapsed": false,
    "ExecuteTime": {
     "end_time": "2023-11-08T19:38:05.241544Z",
     "start_time": "2023-11-08T19:38:05.212919Z"
    }
   },
   "outputs": [],
   "source": [
    "x = next(iter(test_features_batch)).numpy().tolist()\n",
    "data = dict(input_data = [x])\n",
    "json.dump(data, open('submissions/model_1_cal_data.json', 'w'))"
   ]
  },
  {
   "cell_type": "markdown",
   "id": "c10cb78e2309cd3f",
   "metadata": {
    "collapsed": false
   },
   "source": [
    "### Commit to a Model\n"
   ]
  },
  {
   "cell_type": "code",
   "execution_count": 25,
   "id": "912924090436c546",
   "metadata": {
    "collapsed": false,
    "ExecuteTime": {
     "end_time": "2023-11-08T19:38:07.146918Z",
     "start_time": "2023-11-08T19:38:05.218497Z"
    }
   },
   "outputs": [
    {
     "name": "stdout",
     "output_type": "stream",
     "text": [
      "Your wallet address is not connected to any multisig wallet. Please connect your wallet to multisig wallet in your Spectral account profile page. https://app.spectral.finance/profile\r\n"
     ]
    }
   ],
   "source": [
    "!spectral-cli commit submissions/model_1.onnx submissions/model_1_cal_data.json 0xB79CDBC5Cd94a807CC5cc761e3eF4A6B9baC8939"
   ]
  },
  {
   "cell_type": "markdown",
   "id": "a0a9efb66b1a15aa",
   "metadata": {
    "collapsed": false
   },
   "source": [
    "# Submission Phase 2\n",
    "### Generate Predictions File\n",
    "\n",
    "Each modeler will receive their unique test set and will be responsible for generating predictions for each sample in the test set."
   ]
  },
  {
   "cell_type": "code",
   "execution_count": 26,
   "id": "529d52885b1bcf89",
   "metadata": {
    "collapsed": false,
    "ExecuteTime": {
     "end_time": "2023-11-08T19:38:07.170439Z",
     "start_time": "2023-11-08T19:38:07.151467Z"
    }
   },
   "outputs": [
    {
     "data": {
      "text/plain": "        unique_borrow_protocol_count  unique_lending_protocol_count  \\\n419835                      0.044593                      -0.528156   \n419840                      0.044593                      -0.528156   \n419841                      0.044593                      -0.528156   \n419843                      0.044593                      -0.528156   \n419844                      0.044593                      -0.528156   \n...                              ...                            ...   \n429799                      0.044593                      -0.528156   \n429807                     -1.742906                      -0.528156   \n429809                      1.832092                       1.753926   \n429814                     -1.742906                      -0.528156   \n429831                      0.044593                      -0.528156   \n\n        total_collateral_eth  misc_available_borrows_eth  risk_factor  \\\n419835             -0.093524                   -0.079840    -0.202368   \n419840             -0.093968                   -0.080758    -0.039405   \n419841             -0.094074                   -0.080725    -1.259289   \n419843             -0.094238                   -0.081291     0.327250   \n419844             -0.091992                   -0.078961     0.784449   \n...                      ...                         ...          ...   \n429799             -0.093944                   -0.080758     0.039299   \n429807             -0.037214                   -0.041817     1.022839   \n429809             -0.067056                   -0.033468     0.361275   \n429814              0.362177                    0.417436     0.739910   \n429831             -0.094236                   -0.081287     0.275887   \n\n        risk_factor_above_threshold_daily_count  max_risk_factor  \\\n419835                                -0.194942         0.004473   \n419840                                -0.188465         0.029559   \n419841                                 8.108098         0.070223   \n419843                                 0.757123         0.071999   \n419844                                -0.045979         0.025357   \n...                                         ...              ...   \n429799                                -0.194942        -0.071394   \n429807                                 0.174226         0.065594   \n429809                                -0.188465         8.431604   \n429814                                -0.143129        -0.348400   \n429831                                 0.873702         0.078589   \n\n        misc_avg_total_collateral_eth  total_available_borrows_eth  \\\n419835                      -0.104621                    -0.088493   \n419840                      -0.104156                    -0.087708   \n419841                      -0.076194                    -0.077074   \n419843                      -0.101544                    -0.086405   \n419844                      -0.102065                    -0.086791   \n...                               ...                          ...   \n429799                      -0.104280                    -0.087791   \n429807                       0.103257                     0.046563   \n429809                       0.901388                     2.198701   \n429814                       1.687959                     1.822059   \n429831                      -0.104333                    -0.088349   \n\n        avg_weighted_risk_factor  ...  borrow_amount_sum_eth  \\\n419835                 -0.076803  ...              -0.137515   \n419840                 -0.076627  ...              -0.137231   \n419841                 -0.038239  ...               0.187938   \n419843                 -0.073901  ...              -0.135936   \n419844                 -0.074154  ...              -0.134524   \n...                          ...  ...                    ...   \n429799                 -0.076778  ...              -0.137380   \n429807                  0.078969  ...              -0.137550   \n429809                 -0.001488  ...              -0.070080   \n429814                  1.061394  ...              -0.137550   \n429831                 -0.076481  ...              -0.136582   \n\n        borrow_amount_avg_eth  borrow_count  repay_amount_sum_eth  \\\n419835              -0.139399     -0.262779             -0.129647   \n419840              -0.133551     -0.280560             -0.129389   \n419841              -0.099412      4.384013              0.214812   \n419843              -0.133477     -0.162020             -0.127794   \n419844              -0.112777     -0.244998             -0.128642   \n...                       ...           ...                   ...   \n429799              -0.134267     -0.292414             -0.129647   \n429807              -0.139825     -0.310195             -0.129373   \n429809              -0.036158      0.069135             -0.036462   \n429814              -0.139825     -0.310195             -0.129547   \n429831              -0.136426     -0.144239             -0.129484   \n\n        repay_amount_avg_eth  repay_count  borrow_repay_diff_eth  \\\n419835             -0.150706    -0.279529              -0.114019   \n419840             -0.144149    -0.249902              -0.113751   \n419841             -0.024766     1.779523              -0.020051   \n419843             -0.138145    -0.168429              -0.114188   \n419844             -0.125164    -0.249902              -0.103791   \n...                      ...          ...                    ...   \n429799             -0.150706    -0.279529              -0.113361   \n429807             -0.141429    -0.257309              -0.114188   \n429809             -0.043075     0.372258              -0.114188   \n429814             -0.140483    -0.272122              -0.114188   \n429831             -0.146561    -0.249902              -0.110176   \n\n        withdraw_deposit_diff_If_positive_eth  \\\n419835                              -0.011750   \n419840                              -0.011750   \n419841                              -0.011750   \n419843                              -0.011750   \n419844                              -0.011750   \n...                                       ...   \n429799                              -0.011750   \n429807                              -0.011750   \n429809                              -0.004025   \n429814                              -0.011750   \n429831                              -0.011750   \n\n                                    wallet_address  probability_of_liquidation  \n419835  0x49654d0584e777e3f8de4f932e2d6432e39c1cf5                    0.145677  \n419840  0x685563a40fd4e3949280364f3cd81aafae8632e5                    0.081708  \n419841  0xf9c241b6ad269ac8e8cdb24a540f6cce0ec9e0dd                    0.939202  \n419843  0x1908bb246da7d358e4f79cea8b3d2ce5e81e6d64                    0.429805  \n419844  0xf29f1b1ad90bb0cb35cb8a6aa02690016604aed4                    0.496827  \n...                                            ...                         ...  \n429799  0x7b66159c62dccbd7969aa36d4345beff2c10d92d                    0.101142  \n429807  0xd16c74fd66525017f0b719972b8fcddee8140b15                    0.524904  \n429809  0x721096bcd32a2a653efa5633b9fa1e07359d9746                    0.055634  \n429814  0x0d78fcf0a3e51124b2531a80950023f5ba2e8fac                    0.100989  \n429831  0x61eccd16885460d355a470baf074c0ac93174c80                    0.444665  \n\n[2522 rows x 75 columns]",
      "text/html": "<div>\n<style scoped>\n    .dataframe tbody tr th:only-of-type {\n        vertical-align: middle;\n    }\n\n    .dataframe tbody tr th {\n        vertical-align: top;\n    }\n\n    .dataframe thead th {\n        text-align: right;\n    }\n</style>\n<table border=\"1\" class=\"dataframe\">\n  <thead>\n    <tr style=\"text-align: right;\">\n      <th></th>\n      <th>unique_borrow_protocol_count</th>\n      <th>unique_lending_protocol_count</th>\n      <th>total_collateral_eth</th>\n      <th>misc_available_borrows_eth</th>\n      <th>risk_factor</th>\n      <th>risk_factor_above_threshold_daily_count</th>\n      <th>max_risk_factor</th>\n      <th>misc_avg_total_collateral_eth</th>\n      <th>total_available_borrows_eth</th>\n      <th>avg_weighted_risk_factor</th>\n      <th>...</th>\n      <th>borrow_amount_sum_eth</th>\n      <th>borrow_amount_avg_eth</th>\n      <th>borrow_count</th>\n      <th>repay_amount_sum_eth</th>\n      <th>repay_amount_avg_eth</th>\n      <th>repay_count</th>\n      <th>borrow_repay_diff_eth</th>\n      <th>withdraw_deposit_diff_If_positive_eth</th>\n      <th>wallet_address</th>\n      <th>probability_of_liquidation</th>\n    </tr>\n  </thead>\n  <tbody>\n    <tr>\n      <th>419835</th>\n      <td>0.044593</td>\n      <td>-0.528156</td>\n      <td>-0.093524</td>\n      <td>-0.079840</td>\n      <td>-0.202368</td>\n      <td>-0.194942</td>\n      <td>0.004473</td>\n      <td>-0.104621</td>\n      <td>-0.088493</td>\n      <td>-0.076803</td>\n      <td>...</td>\n      <td>-0.137515</td>\n      <td>-0.139399</td>\n      <td>-0.262779</td>\n      <td>-0.129647</td>\n      <td>-0.150706</td>\n      <td>-0.279529</td>\n      <td>-0.114019</td>\n      <td>-0.011750</td>\n      <td>0x49654d0584e777e3f8de4f932e2d6432e39c1cf5</td>\n      <td>0.145677</td>\n    </tr>\n    <tr>\n      <th>419840</th>\n      <td>0.044593</td>\n      <td>-0.528156</td>\n      <td>-0.093968</td>\n      <td>-0.080758</td>\n      <td>-0.039405</td>\n      <td>-0.188465</td>\n      <td>0.029559</td>\n      <td>-0.104156</td>\n      <td>-0.087708</td>\n      <td>-0.076627</td>\n      <td>...</td>\n      <td>-0.137231</td>\n      <td>-0.133551</td>\n      <td>-0.280560</td>\n      <td>-0.129389</td>\n      <td>-0.144149</td>\n      <td>-0.249902</td>\n      <td>-0.113751</td>\n      <td>-0.011750</td>\n      <td>0x685563a40fd4e3949280364f3cd81aafae8632e5</td>\n      <td>0.081708</td>\n    </tr>\n    <tr>\n      <th>419841</th>\n      <td>0.044593</td>\n      <td>-0.528156</td>\n      <td>-0.094074</td>\n      <td>-0.080725</td>\n      <td>-1.259289</td>\n      <td>8.108098</td>\n      <td>0.070223</td>\n      <td>-0.076194</td>\n      <td>-0.077074</td>\n      <td>-0.038239</td>\n      <td>...</td>\n      <td>0.187938</td>\n      <td>-0.099412</td>\n      <td>4.384013</td>\n      <td>0.214812</td>\n      <td>-0.024766</td>\n      <td>1.779523</td>\n      <td>-0.020051</td>\n      <td>-0.011750</td>\n      <td>0xf9c241b6ad269ac8e8cdb24a540f6cce0ec9e0dd</td>\n      <td>0.939202</td>\n    </tr>\n    <tr>\n      <th>419843</th>\n      <td>0.044593</td>\n      <td>-0.528156</td>\n      <td>-0.094238</td>\n      <td>-0.081291</td>\n      <td>0.327250</td>\n      <td>0.757123</td>\n      <td>0.071999</td>\n      <td>-0.101544</td>\n      <td>-0.086405</td>\n      <td>-0.073901</td>\n      <td>...</td>\n      <td>-0.135936</td>\n      <td>-0.133477</td>\n      <td>-0.162020</td>\n      <td>-0.127794</td>\n      <td>-0.138145</td>\n      <td>-0.168429</td>\n      <td>-0.114188</td>\n      <td>-0.011750</td>\n      <td>0x1908bb246da7d358e4f79cea8b3d2ce5e81e6d64</td>\n      <td>0.429805</td>\n    </tr>\n    <tr>\n      <th>419844</th>\n      <td>0.044593</td>\n      <td>-0.528156</td>\n      <td>-0.091992</td>\n      <td>-0.078961</td>\n      <td>0.784449</td>\n      <td>-0.045979</td>\n      <td>0.025357</td>\n      <td>-0.102065</td>\n      <td>-0.086791</td>\n      <td>-0.074154</td>\n      <td>...</td>\n      <td>-0.134524</td>\n      <td>-0.112777</td>\n      <td>-0.244998</td>\n      <td>-0.128642</td>\n      <td>-0.125164</td>\n      <td>-0.249902</td>\n      <td>-0.103791</td>\n      <td>-0.011750</td>\n      <td>0xf29f1b1ad90bb0cb35cb8a6aa02690016604aed4</td>\n      <td>0.496827</td>\n    </tr>\n    <tr>\n      <th>...</th>\n      <td>...</td>\n      <td>...</td>\n      <td>...</td>\n      <td>...</td>\n      <td>...</td>\n      <td>...</td>\n      <td>...</td>\n      <td>...</td>\n      <td>...</td>\n      <td>...</td>\n      <td>...</td>\n      <td>...</td>\n      <td>...</td>\n      <td>...</td>\n      <td>...</td>\n      <td>...</td>\n      <td>...</td>\n      <td>...</td>\n      <td>...</td>\n      <td>...</td>\n      <td>...</td>\n    </tr>\n    <tr>\n      <th>429799</th>\n      <td>0.044593</td>\n      <td>-0.528156</td>\n      <td>-0.093944</td>\n      <td>-0.080758</td>\n      <td>0.039299</td>\n      <td>-0.194942</td>\n      <td>-0.071394</td>\n      <td>-0.104280</td>\n      <td>-0.087791</td>\n      <td>-0.076778</td>\n      <td>...</td>\n      <td>-0.137380</td>\n      <td>-0.134267</td>\n      <td>-0.292414</td>\n      <td>-0.129647</td>\n      <td>-0.150706</td>\n      <td>-0.279529</td>\n      <td>-0.113361</td>\n      <td>-0.011750</td>\n      <td>0x7b66159c62dccbd7969aa36d4345beff2c10d92d</td>\n      <td>0.101142</td>\n    </tr>\n    <tr>\n      <th>429807</th>\n      <td>-1.742906</td>\n      <td>-0.528156</td>\n      <td>-0.037214</td>\n      <td>-0.041817</td>\n      <td>1.022839</td>\n      <td>0.174226</td>\n      <td>0.065594</td>\n      <td>0.103257</td>\n      <td>0.046563</td>\n      <td>0.078969</td>\n      <td>...</td>\n      <td>-0.137550</td>\n      <td>-0.139825</td>\n      <td>-0.310195</td>\n      <td>-0.129373</td>\n      <td>-0.141429</td>\n      <td>-0.257309</td>\n      <td>-0.114188</td>\n      <td>-0.011750</td>\n      <td>0xd16c74fd66525017f0b719972b8fcddee8140b15</td>\n      <td>0.524904</td>\n    </tr>\n    <tr>\n      <th>429809</th>\n      <td>1.832092</td>\n      <td>1.753926</td>\n      <td>-0.067056</td>\n      <td>-0.033468</td>\n      <td>0.361275</td>\n      <td>-0.188465</td>\n      <td>8.431604</td>\n      <td>0.901388</td>\n      <td>2.198701</td>\n      <td>-0.001488</td>\n      <td>...</td>\n      <td>-0.070080</td>\n      <td>-0.036158</td>\n      <td>0.069135</td>\n      <td>-0.036462</td>\n      <td>-0.043075</td>\n      <td>0.372258</td>\n      <td>-0.114188</td>\n      <td>-0.004025</td>\n      <td>0x721096bcd32a2a653efa5633b9fa1e07359d9746</td>\n      <td>0.055634</td>\n    </tr>\n    <tr>\n      <th>429814</th>\n      <td>-1.742906</td>\n      <td>-0.528156</td>\n      <td>0.362177</td>\n      <td>0.417436</td>\n      <td>0.739910</td>\n      <td>-0.143129</td>\n      <td>-0.348400</td>\n      <td>1.687959</td>\n      <td>1.822059</td>\n      <td>1.061394</td>\n      <td>...</td>\n      <td>-0.137550</td>\n      <td>-0.139825</td>\n      <td>-0.310195</td>\n      <td>-0.129547</td>\n      <td>-0.140483</td>\n      <td>-0.272122</td>\n      <td>-0.114188</td>\n      <td>-0.011750</td>\n      <td>0x0d78fcf0a3e51124b2531a80950023f5ba2e8fac</td>\n      <td>0.100989</td>\n    </tr>\n    <tr>\n      <th>429831</th>\n      <td>0.044593</td>\n      <td>-0.528156</td>\n      <td>-0.094236</td>\n      <td>-0.081287</td>\n      <td>0.275887</td>\n      <td>0.873702</td>\n      <td>0.078589</td>\n      <td>-0.104333</td>\n      <td>-0.088349</td>\n      <td>-0.076481</td>\n      <td>...</td>\n      <td>-0.136582</td>\n      <td>-0.136426</td>\n      <td>-0.144239</td>\n      <td>-0.129484</td>\n      <td>-0.146561</td>\n      <td>-0.249902</td>\n      <td>-0.110176</td>\n      <td>-0.011750</td>\n      <td>0x61eccd16885460d355a470baf074c0ac93174c80</td>\n      <td>0.444665</td>\n    </tr>\n  </tbody>\n</table>\n<p>2522 rows × 75 columns</p>\n</div>"
     },
     "execution_count": 26,
     "metadata": {},
     "output_type": "execute_result"
    }
   ],
   "source": [
    "# Generate predictions for each address in the test st\n",
    "submission_dataframe  = pd.DataFrame([])\n",
    "wallet_address = example_testing_samples['wallet_address']\n",
    "example_testing_samples_scaled = sc.transform(example_testing_samples[training_cols])\n",
    "model_1.eval()\n",
    "with torch.inference_mode():\n",
    "    pol = model_1(torch.tensor(example_testing_samples_scaled).float().to(device)).squeeze().detach().cpu().numpy()\n",
    "submission_dataframe = pd.DataFrame(example_testing_samples_scaled, index=example_testing_samples.index, columns=example_testing_samples[training_cols].columns)\n",
    "submission_dataframe['wallet_address'] = wallet_address\n",
    "submission_dataframe['probability_of_liquidation'] = pol\n",
    "submission_dataframe"
   ]
  },
  {
   "cell_type": "markdown",
   "id": "20c918e36be1151e",
   "metadata": {
    "collapsed": false
   },
   "source": [
    "As a modeler, you will choose to set the target variable to 1 if the probability of liquidation is greater than some threshold.\n",
    "\n",
    "In this example, we'll take the threshold to be .6, but you may find a different value is more appropriate. \n",
    "\n",
    "This threshold should not be taken as a recommendation for the challenge and is only used for this example. "
   ]
  },
  {
   "cell_type": "code",
   "execution_count": 27,
   "id": "a280a666ac6db9d0",
   "metadata": {
    "collapsed": false,
    "ExecuteTime": {
     "end_time": "2023-11-08T19:38:07.180381Z",
     "start_time": "2023-11-08T19:38:07.171246Z"
    }
   },
   "outputs": [],
   "source": [
    "submission_dataframe['target'] = (\n",
    "    submission_dataframe['probability_of_liquidation'].apply(lambda x: 1 if x > .6 else 0))"
   ]
  },
  {
   "cell_type": "markdown",
   "id": "8380201e6c154241",
   "metadata": {
    "collapsed": false
   },
   "source": [
    "Now, we need to format our dataframe correctly to meet the requirements for submission. Each row in the dataframe will consist of a wallet address, predicted probability, predicted target label, and the input features (without any feature names) used to generate the prediction.\n",
    "\n",
    "The input features (just the values) will be needed to (later) prove that the predictions are generated from the committed model from Phase 1.\n",
    "\n",
    "**The final submission file must follow the naming conventions below.** "
   ]
  },
  {
   "cell_type": "code",
   "execution_count": 28,
   "id": "49d378d62c2e1b96",
   "metadata": {
    "collapsed": false,
    "ExecuteTime": {
     "end_time": "2023-11-08T19:38:07.198574Z",
     "start_time": "2023-11-08T19:38:07.178042Z"
    }
   },
   "outputs": [],
   "source": [
    "non_feature_cols = ['wallet_address', 'probability_of_liquidation', 'target']\n",
    "for index, col in enumerate(submission_dataframe.columns):\n",
    "    if col not in non_feature_cols:\n",
    "        submission_dataframe.rename(columns={col: f'feature_{index+1}'}, inplace=True)"
   ]
  },
  {
   "cell_type": "code",
   "execution_count": 29,
   "id": "773de7f1dca469fb",
   "metadata": {
    "collapsed": false,
    "ExecuteTime": {
     "end_time": "2023-11-08T19:38:07.283806Z",
     "start_time": "2023-11-08T19:38:07.181021Z"
    }
   },
   "outputs": [
    {
     "data": {
      "text/plain": "                                    wallet_address  \\\n419835  0x49654d0584e777e3f8de4f932e2d6432e39c1cf5   \n419840  0x685563a40fd4e3949280364f3cd81aafae8632e5   \n419841  0xf9c241b6ad269ac8e8cdb24a540f6cce0ec9e0dd   \n419843  0x1908bb246da7d358e4f79cea8b3d2ce5e81e6d64   \n419844  0xf29f1b1ad90bb0cb35cb8a6aa02690016604aed4   \n\n        probability_of_liquidation  target  feature_1  feature_2  feature_3  \\\n419835                    0.145677       0   0.044593  -0.528156  -0.093524   \n419840                    0.081708       0   0.044593  -0.528156  -0.093968   \n419841                    0.939202       1   0.044593  -0.528156  -0.094074   \n419843                    0.429805       0   0.044593  -0.528156  -0.094238   \n419844                    0.496827       0   0.044593  -0.528156  -0.091992   \n\n        feature_4  feature_5  feature_6  feature_7  ...  feature_64  \\\n419835  -0.079840  -0.202368  -0.194942   0.004473  ...   -0.015263   \n419840  -0.080758  -0.039405  -0.188465   0.029559  ...   -0.015207   \n419841  -0.080725  -1.259289   8.108098   0.070223  ...   -0.015243   \n419843  -0.081291   0.327250   0.757123   0.071999  ...   -0.015261   \n419844  -0.078961   0.784449  -0.045979   0.025357  ...   -0.015135   \n\n        feature_65  feature_66  feature_67  feature_68  feature_69  \\\n419835   -0.057917   -0.137515   -0.139399   -0.262779   -0.129647   \n419840   -0.057411   -0.137231   -0.133551   -0.280560   -0.129389   \n419841   -0.057569    0.187938   -0.099412    4.384013    0.214812   \n419843   -0.057908   -0.135936   -0.133477   -0.162020   -0.127794   \n419844   -0.057865   -0.134524   -0.112777   -0.244998   -0.128642   \n\n        feature_70  feature_71  feature_72  feature_73  \n419835   -0.150706   -0.279529   -0.114019    -0.01175  \n419840   -0.144149   -0.249902   -0.113751    -0.01175  \n419841   -0.024766    1.779523   -0.020051    -0.01175  \n419843   -0.138145   -0.168429   -0.114188    -0.01175  \n419844   -0.125164   -0.249902   -0.103791    -0.01175  \n\n[5 rows x 76 columns]",
      "text/html": "<div>\n<style scoped>\n    .dataframe tbody tr th:only-of-type {\n        vertical-align: middle;\n    }\n\n    .dataframe tbody tr th {\n        vertical-align: top;\n    }\n\n    .dataframe thead th {\n        text-align: right;\n    }\n</style>\n<table border=\"1\" class=\"dataframe\">\n  <thead>\n    <tr style=\"text-align: right;\">\n      <th></th>\n      <th>wallet_address</th>\n      <th>probability_of_liquidation</th>\n      <th>target</th>\n      <th>feature_1</th>\n      <th>feature_2</th>\n      <th>feature_3</th>\n      <th>feature_4</th>\n      <th>feature_5</th>\n      <th>feature_6</th>\n      <th>feature_7</th>\n      <th>...</th>\n      <th>feature_64</th>\n      <th>feature_65</th>\n      <th>feature_66</th>\n      <th>feature_67</th>\n      <th>feature_68</th>\n      <th>feature_69</th>\n      <th>feature_70</th>\n      <th>feature_71</th>\n      <th>feature_72</th>\n      <th>feature_73</th>\n    </tr>\n  </thead>\n  <tbody>\n    <tr>\n      <th>419835</th>\n      <td>0x49654d0584e777e3f8de4f932e2d6432e39c1cf5</td>\n      <td>0.145677</td>\n      <td>0</td>\n      <td>0.044593</td>\n      <td>-0.528156</td>\n      <td>-0.093524</td>\n      <td>-0.079840</td>\n      <td>-0.202368</td>\n      <td>-0.194942</td>\n      <td>0.004473</td>\n      <td>...</td>\n      <td>-0.015263</td>\n      <td>-0.057917</td>\n      <td>-0.137515</td>\n      <td>-0.139399</td>\n      <td>-0.262779</td>\n      <td>-0.129647</td>\n      <td>-0.150706</td>\n      <td>-0.279529</td>\n      <td>-0.114019</td>\n      <td>-0.01175</td>\n    </tr>\n    <tr>\n      <th>419840</th>\n      <td>0x685563a40fd4e3949280364f3cd81aafae8632e5</td>\n      <td>0.081708</td>\n      <td>0</td>\n      <td>0.044593</td>\n      <td>-0.528156</td>\n      <td>-0.093968</td>\n      <td>-0.080758</td>\n      <td>-0.039405</td>\n      <td>-0.188465</td>\n      <td>0.029559</td>\n      <td>...</td>\n      <td>-0.015207</td>\n      <td>-0.057411</td>\n      <td>-0.137231</td>\n      <td>-0.133551</td>\n      <td>-0.280560</td>\n      <td>-0.129389</td>\n      <td>-0.144149</td>\n      <td>-0.249902</td>\n      <td>-0.113751</td>\n      <td>-0.01175</td>\n    </tr>\n    <tr>\n      <th>419841</th>\n      <td>0xf9c241b6ad269ac8e8cdb24a540f6cce0ec9e0dd</td>\n      <td>0.939202</td>\n      <td>1</td>\n      <td>0.044593</td>\n      <td>-0.528156</td>\n      <td>-0.094074</td>\n      <td>-0.080725</td>\n      <td>-1.259289</td>\n      <td>8.108098</td>\n      <td>0.070223</td>\n      <td>...</td>\n      <td>-0.015243</td>\n      <td>-0.057569</td>\n      <td>0.187938</td>\n      <td>-0.099412</td>\n      <td>4.384013</td>\n      <td>0.214812</td>\n      <td>-0.024766</td>\n      <td>1.779523</td>\n      <td>-0.020051</td>\n      <td>-0.01175</td>\n    </tr>\n    <tr>\n      <th>419843</th>\n      <td>0x1908bb246da7d358e4f79cea8b3d2ce5e81e6d64</td>\n      <td>0.429805</td>\n      <td>0</td>\n      <td>0.044593</td>\n      <td>-0.528156</td>\n      <td>-0.094238</td>\n      <td>-0.081291</td>\n      <td>0.327250</td>\n      <td>0.757123</td>\n      <td>0.071999</td>\n      <td>...</td>\n      <td>-0.015261</td>\n      <td>-0.057908</td>\n      <td>-0.135936</td>\n      <td>-0.133477</td>\n      <td>-0.162020</td>\n      <td>-0.127794</td>\n      <td>-0.138145</td>\n      <td>-0.168429</td>\n      <td>-0.114188</td>\n      <td>-0.01175</td>\n    </tr>\n    <tr>\n      <th>419844</th>\n      <td>0xf29f1b1ad90bb0cb35cb8a6aa02690016604aed4</td>\n      <td>0.496827</td>\n      <td>0</td>\n      <td>0.044593</td>\n      <td>-0.528156</td>\n      <td>-0.091992</td>\n      <td>-0.078961</td>\n      <td>0.784449</td>\n      <td>-0.045979</td>\n      <td>0.025357</td>\n      <td>...</td>\n      <td>-0.015135</td>\n      <td>-0.057865</td>\n      <td>-0.134524</td>\n      <td>-0.112777</td>\n      <td>-0.244998</td>\n      <td>-0.128642</td>\n      <td>-0.125164</td>\n      <td>-0.249902</td>\n      <td>-0.103791</td>\n      <td>-0.01175</td>\n    </tr>\n  </tbody>\n</table>\n<p>5 rows × 76 columns</p>\n</div>"
     },
     "execution_count": 29,
     "metadata": {},
     "output_type": "execute_result"
    }
   ],
   "source": [
    "# We're also ordering the columns for readability, this step is optional\n",
    "cols_order_list = non_feature_cols + [col for col in submission_dataframe.columns if col not in non_feature_cols]\n",
    "submission_dataframe = submission_dataframe[cols_order_list]\n",
    "submission_dataframe.to_parquet('submissions/submission.parquet')\n",
    "submission_dataframe.head()"
   ]
  },
  {
   "cell_type": "markdown",
   "id": "2a5d3e57c4e398ab",
   "metadata": {
    "collapsed": false
   },
   "source": [
    "### Submit Predictions File\n",
    "Once a predictions file has been generated, and you are satisfied with the results, you may submit your predictions for evaluation.\n",
    "\n",
    "Prior to running this step ensure the Spectral CLI wallet is funded with gas for this transaction."
   ]
  },
  {
   "cell_type": "code",
   "execution_count": null,
   "id": "9f9d5c8d8be5195d",
   "metadata": {
    "collapsed": false
   },
   "outputs": [],
   "source": [
    "!spectral-cli submit-inferences 0xB79CDBC5Cd94a807CC5cc761e3eF4A6B9baC8939 submissions/submission.parquet"
   ]
  }
 ],
 "metadata": {
  "kernelspec": {
   "display_name": "Python 3 (ipykernel)",
   "language": "python",
   "name": "python3"
  },
  "language_info": {
   "codemirror_mode": {
    "name": "ipython",
    "version": 3
   },
   "file_extension": ".py",
   "mimetype": "text/x-python",
   "name": "python",
   "nbconvert_exporter": "python",
   "pygments_lexer": "ipython3",
   "version": "3.11.6"
  }
 },
 "nbformat": 4,
 "nbformat_minor": 5
}
